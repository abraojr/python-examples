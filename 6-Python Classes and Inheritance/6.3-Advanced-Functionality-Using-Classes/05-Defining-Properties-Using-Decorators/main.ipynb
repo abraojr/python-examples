{
 "cells": [
  {
   "cell_type": "code",
   "execution_count": 1,
   "id": "7a6ea73a",
   "metadata": {},
   "outputs": [],
   "source": [
    "class Wrestler:\n",
    "    \n",
    "    def __init__(self, name):\n",
    "        self.__name = name\n",
    "        \n",
    "    @property    \n",
    "    def name(self):\n",
    "        print(\"getter method called\")\n",
    "        return self.__name\n",
    "    \n",
    "    @name.setter\n",
    "    def name(self, value):\n",
    "        print(\"setter method called\")\n",
    "        self.__name = value\n",
    "        \n",
    "    @name.deleter    \n",
    "    def name(self):\n",
    "        print(\"deleter method called\")\n",
    "        del self.__name"
   ]
  },
  {
   "cell_type": "code",
   "execution_count": 2,
   "id": "7e5859e7",
   "metadata": {},
   "outputs": [],
   "source": [
    "w = Wrestler(\"Adam\")"
   ]
  },
  {
   "cell_type": "code",
   "execution_count": 3,
   "id": "813d6a6f",
   "metadata": {},
   "outputs": [
    {
     "name": "stdout",
     "output_type": "stream",
     "text": [
      "getter method called\n"
     ]
    },
    {
     "data": {
      "text/plain": [
       "'Adam'"
      ]
     },
     "execution_count": 3,
     "metadata": {},
     "output_type": "execute_result"
    }
   ],
   "source": [
    "w.name"
   ]
  },
  {
   "cell_type": "code",
   "execution_count": 4,
   "id": "a14601d5",
   "metadata": {},
   "outputs": [
    {
     "name": "stdout",
     "output_type": "stream",
     "text": [
      "setter method called\n"
     ]
    }
   ],
   "source": [
    "w.name = \"John\""
   ]
  },
  {
   "cell_type": "code",
   "execution_count": 5,
   "id": "9df29510",
   "metadata": {},
   "outputs": [
    {
     "name": "stdout",
     "output_type": "stream",
     "text": [
      "deleter method called\n"
     ]
    }
   ],
   "source": [
    "del w.name"
   ]
  },
  {
   "cell_type": "code",
   "execution_count": 6,
   "id": "129ff37d",
   "metadata": {},
   "outputs": [
    {
     "name": "stdout",
     "output_type": "stream",
     "text": [
      "getter method called\n"
     ]
    },
    {
     "ename": "AttributeError",
     "evalue": "'Wrestler' object has no attribute '_Wrestler__name'",
     "output_type": "error",
     "traceback": [
      "\u001b[1;31m---------------------------------------------------------------------------\u001b[0m",
      "\u001b[1;31mAttributeError\u001b[0m                            Traceback (most recent call last)",
      "Cell \u001b[1;32mIn[6], line 1\u001b[0m\n\u001b[1;32m----> 1\u001b[0m \u001b[43mw\u001b[49m\u001b[38;5;241;43m.\u001b[39;49m\u001b[43mname\u001b[49m\n",
      "Cell \u001b[1;32mIn[1], line 9\u001b[0m, in \u001b[0;36mWrestler.name\u001b[1;34m(self)\u001b[0m\n\u001b[0;32m      6\u001b[0m \u001b[38;5;129m@property\u001b[39m    \n\u001b[0;32m      7\u001b[0m \u001b[38;5;28;01mdef\u001b[39;00m \u001b[38;5;21mname\u001b[39m(\u001b[38;5;28mself\u001b[39m):\n\u001b[0;32m      8\u001b[0m     \u001b[38;5;28mprint\u001b[39m(\u001b[38;5;124m\"\u001b[39m\u001b[38;5;124mgetter method called\u001b[39m\u001b[38;5;124m\"\u001b[39m)\n\u001b[1;32m----> 9\u001b[0m     \u001b[38;5;28;01mreturn\u001b[39;00m \u001b[38;5;28;43mself\u001b[39;49m\u001b[38;5;241;43m.\u001b[39;49m\u001b[43m__name\u001b[49m\n",
      "\u001b[1;31mAttributeError\u001b[0m: 'Wrestler' object has no attribute '_Wrestler__name'"
     ]
    }
   ],
   "source": [
    "w.name"
   ]
  },
  {
   "cell_type": "code",
   "execution_count": 7,
   "id": "f8c821e4",
   "metadata": {},
   "outputs": [],
   "source": [
    "class Wrestler:\n",
    "    \n",
    "    def __init__(self, name, age):\n",
    "        self.__name = name\n",
    "        self.__age = age\n",
    "        \n",
    "    @property    \n",
    "    def name(self):\n",
    "        print(\"name getter method called\")\n",
    "        return self.__name\n",
    "    \n",
    "    @name.setter\n",
    "    def name(self, value):\n",
    "        print(\"name setter method called\")\n",
    "        self.__name = value\n",
    "        \n",
    "    @name.deleter    \n",
    "    def name(self):\n",
    "        print(\"name deleter method called\")\n",
    "        del self.__name\n",
    "        \n",
    "    @property\n",
    "    def age(self):\n",
    "        print(\"age getter method called\")\n",
    "        return self.__age\n",
    "    \n",
    "    @age.setter\n",
    "    def age(self, value):\n",
    "        print(\"age setter method called\")\n",
    "        self.__age = value\n",
    "        \n",
    "    @age.deleter\n",
    "    def age(self):\n",
    "        print(\"age deleter method called\")\n",
    "        del self.__age"
   ]
  },
  {
   "cell_type": "code",
   "execution_count": 8,
   "id": "0cdbca69",
   "metadata": {},
   "outputs": [],
   "source": [
    "w = Wrestler(\"Mark\", 25)"
   ]
  },
  {
   "cell_type": "code",
   "execution_count": 9,
   "id": "2b37f947",
   "metadata": {},
   "outputs": [
    {
     "name": "stdout",
     "output_type": "stream",
     "text": [
      "name getter method called\n"
     ]
    },
    {
     "data": {
      "text/plain": [
       "'Mark'"
      ]
     },
     "execution_count": 9,
     "metadata": {},
     "output_type": "execute_result"
    }
   ],
   "source": [
    "w.name"
   ]
  },
  {
   "cell_type": "code",
   "execution_count": 10,
   "id": "49efb5ec",
   "metadata": {},
   "outputs": [
    {
     "name": "stdout",
     "output_type": "stream",
     "text": [
      "name setter method called\n"
     ]
    }
   ],
   "source": [
    "w.name = \"Joe\""
   ]
  },
  {
   "cell_type": "code",
   "execution_count": 11,
   "id": "eb684378",
   "metadata": {},
   "outputs": [
    {
     "name": "stdout",
     "output_type": "stream",
     "text": [
      "name deleter method called\n"
     ]
    }
   ],
   "source": [
    "del w.name"
   ]
  },
  {
   "cell_type": "code",
   "execution_count": 12,
   "id": "516bfedf",
   "metadata": {},
   "outputs": [
    {
     "name": "stdout",
     "output_type": "stream",
     "text": [
      "age getter method called\n"
     ]
    },
    {
     "data": {
      "text/plain": [
       "25"
      ]
     },
     "execution_count": 12,
     "metadata": {},
     "output_type": "execute_result"
    }
   ],
   "source": [
    "w.age"
   ]
  },
  {
   "cell_type": "code",
   "execution_count": 13,
   "id": "149ab83e",
   "metadata": {},
   "outputs": [
    {
     "name": "stdout",
     "output_type": "stream",
     "text": [
      "age setter method called\n"
     ]
    }
   ],
   "source": [
    "w.age = 26"
   ]
  },
  {
   "cell_type": "code",
   "execution_count": 14,
   "id": "7c135760",
   "metadata": {},
   "outputs": [
    {
     "name": "stdout",
     "output_type": "stream",
     "text": [
      "age deleter method called\n"
     ]
    }
   ],
   "source": [
    "del w.age"
   ]
  }
 ],
 "metadata": {
  "kernelspec": {
   "display_name": "Python 3 (ipykernel)",
   "language": "python",
   "name": "python3"
  },
  "language_info": {
   "codemirror_mode": {
    "name": "ipython",
    "version": 3
   },
   "file_extension": ".py",
   "mimetype": "text/x-python",
   "name": "python",
   "nbconvert_exporter": "python",
   "pygments_lexer": "ipython3",
   "version": "3.11.4"
  }
 },
 "nbformat": 4,
 "nbformat_minor": 5
}
