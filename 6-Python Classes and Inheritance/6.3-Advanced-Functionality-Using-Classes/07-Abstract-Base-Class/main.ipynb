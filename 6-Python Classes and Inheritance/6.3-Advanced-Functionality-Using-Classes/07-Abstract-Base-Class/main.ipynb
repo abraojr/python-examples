{
 "cells": [
  {
   "cell_type": "code",
   "execution_count": 1,
   "id": "2b75d482",
   "metadata": {},
   "outputs": [],
   "source": [
    "from abc import ABC, abstractmethod"
   ]
  },
  {
   "cell_type": "code",
   "execution_count": 2,
   "id": "43c4ea1a",
   "metadata": {},
   "outputs": [],
   "source": [
    "class Hominidae():\n",
    "    \n",
    "    def diet(self):\n",
    "        pass\n",
    "    \n",
    "    def walk(self):\n",
    "        pass\n",
    "    \n",
    "    def behavior(self):\n",
    "        print(\"They show complex facial expression and social behaviour.\")"
   ]
  },
  {
   "cell_type": "code",
   "execution_count": 3,
   "id": "dfff536d",
   "metadata": {},
   "outputs": [
    {
     "name": "stdout",
     "output_type": "stream",
     "text": [
      "They show complex facial expression and social behaviour.\n"
     ]
    }
   ],
   "source": [
    "chimpanzee = Hominidae()\n",
    "\n",
    "chimpanzee.behavior()"
   ]
  },
  {
   "cell_type": "code",
   "execution_count": 4,
   "id": "9875e691",
   "metadata": {},
   "outputs": [],
   "source": [
    "chimpanzee.diet()"
   ]
  },
  {
   "cell_type": "code",
   "execution_count": 5,
   "id": "40d6abbe",
   "metadata": {},
   "outputs": [],
   "source": [
    "chimpanzee.walk()"
   ]
  },
  {
   "cell_type": "code",
   "execution_count": 6,
   "id": "1147e893",
   "metadata": {},
   "outputs": [],
   "source": [
    "class Human(Hominidae):\n",
    "    \n",
    "    def diet(self):\n",
    "        print(\"Humans are omnivorous.\")\n",
    "        \n",
    "    def walk(self):\n",
    "        print(\"They are bipeds.\")"
   ]
  },
  {
   "cell_type": "code",
   "execution_count": 7,
   "id": "087acb76",
   "metadata": {},
   "outputs": [
    {
     "name": "stdout",
     "output_type": "stream",
     "text": [
      "Humans are omnivorous.\n",
      "They are bipeds.\n"
     ]
    }
   ],
   "source": [
    "paul = Human()\n",
    "\n",
    "paul.diet()\n",
    "\n",
    "paul.walk()"
   ]
  },
  {
   "cell_type": "code",
   "execution_count": 8,
   "id": "29fd9c42",
   "metadata": {},
   "outputs": [],
   "source": [
    "class Hominidae(ABC):\n",
    "    \n",
    "    def diet(self):\n",
    "        pass\n",
    "    \n",
    "    def walk(self):\n",
    "        pass\n",
    "    \n",
    "    def behavior(self):\n",
    "        print(\"They show complex facial expression and social behaviour.\")"
   ]
  },
  {
   "cell_type": "code",
   "execution_count": 9,
   "id": "94b7f17f",
   "metadata": {},
   "outputs": [
    {
     "name": "stdout",
     "output_type": "stream",
     "text": [
      "They show complex facial expression and social behaviour.\n"
     ]
    }
   ],
   "source": [
    "chimpanzee = Hominidae()\n",
    "\n",
    "chimpanzee.behavior()"
   ]
  },
  {
   "cell_type": "code",
   "execution_count": 10,
   "id": "199507e4",
   "metadata": {},
   "outputs": [],
   "source": [
    "class Human(Hominidae):\n",
    "    \n",
    "    def diet(self):\n",
    "        print(\"Humans are omnivorous.\")\n",
    "        \n",
    "    def walk(self):\n",
    "        print(\"They are bipeds.\")"
   ]
  },
  {
   "cell_type": "code",
   "execution_count": 11,
   "id": "2d635a1b",
   "metadata": {},
   "outputs": [
    {
     "name": "stdout",
     "output_type": "stream",
     "text": [
      "Humans are omnivorous.\n",
      "They are bipeds.\n"
     ]
    }
   ],
   "source": [
    "myra = Human()\n",
    "\n",
    "myra.diet()\n",
    "\n",
    "myra.walk()"
   ]
  },
  {
   "cell_type": "code",
   "execution_count": 12,
   "id": "eabd9158",
   "metadata": {},
   "outputs": [
    {
     "name": "stdout",
     "output_type": "stream",
     "text": [
      "Help on class ABC in module abc:\n",
      "\n",
      "class ABC(builtins.object)\n",
      " |  Helper class that provides a standard way to create an ABC using\n",
      " |  inheritance.\n",
      " |  \n",
      " |  Data and other attributes defined here:\n",
      " |  \n",
      " |  __abstractmethods__ = frozenset()\n",
      "\n"
     ]
    }
   ],
   "source": [
    "help(ABC)"
   ]
  },
  {
   "cell_type": "code",
   "execution_count": 13,
   "id": "161a9425",
   "metadata": {},
   "outputs": [],
   "source": [
    "class Hominidae(ABC):\n",
    "    \n",
    "    @abstractmethod\n",
    "    def diet(self):\n",
    "        pass\n",
    "    \n",
    "    def walk(self):\n",
    "        pass\n",
    "    \n",
    "    def behavior(self):\n",
    "        print(\"They show complex facial expression and social behaviour.\")"
   ]
  },
  {
   "cell_type": "code",
   "execution_count": 14,
   "id": "892ff70e",
   "metadata": {},
   "outputs": [
    {
     "ename": "TypeError",
     "evalue": "Can't instantiate abstract class Hominidae with abstract method diet",
     "output_type": "error",
     "traceback": [
      "\u001b[1;31m---------------------------------------------------------------------------\u001b[0m",
      "\u001b[1;31mTypeError\u001b[0m                                 Traceback (most recent call last)",
      "Cell \u001b[1;32mIn[14], line 1\u001b[0m\n\u001b[1;32m----> 1\u001b[0m great_apes \u001b[38;5;241m=\u001b[39m \u001b[43mHominidae\u001b[49m\u001b[43m(\u001b[49m\u001b[43m)\u001b[49m\n",
      "\u001b[1;31mTypeError\u001b[0m: Can't instantiate abstract class Hominidae with abstract method diet"
     ]
    }
   ],
   "source": [
    "great_apes = Hominidae()"
   ]
  },
  {
   "cell_type": "code",
   "execution_count": 15,
   "id": "164bc42d",
   "metadata": {},
   "outputs": [],
   "source": [
    "class Human(Hominidae):\n",
    "    \n",
    "    def diet(self):\n",
    "        print(\"Humans are omnivorous.\")\n",
    "        \n",
    "    def walk(self):\n",
    "        print(\"They are bipeds.\")"
   ]
  },
  {
   "cell_type": "code",
   "execution_count": 16,
   "id": "e5427657",
   "metadata": {},
   "outputs": [
    {
     "name": "stdout",
     "output_type": "stream",
     "text": [
      "Humans are omnivorous.\n",
      "They are bipeds.\n"
     ]
    }
   ],
   "source": [
    "bill = Human()\n",
    "\n",
    "bill.diet()\n",
    "\n",
    "bill.walk()"
   ]
  },
  {
   "cell_type": "code",
   "execution_count": 17,
   "id": "7532527a",
   "metadata": {},
   "outputs": [],
   "source": [
    "class Hominidae(ABC):\n",
    "    \n",
    "    @abstractmethod\n",
    "    def diet(self):\n",
    "        pass\n",
    "    \n",
    "    @abstractmethod\n",
    "    def walk(self):\n",
    "        pass"
   ]
  },
  {
   "cell_type": "code",
   "execution_count": 18,
   "id": "5f5e345a",
   "metadata": {},
   "outputs": [],
   "source": [
    "class Human(Hominidae):\n",
    "    \n",
    "    def diet(self):\n",
    "        print(\"Humans are omnivorous.\")"
   ]
  },
  {
   "cell_type": "code",
   "execution_count": 19,
   "id": "cbbaa7a5",
   "metadata": {},
   "outputs": [
    {
     "ename": "TypeError",
     "evalue": "Can't instantiate abstract class Human with abstract method walk",
     "output_type": "error",
     "traceback": [
      "\u001b[1;31m---------------------------------------------------------------------------\u001b[0m",
      "\u001b[1;31mTypeError\u001b[0m                                 Traceback (most recent call last)",
      "Cell \u001b[1;32mIn[19], line 1\u001b[0m\n\u001b[1;32m----> 1\u001b[0m cathy \u001b[38;5;241m=\u001b[39m \u001b[43mHuman\u001b[49m\u001b[43m(\u001b[49m\u001b[43m)\u001b[49m\n",
      "\u001b[1;31mTypeError\u001b[0m: Can't instantiate abstract class Human with abstract method walk"
     ]
    }
   ],
   "source": [
    "cathy = Human()"
   ]
  },
  {
   "cell_type": "code",
   "execution_count": 20,
   "id": "ce1646e6",
   "metadata": {},
   "outputs": [],
   "source": [
    "class Human(Hominidae):\n",
    "    \n",
    "    def diet(self):\n",
    "        print(\"Humans are omnivorous.\")\n",
    "        \n",
    "    def walk(self):\n",
    "        print(\"They are bipeds.\")"
   ]
  },
  {
   "cell_type": "code",
   "execution_count": 21,
   "id": "7a78fbb6",
   "metadata": {},
   "outputs": [
    {
     "name": "stdout",
     "output_type": "stream",
     "text": [
      "Humans are omnivorous.\n",
      "They are bipeds.\n"
     ]
    }
   ],
   "source": [
    "cathy = Human()\n",
    "\n",
    "cathy.diet()\n",
    "\n",
    "cathy.walk()"
   ]
  }
 ],
 "metadata": {
  "kernelspec": {
   "display_name": "Python 3 (ipykernel)",
   "language": "python",
   "name": "python3"
  },
  "language_info": {
   "codemirror_mode": {
    "name": "ipython",
    "version": 3
   },
   "file_extension": ".py",
   "mimetype": "text/x-python",
   "name": "python",
   "nbconvert_exporter": "python",
   "pygments_lexer": "ipython3",
   "version": "3.11.4"
  }
 },
 "nbformat": 4,
 "nbformat_minor": 5
}
