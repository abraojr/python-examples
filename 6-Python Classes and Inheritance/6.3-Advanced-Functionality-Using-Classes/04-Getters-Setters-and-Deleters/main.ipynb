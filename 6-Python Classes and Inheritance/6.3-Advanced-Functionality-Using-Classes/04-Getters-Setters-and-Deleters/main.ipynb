{
 "cells": [
  {
   "cell_type": "code",
   "execution_count": 1,
   "id": "ac9c7711",
   "metadata": {},
   "outputs": [],
   "source": [
    "class Wrestler:\n",
    "    \n",
    "    def __init__(self):\n",
    "        self.__name = ''\n",
    "        \n",
    "    def set_name(self, name):\n",
    "        self.__name = name\n",
    "        \n",
    "    def get_name(self):\n",
    "        return self.__name"
   ]
  },
  {
   "cell_type": "code",
   "execution_count": 2,
   "id": "e4fa7691",
   "metadata": {},
   "outputs": [],
   "source": [
    "w1 = Wrestler()"
   ]
  },
  {
   "cell_type": "code",
   "execution_count": 3,
   "id": "c59001dd",
   "metadata": {},
   "outputs": [],
   "source": [
    "w1.set_name(\"Steve\")"
   ]
  },
  {
   "cell_type": "code",
   "execution_count": 4,
   "id": "2d0d43ac",
   "metadata": {},
   "outputs": [
    {
     "data": {
      "text/plain": [
       "'Steve'"
      ]
     },
     "execution_count": 4,
     "metadata": {},
     "output_type": "execute_result"
    }
   ],
   "source": [
    "w1.get_name()"
   ]
  },
  {
   "cell_type": "code",
   "execution_count": 5,
   "id": "ea14fd01",
   "metadata": {},
   "outputs": [
    {
     "ename": "AttributeError",
     "evalue": "'Wrestler' object has no attribute 'name'",
     "output_type": "error",
     "traceback": [
      "\u001b[1;31m---------------------------------------------------------------------------\u001b[0m",
      "\u001b[1;31mAttributeError\u001b[0m                            Traceback (most recent call last)",
      "Cell \u001b[1;32mIn[5], line 1\u001b[0m\n\u001b[1;32m----> 1\u001b[0m \u001b[43mw1\u001b[49m\u001b[38;5;241;43m.\u001b[39;49m\u001b[43mname\u001b[49m\n",
      "\u001b[1;31mAttributeError\u001b[0m: 'Wrestler' object has no attribute 'name'"
     ]
    }
   ],
   "source": [
    "w1.name"
   ]
  },
  {
   "cell_type": "code",
   "execution_count": 6,
   "id": "3294bfa4",
   "metadata": {},
   "outputs": [
    {
     "ename": "AttributeError",
     "evalue": "'Wrestler' object has no attribute '__name'",
     "output_type": "error",
     "traceback": [
      "\u001b[1;31m---------------------------------------------------------------------------\u001b[0m",
      "\u001b[1;31mAttributeError\u001b[0m                            Traceback (most recent call last)",
      "Cell \u001b[1;32mIn[6], line 1\u001b[0m\n\u001b[1;32m----> 1\u001b[0m \u001b[43mw1\u001b[49m\u001b[38;5;241;43m.\u001b[39;49m\u001b[43m__name\u001b[49m\n",
      "\u001b[1;31mAttributeError\u001b[0m: 'Wrestler' object has no attribute '__name'"
     ]
    }
   ],
   "source": [
    "w1.__name"
   ]
  },
  {
   "cell_type": "code",
   "execution_count": 7,
   "id": "cd103ed5",
   "metadata": {},
   "outputs": [
    {
     "data": {
      "text/plain": [
       "{'_Wrestler__name': 'Steve'}"
      ]
     },
     "execution_count": 7,
     "metadata": {},
     "output_type": "execute_result"
    }
   ],
   "source": [
    "w1.__dict__"
   ]
  },
  {
   "cell_type": "code",
   "execution_count": 8,
   "id": "8fa99363",
   "metadata": {},
   "outputs": [
    {
     "data": {
      "text/plain": [
       "'Steve'"
      ]
     },
     "execution_count": 8,
     "metadata": {},
     "output_type": "execute_result"
    }
   ],
   "source": [
    "w1._Wrestler__name"
   ]
  },
  {
   "cell_type": "code",
   "execution_count": 9,
   "id": "45f26786",
   "metadata": {},
   "outputs": [],
   "source": [
    "class Wrestler:\n",
    "    \n",
    "    def __init__(self):\n",
    "        self.__name = ''\n",
    "        \n",
    "    def set_name(self, name):\n",
    "        print(\"setter method called\")\n",
    "        self.__name = name\n",
    "        \n",
    "    def get_name(self):\n",
    "        print(\"getter method called\")\n",
    "        return self.__name\n",
    "    \n",
    "    name = property(get_name, set_name)"
   ]
  },
  {
   "cell_type": "code",
   "execution_count": 10,
   "id": "843716f6",
   "metadata": {},
   "outputs": [],
   "source": [
    "w = Wrestler()"
   ]
  },
  {
   "cell_type": "code",
   "execution_count": 11,
   "id": "51329aa2",
   "metadata": {},
   "outputs": [
    {
     "name": "stdout",
     "output_type": "stream",
     "text": [
      "setter method called\n"
     ]
    }
   ],
   "source": [
    "w.name = \"Kart\""
   ]
  },
  {
   "cell_type": "code",
   "execution_count": 12,
   "id": "6eda6278",
   "metadata": {},
   "outputs": [
    {
     "name": "stdout",
     "output_type": "stream",
     "text": [
      "getter method called\n"
     ]
    },
    {
     "data": {
      "text/plain": [
       "'Kart'"
      ]
     },
     "execution_count": 12,
     "metadata": {},
     "output_type": "execute_result"
    }
   ],
   "source": [
    "w.name"
   ]
  },
  {
   "cell_type": "code",
   "execution_count": 13,
   "id": "32381b88",
   "metadata": {},
   "outputs": [],
   "source": [
    "class Wrestler:\n",
    "    \n",
    "    def __init__(self):\n",
    "        self.__name = ''\n",
    "        \n",
    "    def set_name(self, name):\n",
    "        print(\"setter method called\")\n",
    "        self.__name = name\n",
    "        \n",
    "    def get_name(self):\n",
    "        print(\"getter method called\")\n",
    "        return self.__name\n",
    "    \n",
    "    def del_name(self):\n",
    "        print(\"delete method called\")\n",
    "        del self.__name\n",
    "    \n",
    "    name = property(get_name, set_name, del_name)"
   ]
  },
  {
   "cell_type": "code",
   "execution_count": 14,
   "id": "acd718b2",
   "metadata": {},
   "outputs": [],
   "source": [
    "w = Wrestler()"
   ]
  },
  {
   "cell_type": "code",
   "execution_count": 15,
   "id": "e6e00a53",
   "metadata": {},
   "outputs": [
    {
     "name": "stdout",
     "output_type": "stream",
     "text": [
      "setter method called\n"
     ]
    }
   ],
   "source": [
    "w.name = \"Kane\""
   ]
  },
  {
   "cell_type": "code",
   "execution_count": 16,
   "id": "bf2e5b74",
   "metadata": {},
   "outputs": [
    {
     "name": "stdout",
     "output_type": "stream",
     "text": [
      "getter method called\n"
     ]
    },
    {
     "data": {
      "text/plain": [
       "'Kane'"
      ]
     },
     "execution_count": 16,
     "metadata": {},
     "output_type": "execute_result"
    }
   ],
   "source": [
    "w.name"
   ]
  },
  {
   "cell_type": "code",
   "execution_count": 17,
   "id": "72a67071",
   "metadata": {},
   "outputs": [
    {
     "name": "stdout",
     "output_type": "stream",
     "text": [
      "delete method called\n"
     ]
    }
   ],
   "source": [
    "del w.name"
   ]
  },
  {
   "cell_type": "code",
   "execution_count": 18,
   "id": "d4ebe1e5",
   "metadata": {},
   "outputs": [
    {
     "name": "stdout",
     "output_type": "stream",
     "text": [
      "getter method called\n"
     ]
    },
    {
     "ename": "AttributeError",
     "evalue": "'Wrestler' object has no attribute '_Wrestler__name'",
     "output_type": "error",
     "traceback": [
      "\u001b[1;31m---------------------------------------------------------------------------\u001b[0m",
      "\u001b[1;31mAttributeError\u001b[0m                            Traceback (most recent call last)",
      "Cell \u001b[1;32mIn[18], line 1\u001b[0m\n\u001b[1;32m----> 1\u001b[0m \u001b[43mw\u001b[49m\u001b[38;5;241;43m.\u001b[39;49m\u001b[43mname\u001b[49m\n",
      "Cell \u001b[1;32mIn[13], line 12\u001b[0m, in \u001b[0;36mWrestler.get_name\u001b[1;34m(self)\u001b[0m\n\u001b[0;32m     10\u001b[0m \u001b[38;5;28;01mdef\u001b[39;00m \u001b[38;5;21mget_name\u001b[39m(\u001b[38;5;28mself\u001b[39m):\n\u001b[0;32m     11\u001b[0m     \u001b[38;5;28mprint\u001b[39m(\u001b[38;5;124m\"\u001b[39m\u001b[38;5;124mgetter method called\u001b[39m\u001b[38;5;124m\"\u001b[39m)\n\u001b[1;32m---> 12\u001b[0m     \u001b[38;5;28;01mreturn\u001b[39;00m \u001b[38;5;28;43mself\u001b[39;49m\u001b[38;5;241;43m.\u001b[39;49m\u001b[43m__name\u001b[49m\n",
      "\u001b[1;31mAttributeError\u001b[0m: 'Wrestler' object has no attribute '_Wrestler__name'"
     ]
    }
   ],
   "source": [
    "w.name"
   ]
  }
 ],
 "metadata": {
  "kernelspec": {
   "display_name": "Python 3 (ipykernel)",
   "language": "python",
   "name": "python3"
  },
  "language_info": {
   "codemirror_mode": {
    "name": "ipython",
    "version": 3
   },
   "file_extension": ".py",
   "mimetype": "text/x-python",
   "name": "python",
   "nbconvert_exporter": "python",
   "pygments_lexer": "ipython3",
   "version": "3.11.4"
  }
 },
 "nbformat": 4,
 "nbformat_minor": 5
}
