{
 "cells": [
  {
   "cell_type": "code",
   "execution_count": 1,
   "id": "675f1c06",
   "metadata": {},
   "outputs": [],
   "source": [
    "class Competition:\n",
    "    \n",
    "    def __init__(self, name, prize):\n",
    "        self.__name = name\n",
    "        self.__prize = prize"
   ]
  },
  {
   "cell_type": "code",
   "execution_count": 2,
   "id": "15506970",
   "metadata": {},
   "outputs": [],
   "source": [
    "rowing = Competition(\"Rowing\", 10000)"
   ]
  },
  {
   "cell_type": "code",
   "execution_count": 3,
   "id": "d5360234",
   "metadata": {},
   "outputs": [
    {
     "name": "stdout",
     "output_type": "stream",
     "text": [
      "<__main__.Competition object at 0x000001B63A566590>\n"
     ]
    }
   ],
   "source": [
    "print(rowing)"
   ]
  },
  {
   "cell_type": "code",
   "execution_count": 4,
   "id": "5bb62b78",
   "metadata": {},
   "outputs": [
    {
     "data": {
      "text/plain": [
       "<__main__.Competition at 0x1b63a566590>"
      ]
     },
     "execution_count": 4,
     "metadata": {},
     "output_type": "execute_result"
    }
   ],
   "source": [
    "rowing"
   ]
  },
  {
   "cell_type": "code",
   "execution_count": 5,
   "id": "966eab79",
   "metadata": {},
   "outputs": [],
   "source": [
    "class Competition:\n",
    "    \n",
    "    def __init__(self, name, prize):\n",
    "        self.__name = name\n",
    "        self.__prize = prize\n",
    "        \n",
    "    def __repr__(self):\n",
    "        return \"('{}', {})\".format(self.__name, self.__prize)"
   ]
  },
  {
   "cell_type": "code",
   "execution_count": 6,
   "id": "59d09e55",
   "metadata": {},
   "outputs": [],
   "source": [
    "archery = Competition(\"Archery\", 8000)"
   ]
  },
  {
   "cell_type": "code",
   "execution_count": 7,
   "id": "a2540afd",
   "metadata": {},
   "outputs": [
    {
     "name": "stdout",
     "output_type": "stream",
     "text": [
      "('Archery', 8000)\n"
     ]
    }
   ],
   "source": [
    "print(archery)"
   ]
  },
  {
   "cell_type": "code",
   "execution_count": 8,
   "id": "6fbebebc",
   "metadata": {},
   "outputs": [
    {
     "data": {
      "text/plain": [
       "\"('Archery', 8000)\""
      ]
     },
     "execution_count": 8,
     "metadata": {},
     "output_type": "execute_result"
    }
   ],
   "source": [
    "repr(archery)"
   ]
  },
  {
   "cell_type": "code",
   "execution_count": 9,
   "id": "273a7cf6",
   "metadata": {},
   "outputs": [
    {
     "data": {
      "text/plain": [
       "\"('Archery', 8000)\""
      ]
     },
     "execution_count": 9,
     "metadata": {},
     "output_type": "execute_result"
    }
   ],
   "source": [
    "str(archery)"
   ]
  },
  {
   "cell_type": "code",
   "execution_count": 10,
   "id": "e84795c6",
   "metadata": {},
   "outputs": [],
   "source": [
    "class Competition:\n",
    "    \n",
    "    def __init__(self, name, country, prize):\n",
    "        self.__name = name\n",
    "        self.__country = country\n",
    "        self.__prize = prize\n",
    "        \n",
    "    def get_name_country(self):\n",
    "        return '{} {}'.format(self.__name, self.__country)\n",
    "        \n",
    "    def __repr__(self):\n",
    "        return \"Competition: {} held in {}, prize: {}\" \\\n",
    "            .format(self.__name, self.__country, self.__prize)\n",
    "    \n",
    "    def __str__(self):\n",
    "        return \"{} - {}\".format(self.get_name_country(), self.__prize)"
   ]
  },
  {
   "cell_type": "code",
   "execution_count": 11,
   "id": "1fd3b6d7",
   "metadata": {},
   "outputs": [],
   "source": [
    "archery = Competition(\"Archery\", \"United Kingdom\", 7500)"
   ]
  },
  {
   "cell_type": "code",
   "execution_count": 12,
   "id": "873d88a4",
   "metadata": {},
   "outputs": [
    {
     "data": {
      "text/plain": [
       "Competition: Archery held in United Kingdom, prize: 7500"
      ]
     },
     "execution_count": 12,
     "metadata": {},
     "output_type": "execute_result"
    }
   ],
   "source": [
    "archery"
   ]
  },
  {
   "cell_type": "code",
   "execution_count": 13,
   "id": "188ed532",
   "metadata": {},
   "outputs": [
    {
     "name": "stdout",
     "output_type": "stream",
     "text": [
      "Archery United Kingdom - 7500\n"
     ]
    }
   ],
   "source": [
    "print(archery)"
   ]
  },
  {
   "cell_type": "code",
   "execution_count": 14,
   "id": "19a39fe9",
   "metadata": {},
   "outputs": [
    {
     "name": "stdout",
     "output_type": "stream",
     "text": [
      "Competition: Archery held in United Kingdom, prize: 7500\n"
     ]
    }
   ],
   "source": [
    "print(repr(archery))"
   ]
  },
  {
   "cell_type": "code",
   "execution_count": 15,
   "id": "09a18b4e",
   "metadata": {},
   "outputs": [
    {
     "name": "stdout",
     "output_type": "stream",
     "text": [
      "Archery United Kingdom - 7500\n"
     ]
    }
   ],
   "source": [
    "print(str(archery))"
   ]
  },
  {
   "cell_type": "code",
   "execution_count": 16,
   "id": "d7b02463",
   "metadata": {},
   "outputs": [
    {
     "name": "stdout",
     "output_type": "stream",
     "text": [
      "Competition: Archery held in United Kingdom, prize: 7500\n"
     ]
    }
   ],
   "source": [
    "print(archery.__repr__())"
   ]
  },
  {
   "cell_type": "code",
   "execution_count": 17,
   "id": "ee1fcc06",
   "metadata": {},
   "outputs": [
    {
     "name": "stdout",
     "output_type": "stream",
     "text": [
      "Archery United Kingdom - 7500\n"
     ]
    }
   ],
   "source": [
    "print(archery.__str__())"
   ]
  },
  {
   "cell_type": "code",
   "execution_count": 18,
   "id": "51bfa621",
   "metadata": {},
   "outputs": [
    {
     "data": {
      "text/plain": [
       "3"
      ]
     },
     "execution_count": 18,
     "metadata": {},
     "output_type": "execute_result"
    }
   ],
   "source": [
    "1 + 2"
   ]
  },
  {
   "cell_type": "code",
   "execution_count": 19,
   "id": "08deb437",
   "metadata": {},
   "outputs": [
    {
     "data": {
      "text/plain": [
       "3"
      ]
     },
     "execution_count": 19,
     "metadata": {},
     "output_type": "execute_result"
    }
   ],
   "source": [
    "int.__add__(1, 2)"
   ]
  },
  {
   "cell_type": "code",
   "execution_count": 20,
   "id": "a0b20a09",
   "metadata": {},
   "outputs": [
    {
     "data": {
      "text/plain": [
       "'ab'"
      ]
     },
     "execution_count": 20,
     "metadata": {},
     "output_type": "execute_result"
    }
   ],
   "source": [
    "'a' + 'b'"
   ]
  },
  {
   "cell_type": "code",
   "execution_count": 21,
   "id": "58cf7b34",
   "metadata": {},
   "outputs": [
    {
     "data": {
      "text/plain": [
       "'ab'"
      ]
     },
     "execution_count": 21,
     "metadata": {},
     "output_type": "execute_result"
    }
   ],
   "source": [
    "str.__add__('a', 'b')"
   ]
  },
  {
   "cell_type": "code",
   "execution_count": 22,
   "id": "84aec592",
   "metadata": {},
   "outputs": [],
   "source": [
    "class Savings:\n",
    "    \n",
    "    def __init__(self, amount):\n",
    "        self.__amount = amount"
   ]
  },
  {
   "cell_type": "code",
   "execution_count": 23,
   "id": "942256d2",
   "metadata": {},
   "outputs": [],
   "source": [
    "s1 = Savings(10000)\n",
    "\n",
    "s2 = Savings(2000)"
   ]
  },
  {
   "cell_type": "code",
   "execution_count": 24,
   "id": "2e63999c",
   "metadata": {},
   "outputs": [
    {
     "ename": "TypeError",
     "evalue": "unsupported operand type(s) for +: 'Savings' and 'Savings'",
     "output_type": "error",
     "traceback": [
      "\u001b[1;31m---------------------------------------------------------------------------\u001b[0m",
      "\u001b[1;31mTypeError\u001b[0m                                 Traceback (most recent call last)",
      "Cell \u001b[1;32mIn[24], line 1\u001b[0m\n\u001b[1;32m----> 1\u001b[0m \u001b[43ms1\u001b[49m\u001b[43m \u001b[49m\u001b[38;5;241;43m+\u001b[39;49m\u001b[43m \u001b[49m\u001b[43ms2\u001b[49m\n",
      "\u001b[1;31mTypeError\u001b[0m: unsupported operand type(s) for +: 'Savings' and 'Savings'"
     ]
    }
   ],
   "source": [
    "s1 + s2"
   ]
  },
  {
   "cell_type": "code",
   "execution_count": 25,
   "id": "42de77d4",
   "metadata": {},
   "outputs": [],
   "source": [
    "class Savings:\n",
    "    \n",
    "    def __init__(self, amount):\n",
    "        self.__amount = amount\n",
    "        \n",
    "    def __add__(self, other):\n",
    "        return self.__amount + other.__amount"
   ]
  },
  {
   "cell_type": "code",
   "execution_count": 26,
   "id": "e7ed6c7c",
   "metadata": {},
   "outputs": [],
   "source": [
    "s1 = Savings(10000)\n",
    "\n",
    "s2 = Savings(2000)"
   ]
  },
  {
   "cell_type": "code",
   "execution_count": 27,
   "id": "c1bd440e",
   "metadata": {},
   "outputs": [
    {
     "data": {
      "text/plain": [
       "12000"
      ]
     },
     "execution_count": 27,
     "metadata": {},
     "output_type": "execute_result"
    }
   ],
   "source": [
    "s1 + s2"
   ]
  },
  {
   "cell_type": "code",
   "execution_count": 28,
   "id": "fc6c4be5",
   "metadata": {},
   "outputs": [],
   "source": [
    "class MethodSub:\n",
    "    \n",
    "    def __init__(self, number):\n",
    "        self.__number = number\n",
    "        \n",
    "    def __sub__(self, other):\n",
    "        return self.__number - other.__number"
   ]
  },
  {
   "cell_type": "code",
   "execution_count": 29,
   "id": "f5c1b2a9",
   "metadata": {},
   "outputs": [],
   "source": [
    "num_1 = MethodSub(10)\n",
    "\n",
    "num_2 = MethodSub(8)"
   ]
  },
  {
   "cell_type": "code",
   "execution_count": 30,
   "id": "22b58ed2",
   "metadata": {},
   "outputs": [
    {
     "data": {
      "text/plain": [
       "2"
      ]
     },
     "execution_count": 30,
     "metadata": {},
     "output_type": "execute_result"
    }
   ],
   "source": [
    "num_1 - num_2"
   ]
  },
  {
   "cell_type": "code",
   "execution_count": 31,
   "id": "00400988",
   "metadata": {},
   "outputs": [
    {
     "data": {
      "text/plain": [
       "2.1"
      ]
     },
     "execution_count": 31,
     "metadata": {},
     "output_type": "execute_result"
    }
   ],
   "source": [
    "1.0 * 2.1"
   ]
  },
  {
   "cell_type": "code",
   "execution_count": 32,
   "id": "a1a7d734",
   "metadata": {},
   "outputs": [
    {
     "data": {
      "text/plain": [
       "2.1"
      ]
     },
     "execution_count": 32,
     "metadata": {},
     "output_type": "execute_result"
    }
   ],
   "source": [
    "float.__mul__(1.0, 2.1)"
   ]
  },
  {
   "cell_type": "code",
   "execution_count": 33,
   "id": "c5a31df5",
   "metadata": {},
   "outputs": [],
   "source": [
    "class Savings:\n",
    "    \n",
    "    def __init__(self, amount):\n",
    "        self.__amount = amount\n",
    "        \n",
    "    def __add__(self, other):\n",
    "        return self.__amount + other.__amount\n",
    "    \n",
    "    def __mul__(self, other):\n",
    "        if type(other) == int or type(other) == float:\n",
    "            return self.__amount * other\n",
    "        else:\n",
    "            raise ValueError(\"Can only multiply by int or float\")"
   ]
  },
  {
   "cell_type": "code",
   "execution_count": 34,
   "id": "9a8e7eec",
   "metadata": {},
   "outputs": [],
   "source": [
    "s1 = Savings(1000)\n",
    "\n",
    "s2 = Savings(200)"
   ]
  },
  {
   "cell_type": "code",
   "execution_count": 35,
   "id": "62938bb5",
   "metadata": {},
   "outputs": [
    {
     "data": {
      "text/plain": [
       "1200"
      ]
     },
     "execution_count": 35,
     "metadata": {},
     "output_type": "execute_result"
    }
   ],
   "source": [
    "s1 + s2"
   ]
  },
  {
   "cell_type": "code",
   "execution_count": 36,
   "id": "c21101e1",
   "metadata": {},
   "outputs": [
    {
     "ename": "ValueError",
     "evalue": "Can only multiply by int or float",
     "output_type": "error",
     "traceback": [
      "\u001b[1;31m---------------------------------------------------------------------------\u001b[0m",
      "\u001b[1;31mValueError\u001b[0m                                Traceback (most recent call last)",
      "Cell \u001b[1;32mIn[36], line 1\u001b[0m\n\u001b[1;32m----> 1\u001b[0m \u001b[43ms1\u001b[49m\u001b[43m \u001b[49m\u001b[38;5;241;43m*\u001b[39;49m\u001b[43m \u001b[49m\u001b[43ms2\u001b[49m\n",
      "Cell \u001b[1;32mIn[33], line 13\u001b[0m, in \u001b[0;36mSavings.__mul__\u001b[1;34m(self, other)\u001b[0m\n\u001b[0;32m     11\u001b[0m     \u001b[38;5;28;01mreturn\u001b[39;00m \u001b[38;5;28mself\u001b[39m\u001b[38;5;241m.\u001b[39m__amount \u001b[38;5;241m*\u001b[39m other\n\u001b[0;32m     12\u001b[0m \u001b[38;5;28;01melse\u001b[39;00m:\n\u001b[1;32m---> 13\u001b[0m     \u001b[38;5;28;01mraise\u001b[39;00m \u001b[38;5;167;01mValueError\u001b[39;00m(\u001b[38;5;124m\"\u001b[39m\u001b[38;5;124mCan only multiply by int or float\u001b[39m\u001b[38;5;124m\"\u001b[39m)\n",
      "\u001b[1;31mValueError\u001b[0m: Can only multiply by int or float"
     ]
    }
   ],
   "source": [
    "s1 * s2"
   ]
  },
  {
   "cell_type": "code",
   "execution_count": 37,
   "id": "6cacebee",
   "metadata": {},
   "outputs": [
    {
     "data": {
      "text/plain": [
       "3000"
      ]
     },
     "execution_count": 37,
     "metadata": {},
     "output_type": "execute_result"
    }
   ],
   "source": [
    "s1 * 3"
   ]
  },
  {
   "cell_type": "code",
   "execution_count": 38,
   "id": "ede26051",
   "metadata": {},
   "outputs": [
    {
     "data": {
      "text/plain": [
       "3"
      ]
     },
     "execution_count": 38,
     "metadata": {},
     "output_type": "execute_result"
    }
   ],
   "source": [
    "10 // 3"
   ]
  },
  {
   "cell_type": "code",
   "execution_count": 39,
   "id": "ab71fff7",
   "metadata": {},
   "outputs": [],
   "source": [
    "class MethodFloordiv:\n",
    "    \n",
    "    def __init__(self, number):\n",
    "        self.__number = number\n",
    "        \n",
    "    def __floordiv__(self, other):\n",
    "        return self.__number // other.__number"
   ]
  },
  {
   "cell_type": "code",
   "execution_count": 40,
   "id": "0ac4fbc7",
   "metadata": {},
   "outputs": [],
   "source": [
    "num_1 = MethodFloordiv(10)\n",
    "\n",
    "num_2 = MethodFloordiv(3)"
   ]
  },
  {
   "cell_type": "code",
   "execution_count": 41,
   "id": "696fabc7",
   "metadata": {},
   "outputs": [
    {
     "data": {
      "text/plain": [
       "3"
      ]
     },
     "execution_count": 41,
     "metadata": {},
     "output_type": "execute_result"
    }
   ],
   "source": [
    "num_1 // num_2"
   ]
  },
  {
   "cell_type": "code",
   "execution_count": 42,
   "id": "bef6bebe",
   "metadata": {},
   "outputs": [
    {
     "data": {
      "text/plain": [
       "0"
      ]
     },
     "execution_count": 42,
     "metadata": {},
     "output_type": "execute_result"
    }
   ],
   "source": [
    "4 % 2"
   ]
  },
  {
   "cell_type": "code",
   "execution_count": 43,
   "id": "d663421b",
   "metadata": {},
   "outputs": [
    {
     "data": {
      "text/plain": [
       "1"
      ]
     },
     "execution_count": 43,
     "metadata": {},
     "output_type": "execute_result"
    }
   ],
   "source": [
    "5 % 2"
   ]
  },
  {
   "cell_type": "code",
   "execution_count": 44,
   "id": "bbf0a6b3",
   "metadata": {},
   "outputs": [
    {
     "data": {
      "text/plain": [
       "1"
      ]
     },
     "execution_count": 44,
     "metadata": {},
     "output_type": "execute_result"
    }
   ],
   "source": [
    "int.__mod__(5, 2)"
   ]
  },
  {
   "cell_type": "code",
   "execution_count": 45,
   "id": "b32374b4",
   "metadata": {},
   "outputs": [],
   "source": [
    "class MethodMod:\n",
    "   \n",
    "    def __init__(self, number):\n",
    "        self.__number = number\n",
    "        \n",
    "    def __mod__(self, other):\n",
    "        return self.__number % other.__number"
   ]
  },
  {
   "cell_type": "code",
   "execution_count": 46,
   "id": "3212f6c9",
   "metadata": {},
   "outputs": [],
   "source": [
    "num_1 = MethodMod(10)\n",
    "\n",
    "num_2 = MethodMod(3)"
   ]
  },
  {
   "cell_type": "code",
   "execution_count": 47,
   "id": "e9df7a97",
   "metadata": {},
   "outputs": [
    {
     "data": {
      "text/plain": [
       "1"
      ]
     },
     "execution_count": 47,
     "metadata": {},
     "output_type": "execute_result"
    }
   ],
   "source": [
    "num_1 % num_2"
   ]
  },
  {
   "cell_type": "code",
   "execution_count": 48,
   "id": "29fa5827",
   "metadata": {},
   "outputs": [
    {
     "data": {
      "text/plain": [
       "36"
      ]
     },
     "execution_count": 48,
     "metadata": {},
     "output_type": "execute_result"
    }
   ],
   "source": [
    "6 ** 2"
   ]
  },
  {
   "cell_type": "code",
   "execution_count": 49,
   "id": "92925c8a",
   "metadata": {},
   "outputs": [
    {
     "data": {
      "text/plain": [
       "36"
      ]
     },
     "execution_count": 49,
     "metadata": {},
     "output_type": "execute_result"
    }
   ],
   "source": [
    "int.__pow__(6, 2)"
   ]
  },
  {
   "cell_type": "code",
   "execution_count": 50,
   "id": "7b7600be",
   "metadata": {},
   "outputs": [],
   "source": [
    "class MethodPower:\n",
    "    \n",
    "    def __init__(self, number):\n",
    "        self.__number = number\n",
    "        \n",
    "    def __pow__(self, other):\n",
    "        return self.__number ** other.__number"
   ]
  },
  {
   "cell_type": "code",
   "execution_count": 51,
   "id": "e080674d",
   "metadata": {},
   "outputs": [],
   "source": [
    "num_1 = MethodPower(10)\n",
    "\n",
    "num_2 = MethodPower(3)"
   ]
  },
  {
   "cell_type": "code",
   "execution_count": 52,
   "id": "b8479fae",
   "metadata": {},
   "outputs": [
    {
     "data": {
      "text/plain": [
       "1000"
      ]
     },
     "execution_count": 52,
     "metadata": {},
     "output_type": "execute_result"
    }
   ],
   "source": [
    "num_1 ** num_2"
   ]
  }
 ],
 "metadata": {
  "kernelspec": {
   "display_name": "Python 3 (ipykernel)",
   "language": "python",
   "name": "python3"
  },
  "language_info": {
   "codemirror_mode": {
    "name": "ipython",
    "version": 3
   },
   "file_extension": ".py",
   "mimetype": "text/x-python",
   "name": "python",
   "nbconvert_exporter": "python",
   "pygments_lexer": "ipython3",
   "version": "3.11.4"
  }
 },
 "nbformat": 4,
 "nbformat_minor": 5
}
