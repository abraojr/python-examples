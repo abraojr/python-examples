{
 "cells": [
  {
   "cell_type": "code",
   "execution_count": 1,
   "id": "14339274",
   "metadata": {},
   "outputs": [],
   "source": [
    "some_list = [1, 4, 5, 7, 2, 3, 5]"
   ]
  },
  {
   "cell_type": "code",
   "execution_count": 2,
   "id": "0d716f18",
   "metadata": {},
   "outputs": [
    {
     "name": "stdout",
     "output_type": "stream",
     "text": [
      "1\n",
      "4\n",
      "5\n",
      "7\n",
      "2\n",
      "3\n",
      "5\n"
     ]
    }
   ],
   "source": [
    "for num in some_list:\n",
    "    print(num)"
   ]
  },
  {
   "cell_type": "code",
   "execution_count": 3,
   "id": "3c1446da",
   "metadata": {},
   "outputs": [],
   "source": [
    "class Participants:\n",
    "    \n",
    "    def __init__(self):\n",
    "        self.__participants = []\n",
    "        self.__index = 0\n",
    "        \n",
    "    def add_participant(self, name):\n",
    "        self.__participants.append(name)\n",
    "        \n",
    "    def __len__(self):\n",
    "        return len(self.__participants)\n",
    "    \n",
    "    def __iter__(self):\n",
    "        self.__index = 0\n",
    "        return self\n",
    "    \n",
    "    def __next__(self):\n",
    "        if self.__index == len(self.__participants):\n",
    "            raise StopIteration\n",
    "            \n",
    "        p = self.__participants[self.__index]\n",
    "        \n",
    "        self.__index += 1\n",
    "        \n",
    "        return p"
   ]
  },
  {
   "cell_type": "code",
   "execution_count": 4,
   "id": "ddd5570e",
   "metadata": {},
   "outputs": [],
   "source": [
    "participants = Participants()\n",
    "\n",
    "participants.add_participant(\"Lily\")\n",
    "participants.add_participant(\"James\")\n",
    "participants.add_participant(\"Harry\")\n",
    "participants.add_participant(\"Ron\")\n",
    "participants.add_participant(\"Hermione\")"
   ]
  },
  {
   "cell_type": "code",
   "execution_count": 5,
   "id": "acbf5d96",
   "metadata": {},
   "outputs": [
    {
     "name": "stdout",
     "output_type": "stream",
     "text": [
      "Lily\n",
      "James\n",
      "Harry\n",
      "Ron\n",
      "Hermione\n"
     ]
    }
   ],
   "source": [
    "for p in participants:\n",
    "    print(p)"
   ]
  },
  {
   "cell_type": "code",
   "execution_count": 6,
   "id": "89ae4d5d",
   "metadata": {},
   "outputs": [],
   "source": [
    "participants.add_participant(\"Ginny\")"
   ]
  },
  {
   "cell_type": "code",
   "execution_count": 7,
   "id": "86ccc362",
   "metadata": {},
   "outputs": [
    {
     "name": "stdout",
     "output_type": "stream",
     "text": [
      "Lily\n",
      "James\n",
      "Harry\n",
      "Ron\n",
      "Hermione\n",
      "Ginny\n"
     ]
    }
   ],
   "source": [
    "for p in participants:\n",
    "    print(p)"
   ]
  },
  {
   "cell_type": "code",
   "execution_count": 8,
   "id": "8fcbe540",
   "metadata": {},
   "outputs": [
    {
     "data": {
      "text/plain": [
       "<__main__.Participants at 0x1c04b36b050>"
      ]
     },
     "execution_count": 8,
     "metadata": {},
     "output_type": "execute_result"
    }
   ],
   "source": [
    "iter(participants)"
   ]
  },
  {
   "cell_type": "code",
   "execution_count": 9,
   "id": "24ba2a84",
   "metadata": {},
   "outputs": [
    {
     "data": {
      "text/plain": [
       "'Lily'"
      ]
     },
     "execution_count": 9,
     "metadata": {},
     "output_type": "execute_result"
    }
   ],
   "source": [
    "next(participants)"
   ]
  },
  {
   "cell_type": "code",
   "execution_count": 10,
   "id": "2202563b",
   "metadata": {},
   "outputs": [
    {
     "data": {
      "text/plain": [
       "'James'"
      ]
     },
     "execution_count": 10,
     "metadata": {},
     "output_type": "execute_result"
    }
   ],
   "source": [
    "next(participants)"
   ]
  },
  {
   "cell_type": "code",
   "execution_count": 11,
   "id": "35d8acf8",
   "metadata": {},
   "outputs": [
    {
     "data": {
      "text/plain": [
       "'Harry'"
      ]
     },
     "execution_count": 11,
     "metadata": {},
     "output_type": "execute_result"
    }
   ],
   "source": [
    "next(participants)"
   ]
  },
  {
   "cell_type": "code",
   "execution_count": 12,
   "id": "bb9323a5",
   "metadata": {},
   "outputs": [
    {
     "data": {
      "text/plain": [
       "'Ron'"
      ]
     },
     "execution_count": 12,
     "metadata": {},
     "output_type": "execute_result"
    }
   ],
   "source": [
    "next(participants)"
   ]
  },
  {
   "cell_type": "code",
   "execution_count": 13,
   "id": "29466269",
   "metadata": {},
   "outputs": [
    {
     "data": {
      "text/plain": [
       "'Hermione'"
      ]
     },
     "execution_count": 13,
     "metadata": {},
     "output_type": "execute_result"
    }
   ],
   "source": [
    "next(participants)"
   ]
  },
  {
   "cell_type": "code",
   "execution_count": 14,
   "id": "f593664f",
   "metadata": {},
   "outputs": [
    {
     "data": {
      "text/plain": [
       "'Ginny'"
      ]
     },
     "execution_count": 14,
     "metadata": {},
     "output_type": "execute_result"
    }
   ],
   "source": [
    "next(participants)"
   ]
  },
  {
   "cell_type": "code",
   "execution_count": 15,
   "id": "3d21fd8b",
   "metadata": {},
   "outputs": [
    {
     "ename": "StopIteration",
     "evalue": "",
     "output_type": "error",
     "traceback": [
      "\u001b[1;31m---------------------------------------------------------------------------\u001b[0m",
      "\u001b[1;31mStopIteration\u001b[0m                             Traceback (most recent call last)",
      "Cell \u001b[1;32mIn[15], line 1\u001b[0m\n\u001b[1;32m----> 1\u001b[0m \u001b[38;5;28;43mnext\u001b[39;49m\u001b[43m(\u001b[49m\u001b[43mparticipants\u001b[49m\u001b[43m)\u001b[49m\n",
      "Cell \u001b[1;32mIn[3], line 19\u001b[0m, in \u001b[0;36mParticipants.__next__\u001b[1;34m(self)\u001b[0m\n\u001b[0;32m     17\u001b[0m \u001b[38;5;28;01mdef\u001b[39;00m \u001b[38;5;21m__next__\u001b[39m(\u001b[38;5;28mself\u001b[39m):\n\u001b[0;32m     18\u001b[0m     \u001b[38;5;28;01mif\u001b[39;00m \u001b[38;5;28mself\u001b[39m\u001b[38;5;241m.\u001b[39m__index \u001b[38;5;241m==\u001b[39m \u001b[38;5;28mlen\u001b[39m(\u001b[38;5;28mself\u001b[39m\u001b[38;5;241m.\u001b[39m__participants):\n\u001b[1;32m---> 19\u001b[0m         \u001b[38;5;28;01mraise\u001b[39;00m \u001b[38;5;167;01mStopIteration\u001b[39;00m\n\u001b[0;32m     21\u001b[0m     p \u001b[38;5;241m=\u001b[39m \u001b[38;5;28mself\u001b[39m\u001b[38;5;241m.\u001b[39m__participants[\u001b[38;5;28mself\u001b[39m\u001b[38;5;241m.\u001b[39m__index]\n\u001b[0;32m     23\u001b[0m     \u001b[38;5;28mself\u001b[39m\u001b[38;5;241m.\u001b[39m__index \u001b[38;5;241m+\u001b[39m\u001b[38;5;241m=\u001b[39m \u001b[38;5;241m1\u001b[39m\n",
      "\u001b[1;31mStopIteration\u001b[0m: "
     ]
    }
   ],
   "source": [
    "next(participants)"
   ]
  }
 ],
 "metadata": {
  "kernelspec": {
   "display_name": "Python 3 (ipykernel)",
   "language": "python",
   "name": "python3"
  },
  "language_info": {
   "codemirror_mode": {
    "name": "ipython",
    "version": 3
   },
   "file_extension": ".py",
   "mimetype": "text/x-python",
   "name": "python",
   "nbconvert_exporter": "python",
   "pygments_lexer": "ipython3",
   "version": "3.11.4"
  }
 },
 "nbformat": 4,
 "nbformat_minor": 5
}
