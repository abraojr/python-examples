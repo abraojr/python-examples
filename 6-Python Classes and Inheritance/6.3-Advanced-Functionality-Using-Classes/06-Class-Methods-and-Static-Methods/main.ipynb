{
 "cells": [
  {
   "cell_type": "code",
   "execution_count": 1,
   "id": "a11c79c1",
   "metadata": {},
   "outputs": [],
   "source": [
    "class Competition:\n",
    "    \n",
    "    __raise_amount = 1.04\n",
    "    \n",
    "    def __init__(self, name, prize):\n",
    "        self.__name = name\n",
    "        self.__prize = prize\n",
    "        \n",
    "    def raise_prize(self):\n",
    "        self.__prize *= self.__raise_amount\n",
    "        \n",
    "    def print_details(self):\n",
    "        print(\"Name: {}, prize: {}\".format(self.__name, self.__prize))\n",
    "        \n",
    "    @classmethod\n",
    "    def get_raise_amount(cls):\n",
    "        return cls.__raise_amount\n",
    "    \n",
    "    @classmethod\n",
    "    def set_raise_amount(cls, amount):\n",
    "        cls.__raise_amount = amount"
   ]
  },
  {
   "cell_type": "code",
   "execution_count": 2,
   "id": "7192b959",
   "metadata": {},
   "outputs": [],
   "source": [
    "sprint = Competition(\"Sprint\", 10000)"
   ]
  },
  {
   "cell_type": "code",
   "execution_count": 3,
   "id": "05d4cac1",
   "metadata": {},
   "outputs": [
    {
     "data": {
      "text/plain": [
       "1.04"
      ]
     },
     "execution_count": 3,
     "metadata": {},
     "output_type": "execute_result"
    }
   ],
   "source": [
    "Competition.get_raise_amount()"
   ]
  },
  {
   "cell_type": "code",
   "execution_count": 4,
   "id": "39028b1c",
   "metadata": {},
   "outputs": [
    {
     "data": {
      "text/plain": [
       "1.04"
      ]
     },
     "execution_count": 4,
     "metadata": {},
     "output_type": "execute_result"
    }
   ],
   "source": [
    "sprint.get_raise_amount()"
   ]
  },
  {
   "cell_type": "code",
   "execution_count": 5,
   "id": "691c0571",
   "metadata": {},
   "outputs": [],
   "source": [
    "sprint.set_raise_amount(1.06)"
   ]
  },
  {
   "cell_type": "code",
   "execution_count": 6,
   "id": "96a21676",
   "metadata": {},
   "outputs": [
    {
     "data": {
      "text/plain": [
       "1.06"
      ]
     },
     "execution_count": 6,
     "metadata": {},
     "output_type": "execute_result"
    }
   ],
   "source": [
    "sprint.get_raise_amount()"
   ]
  },
  {
   "cell_type": "code",
   "execution_count": 7,
   "id": "7dcc8869",
   "metadata": {},
   "outputs": [
    {
     "data": {
      "text/plain": [
       "1.06"
      ]
     },
     "execution_count": 7,
     "metadata": {},
     "output_type": "execute_result"
    }
   ],
   "source": [
    "Competition.get_raise_amount()"
   ]
  },
  {
   "cell_type": "code",
   "execution_count": 8,
   "id": "ac4cc587",
   "metadata": {},
   "outputs": [],
   "source": [
    "swimming_str = \"Swimming-8000\""
   ]
  },
  {
   "cell_type": "code",
   "execution_count": 9,
   "id": "782a29ce",
   "metadata": {},
   "outputs": [],
   "source": [
    "name, prize = swimming_str.split(\"-\")"
   ]
  },
  {
   "cell_type": "code",
   "execution_count": 10,
   "id": "f17a2930",
   "metadata": {},
   "outputs": [],
   "source": [
    "swimming = Competition(name, prize)"
   ]
  },
  {
   "cell_type": "code",
   "execution_count": 11,
   "id": "dcd90d43",
   "metadata": {},
   "outputs": [
    {
     "name": "stdout",
     "output_type": "stream",
     "text": [
      "Name: Swimming, prize: 8000\n"
     ]
    }
   ],
   "source": [
    "swimming.print_details()"
   ]
  },
  {
   "cell_type": "code",
   "execution_count": 12,
   "id": "7515260f",
   "metadata": {},
   "outputs": [],
   "source": [
    "class Competition:\n",
    "    \n",
    "    __raise_amount = 1.04\n",
    "    \n",
    "    def __init__(self, name, prize):\n",
    "        self.__name = name\n",
    "        self.__prize = prize\n",
    "        \n",
    "    def raise_prize(self):\n",
    "        self.__prize *= self.__raise_amount\n",
    "        \n",
    "    def print_details(self):\n",
    "        print(\"Name: {}, prize: {}\".format(self.__name, self.__prize))\n",
    "        \n",
    "    @classmethod\n",
    "    def get_raise_amount(cls):\n",
    "        return cls.__raise_amount\n",
    "    \n",
    "    @classmethod\n",
    "    def set_raise_amount(cls, amount):\n",
    "        cls.__raise_amount = amount\n",
    "        \n",
    "    @classmethod\n",
    "    def from_str(cls, competition_str):\n",
    "        name, prize = competition_str.split(\"-\")\n",
    "        \n",
    "        return cls(name, prize)"
   ]
  },
  {
   "cell_type": "code",
   "execution_count": 13,
   "id": "ec28c4ab",
   "metadata": {},
   "outputs": [],
   "source": [
    "archery_str = \"Archery-8000\""
   ]
  },
  {
   "cell_type": "code",
   "execution_count": 14,
   "id": "7b493f08",
   "metadata": {},
   "outputs": [],
   "source": [
    "archery = Competition.from_str(archery_str)"
   ]
  },
  {
   "cell_type": "code",
   "execution_count": 15,
   "id": "b0940c1f",
   "metadata": {},
   "outputs": [
    {
     "name": "stdout",
     "output_type": "stream",
     "text": [
      "Name: Archery, prize: 8000\n"
     ]
    }
   ],
   "source": [
    "archery.print_details()"
   ]
  },
  {
   "cell_type": "code",
   "execution_count": 16,
   "id": "5f42aea8",
   "metadata": {},
   "outputs": [],
   "source": [
    "class Rectangle:\n",
    "    \n",
    "    def area(x, y):\n",
    "        return x * y"
   ]
  },
  {
   "cell_type": "code",
   "execution_count": 17,
   "id": "30cef19e",
   "metadata": {},
   "outputs": [],
   "source": [
    "Rectangle.area = staticmethod(Rectangle.area)"
   ]
  },
  {
   "cell_type": "code",
   "execution_count": 18,
   "id": "bf444702",
   "metadata": {},
   "outputs": [
    {
     "name": "stdout",
     "output_type": "stream",
     "text": [
      "area of the rectangle is:  240\n"
     ]
    }
   ],
   "source": [
    "print(\"area of the rectangle is: \", Rectangle.area(15, 16))"
   ]
  },
  {
   "cell_type": "code",
   "execution_count": 19,
   "id": "406053d5",
   "metadata": {},
   "outputs": [],
   "source": [
    "class Rectangle:\n",
    "    \n",
    "    @staticmethod\n",
    "    def area(x, y):\n",
    "        return x * y"
   ]
  },
  {
   "cell_type": "code",
   "execution_count": 20,
   "id": "75d8640d",
   "metadata": {},
   "outputs": [
    {
     "name": "stdout",
     "output_type": "stream",
     "text": [
      "area of the rectangle is:  240\n"
     ]
    }
   ],
   "source": [
    "print(\"area of the rectangle is: \", Rectangle.area(15, 16))"
   ]
  }
 ],
 "metadata": {
  "kernelspec": {
   "display_name": "Python 3 (ipykernel)",
   "language": "python",
   "name": "python3"
  },
  "language_info": {
   "codemirror_mode": {
    "name": "ipython",
    "version": 3
   },
   "file_extension": ".py",
   "mimetype": "text/x-python",
   "name": "python",
   "nbconvert_exporter": "python",
   "pygments_lexer": "ipython3",
   "version": "3.11.4"
  }
 },
 "nbformat": 4,
 "nbformat_minor": 5
}
