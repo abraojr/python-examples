{
 "cells": [
  {
   "cell_type": "code",
   "execution_count": 1,
   "id": "96cc222d",
   "metadata": {},
   "outputs": [],
   "source": [
    "class Competition:\n",
    "    \n",
    "    def __init__(self, name, prize):\n",
    "        \n",
    "        self.name = name\n",
    "        self.prize = prize\n",
    "        self.participants = []"
   ]
  },
  {
   "cell_type": "code",
   "execution_count": 2,
   "id": "46956198",
   "metadata": {},
   "outputs": [
    {
     "data": {
      "text/plain": [
       "[]"
      ]
     },
     "execution_count": 2,
     "metadata": {},
     "output_type": "execute_result"
    }
   ],
   "source": [
    "debate = Competition(\"Debate\", 500)\n",
    "\n",
    "debate.participants"
   ]
  },
  {
   "cell_type": "code",
   "execution_count": 3,
   "id": "8980c4ed",
   "metadata": {},
   "outputs": [
    {
     "ename": "AttributeError",
     "evalue": "type object 'Competition' has no attribute 'participants'",
     "output_type": "error",
     "traceback": [
      "\u001b[1;31m---------------------------------------------------------------------------\u001b[0m",
      "\u001b[1;31mAttributeError\u001b[0m                            Traceback (most recent call last)",
      "Cell \u001b[1;32mIn[3], line 2\u001b[0m\n\u001b[0;32m      1\u001b[0m \u001b[38;5;66;03m# Will throw an error\u001b[39;00m\n\u001b[1;32m----> 2\u001b[0m \u001b[43mCompetition\u001b[49m\u001b[38;5;241;43m.\u001b[39;49m\u001b[43mparticipants\u001b[49m\n",
      "\u001b[1;31mAttributeError\u001b[0m: type object 'Competition' has no attribute 'participants'"
     ]
    }
   ],
   "source": [
    "# Will throw an error\n",
    "Competition.participants"
   ]
  },
  {
   "cell_type": "code",
   "execution_count": 4,
   "id": "eb25f5ff",
   "metadata": {},
   "outputs": [
    {
     "data": {
      "text/plain": [
       "['Alice']"
      ]
     },
     "execution_count": 4,
     "metadata": {},
     "output_type": "execute_result"
    }
   ],
   "source": [
    "debate.participants.append(\"Alice\")\n",
    "\n",
    "debate.participants"
   ]
  },
  {
   "cell_type": "code",
   "execution_count": 5,
   "id": "b8d919ad",
   "metadata": {},
   "outputs": [
    {
     "data": {
      "text/plain": [
       "[]"
      ]
     },
     "execution_count": 5,
     "metadata": {},
     "output_type": "execute_result"
    }
   ],
   "source": [
    "essay = Competition(\"Essay\", 456)\n",
    "\n",
    "essay.participants"
   ]
  },
  {
   "cell_type": "code",
   "execution_count": 6,
   "id": "2202559a",
   "metadata": {},
   "outputs": [
    {
     "data": {
      "text/plain": [
       "['Michael']"
      ]
     },
     "execution_count": 6,
     "metadata": {},
     "output_type": "execute_result"
    }
   ],
   "source": [
    "essay.participants.append(\"Michael\")\n",
    "\n",
    "essay.participants"
   ]
  },
  {
   "cell_type": "code",
   "execution_count": 7,
   "id": "297e4124",
   "metadata": {},
   "outputs": [
    {
     "data": {
      "text/plain": [
       "['Alice']"
      ]
     },
     "execution_count": 7,
     "metadata": {},
     "output_type": "execute_result"
    }
   ],
   "source": [
    "debate.participants"
   ]
  },
  {
   "cell_type": "code",
   "execution_count": 8,
   "id": "77ab4117",
   "metadata": {},
   "outputs": [
    {
     "data": {
      "text/plain": [
       "['Alice', 'Lily']"
      ]
     },
     "execution_count": 8,
     "metadata": {},
     "output_type": "execute_result"
    }
   ],
   "source": [
    "debate.participants.append(\"Lily\")\n",
    "\n",
    "debate.participants"
   ]
  },
  {
   "cell_type": "code",
   "execution_count": 9,
   "id": "04a0727c",
   "metadata": {},
   "outputs": [
    {
     "data": {
      "text/plain": [
       "['Michael']"
      ]
     },
     "execution_count": 9,
     "metadata": {},
     "output_type": "execute_result"
    }
   ],
   "source": [
    "essay.participants"
   ]
  },
  {
   "cell_type": "code",
   "execution_count": 10,
   "id": "921420be",
   "metadata": {},
   "outputs": [
    {
     "data": {
      "text/plain": [
       "mappingproxy({'__module__': '__main__',\n",
       "              '__init__': <function __main__.Competition.__init__(self, name, prize)>,\n",
       "              '__dict__': <attribute '__dict__' of 'Competition' objects>,\n",
       "              '__weakref__': <attribute '__weakref__' of 'Competition' objects>,\n",
       "              '__doc__': None})"
      ]
     },
     "execution_count": 10,
     "metadata": {},
     "output_type": "execute_result"
    }
   ],
   "source": [
    "Competition.__dict__"
   ]
  },
  {
   "cell_type": "code",
   "execution_count": 11,
   "id": "05391160",
   "metadata": {},
   "outputs": [
    {
     "data": {
      "text/plain": [
       "{'name': 'Debate', 'prize': 500, 'participants': ['Alice', 'Lily']}"
      ]
     },
     "execution_count": 11,
     "metadata": {},
     "output_type": "execute_result"
    }
   ],
   "source": [
    "debate.__dict__"
   ]
  },
  {
   "cell_type": "code",
   "execution_count": 12,
   "id": "e9c73c5d",
   "metadata": {},
   "outputs": [
    {
     "data": {
      "text/plain": [
       "{'name': 'Essay', 'prize': 456, 'participants': ['Michael']}"
      ]
     },
     "execution_count": 12,
     "metadata": {},
     "output_type": "execute_result"
    }
   ],
   "source": [
    "essay.__dict__"
   ]
  }
 ],
 "metadata": {
  "kernelspec": {
   "display_name": "Python 3 (ipykernel)",
   "language": "python",
   "name": "python3"
  },
  "language_info": {
   "codemirror_mode": {
    "name": "ipython",
    "version": 3
   },
   "file_extension": ".py",
   "mimetype": "text/x-python",
   "name": "python",
   "nbconvert_exporter": "python",
   "pygments_lexer": "ipython3",
   "version": "3.11.4"
  }
 },
 "nbformat": 4,
 "nbformat_minor": 5
}
