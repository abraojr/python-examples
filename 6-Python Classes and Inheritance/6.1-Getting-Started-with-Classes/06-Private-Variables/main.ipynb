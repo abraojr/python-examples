{
 "cells": [
  {
   "cell_type": "code",
   "execution_count": 1,
   "id": "b2ab162a",
   "metadata": {},
   "outputs": [],
   "source": [
    "class Dog:\n",
    "    \n",
    "    def __init__(self, name, breed):\n",
    "        \n",
    "        self.name = name\n",
    "        self.breed = breed\n",
    "        \n",
    "    def print_details(self):\n",
    "        \n",
    "        print(\"My name is %s and I am a %s\" % (self.name, self.breed))"
   ]
  },
  {
   "cell_type": "code",
   "execution_count": 2,
   "id": "35462fd4",
   "metadata": {},
   "outputs": [
    {
     "name": "stdout",
     "output_type": "stream",
     "text": [
      "My name is Oba and I am a Labrador\n"
     ]
    }
   ],
   "source": [
    "d1 = Dog(\"Oba\", \"Labrador\")\n",
    "\n",
    "d1.print_details()"
   ]
  },
  {
   "cell_type": "code",
   "execution_count": 3,
   "id": "3353d04e",
   "metadata": {},
   "outputs": [
    {
     "name": "stdout",
     "output_type": "stream",
     "text": [
      "My name is Nemo and I am a Labrador\n"
     ]
    }
   ],
   "source": [
    "d1.name = \"Nemo\"\n",
    "\n",
    "d1.print_details()"
   ]
  },
  {
   "cell_type": "code",
   "execution_count": 4,
   "id": "73fc4fe4",
   "metadata": {},
   "outputs": [
    {
     "name": "stdout",
     "output_type": "stream",
     "text": [
      "My name is Nemo and I am a Golden Retriever\n"
     ]
    }
   ],
   "source": [
    "d1.breed = \"Golden Retriever\"\n",
    "\n",
    "d1.print_details()"
   ]
  },
  {
   "cell_type": "code",
   "execution_count": 5,
   "id": "3533ed84",
   "metadata": {},
   "outputs": [
    {
     "data": {
      "text/plain": [
       "mappingproxy({'__module__': '__main__',\n",
       "              '__init__': <function __main__.Dog.__init__(self, name, breed)>,\n",
       "              'print_details': <function __main__.Dog.print_details(self)>,\n",
       "              '__dict__': <attribute '__dict__' of 'Dog' objects>,\n",
       "              '__weakref__': <attribute '__weakref__' of 'Dog' objects>,\n",
       "              '__doc__': None})"
      ]
     },
     "execution_count": 5,
     "metadata": {},
     "output_type": "execute_result"
    }
   ],
   "source": [
    "Dog.__dict__"
   ]
  },
  {
   "cell_type": "code",
   "execution_count": 6,
   "id": "f09a9fec",
   "metadata": {},
   "outputs": [
    {
     "data": {
      "text/plain": [
       "{'name': 'Nemo', 'breed': 'Golden Retriever'}"
      ]
     },
     "execution_count": 6,
     "metadata": {},
     "output_type": "execute_result"
    }
   ],
   "source": [
    "d1.__dict__"
   ]
  },
  {
   "cell_type": "code",
   "execution_count": 7,
   "id": "e946a092",
   "metadata": {},
   "outputs": [],
   "source": [
    "class Dog:\n",
    "    \n",
    "    def __init__(self, name, breed):\n",
    "        \n",
    "        self.__name = name\n",
    "        self.__breed = breed\n",
    "        \n",
    "    def print_details(self):\n",
    "        \n",
    "        print(\"My name is %s and I am a %s\" % (self.__name, self.__breed))"
   ]
  },
  {
   "cell_type": "code",
   "execution_count": 8,
   "id": "2248f27f",
   "metadata": {},
   "outputs": [
    {
     "name": "stdout",
     "output_type": "stream",
     "text": [
      "My name is Moje and I am a Golden Retriever\n"
     ]
    }
   ],
   "source": [
    "d1 = Dog(\"Moje\", \"Golden Retriever\")\n",
    "\n",
    "d1.print_details()"
   ]
  },
  {
   "cell_type": "code",
   "execution_count": 9,
   "id": "9610f134",
   "metadata": {},
   "outputs": [
    {
     "data": {
      "text/plain": [
       "{'_Dog__name': 'Moje', '_Dog__breed': 'Golden Retriever'}"
      ]
     },
     "execution_count": 9,
     "metadata": {},
     "output_type": "execute_result"
    }
   ],
   "source": [
    "d1.__dict__"
   ]
  },
  {
   "cell_type": "code",
   "execution_count": 10,
   "id": "deae0aef",
   "metadata": {},
   "outputs": [
    {
     "name": "stdout",
     "output_type": "stream",
     "text": [
      "My name is Moje and I am a Golden Retriever\n"
     ]
    }
   ],
   "source": [
    "d1.__name = \"Oba\"\n",
    "\n",
    "d1.print_details()"
   ]
  },
  {
   "cell_type": "code",
   "execution_count": 11,
   "id": "becaf2e3",
   "metadata": {},
   "outputs": [
    {
     "data": {
      "text/plain": [
       "{'_Dog__name': 'Moje', '_Dog__breed': 'Golden Retriever', '__name': 'Oba'}"
      ]
     },
     "execution_count": 11,
     "metadata": {},
     "output_type": "execute_result"
    }
   ],
   "source": [
    "d1.__dict__"
   ]
  },
  {
   "cell_type": "code",
   "execution_count": 12,
   "id": "9486ffcd",
   "metadata": {},
   "outputs": [
    {
     "name": "stdout",
     "output_type": "stream",
     "text": [
      "My name is Moje and I am a Husky\n"
     ]
    }
   ],
   "source": [
    "d1._Dog__breed = \"Husky\"\n",
    "\n",
    "d1.print_details()"
   ]
  },
  {
   "cell_type": "code",
   "execution_count": 13,
   "id": "d0dde643",
   "metadata": {},
   "outputs": [],
   "source": [
    "class Dog:\n",
    "    \n",
    "    def __init__(self, name, breed):\n",
    "        \n",
    "        self.__name = name\n",
    "        self.__breed = breed\n",
    "        \n",
    "    def print_details(self):\n",
    "        print(\"My name is %s and I am a %s\" % (self.__name, self.__breed))\n",
    "        \n",
    "    def change_name(self, name):\n",
    "        self.__name = name"
   ]
  },
  {
   "cell_type": "code",
   "execution_count": 14,
   "id": "d03c55e0",
   "metadata": {},
   "outputs": [
    {
     "name": "stdout",
     "output_type": "stream",
     "text": [
      "My name is Nemo and I am a Husky\n"
     ]
    }
   ],
   "source": [
    "d1 = Dog(\"Nemo\", \"Husky\")\n",
    "\n",
    "d1.print_details()"
   ]
  },
  {
   "cell_type": "code",
   "execution_count": 15,
   "id": "7764d04c",
   "metadata": {},
   "outputs": [
    {
     "name": "stdout",
     "output_type": "stream",
     "text": [
      "My name is Oba and I am a Husky\n"
     ]
    }
   ],
   "source": [
    "d1.change_name(\"Oba\")\n",
    "\n",
    "d1.print_details()"
   ]
  },
  {
   "cell_type": "code",
   "execution_count": 16,
   "id": "783cba89",
   "metadata": {},
   "outputs": [],
   "source": [
    "class Dog:\n",
    "    \n",
    "    __species = \"canine\"\n",
    "    \n",
    "    def __init__(self, name, breed):\n",
    "        \n",
    "        self.__name = name\n",
    "        self.__breed = breed\n",
    "        self.__tricks = []\n",
    "        \n",
    "    \n",
    "    def get_name(self):\n",
    "        return self.__name\n",
    "    \n",
    "    def set_name(self, name):\n",
    "        self.__name = name\n",
    "        \n",
    "    def get_breed(self):\n",
    "        return self.__breed\n",
    "    \n",
    "    def set_breed(self, breed):\n",
    "        self.__breed = breed\n",
    "        \n",
    "    def add_trick(self, trick):\n",
    "        self.__tricks.append(trick)\n",
    "        \n",
    "    def print_details(self):\n",
    "        print(\"My name is %s and I am a %s and I can do tricks: %s\" % (self.__name, self.__breed, self.__tricks))"
   ]
  },
  {
   "cell_type": "code",
   "execution_count": 17,
   "id": "e54206c7",
   "metadata": {},
   "outputs": [
    {
     "name": "stdout",
     "output_type": "stream",
     "text": [
      "My name is Moje and I am a Golden Retriever and I can do tricks: []\n"
     ]
    }
   ],
   "source": [
    "d1 = Dog(\"Moje\", \"Golden Retriever\")\n",
    "\n",
    "d1.print_details()"
   ]
  },
  {
   "cell_type": "code",
   "execution_count": 18,
   "id": "813bf94b",
   "metadata": {},
   "outputs": [
    {
     "name": "stdout",
     "output_type": "stream",
     "text": [
      "My name is Moje and I am a Golden Retriever and I can do tricks: ['roll over']\n"
     ]
    }
   ],
   "source": [
    "d1.add_trick(\"roll over\")\n",
    "\n",
    "d1.print_details()"
   ]
  },
  {
   "cell_type": "code",
   "execution_count": 19,
   "id": "2e8926e2",
   "metadata": {},
   "outputs": [
    {
     "name": "stdout",
     "output_type": "stream",
     "text": [
      "My name is Moje and I am a Labrador and I can do tricks: ['roll over']\n"
     ]
    }
   ],
   "source": [
    "d1.set_breed(\"Labrador\")\n",
    "\n",
    "d1.print_details()"
   ]
  },
  {
   "cell_type": "code",
   "execution_count": 20,
   "id": "3477c8ff",
   "metadata": {},
   "outputs": [],
   "source": [
    "class Dog:\n",
    "    \"\"\" This is a class which defines a dog.\n",
    "        This includes cute dogs as well as ferocious dogs.\n",
    "    \"\"\"\n",
    "    \n",
    "    __species = \"canine\"\n",
    "    \n",
    "    def __init__(self, name, breed):\n",
    "        self.__name = name\n",
    "        self.__breed = breed\n",
    "        self.__tricks = []\n",
    "        \n",
    "    \n",
    "    \n",
    "    def print_details(self):\n",
    "        print(\"My name is %s and I am a %s\" % (self.__name, self.__breed))\n",
    "        print(\"Here are the tricks I can do: \", self.__tricks)\n",
    "\n",
    "    def change_name(self, name):\n",
    "        self.__name = name\n",
    "    \n",
    "    def change_breed(self, breed):\n",
    "        self.__breed = breed\n",
    "        \n",
    "    def change_name_and_breed(self, name, breed):\n",
    "        self.change_name(name)\n",
    "        self.change_breed(breed)\n",
    "        \n",
    "    def add_trick(self, trick):\n",
    "        self.__tricks.append(trick)"
   ]
  },
  {
   "cell_type": "code",
   "execution_count": 21,
   "id": "6f88afab",
   "metadata": {},
   "outputs": [
    {
     "name": "stdout",
     "output_type": "stream",
     "text": [
      "My name is Moje and I am a Golden Retriever\n",
      "Here are the tricks I can do:  []\n"
     ]
    }
   ],
   "source": [
    "d1 = Dog(\"Moje\", \"Golden Retriever\")\n",
    "\n",
    "d1.print_details()"
   ]
  },
  {
   "cell_type": "code",
   "execution_count": 22,
   "id": "f354a5bc",
   "metadata": {},
   "outputs": [
    {
     "name": "stdout",
     "output_type": "stream",
     "text": [
      "My name is Oba and I am a Labrador\n",
      "Here are the tricks I can do:  []\n"
     ]
    }
   ],
   "source": [
    "d1.change_name_and_breed(\"Oba\", \"Labrador\")\n",
    "\n",
    "d1.print_details()"
   ]
  }
 ],
 "metadata": {
  "kernelspec": {
   "display_name": "Python 3 (ipykernel)",
   "language": "python",
   "name": "python3"
  },
  "language_info": {
   "codemirror_mode": {
    "name": "ipython",
    "version": 3
   },
   "file_extension": ".py",
   "mimetype": "text/x-python",
   "name": "python",
   "nbconvert_exporter": "python",
   "pygments_lexer": "ipython3",
   "version": "3.11.4"
  }
 },
 "nbformat": 4,
 "nbformat_minor": 5
}
