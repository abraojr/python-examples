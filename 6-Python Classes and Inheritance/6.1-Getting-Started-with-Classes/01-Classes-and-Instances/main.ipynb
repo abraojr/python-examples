{
 "cells": [
  {
   "cell_type": "code",
   "execution_count": 1,
   "id": "b5affd0d",
   "metadata": {},
   "outputs": [],
   "source": [
    "class Student:\n",
    "    pass"
   ]
  },
  {
   "cell_type": "code",
   "execution_count": 2,
   "id": "3921af4b",
   "metadata": {},
   "outputs": [
    {
     "data": {
      "text/plain": [
       "type"
      ]
     },
     "execution_count": 2,
     "metadata": {},
     "output_type": "execute_result"
    }
   ],
   "source": [
    "type(Student)"
   ]
  },
  {
   "cell_type": "code",
   "execution_count": 3,
   "id": "fc493df4",
   "metadata": {},
   "outputs": [],
   "source": [
    "object_1 = Student()"
   ]
  },
  {
   "cell_type": "code",
   "execution_count": 4,
   "id": "448dbc9c",
   "metadata": {},
   "outputs": [],
   "source": [
    "object_2 = Student()"
   ]
  },
  {
   "cell_type": "code",
   "execution_count": 5,
   "id": "df511877",
   "metadata": {},
   "outputs": [
    {
     "data": {
      "text/plain": [
       "<__main__.Student at 0x260bba3d350>"
      ]
     },
     "execution_count": 5,
     "metadata": {},
     "output_type": "execute_result"
    }
   ],
   "source": [
    "object_1"
   ]
  },
  {
   "cell_type": "code",
   "execution_count": 6,
   "id": "db2953da",
   "metadata": {},
   "outputs": [
    {
     "data": {
      "text/plain": [
       "<__main__.Student at 0x260bba3e590>"
      ]
     },
     "execution_count": 6,
     "metadata": {},
     "output_type": "execute_result"
    }
   ],
   "source": [
    "object_2"
   ]
  },
  {
   "cell_type": "code",
   "execution_count": 7,
   "id": "fe944e74",
   "metadata": {},
   "outputs": [
    {
     "data": {
      "text/plain": [
       "True"
      ]
     },
     "execution_count": 7,
     "metadata": {},
     "output_type": "execute_result"
    }
   ],
   "source": [
    "isinstance(object_1, Student)"
   ]
  },
  {
   "cell_type": "code",
   "execution_count": 8,
   "id": "dcdf4b76",
   "metadata": {},
   "outputs": [
    {
     "data": {
      "text/plain": [
       "True"
      ]
     },
     "execution_count": 8,
     "metadata": {},
     "output_type": "execute_result"
    }
   ],
   "source": [
    "isinstance(object_2, Student)"
   ]
  },
  {
   "cell_type": "code",
   "execution_count": null,
   "id": "bf09ee6f",
   "metadata": {},
   "outputs": [],
   "source": [
    "# Will throw an error\n",
    "isinstance(object_3, Student)"
   ]
  },
  {
   "cell_type": "code",
   "execution_count": 10,
   "id": "e8b38a68",
   "metadata": {},
   "outputs": [
    {
     "data": {
      "text/plain": [
       "False"
      ]
     },
     "execution_count": 10,
     "metadata": {},
     "output_type": "execute_result"
    }
   ],
   "source": [
    "object_3 = {}\n",
    "\n",
    "isinstance(object_3, Student)"
   ]
  },
  {
   "cell_type": "code",
   "execution_count": 11,
   "id": "fb3bcdf5",
   "metadata": {},
   "outputs": [],
   "source": [
    "object_1.name = \"Michel\"\n",
    "\n",
    "object_1.email = \"Michel@xyz.com\""
   ]
  },
  {
   "cell_type": "code",
   "execution_count": 12,
   "id": "55ef2549",
   "metadata": {},
   "outputs": [
    {
     "data": {
      "text/plain": [
       "'Michel'"
      ]
     },
     "execution_count": 12,
     "metadata": {},
     "output_type": "execute_result"
    }
   ],
   "source": [
    "object_1.name"
   ]
  },
  {
   "cell_type": "code",
   "execution_count": 13,
   "id": "a19bec25",
   "metadata": {},
   "outputs": [
    {
     "data": {
      "text/plain": [
       "'Michel@xyz.com'"
      ]
     },
     "execution_count": 13,
     "metadata": {},
     "output_type": "execute_result"
    }
   ],
   "source": [
    "object_1.email"
   ]
  },
  {
   "cell_type": "code",
   "execution_count": null,
   "id": "d4d04764",
   "metadata": {},
   "outputs": [],
   "source": [
    "# Will throw an error\n",
    "object_1.school"
   ]
  },
  {
   "cell_type": "code",
   "execution_count": 15,
   "id": "dfaf868e",
   "metadata": {},
   "outputs": [],
   "source": [
    "object_2.name = \"Chad\"\n",
    "\n",
    "object_2.email = \"Chad@xyz.com\""
   ]
  },
  {
   "cell_type": "code",
   "execution_count": 16,
   "id": "3d69e067",
   "metadata": {},
   "outputs": [
    {
     "data": {
      "text/plain": [
       "'Chad'"
      ]
     },
     "execution_count": 16,
     "metadata": {},
     "output_type": "execute_result"
    }
   ],
   "source": [
    "object_2.name"
   ]
  },
  {
   "cell_type": "code",
   "execution_count": 17,
   "id": "fb58cda8",
   "metadata": {},
   "outputs": [
    {
     "data": {
      "text/plain": [
       "'Chad@xyz.com'"
      ]
     },
     "execution_count": 17,
     "metadata": {},
     "output_type": "execute_result"
    }
   ],
   "source": [
    "object_2.email"
   ]
  },
  {
   "cell_type": "code",
   "execution_count": null,
   "id": "3aad7847",
   "metadata": {},
   "outputs": [],
   "source": [
    "# Will throw an error\n",
    "object_2.school"
   ]
  },
  {
   "cell_type": "code",
   "execution_count": null,
   "id": "caf93a83",
   "metadata": {},
   "outputs": [],
   "source": [
    "object_3 = Student()\n",
    "\n",
    "# Will throw an error\n",
    "object_3.name"
   ]
  },
  {
   "cell_type": "code",
   "execution_count": 20,
   "id": "c252819b",
   "metadata": {},
   "outputs": [],
   "source": [
    "class Student:\n",
    "    \n",
    "    name = \"\"\n",
    "    score = 0\n",
    "    active = True"
   ]
  },
  {
   "cell_type": "code",
   "execution_count": 21,
   "id": "7ceca65c",
   "metadata": {},
   "outputs": [],
   "source": [
    "s1 = Student()"
   ]
  },
  {
   "cell_type": "code",
   "execution_count": 22,
   "id": "61d51142",
   "metadata": {},
   "outputs": [
    {
     "data": {
      "text/plain": [
       "('', 0, True)"
      ]
     },
     "execution_count": 22,
     "metadata": {},
     "output_type": "execute_result"
    }
   ],
   "source": [
    "s1.name, s1.score, s1.active"
   ]
  },
  {
   "cell_type": "code",
   "execution_count": 23,
   "id": "87e6e416",
   "metadata": {},
   "outputs": [
    {
     "data": {
      "text/plain": [
       "('John', 50, True)"
      ]
     },
     "execution_count": 23,
     "metadata": {},
     "output_type": "execute_result"
    }
   ],
   "source": [
    "s1.name = \"John\"\n",
    "\n",
    "s1.score = 50\n",
    "\n",
    "s1.name, s1.score, s1.active"
   ]
  },
  {
   "cell_type": "code",
   "execution_count": 24,
   "id": "1d5cef28",
   "metadata": {},
   "outputs": [],
   "source": [
    "s2 = Student()"
   ]
  },
  {
   "cell_type": "code",
   "execution_count": 25,
   "id": "cb66d3d2",
   "metadata": {},
   "outputs": [
    {
     "data": {
      "text/plain": [
       "('', 0, True)"
      ]
     },
     "execution_count": 25,
     "metadata": {},
     "output_type": "execute_result"
    }
   ],
   "source": [
    "s2.name, s2.score, s2.active"
   ]
  },
  {
   "cell_type": "code",
   "execution_count": 26,
   "id": "80896be1",
   "metadata": {},
   "outputs": [],
   "source": [
    "s2.name = \"Lily\""
   ]
  },
  {
   "cell_type": "code",
   "execution_count": 27,
   "id": "c5f78673",
   "metadata": {},
   "outputs": [
    {
     "data": {
      "text/plain": [
       "('Lily', 0, True)"
      ]
     },
     "execution_count": 27,
     "metadata": {},
     "output_type": "execute_result"
    }
   ],
   "source": [
    "s2.name, s2.score, s2.active"
   ]
  },
  {
   "cell_type": "code",
   "execution_count": 28,
   "id": "c0edc5c3",
   "metadata": {},
   "outputs": [],
   "source": [
    "s2.active = False"
   ]
  },
  {
   "cell_type": "code",
   "execution_count": 29,
   "id": "46f43121",
   "metadata": {},
   "outputs": [
    {
     "data": {
      "text/plain": [
       "('Lily', 0, False)"
      ]
     },
     "execution_count": 29,
     "metadata": {},
     "output_type": "execute_result"
    }
   ],
   "source": [
    "s2.name, s2.score, s2.active"
   ]
  },
  {
   "cell_type": "code",
   "execution_count": 30,
   "id": "044261a2",
   "metadata": {},
   "outputs": [
    {
     "data": {
      "text/plain": [
       "('John', 50, True)"
      ]
     },
     "execution_count": 30,
     "metadata": {},
     "output_type": "execute_result"
    }
   ],
   "source": [
    "s1.name, s1.score, s1.active"
   ]
  }
 ],
 "metadata": {
  "kernelspec": {
   "display_name": "Python 3 (ipykernel)",
   "language": "python",
   "name": "python3"
  },
  "language_info": {
   "codemirror_mode": {
    "name": "ipython",
    "version": 3
   },
   "file_extension": ".py",
   "mimetype": "text/x-python",
   "name": "python",
   "nbconvert_exporter": "python",
   "pygments_lexer": "ipython3",
   "version": "3.11.4"
  }
 },
 "nbformat": 4,
 "nbformat_minor": 5
}
