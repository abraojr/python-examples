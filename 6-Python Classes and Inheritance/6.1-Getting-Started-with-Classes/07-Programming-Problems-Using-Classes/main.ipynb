{
 "cells": [
  {
   "cell_type": "code",
   "execution_count": 1,
   "id": "f67c1b2c",
   "metadata": {},
   "outputs": [],
   "source": [
    "class Student:\n",
    "    \n",
    "    def __init__(self, name, gpa):\n",
    "        self.__name = name\n",
    "        self.__gpa = gpa\n",
    "        self.__clubs = set()\n",
    "        self.__active = True\n",
    "        \n",
    "    def set_name(self, name):\n",
    "        self.__name = name\n",
    "        \n",
    "    def set_gpa(self, gpa):\n",
    "        self.__gpa = gpa\n",
    "        \n",
    "    def add_club(self, club):\n",
    "        self.__clubs.add(club)\n",
    "        \n",
    "    def remove_club(self, club):\n",
    "        self.__clubs.remove(club)\n",
    "        \n",
    "    def set_active(self, active):\n",
    "        self.__active = True\n",
    "        \n",
    "    def print_details(self):\n",
    "        print(\"Student: \", self.__name)\n",
    "        print(self.__gpa, self.__clubs, self.__active)"
   ]
  },
  {
   "cell_type": "code",
   "execution_count": 2,
   "id": "c7288c0c",
   "metadata": {},
   "outputs": [],
   "source": [
    "s = Student(\"James\", 3.8)"
   ]
  },
  {
   "cell_type": "code",
   "execution_count": 3,
   "id": "5e049664",
   "metadata": {},
   "outputs": [],
   "source": [
    "s.add_club(\"Yoga\")"
   ]
  },
  {
   "cell_type": "code",
   "execution_count": 4,
   "id": "97142267",
   "metadata": {},
   "outputs": [
    {
     "name": "stdout",
     "output_type": "stream",
     "text": [
      "Student:  James\n",
      "3.8 {'Yoga'} True\n"
     ]
    }
   ],
   "source": [
    "s.print_details()"
   ]
  },
  {
   "cell_type": "code",
   "execution_count": 5,
   "id": "e40f7c03",
   "metadata": {},
   "outputs": [
    {
     "name": "stdout",
     "output_type": "stream",
     "text": [
      "Student:  James\n",
      "3.8 {'yoga', 'Yoga'} True\n"
     ]
    }
   ],
   "source": [
    "s.add_club(\"yoga\")\n",
    "\n",
    "s.print_details()"
   ]
  },
  {
   "cell_type": "code",
   "execution_count": 6,
   "id": "48fb9660",
   "metadata": {},
   "outputs": [
    {
     "name": "stdout",
     "output_type": "stream",
     "text": [
      "Student:  James\n",
      "3.8 {'yoga', 'Yoga'} True\n"
     ]
    }
   ],
   "source": [
    "s.add_club(\"yoga\")\n",
    "\n",
    "s.print_details()"
   ]
  },
  {
   "cell_type": "code",
   "execution_count": 7,
   "id": "4df81af1",
   "metadata": {},
   "outputs": [
    {
     "name": "stdout",
     "output_type": "stream",
     "text": [
      "Student:  James\n",
      "3.9 {'yoga', 'Yoga'} True\n"
     ]
    }
   ],
   "source": [
    "s.set_gpa(3.9)\n",
    "\n",
    "s.print_details()"
   ]
  },
  {
   "cell_type": "code",
   "execution_count": 8,
   "id": "53da5615",
   "metadata": {},
   "outputs": [],
   "source": [
    "student_details_list = [\n",
    "    {\"name\" : \"Nina\", \"gpa\" : 3.6, \"clubs\" : [\"tennis\", \"chess\"]},\n",
    "    {\"name\" : \"Emily\", \"gpa\" : 3.9, \"clubs\" : [\"tennis\"], \"active\" : False},\n",
    "    {\"name\" : \"Michael\", \"gpa\" : 3.2, \"clubs\" : [\"football\", \"chess\"]},\n",
    "    {\"name\" : \"Joe\", \"gpa\" : 3.9, \"is_honors_student\" : True}\n",
    "]"
   ]
  },
  {
   "cell_type": "code",
   "execution_count": 9,
   "id": "3e322007",
   "metadata": {},
   "outputs": [],
   "source": [
    "def get_students(student_details_list):\n",
    "    student_list = []\n",
    "    \n",
    "    for student_details in student_details_list:\n",
    "        \n",
    "        if \"name\" not in student_details or \"gpa\" not in student_details:\n",
    "            continue\n",
    "            \n",
    "        s = Student(student_details[\"name\"], student_details[\"gpa\"])\n",
    "        \n",
    "        if \"clubs\" in student_details:\n",
    "            for club in student_details[\"clubs\"]:\n",
    "                s.add_club(club)\n",
    "                \n",
    "        if \"active\" in student_details:\n",
    "            s.set_active(student_details[\"active\"])\n",
    "            \n",
    "        student_list.append(s)\n",
    "        \n",
    "    return student_list"
   ]
  },
  {
   "cell_type": "code",
   "execution_count": 10,
   "id": "d22c5117",
   "metadata": {},
   "outputs": [
    {
     "data": {
      "text/plain": [
       "[<__main__.Student at 0x282a59b0290>,\n",
       " <__main__.Student at 0x282a55d8bd0>,\n",
       " <__main__.Student at 0x282a59b2950>,\n",
       " <__main__.Student at 0x282a59b3c90>]"
      ]
     },
     "execution_count": 10,
     "metadata": {},
     "output_type": "execute_result"
    }
   ],
   "source": [
    "students = get_students(student_details_list)\n",
    "\n",
    "students"
   ]
  },
  {
   "cell_type": "code",
   "execution_count": 11,
   "id": "797bfdb6",
   "metadata": {},
   "outputs": [
    {
     "name": "stdout",
     "output_type": "stream",
     "text": [
      "Student:  Nina\n",
      "3.6 {'tennis', 'chess'} True\n",
      "Student:  Emily\n",
      "3.9 {'tennis'} True\n",
      "Student:  Michael\n",
      "3.2 {'football', 'chess'} True\n",
      "Student:  Joe\n",
      "3.9 set() True\n"
     ]
    }
   ],
   "source": [
    "for student in students:\n",
    "    student.print_details()"
   ]
  },
  {
   "cell_type": "code",
   "execution_count": 12,
   "id": "17bfbff2",
   "metadata": {},
   "outputs": [],
   "source": [
    "import math\n",
    "\n",
    "class Circle:\n",
    "    \n",
    "    def __init__(self, radius):\n",
    "        self.__radius = radius\n",
    "        \n",
    "    def get_area(self):\n",
    "        return math.pi * self.__radius * self.__radius \n",
    "    \n",
    "    def get_perimeter(self):\n",
    "        return 2 * math.pi * self.__radius"
   ]
  },
  {
   "cell_type": "code",
   "execution_count": 13,
   "id": "dc120471",
   "metadata": {},
   "outputs": [],
   "source": [
    "c = Circle(12)"
   ]
  },
  {
   "cell_type": "code",
   "execution_count": 14,
   "id": "91559a71",
   "metadata": {},
   "outputs": [
    {
     "data": {
      "text/plain": [
       "(452.3893421169302, 75.39822368615503)"
      ]
     },
     "execution_count": 14,
     "metadata": {},
     "output_type": "execute_result"
    }
   ],
   "source": [
    "c.get_area(), c.get_perimeter()"
   ]
  }
 ],
 "metadata": {
  "kernelspec": {
   "display_name": "Python 3 (ipykernel)",
   "language": "python",
   "name": "python3"
  },
  "language_info": {
   "codemirror_mode": {
    "name": "ipython",
    "version": 3
   },
   "file_extension": ".py",
   "mimetype": "text/x-python",
   "name": "python",
   "nbconvert_exporter": "python",
   "pygments_lexer": "ipython3",
   "version": "3.11.4"
  }
 },
 "nbformat": 4,
 "nbformat_minor": 5
}
