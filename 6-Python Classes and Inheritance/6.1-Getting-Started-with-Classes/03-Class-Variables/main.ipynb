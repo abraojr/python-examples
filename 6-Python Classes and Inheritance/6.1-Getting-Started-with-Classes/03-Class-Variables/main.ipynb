{
 "cells": [
  {
   "cell_type": "code",
   "execution_count": 1,
   "id": "d5c4d7c2",
   "metadata": {},
   "outputs": [],
   "source": [
    "class Competition:\n",
    "    \n",
    "    raise_amount = 1.04\n",
    "    \n",
    "    def __init__(self, name, prize):\n",
    "        self.name = name\n",
    "        self.prize = prize\n",
    "        \n",
    "    def raise_prize(self):\n",
    "        self.prize = self.prize * raise_amount"
   ]
  },
  {
   "cell_type": "code",
   "execution_count": 2,
   "id": "0f63495f",
   "metadata": {},
   "outputs": [
    {
     "name": "stdout",
     "output_type": "stream",
     "text": [
      "1.04\n"
     ]
    }
   ],
   "source": [
    "debate = Competition(\"Debate\", 500)\n",
    "\n",
    "print(debate.raise_amount)"
   ]
  },
  {
   "cell_type": "code",
   "execution_count": 3,
   "id": "bc1a92a5",
   "metadata": {},
   "outputs": [
    {
     "data": {
      "text/plain": [
       "1.04"
      ]
     },
     "execution_count": 3,
     "metadata": {},
     "output_type": "execute_result"
    }
   ],
   "source": [
    "Competition.raise_amount"
   ]
  },
  {
   "cell_type": "code",
   "execution_count": 4,
   "id": "d06060a1",
   "metadata": {},
   "outputs": [
    {
     "ename": "NameError",
     "evalue": "name 'raise_amount' is not defined",
     "output_type": "error",
     "traceback": [
      "\u001b[1;31m---------------------------------------------------------------------------\u001b[0m",
      "\u001b[1;31mNameError\u001b[0m                                 Traceback (most recent call last)",
      "Cell \u001b[1;32mIn[4], line 2\u001b[0m\n\u001b[0;32m      1\u001b[0m \u001b[38;5;66;03m# Will throw an error\u001b[39;00m\n\u001b[1;32m----> 2\u001b[0m \u001b[43mdebate\u001b[49m\u001b[38;5;241;43m.\u001b[39;49m\u001b[43mraise_prize\u001b[49m\u001b[43m(\u001b[49m\u001b[43m)\u001b[49m\n",
      "Cell \u001b[1;32mIn[1], line 10\u001b[0m, in \u001b[0;36mCompetition.raise_prize\u001b[1;34m(self)\u001b[0m\n\u001b[0;32m      9\u001b[0m \u001b[38;5;28;01mdef\u001b[39;00m \u001b[38;5;21mraise_prize\u001b[39m(\u001b[38;5;28mself\u001b[39m):\n\u001b[1;32m---> 10\u001b[0m     \u001b[38;5;28mself\u001b[39m\u001b[38;5;241m.\u001b[39mprize \u001b[38;5;241m=\u001b[39m \u001b[38;5;28mself\u001b[39m\u001b[38;5;241m.\u001b[39mprize \u001b[38;5;241m*\u001b[39m \u001b[43mraise_amount\u001b[49m\n",
      "\u001b[1;31mNameError\u001b[0m: name 'raise_amount' is not defined"
     ]
    }
   ],
   "source": [
    "# Will throw an error\n",
    "debate.raise_prize()"
   ]
  },
  {
   "cell_type": "code",
   "execution_count": 5,
   "id": "1ad49ef4",
   "metadata": {},
   "outputs": [],
   "source": [
    "class Competition:\n",
    "    \n",
    "    raise_amount = 1.04\n",
    "    \n",
    "    def __init__(self, name, prize):\n",
    "        self.name = name\n",
    "        self.prize = prize\n",
    "        \n",
    "    def raise_prize(self):\n",
    "        self.prize = self.prize * Competition.raise_amount"
   ]
  },
  {
   "cell_type": "code",
   "execution_count": 6,
   "id": "a1577cd6",
   "metadata": {},
   "outputs": [],
   "source": [
    "essay = Competition(\"Essay\", 500)"
   ]
  },
  {
   "cell_type": "code",
   "execution_count": 7,
   "id": "405a3cdd",
   "metadata": {},
   "outputs": [
    {
     "data": {
      "text/plain": [
       "500"
      ]
     },
     "execution_count": 7,
     "metadata": {},
     "output_type": "execute_result"
    }
   ],
   "source": [
    "essay.prize"
   ]
  },
  {
   "cell_type": "code",
   "execution_count": 8,
   "id": "76bcc5b9",
   "metadata": {},
   "outputs": [
    {
     "data": {
      "text/plain": [
       "520.0"
      ]
     },
     "execution_count": 8,
     "metadata": {},
     "output_type": "execute_result"
    }
   ],
   "source": [
    "essay.raise_prize()\n",
    "\n",
    "essay.prize"
   ]
  },
  {
   "cell_type": "code",
   "execution_count": 9,
   "id": "e2b0caf8",
   "metadata": {},
   "outputs": [],
   "source": [
    "class Competition:\n",
    "    \n",
    "    raise_amount = 1.04\n",
    "    \n",
    "    def __init__(self, name, prize):\n",
    "        self.name = name\n",
    "        self.prize = prize\n",
    "        \n",
    "    def raise_prize(self):\n",
    "        self.prize = int(self.prize) * self.raise_amount"
   ]
  },
  {
   "cell_type": "code",
   "execution_count": 10,
   "id": "383cb17b",
   "metadata": {},
   "outputs": [],
   "source": [
    "simulation = Competition(\"Simulation\", 100)"
   ]
  },
  {
   "cell_type": "code",
   "execution_count": 11,
   "id": "3589daa0",
   "metadata": {},
   "outputs": [
    {
     "data": {
      "text/plain": [
       "100"
      ]
     },
     "execution_count": 11,
     "metadata": {},
     "output_type": "execute_result"
    }
   ],
   "source": [
    "simulation.prize"
   ]
  },
  {
   "cell_type": "code",
   "execution_count": 12,
   "id": "4caba800",
   "metadata": {},
   "outputs": [
    {
     "data": {
      "text/plain": [
       "104.0"
      ]
     },
     "execution_count": 12,
     "metadata": {},
     "output_type": "execute_result"
    }
   ],
   "source": [
    "simulation.raise_prize()\n",
    "\n",
    "simulation.prize"
   ]
  },
  {
   "cell_type": "code",
   "execution_count": 13,
   "id": "bcb8fbc7",
   "metadata": {},
   "outputs": [
    {
     "data": {
      "text/plain": [
       "1.04"
      ]
     },
     "execution_count": 13,
     "metadata": {},
     "output_type": "execute_result"
    }
   ],
   "source": [
    "simulation.raise_amount"
   ]
  },
  {
   "cell_type": "code",
   "execution_count": 14,
   "id": "4c34f0b5",
   "metadata": {},
   "outputs": [
    {
     "data": {
      "text/plain": [
       "{'name': 'Simulation', 'prize': 104.0}"
      ]
     },
     "execution_count": 14,
     "metadata": {},
     "output_type": "execute_result"
    }
   ],
   "source": [
    "simulation.__dict__"
   ]
  },
  {
   "cell_type": "code",
   "execution_count": 15,
   "id": "9cb0e490",
   "metadata": {},
   "outputs": [
    {
     "data": {
      "text/plain": [
       "mappingproxy({'__module__': '__main__',\n",
       "              'raise_amount': 1.04,\n",
       "              '__init__': <function __main__.Competition.__init__(self, name, prize)>,\n",
       "              'raise_prize': <function __main__.Competition.raise_prize(self)>,\n",
       "              '__dict__': <attribute '__dict__' of 'Competition' objects>,\n",
       "              '__weakref__': <attribute '__weakref__' of 'Competition' objects>,\n",
       "              '__doc__': None})"
      ]
     },
     "execution_count": 15,
     "metadata": {},
     "output_type": "execute_result"
    }
   ],
   "source": [
    "Competition.__dict__"
   ]
  },
  {
   "cell_type": "code",
   "execution_count": 16,
   "id": "f2a98cdc",
   "metadata": {},
   "outputs": [
    {
     "data": {
      "text/plain": [
       "1.04"
      ]
     },
     "execution_count": 16,
     "metadata": {},
     "output_type": "execute_result"
    }
   ],
   "source": [
    "racing = Competition(\"Racing\", 1000)\n",
    "\n",
    "racing.raise_amount"
   ]
  },
  {
   "cell_type": "code",
   "execution_count": 17,
   "id": "d3cf0da4",
   "metadata": {},
   "outputs": [],
   "source": [
    "Competition.raise_amount = 1.05"
   ]
  },
  {
   "cell_type": "code",
   "execution_count": 18,
   "id": "0206f52b",
   "metadata": {},
   "outputs": [
    {
     "data": {
      "text/plain": [
       "1.05"
      ]
     },
     "execution_count": 18,
     "metadata": {},
     "output_type": "execute_result"
    }
   ],
   "source": [
    "Competition.raise_amount"
   ]
  },
  {
   "cell_type": "code",
   "execution_count": 19,
   "id": "91e050ac",
   "metadata": {},
   "outputs": [
    {
     "data": {
      "text/plain": [
       "1.05"
      ]
     },
     "execution_count": 19,
     "metadata": {},
     "output_type": "execute_result"
    }
   ],
   "source": [
    "simulation.raise_amount"
   ]
  },
  {
   "cell_type": "code",
   "execution_count": 20,
   "id": "bf2c3bc9",
   "metadata": {},
   "outputs": [
    {
     "data": {
      "text/plain": [
       "1.05"
      ]
     },
     "execution_count": 20,
     "metadata": {},
     "output_type": "execute_result"
    }
   ],
   "source": [
    "racing.raise_amount"
   ]
  },
  {
   "cell_type": "code",
   "execution_count": 21,
   "id": "c8f34a94",
   "metadata": {},
   "outputs": [
    {
     "data": {
      "text/plain": [
       "(1.05, 10, 1.05)"
      ]
     },
     "execution_count": 21,
     "metadata": {},
     "output_type": "execute_result"
    }
   ],
   "source": [
    "simulation.raise_amount = 10\n",
    "\n",
    "Competition.raise_amount, simulation.raise_amount, racing.raise_amount"
   ]
  },
  {
   "cell_type": "code",
   "execution_count": 22,
   "id": "89faa39c",
   "metadata": {},
   "outputs": [
    {
     "data": {
      "text/plain": [
       "(1.05, 10, 20)"
      ]
     },
     "execution_count": 22,
     "metadata": {},
     "output_type": "execute_result"
    }
   ],
   "source": [
    "racing.raise_amount = 20\n",
    "\n",
    "Competition.raise_amount, simulation.raise_amount, racing.raise_amount"
   ]
  },
  {
   "cell_type": "code",
   "execution_count": 23,
   "id": "9da4e9c6",
   "metadata": {},
   "outputs": [
    {
     "data": {
      "text/plain": [
       "mappingproxy({'__module__': '__main__',\n",
       "              'raise_amount': 1.05,\n",
       "              '__init__': <function __main__.Competition.__init__(self, name, prize)>,\n",
       "              'raise_prize': <function __main__.Competition.raise_prize(self)>,\n",
       "              '__dict__': <attribute '__dict__' of 'Competition' objects>,\n",
       "              '__weakref__': <attribute '__weakref__' of 'Competition' objects>,\n",
       "              '__doc__': None,\n",
       "              '__annotations__': {}})"
      ]
     },
     "execution_count": 23,
     "metadata": {},
     "output_type": "execute_result"
    }
   ],
   "source": [
    "Competition.__dict__"
   ]
  },
  {
   "cell_type": "code",
   "execution_count": 24,
   "id": "29b1d966",
   "metadata": {},
   "outputs": [
    {
     "data": {
      "text/plain": [
       "{'name': 'Simulation', 'prize': 104.0, 'raise_amount': 10}"
      ]
     },
     "execution_count": 24,
     "metadata": {},
     "output_type": "execute_result"
    }
   ],
   "source": [
    "simulation.__dict__"
   ]
  },
  {
   "cell_type": "code",
   "execution_count": 25,
   "id": "ef9badc9",
   "metadata": {},
   "outputs": [
    {
     "data": {
      "text/plain": [
       "{'name': 'Racing', 'prize': 1000, 'raise_amount': 20}"
      ]
     },
     "execution_count": 25,
     "metadata": {},
     "output_type": "execute_result"
    }
   ],
   "source": [
    "racing.__dict__"
   ]
  }
 ],
 "metadata": {
  "kernelspec": {
   "display_name": "Python 3 (ipykernel)",
   "language": "python",
   "name": "python3"
  },
  "language_info": {
   "codemirror_mode": {
    "name": "ipython",
    "version": 3
   },
   "file_extension": ".py",
   "mimetype": "text/x-python",
   "name": "python",
   "nbconvert_exporter": "python",
   "pygments_lexer": "ipython3",
   "version": "3.11.4"
  }
 },
 "nbformat": 4,
 "nbformat_minor": 5
}
