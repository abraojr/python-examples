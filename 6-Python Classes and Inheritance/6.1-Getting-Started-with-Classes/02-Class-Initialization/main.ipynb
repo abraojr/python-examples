{
 "cells": [
  {
   "cell_type": "code",
   "execution_count": 1,
   "id": "b0bc50cf",
   "metadata": {},
   "outputs": [],
   "source": [
    "class Student:\n",
    "    \n",
    "    def __init__(self):\n",
    "        \n",
    "        print(\"Initialize called!\")"
   ]
  },
  {
   "cell_type": "code",
   "execution_count": 2,
   "id": "97961f3b",
   "metadata": {},
   "outputs": [
    {
     "name": "stdout",
     "output_type": "stream",
     "text": [
      "Initialize called!\n"
     ]
    }
   ],
   "source": [
    "s1 = Student()"
   ]
  },
  {
   "cell_type": "code",
   "execution_count": 3,
   "id": "4129e952",
   "metadata": {},
   "outputs": [
    {
     "name": "stdout",
     "output_type": "stream",
     "text": [
      "Initialize called!\n",
      "Initialize called!\n"
     ]
    }
   ],
   "source": [
    "s2 = Student()\n",
    "\n",
    "s3 = Student()"
   ]
  },
  {
   "cell_type": "code",
   "execution_count": 4,
   "id": "3840f075",
   "metadata": {},
   "outputs": [],
   "source": [
    "class Student:\n",
    "    \n",
    "    # This will cause an error\n",
    "    def __init__():\n",
    "        \n",
    "        print(\"Initialize called!\")"
   ]
  },
  {
   "cell_type": "code",
   "execution_count": 5,
   "id": "36deaadd",
   "metadata": {},
   "outputs": [
    {
     "ename": "TypeError",
     "evalue": "Student.__init__() takes 0 positional arguments but 1 was given",
     "output_type": "error",
     "traceback": [
      "\u001b[1;31m---------------------------------------------------------------------------\u001b[0m",
      "\u001b[1;31mTypeError\u001b[0m                                 Traceback (most recent call last)",
      "Cell \u001b[1;32mIn[5], line 1\u001b[0m\n\u001b[1;32m----> 1\u001b[0m s1 \u001b[38;5;241m=\u001b[39m \u001b[43mStudent\u001b[49m\u001b[43m(\u001b[49m\u001b[43m)\u001b[49m\n",
      "\u001b[1;31mTypeError\u001b[0m: Student.__init__() takes 0 positional arguments but 1 was given"
     ]
    }
   ],
   "source": [
    "s1 = Student()"
   ]
  },
  {
   "cell_type": "code",
   "execution_count": 6,
   "id": "5776b101",
   "metadata": {},
   "outputs": [],
   "source": [
    "class Student:\n",
    "    \n",
    "    def __init__(boo):\n",
    "        \n",
    "        print(\"Initialize called!\")"
   ]
  },
  {
   "cell_type": "code",
   "execution_count": 7,
   "id": "d73bf20f",
   "metadata": {},
   "outputs": [
    {
     "name": "stdout",
     "output_type": "stream",
     "text": [
      "Initialize called!\n"
     ]
    }
   ],
   "source": [
    "s1 = Student()"
   ]
  },
  {
   "cell_type": "code",
   "execution_count": 8,
   "id": "763c249e",
   "metadata": {},
   "outputs": [],
   "source": [
    "class Student:\n",
    "    \n",
    "    def __init__(self, name):\n",
    "        \n",
    "        self.name = name\n",
    "        \n",
    "        self.email = name + \".\" + \"@xyz.com\""
   ]
  },
  {
   "cell_type": "code",
   "execution_count": 9,
   "id": "fe4fa451",
   "metadata": {},
   "outputs": [
    {
     "ename": "TypeError",
     "evalue": "Student.__init__() missing 1 required positional argument: 'name'",
     "output_type": "error",
     "traceback": [
      "\u001b[1;31m---------------------------------------------------------------------------\u001b[0m",
      "\u001b[1;31mTypeError\u001b[0m                                 Traceback (most recent call last)",
      "Cell \u001b[1;32mIn[9], line 2\u001b[0m\n\u001b[0;32m      1\u001b[0m \u001b[38;5;66;03m# Will throw an error\u001b[39;00m\n\u001b[1;32m----> 2\u001b[0m s1 \u001b[38;5;241m=\u001b[39m \u001b[43mStudent\u001b[49m\u001b[43m(\u001b[49m\u001b[43m)\u001b[49m\n",
      "\u001b[1;31mTypeError\u001b[0m: Student.__init__() missing 1 required positional argument: 'name'"
     ]
    }
   ],
   "source": [
    "# Will throw an error\n",
    "s1 = Student()"
   ]
  },
  {
   "cell_type": "code",
   "execution_count": 10,
   "id": "f6d753f8",
   "metadata": {},
   "outputs": [],
   "source": [
    "s1 = Student(\"Michel\")"
   ]
  },
  {
   "cell_type": "code",
   "execution_count": 11,
   "id": "cc579950",
   "metadata": {},
   "outputs": [
    {
     "ename": "TypeError",
     "evalue": "Student.__init__() takes 2 positional arguments but 3 were given",
     "output_type": "error",
     "traceback": [
      "\u001b[1;31m---------------------------------------------------------------------------\u001b[0m",
      "\u001b[1;31mTypeError\u001b[0m                                 Traceback (most recent call last)",
      "Cell \u001b[1;32mIn[11], line 2\u001b[0m\n\u001b[0;32m      1\u001b[0m \u001b[38;5;66;03m# Will throw an error\u001b[39;00m\n\u001b[1;32m----> 2\u001b[0m s1 \u001b[38;5;241m=\u001b[39m \u001b[43mStudent\u001b[49m\u001b[43m(\u001b[49m\u001b[38;5;124;43m\"\u001b[39;49m\u001b[38;5;124;43mMichel\u001b[39;49m\u001b[38;5;124;43m\"\u001b[39;49m\u001b[43m,\u001b[49m\u001b[43m \u001b[49m\u001b[38;5;124;43m\"\u001b[39;49m\u001b[38;5;124;43mMichel@xyz.com\u001b[39;49m\u001b[38;5;124;43m\"\u001b[39;49m\u001b[43m)\u001b[49m\n",
      "\u001b[1;31mTypeError\u001b[0m: Student.__init__() takes 2 positional arguments but 3 were given"
     ]
    }
   ],
   "source": [
    "# Will throw an error\n",
    "s1 = Student(\"Michel\", \"Michel@xyz.com\")"
   ]
  },
  {
   "cell_type": "code",
   "execution_count": 12,
   "id": "ce1452eb",
   "metadata": {},
   "outputs": [
    {
     "name": "stdout",
     "output_type": "stream",
     "text": [
      "<__main__.Student object at 0x00000208FC328950>\n"
     ]
    }
   ],
   "source": [
    "print(s1)"
   ]
  },
  {
   "cell_type": "code",
   "execution_count": 13,
   "id": "f193b912",
   "metadata": {},
   "outputs": [
    {
     "data": {
      "text/plain": [
       "'Michel'"
      ]
     },
     "execution_count": 13,
     "metadata": {},
     "output_type": "execute_result"
    }
   ],
   "source": [
    "s1.name"
   ]
  },
  {
   "cell_type": "code",
   "execution_count": 14,
   "id": "325103c9",
   "metadata": {},
   "outputs": [
    {
     "data": {
      "text/plain": [
       "'Michel.@xyz.com'"
      ]
     },
     "execution_count": 14,
     "metadata": {},
     "output_type": "execute_result"
    }
   ],
   "source": [
    "s1.email"
   ]
  },
  {
   "cell_type": "code",
   "execution_count": 15,
   "id": "1c50ecfb",
   "metadata": {},
   "outputs": [],
   "source": [
    "s2 = Student(\"Chad\")"
   ]
  },
  {
   "cell_type": "code",
   "execution_count": 16,
   "id": "99ca576d",
   "metadata": {},
   "outputs": [
    {
     "data": {
      "text/plain": [
       "('Chad', 'Chad.@xyz.com')"
      ]
     },
     "execution_count": 16,
     "metadata": {},
     "output_type": "execute_result"
    }
   ],
   "source": [
    "s2.name, s2.email"
   ]
  },
  {
   "cell_type": "code",
   "execution_count": 17,
   "id": "73c86dae",
   "metadata": {},
   "outputs": [
    {
     "data": {
      "text/plain": [
       "('Michael', 'Michel.@xyz.com')"
      ]
     },
     "execution_count": 17,
     "metadata": {},
     "output_type": "execute_result"
    }
   ],
   "source": [
    "s1.name = \"Michael\"\n",
    "\n",
    "s1.name, s1.email"
   ]
  },
  {
   "cell_type": "code",
   "execution_count": 18,
   "id": "3c5ef330",
   "metadata": {},
   "outputs": [
    {
     "data": {
      "text/plain": [
       "('Chad', 'Chad.@xyz.com')"
      ]
     },
     "execution_count": 18,
     "metadata": {},
     "output_type": "execute_result"
    }
   ],
   "source": [
    "s2.name, s2.email"
   ]
  },
  {
   "cell_type": "code",
   "execution_count": 19,
   "id": "d8b287a3",
   "metadata": {},
   "outputs": [],
   "source": [
    "class Student:\n",
    "    \n",
    "    def __init__(self, first, last):\n",
    "        \n",
    "        self.first = first\n",
    "        \n",
    "        self.last = last\n",
    "        \n",
    "        self.email = first + \".\" + last + \"@xyz.com\"\n",
    "        \n",
    "    def fullname(self):\n",
    "        \n",
    "        return \"{} {}\".format(self.first, self.last)"
   ]
  },
  {
   "cell_type": "code",
   "execution_count": 20,
   "id": "dba7cd00",
   "metadata": {},
   "outputs": [],
   "source": [
    "s1 = Student(\"Rodrigo\", \"Joseph\")"
   ]
  },
  {
   "cell_type": "code",
   "execution_count": 21,
   "id": "b7255cb9",
   "metadata": {},
   "outputs": [
    {
     "name": "stdout",
     "output_type": "stream",
     "text": [
      "Rodrigo Joseph\n"
     ]
    }
   ],
   "source": [
    "print(s1.fullname())"
   ]
  },
  {
   "cell_type": "code",
   "execution_count": 22,
   "id": "4c10f6f6",
   "metadata": {},
   "outputs": [],
   "source": [
    "s2 = Student(\"Anthony\", \"Hopkins\")"
   ]
  },
  {
   "cell_type": "code",
   "execution_count": 23,
   "id": "84652735",
   "metadata": {},
   "outputs": [
    {
     "name": "stdout",
     "output_type": "stream",
     "text": [
      "Anthony Hopkins\n"
     ]
    }
   ],
   "source": [
    "print(s2.fullname())"
   ]
  },
  {
   "cell_type": "code",
   "execution_count": 24,
   "id": "0ad21acd",
   "metadata": {},
   "outputs": [
    {
     "data": {
      "text/plain": [
       "'Anthony Hopkins'"
      ]
     },
     "execution_count": 24,
     "metadata": {},
     "output_type": "execute_result"
    }
   ],
   "source": [
    "# Is the same as s2.fullname()\n",
    "Student.fullname(s2)"
   ]
  },
  {
   "cell_type": "code",
   "execution_count": 25,
   "id": "9f83855f",
   "metadata": {},
   "outputs": [
    {
     "data": {
      "text/plain": [
       "'Rodrigo Joseph'"
      ]
     },
     "execution_count": 25,
     "metadata": {},
     "output_type": "execute_result"
    }
   ],
   "source": [
    "Student.fullname(s1)"
   ]
  },
  {
   "cell_type": "code",
   "execution_count": 26,
   "id": "7fe8f138",
   "metadata": {},
   "outputs": [],
   "source": [
    "s3 = Student(\"James\", \"Miller\")"
   ]
  },
  {
   "cell_type": "code",
   "execution_count": 27,
   "id": "3e16af10",
   "metadata": {},
   "outputs": [
    {
     "data": {
      "text/plain": [
       "'James'"
      ]
     },
     "execution_count": 27,
     "metadata": {},
     "output_type": "execute_result"
    }
   ],
   "source": [
    "s3.first"
   ]
  },
  {
   "cell_type": "code",
   "execution_count": 28,
   "id": "3598c39b",
   "metadata": {},
   "outputs": [],
   "source": [
    "del s3.first"
   ]
  },
  {
   "cell_type": "code",
   "execution_count": 29,
   "id": "3c7e1db6",
   "metadata": {},
   "outputs": [
    {
     "ename": "AttributeError",
     "evalue": "'Student' object has no attribute 'first'",
     "output_type": "error",
     "traceback": [
      "\u001b[1;31m---------------------------------------------------------------------------\u001b[0m",
      "\u001b[1;31mAttributeError\u001b[0m                            Traceback (most recent call last)",
      "Cell \u001b[1;32mIn[29], line 2\u001b[0m\n\u001b[0;32m      1\u001b[0m \u001b[38;5;66;03m# Will throw an error\u001b[39;00m\n\u001b[1;32m----> 2\u001b[0m \u001b[38;5;28mprint\u001b[39m(\u001b[43ms3\u001b[49m\u001b[38;5;241;43m.\u001b[39;49m\u001b[43mfirst\u001b[49m)\n",
      "\u001b[1;31mAttributeError\u001b[0m: 'Student' object has no attribute 'first'"
     ]
    }
   ],
   "source": [
    "# Will throw an error\n",
    "print(s3.first)"
   ]
  },
  {
   "cell_type": "code",
   "execution_count": 30,
   "id": "6ce0b45f",
   "metadata": {},
   "outputs": [
    {
     "name": "stdout",
     "output_type": "stream",
     "text": [
      "Miller\n"
     ]
    }
   ],
   "source": [
    "print(s3.last)"
   ]
  },
  {
   "cell_type": "code",
   "execution_count": 31,
   "id": "290e484a",
   "metadata": {},
   "outputs": [
    {
     "ename": "AttributeError",
     "evalue": "'Student' object has no attribute 'first'",
     "output_type": "error",
     "traceback": [
      "\u001b[1;31m---------------------------------------------------------------------------\u001b[0m",
      "\u001b[1;31mAttributeError\u001b[0m                            Traceback (most recent call last)",
      "Cell \u001b[1;32mIn[31], line 2\u001b[0m\n\u001b[0;32m      1\u001b[0m \u001b[38;5;66;03m# Will throw an error\u001b[39;00m\n\u001b[1;32m----> 2\u001b[0m \u001b[38;5;28mprint\u001b[39m(\u001b[43ms3\u001b[49m\u001b[38;5;241;43m.\u001b[39;49m\u001b[43mfullname\u001b[49m\u001b[43m(\u001b[49m\u001b[43m)\u001b[49m)\n",
      "Cell \u001b[1;32mIn[19], line 13\u001b[0m, in \u001b[0;36mStudent.fullname\u001b[1;34m(self)\u001b[0m\n\u001b[0;32m     11\u001b[0m \u001b[38;5;28;01mdef\u001b[39;00m \u001b[38;5;21mfullname\u001b[39m(\u001b[38;5;28mself\u001b[39m):\n\u001b[1;32m---> 13\u001b[0m     \u001b[38;5;28;01mreturn\u001b[39;00m \u001b[38;5;124m\"\u001b[39m\u001b[38;5;132;01m{}\u001b[39;00m\u001b[38;5;124m \u001b[39m\u001b[38;5;132;01m{}\u001b[39;00m\u001b[38;5;124m\"\u001b[39m\u001b[38;5;241m.\u001b[39mformat(\u001b[38;5;28;43mself\u001b[39;49m\u001b[38;5;241;43m.\u001b[39;49m\u001b[43mfirst\u001b[49m, \u001b[38;5;28mself\u001b[39m\u001b[38;5;241m.\u001b[39mlast)\n",
      "\u001b[1;31mAttributeError\u001b[0m: 'Student' object has no attribute 'first'"
     ]
    }
   ],
   "source": [
    "# Will throw an error\n",
    "print(s3.fullname())"
   ]
  },
  {
   "cell_type": "code",
   "execution_count": 32,
   "id": "6829263f",
   "metadata": {},
   "outputs": [
    {
     "data": {
      "text/plain": [
       "'Anthony Hopkins'"
      ]
     },
     "execution_count": 32,
     "metadata": {},
     "output_type": "execute_result"
    }
   ],
   "source": [
    "s2.fullname()"
   ]
  },
  {
   "cell_type": "code",
   "execution_count": 33,
   "id": "6bd5badf",
   "metadata": {},
   "outputs": [],
   "source": [
    "del s3"
   ]
  },
  {
   "cell_type": "code",
   "execution_count": 34,
   "id": "1148e734",
   "metadata": {},
   "outputs": [
    {
     "ename": "NameError",
     "evalue": "name 's3' is not defined",
     "output_type": "error",
     "traceback": [
      "\u001b[1;31m---------------------------------------------------------------------------\u001b[0m",
      "\u001b[1;31mNameError\u001b[0m                                 Traceback (most recent call last)",
      "Cell \u001b[1;32mIn[34], line 2\u001b[0m\n\u001b[0;32m      1\u001b[0m \u001b[38;5;66;03m# Will throw an error\u001b[39;00m\n\u001b[1;32m----> 2\u001b[0m \u001b[43ms3\u001b[49m\u001b[38;5;241m.\u001b[39mlast\n",
      "\u001b[1;31mNameError\u001b[0m: name 's3' is not defined"
     ]
    }
   ],
   "source": [
    "# Will throw an error\n",
    "s3.last"
   ]
  },
  {
   "cell_type": "code",
   "execution_count": 35,
   "id": "0c6da949",
   "metadata": {},
   "outputs": [],
   "source": [
    "class Student:\n",
    "    \n",
    "    def __init__(self, first, last):\n",
    "        \n",
    "        self.first = first\n",
    "        \n",
    "        self.last = last\n",
    "        \n",
    "        self.email = first + \".\" + last + \"@xyz.com\"\n",
    "        \n",
    "    def fullname(self):\n",
    "        \n",
    "        return \"{} {}\".format(self.first, self.last)\n",
    "    \n",
    "    def uppercase(self):\n",
    "        \n",
    "        self.first = self.first.upper()\n",
    "        \n",
    "        self.last = self.last.upper()"
   ]
  },
  {
   "cell_type": "code",
   "execution_count": 36,
   "id": "bff2d0bd",
   "metadata": {},
   "outputs": [],
   "source": [
    "s1 = Student(\"Anthony\", \"Hopkins\")\n",
    "\n",
    "s2 = Student(\"John\", \"Smith\")"
   ]
  },
  {
   "cell_type": "code",
   "execution_count": 37,
   "id": "37ae6c38",
   "metadata": {},
   "outputs": [
    {
     "data": {
      "text/plain": [
       "'Anthony Hopkins'"
      ]
     },
     "execution_count": 37,
     "metadata": {},
     "output_type": "execute_result"
    }
   ],
   "source": [
    "s1.fullname()"
   ]
  },
  {
   "cell_type": "code",
   "execution_count": 38,
   "id": "534a66e9",
   "metadata": {},
   "outputs": [
    {
     "data": {
      "text/plain": [
       "'John Smith'"
      ]
     },
     "execution_count": 38,
     "metadata": {},
     "output_type": "execute_result"
    }
   ],
   "source": [
    "s2.fullname()"
   ]
  },
  {
   "cell_type": "code",
   "execution_count": 39,
   "id": "e7fe29e5",
   "metadata": {},
   "outputs": [],
   "source": [
    "s1.uppercase()"
   ]
  },
  {
   "cell_type": "code",
   "execution_count": 40,
   "id": "d6669e2c",
   "metadata": {},
   "outputs": [
    {
     "data": {
      "text/plain": [
       "'ANTHONY HOPKINS'"
      ]
     },
     "execution_count": 40,
     "metadata": {},
     "output_type": "execute_result"
    }
   ],
   "source": [
    "s1.fullname()"
   ]
  },
  {
   "cell_type": "code",
   "execution_count": 41,
   "id": "b8c4b84c",
   "metadata": {},
   "outputs": [
    {
     "data": {
      "text/plain": [
       "'John Smith'"
      ]
     },
     "execution_count": 41,
     "metadata": {},
     "output_type": "execute_result"
    }
   ],
   "source": [
    "s2.fullname()"
   ]
  }
 ],
 "metadata": {
  "kernelspec": {
   "display_name": "Python 3 (ipykernel)",
   "language": "python",
   "name": "python3"
  },
  "language_info": {
   "codemirror_mode": {
    "name": "ipython",
    "version": 3
   },
   "file_extension": ".py",
   "mimetype": "text/x-python",
   "name": "python",
   "nbconvert_exporter": "python",
   "pygments_lexer": "ipython3",
   "version": "3.11.4"
  }
 },
 "nbformat": 4,
 "nbformat_minor": 5
}
