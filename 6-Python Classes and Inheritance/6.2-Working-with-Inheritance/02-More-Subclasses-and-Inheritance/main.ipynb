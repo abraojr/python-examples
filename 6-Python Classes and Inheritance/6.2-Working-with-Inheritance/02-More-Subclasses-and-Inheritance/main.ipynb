{
 "cells": [
  {
   "cell_type": "code",
   "execution_count": 1,
   "id": "c8156c43",
   "metadata": {},
   "outputs": [],
   "source": [
    "class Competition:\n",
    "    \n",
    "    __raise_amount = 1.10\n",
    "    \n",
    "    def __init__(self, name, prize):\n",
    "        self.__name = name\n",
    "        self.__prize = prize\n",
    "        \n",
    "    def get_name(self):\n",
    "        return self.__name\n",
    "    \n",
    "    def get_prize(self):\n",
    "        return self.__prize\n",
    "    \n",
    "    def raise_prize(self):\n",
    "        self.__prize = self.__prize * self.__raise_amount"
   ]
  },
  {
   "cell_type": "code",
   "execution_count": 2,
   "id": "d0bca737",
   "metadata": {},
   "outputs": [
    {
     "data": {
      "text/plain": [
       "__main__.Competition"
      ]
     },
     "execution_count": 2,
     "metadata": {},
     "output_type": "execute_result"
    }
   ],
   "source": [
    "race = Competition(\"Race\", 100)\n",
    "\n",
    "type(race)"
   ]
  },
  {
   "cell_type": "code",
   "execution_count": 3,
   "id": "d5e34ee6",
   "metadata": {},
   "outputs": [
    {
     "name": "stdout",
     "output_type": "stream",
     "text": [
      "Help on class Competition in module __main__:\n",
      "\n",
      "class Competition(builtins.object)\n",
      " |  Competition(name, prize)\n",
      " |  \n",
      " |  Methods defined here:\n",
      " |  \n",
      " |  __init__(self, name, prize)\n",
      " |      Initialize self.  See help(type(self)) for accurate signature.\n",
      " |  \n",
      " |  get_name(self)\n",
      " |  \n",
      " |  get_prize(self)\n",
      " |  \n",
      " |  raise_prize(self)\n",
      " |  \n",
      " |  ----------------------------------------------------------------------\n",
      " |  Data descriptors defined here:\n",
      " |  \n",
      " |  __dict__\n",
      " |      dictionary for instance variables (if defined)\n",
      " |  \n",
      " |  __weakref__\n",
      " |      list of weak references to the object (if defined)\n",
      "\n"
     ]
    }
   ],
   "source": [
    "help(Competition)"
   ]
  },
  {
   "cell_type": "code",
   "execution_count": 4,
   "id": "db9ce0ce",
   "metadata": {},
   "outputs": [
    {
     "data": {
      "text/plain": [
       "mappingproxy({'__module__': '__main__',\n",
       "              '_Competition__raise_amount': 1.1,\n",
       "              '__init__': <function __main__.Competition.__init__(self, name, prize)>,\n",
       "              'get_name': <function __main__.Competition.get_name(self)>,\n",
       "              'get_prize': <function __main__.Competition.get_prize(self)>,\n",
       "              'raise_prize': <function __main__.Competition.raise_prize(self)>,\n",
       "              '__dict__': <attribute '__dict__' of 'Competition' objects>,\n",
       "              '__weakref__': <attribute '__weakref__' of 'Competition' objects>,\n",
       "              '__doc__': None})"
      ]
     },
     "execution_count": 4,
     "metadata": {},
     "output_type": "execute_result"
    }
   ],
   "source": [
    "Competition.__dict__"
   ]
  },
  {
   "cell_type": "code",
   "execution_count": 5,
   "id": "231d7f26",
   "metadata": {},
   "outputs": [],
   "source": [
    "class Sprint(Competition):\n",
    "    pass"
   ]
  },
  {
   "cell_type": "code",
   "execution_count": 6,
   "id": "e7b5319b",
   "metadata": {},
   "outputs": [
    {
     "name": "stdout",
     "output_type": "stream",
     "text": [
      "Help on class Sprint in module __main__:\n",
      "\n",
      "class Sprint(Competition)\n",
      " |  Sprint(name, prize)\n",
      " |  \n",
      " |  Method resolution order:\n",
      " |      Sprint\n",
      " |      Competition\n",
      " |      builtins.object\n",
      " |  \n",
      " |  Methods inherited from Competition:\n",
      " |  \n",
      " |  __init__(self, name, prize)\n",
      " |      Initialize self.  See help(type(self)) for accurate signature.\n",
      " |  \n",
      " |  get_name(self)\n",
      " |  \n",
      " |  get_prize(self)\n",
      " |  \n",
      " |  raise_prize(self)\n",
      " |  \n",
      " |  ----------------------------------------------------------------------\n",
      " |  Data descriptors inherited from Competition:\n",
      " |  \n",
      " |  __dict__\n",
      " |      dictionary for instance variables (if defined)\n",
      " |  \n",
      " |  __weakref__\n",
      " |      list of weak references to the object (if defined)\n",
      "\n"
     ]
    }
   ],
   "source": [
    "help(Sprint)"
   ]
  },
  {
   "cell_type": "code",
   "execution_count": 7,
   "id": "90b88784",
   "metadata": {},
   "outputs": [
    {
     "data": {
      "text/plain": [
       "mappingproxy({'__module__': '__main__', '__doc__': None})"
      ]
     },
     "execution_count": 7,
     "metadata": {},
     "output_type": "execute_result"
    }
   ],
   "source": [
    "Sprint.__dict__"
   ]
  },
  {
   "cell_type": "code",
   "execution_count": 8,
   "id": "f2374157",
   "metadata": {},
   "outputs": [
    {
     "data": {
      "text/plain": [
       "__main__.Sprint"
      ]
     },
     "execution_count": 8,
     "metadata": {},
     "output_type": "execute_result"
    }
   ],
   "source": [
    "sprint = Sprint(\"100m\", 700)\n",
    "\n",
    "type(sprint)"
   ]
  },
  {
   "cell_type": "code",
   "execution_count": 9,
   "id": "a642b60a",
   "metadata": {},
   "outputs": [
    {
     "data": {
      "text/plain": [
       "{'_Competition__name': '100m', '_Competition__prize': 700}"
      ]
     },
     "execution_count": 9,
     "metadata": {},
     "output_type": "execute_result"
    }
   ],
   "source": [
    "sprint.__dict__"
   ]
  },
  {
   "cell_type": "code",
   "execution_count": 10,
   "id": "511a24f2",
   "metadata": {},
   "outputs": [
    {
     "data": {
      "text/plain": [
       "('100m', 700)"
      ]
     },
     "execution_count": 10,
     "metadata": {},
     "output_type": "execute_result"
    }
   ],
   "source": [
    "sprint.get_name(), sprint.get_prize()"
   ]
  },
  {
   "cell_type": "code",
   "execution_count": 11,
   "id": "6d5ad095",
   "metadata": {},
   "outputs": [
    {
     "data": {
      "text/plain": [
       "770.0000000000001"
      ]
     },
     "execution_count": 11,
     "metadata": {},
     "output_type": "execute_result"
    }
   ],
   "source": [
    "sprint.raise_prize()\n",
    "\n",
    "sprint.get_prize()"
   ]
  },
  {
   "cell_type": "code",
   "execution_count": 12,
   "id": "9b8290fe",
   "metadata": {},
   "outputs": [],
   "source": [
    "chess = Competition(\"Chess\", 1000)"
   ]
  },
  {
   "cell_type": "code",
   "execution_count": 13,
   "id": "e0d31c8c",
   "metadata": {},
   "outputs": [
    {
     "data": {
      "text/plain": [
       "1000"
      ]
     },
     "execution_count": 13,
     "metadata": {},
     "output_type": "execute_result"
    }
   ],
   "source": [
    "chess.get_prize()"
   ]
  },
  {
   "cell_type": "code",
   "execution_count": 14,
   "id": "338f42c6",
   "metadata": {},
   "outputs": [
    {
     "data": {
      "text/plain": [
       "1100.0"
      ]
     },
     "execution_count": 14,
     "metadata": {},
     "output_type": "execute_result"
    }
   ],
   "source": [
    "chess.raise_prize()\n",
    "\n",
    "chess.get_prize()"
   ]
  },
  {
   "cell_type": "code",
   "execution_count": 15,
   "id": "3c47fded",
   "metadata": {},
   "outputs": [],
   "source": [
    "class Cycling(Competition):\n",
    "    \n",
    "    def __init__(self, name, prize, country):\n",
    "        super().__init__(name, prize)\n",
    "        \n",
    "        self.__country = country\n",
    "        \n",
    "    def get_country(self):\n",
    "        return self.__country"
   ]
  },
  {
   "cell_type": "code",
   "execution_count": 16,
   "id": "f7c824cf",
   "metadata": {},
   "outputs": [],
   "source": [
    "cycling = Cycling(\"10km\", 7500, \"USA\")"
   ]
  },
  {
   "cell_type": "code",
   "execution_count": 17,
   "id": "75995084",
   "metadata": {},
   "outputs": [
    {
     "data": {
      "text/plain": [
       "'USA'"
      ]
     },
     "execution_count": 17,
     "metadata": {},
     "output_type": "execute_result"
    }
   ],
   "source": [
    "cycling.get_country()"
   ]
  },
  {
   "cell_type": "code",
   "execution_count": 18,
   "id": "4937cadc",
   "metadata": {},
   "outputs": [
    {
     "data": {
      "text/plain": [
       "('10km', 7500)"
      ]
     },
     "execution_count": 18,
     "metadata": {},
     "output_type": "execute_result"
    }
   ],
   "source": [
    "cycling.get_name(), cycling.get_prize()"
   ]
  },
  {
   "cell_type": "code",
   "execution_count": 19,
   "id": "fa06ad0e",
   "metadata": {},
   "outputs": [
    {
     "data": {
      "text/plain": [
       "True"
      ]
     },
     "execution_count": 19,
     "metadata": {},
     "output_type": "execute_result"
    }
   ],
   "source": [
    "issubclass(Cycling, Competition)"
   ]
  },
  {
   "cell_type": "code",
   "execution_count": 20,
   "id": "8ebc8a76",
   "metadata": {},
   "outputs": [],
   "source": [
    "class Shooting():\n",
    "    \n",
    "    def __init__(self, name):\n",
    "        self.first = name"
   ]
  },
  {
   "cell_type": "code",
   "execution_count": 21,
   "id": "5b00d64e",
   "metadata": {},
   "outputs": [
    {
     "data": {
      "text/plain": [
       "False"
      ]
     },
     "execution_count": 21,
     "metadata": {},
     "output_type": "execute_result"
    }
   ],
   "source": [
    "issubclass(Shooting, Competition)"
   ]
  },
  {
   "cell_type": "code",
   "execution_count": 22,
   "id": "37ef8c2c",
   "metadata": {},
   "outputs": [],
   "source": [
    "class Shooting(Competition):\n",
    "    \n",
    "    def __init__(self, name, prize):\n",
    "        super().__init__(name, prize)"
   ]
  },
  {
   "cell_type": "code",
   "execution_count": 23,
   "id": "698db871",
   "metadata": {},
   "outputs": [],
   "source": [
    "shooting = Shooting(\"Rifle\", 1000)"
   ]
  },
  {
   "cell_type": "code",
   "execution_count": 24,
   "id": "c0ac1ab2",
   "metadata": {},
   "outputs": [
    {
     "data": {
      "text/plain": [
       "True"
      ]
     },
     "execution_count": 24,
     "metadata": {},
     "output_type": "execute_result"
    }
   ],
   "source": [
    "issubclass(Shooting, Competition)"
   ]
  }
 ],
 "metadata": {
  "kernelspec": {
   "display_name": "Python 3 (ipykernel)",
   "language": "python",
   "name": "python3"
  },
  "language_info": {
   "codemirror_mode": {
    "name": "ipython",
    "version": 3
   },
   "file_extension": ".py",
   "mimetype": "text/x-python",
   "name": "python",
   "nbconvert_exporter": "python",
   "pygments_lexer": "ipython3",
   "version": "3.11.4"
  }
 },
 "nbformat": 4,
 "nbformat_minor": 5
}
