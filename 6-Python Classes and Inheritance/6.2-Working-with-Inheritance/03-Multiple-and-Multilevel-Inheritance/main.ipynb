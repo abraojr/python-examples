{
 "cells": [
  {
   "cell_type": "code",
   "execution_count": 1,
   "id": "b5d60029",
   "metadata": {},
   "outputs": [],
   "source": [
    "class Father():\n",
    "    pass\n",
    "\n",
    "class Mother():\n",
    "    pass"
   ]
  },
  {
   "cell_type": "code",
   "execution_count": 2,
   "id": "2522215d",
   "metadata": {},
   "outputs": [],
   "source": [
    "class Child1(Father, Mother):\n",
    "    pass"
   ]
  },
  {
   "cell_type": "code",
   "execution_count": 3,
   "id": "a6ac567e",
   "metadata": {},
   "outputs": [
    {
     "name": "stdout",
     "output_type": "stream",
     "text": [
      "Help on class Child1 in module __main__:\n",
      "\n",
      "class Child1(Father, Mother)\n",
      " |  Method resolution order:\n",
      " |      Child1\n",
      " |      Father\n",
      " |      Mother\n",
      " |      builtins.object\n",
      " |  \n",
      " |  Data descriptors inherited from Father:\n",
      " |  \n",
      " |  __dict__\n",
      " |      dictionary for instance variables (if defined)\n",
      " |  \n",
      " |  __weakref__\n",
      " |      list of weak references to the object (if defined)\n",
      "\n"
     ]
    }
   ],
   "source": [
    "help(Child1)"
   ]
  },
  {
   "cell_type": "code",
   "execution_count": 4,
   "id": "1dd426ad",
   "metadata": {},
   "outputs": [],
   "source": [
    "class Child2(Mother, Father):\n",
    "    pass"
   ]
  },
  {
   "cell_type": "code",
   "execution_count": 5,
   "id": "ddf71cf5",
   "metadata": {},
   "outputs": [
    {
     "name": "stdout",
     "output_type": "stream",
     "text": [
      "Help on class Child2 in module __main__:\n",
      "\n",
      "class Child2(Mother, Father)\n",
      " |  Method resolution order:\n",
      " |      Child2\n",
      " |      Mother\n",
      " |      Father\n",
      " |      builtins.object\n",
      " |  \n",
      " |  Data descriptors inherited from Mother:\n",
      " |  \n",
      " |  __dict__\n",
      " |      dictionary for instance variables (if defined)\n",
      " |  \n",
      " |  __weakref__\n",
      " |      list of weak references to the object (if defined)\n",
      "\n"
     ]
    }
   ],
   "source": [
    "help(Child2)"
   ]
  },
  {
   "cell_type": "code",
   "execution_count": 6,
   "id": "a2b406bb",
   "metadata": {},
   "outputs": [],
   "source": [
    "class Father:\n",
    "    \n",
    "    def height(self):\n",
    "        print(\"I have inherited my height from my father\")\n",
    "\n",
    "class Mother:\n",
    "    \n",
    "    def intelligence(self):\n",
    "        print(\"I have inherited my intelligence from my mother\")"
   ]
  },
  {
   "cell_type": "code",
   "execution_count": 7,
   "id": "38594037",
   "metadata": {},
   "outputs": [],
   "source": [
    "class Child(Father, Mother):\n",
    "    \n",
    "    def experience(self):\n",
    "        print(\"My experience are all my own\")"
   ]
  },
  {
   "cell_type": "code",
   "execution_count": 8,
   "id": "3963c9e0",
   "metadata": {},
   "outputs": [],
   "source": [
    "c = Child()"
   ]
  },
  {
   "cell_type": "code",
   "execution_count": 9,
   "id": "6a499166",
   "metadata": {},
   "outputs": [
    {
     "name": "stdout",
     "output_type": "stream",
     "text": [
      "I have inherited my height from my father\n"
     ]
    }
   ],
   "source": [
    "c.height()"
   ]
  },
  {
   "cell_type": "code",
   "execution_count": 10,
   "id": "c1732f8e",
   "metadata": {},
   "outputs": [
    {
     "name": "stdout",
     "output_type": "stream",
     "text": [
      "I have inherited my intelligence from my mother\n"
     ]
    }
   ],
   "source": [
    "c.intelligence()"
   ]
  },
  {
   "cell_type": "code",
   "execution_count": 11,
   "id": "b3488b56",
   "metadata": {},
   "outputs": [
    {
     "name": "stdout",
     "output_type": "stream",
     "text": [
      "My experience are all my own\n"
     ]
    }
   ],
   "source": [
    "c.experience()"
   ]
  },
  {
   "cell_type": "code",
   "execution_count": 12,
   "id": "a26a47b5",
   "metadata": {},
   "outputs": [],
   "source": [
    "class Employee:\n",
    "    \n",
    "    def __init__(self, name, age):\n",
    "        self.__name = name\n",
    "        self.__age = age\n",
    "        \n",
    "    def show_name(self):\n",
    "        print(self.__name)\n",
    "        \n",
    "    def show_age(self):\n",
    "        print(self.__age)"
   ]
  },
  {
   "cell_type": "code",
   "execution_count": 13,
   "id": "caa6b299",
   "metadata": {},
   "outputs": [],
   "source": [
    "class Salary:\n",
    "    def __init__(self, salary):\n",
    "        self.__salary = salary\n",
    "        \n",
    "    def get_salary(self):\n",
    "        print(self.__salary)"
   ]
  },
  {
   "cell_type": "code",
   "execution_count": 14,
   "id": "6fb2fa4b",
   "metadata": {},
   "outputs": [],
   "source": [
    "class Database(Employee, Salary):\n",
    "    \n",
    "    def __init__(self, name, age, salary):\n",
    "        Employee.__init__(self, name, age)\n",
    "        Salary.__init__(self, salary)"
   ]
  },
  {
   "cell_type": "code",
   "execution_count": 15,
   "id": "b45856c0",
   "metadata": {},
   "outputs": [],
   "source": [
    "emp1 = Database(\"Robin\", 26, 98000)"
   ]
  },
  {
   "cell_type": "code",
   "execution_count": 16,
   "id": "a3e7ca86",
   "metadata": {},
   "outputs": [
    {
     "name": "stdout",
     "output_type": "stream",
     "text": [
      "Robin\n"
     ]
    }
   ],
   "source": [
    "emp1.show_name()"
   ]
  },
  {
   "cell_type": "code",
   "execution_count": 17,
   "id": "e7bf392e",
   "metadata": {},
   "outputs": [
    {
     "name": "stdout",
     "output_type": "stream",
     "text": [
      "26\n"
     ]
    }
   ],
   "source": [
    "emp1.show_age()"
   ]
  },
  {
   "cell_type": "code",
   "execution_count": 18,
   "id": "a4ba6622",
   "metadata": {},
   "outputs": [
    {
     "name": "stdout",
     "output_type": "stream",
     "text": [
      "98000\n"
     ]
    }
   ],
   "source": [
    "emp1.get_salary()"
   ]
  },
  {
   "cell_type": "code",
   "execution_count": 19,
   "id": "3d111934",
   "metadata": {},
   "outputs": [
    {
     "name": "stdout",
     "output_type": "stream",
     "text": [
      "Help on class Database in module __main__:\n",
      "\n",
      "class Database(Employee, Salary)\n",
      " |  Database(name, age, salary)\n",
      " |  \n",
      " |  Method resolution order:\n",
      " |      Database\n",
      " |      Employee\n",
      " |      Salary\n",
      " |      builtins.object\n",
      " |  \n",
      " |  Methods defined here:\n",
      " |  \n",
      " |  __init__(self, name, age, salary)\n",
      " |      Initialize self.  See help(type(self)) for accurate signature.\n",
      " |  \n",
      " |  ----------------------------------------------------------------------\n",
      " |  Methods inherited from Employee:\n",
      " |  \n",
      " |  show_age(self)\n",
      " |  \n",
      " |  show_name(self)\n",
      " |  \n",
      " |  ----------------------------------------------------------------------\n",
      " |  Data descriptors inherited from Employee:\n",
      " |  \n",
      " |  __dict__\n",
      " |      dictionary for instance variables (if defined)\n",
      " |  \n",
      " |  __weakref__\n",
      " |      list of weak references to the object (if defined)\n",
      " |  \n",
      " |  ----------------------------------------------------------------------\n",
      " |  Methods inherited from Salary:\n",
      " |  \n",
      " |  get_salary(self)\n",
      "\n"
     ]
    }
   ],
   "source": [
    "help(Database)"
   ]
  },
  {
   "cell_type": "code",
   "execution_count": 20,
   "id": "caaf6d4a",
   "metadata": {},
   "outputs": [],
   "source": [
    "class Grandparent:\n",
    "    \n",
    "    def height(self):\n",
    "        print(\"I have inherited my height from my grandparent\")\n",
    "        \n",
    "class Parent(Grandparent):\n",
    "    \n",
    "    def intelligence(self):\n",
    "        print(\"I have inherited my intelligence from my parent\")\n",
    "        \n",
    "class Child(Parent):\n",
    "    \n",
    "    def experience(self):\n",
    "        print(\"My expeirience are all my own\")"
   ]
  },
  {
   "cell_type": "code",
   "execution_count": 21,
   "id": "e6fd6e3b",
   "metadata": {},
   "outputs": [
    {
     "name": "stdout",
     "output_type": "stream",
     "text": [
      "Help on class Child in module __main__:\n",
      "\n",
      "class Child(Parent)\n",
      " |  Method resolution order:\n",
      " |      Child\n",
      " |      Parent\n",
      " |      Grandparent\n",
      " |      builtins.object\n",
      " |  \n",
      " |  Methods defined here:\n",
      " |  \n",
      " |  experience(self)\n",
      " |  \n",
      " |  ----------------------------------------------------------------------\n",
      " |  Methods inherited from Parent:\n",
      " |  \n",
      " |  intelligence(self)\n",
      " |  \n",
      " |  ----------------------------------------------------------------------\n",
      " |  Methods inherited from Grandparent:\n",
      " |  \n",
      " |  height(self)\n",
      " |  \n",
      " |  ----------------------------------------------------------------------\n",
      " |  Data descriptors inherited from Grandparent:\n",
      " |  \n",
      " |  __dict__\n",
      " |      dictionary for instance variables (if defined)\n",
      " |  \n",
      " |  __weakref__\n",
      " |      list of weak references to the object (if defined)\n",
      "\n"
     ]
    }
   ],
   "source": [
    "help(Child)"
   ]
  },
  {
   "cell_type": "code",
   "execution_count": 22,
   "id": "4385d09a",
   "metadata": {},
   "outputs": [],
   "source": [
    "c = Child()"
   ]
  },
  {
   "cell_type": "code",
   "execution_count": 23,
   "id": "896f4c2d",
   "metadata": {},
   "outputs": [
    {
     "name": "stdout",
     "output_type": "stream",
     "text": [
      "I have inherited my height from my grandparent\n"
     ]
    }
   ],
   "source": [
    "c.height()"
   ]
  },
  {
   "cell_type": "code",
   "execution_count": 24,
   "id": "a25e69b2",
   "metadata": {},
   "outputs": [
    {
     "name": "stdout",
     "output_type": "stream",
     "text": [
      "I have inherited my intelligence from my parent\n"
     ]
    }
   ],
   "source": [
    "c.intelligence()"
   ]
  },
  {
   "cell_type": "code",
   "execution_count": 25,
   "id": "dd3a0809",
   "metadata": {},
   "outputs": [
    {
     "name": "stdout",
     "output_type": "stream",
     "text": [
      "My expeirience are all my own\n"
     ]
    }
   ],
   "source": [
    "c.experience()"
   ]
  },
  {
   "cell_type": "code",
   "execution_count": 26,
   "id": "3125d175",
   "metadata": {},
   "outputs": [],
   "source": [
    "class Grandparent(object):\n",
    "    \n",
    "    def __init__(self, city):\n",
    "        self.__city = city\n",
    "        \n",
    "    def get_city(self):\n",
    "        return self.__city"
   ]
  },
  {
   "cell_type": "code",
   "execution_count": 27,
   "id": "402d1652",
   "metadata": {},
   "outputs": [],
   "source": [
    "class Parent(Grandparent):\n",
    "    \n",
    "    def __init__(self, city, lastname):\n",
    "        Grandparent.__init__(self, city)\n",
    "        \n",
    "        self.__lastname = lastname\n",
    "        \n",
    "    def get_lastname(self):\n",
    "        return self.__lastname"
   ]
  },
  {
   "cell_type": "code",
   "execution_count": 28,
   "id": "74ade883",
   "metadata": {},
   "outputs": [],
   "source": [
    "p1 = Parent(city=\"Kentucky\", lastname=\"Smith\")"
   ]
  },
  {
   "cell_type": "code",
   "execution_count": 29,
   "id": "a4eea198",
   "metadata": {},
   "outputs": [
    {
     "data": {
      "text/plain": [
       "'Kentucky'"
      ]
     },
     "execution_count": 29,
     "metadata": {},
     "output_type": "execute_result"
    }
   ],
   "source": [
    "p1.get_city()"
   ]
  },
  {
   "cell_type": "code",
   "execution_count": 30,
   "id": "877ac943",
   "metadata": {},
   "outputs": [
    {
     "data": {
      "text/plain": [
       "'Smith'"
      ]
     },
     "execution_count": 30,
     "metadata": {},
     "output_type": "execute_result"
    }
   ],
   "source": [
    "p1.get_lastname()"
   ]
  },
  {
   "cell_type": "code",
   "execution_count": 31,
   "id": "c6125521",
   "metadata": {},
   "outputs": [],
   "source": [
    "class Person(Parent):\n",
    "    \n",
    "    def __init__(self, city, lastname, firstname):\n",
    "        Parent.__init__(self, city, lastname)\n",
    "        \n",
    "        self.__firstname = firstname\n",
    "        \n",
    "    def get_firstname(self):\n",
    "        return self.__firstname"
   ]
  },
  {
   "cell_type": "code",
   "execution_count": 32,
   "id": "4f4787fa",
   "metadata": {},
   "outputs": [],
   "source": [
    "person = Person(\"Kentucky\", \"Smith\", \"Mark\")"
   ]
  },
  {
   "cell_type": "code",
   "execution_count": 33,
   "id": "facb1d02",
   "metadata": {},
   "outputs": [
    {
     "data": {
      "text/plain": [
       "('Kentucky', 'Smith', 'Mark')"
      ]
     },
     "execution_count": 33,
     "metadata": {},
     "output_type": "execute_result"
    }
   ],
   "source": [
    "person.get_city(), person.get_lastname(), person.get_firstname()"
   ]
  },
  {
   "cell_type": "code",
   "execution_count": 34,
   "id": "cc8d43d5",
   "metadata": {},
   "outputs": [
    {
     "name": "stdout",
     "output_type": "stream",
     "text": [
      "Help on class Person in module __main__:\n",
      "\n",
      "class Person(Parent)\n",
      " |  Person(city, lastname, firstname)\n",
      " |  \n",
      " |  Method resolution order:\n",
      " |      Person\n",
      " |      Parent\n",
      " |      Grandparent\n",
      " |      builtins.object\n",
      " |  \n",
      " |  Methods defined here:\n",
      " |  \n",
      " |  __init__(self, city, lastname, firstname)\n",
      " |      Initialize self.  See help(type(self)) for accurate signature.\n",
      " |  \n",
      " |  get_firstname(self)\n",
      " |  \n",
      " |  ----------------------------------------------------------------------\n",
      " |  Methods inherited from Parent:\n",
      " |  \n",
      " |  get_lastname(self)\n",
      " |  \n",
      " |  ----------------------------------------------------------------------\n",
      " |  Methods inherited from Grandparent:\n",
      " |  \n",
      " |  get_city(self)\n",
      " |  \n",
      " |  ----------------------------------------------------------------------\n",
      " |  Data descriptors inherited from Grandparent:\n",
      " |  \n",
      " |  __dict__\n",
      " |      dictionary for instance variables (if defined)\n",
      " |  \n",
      " |  __weakref__\n",
      " |      list of weak references to the object (if defined)\n",
      "\n"
     ]
    }
   ],
   "source": [
    "help(Person)"
   ]
  },
  {
   "cell_type": "code",
   "execution_count": 35,
   "id": "f5495bc1",
   "metadata": {},
   "outputs": [],
   "source": [
    "class Person(Parent):\n",
    "    \n",
    "    def __init__(self, city, lastname, firstname):\n",
    "        Parent.__init__(self, city, lastname)\n",
    "        \n",
    "        self.__firstname = firstname\n",
    "        \n",
    "    def get_firstname(self):\n",
    "        return self.__firstname\n",
    "    \n",
    "    def get_introduction(self):\n",
    "        lastname = super().get_lastname()\n",
    "        city = super().get_city()\n",
    "        \n",
    "        print(\"Hi I am %s %s from %s\" % (self.__firstname, lastname, city))\n",
    "        \n",
    "    def get_information(self):\n",
    "        lastname = self.get_lastname()\n",
    "        city = self.get_city()\n",
    "        \n",
    "        print(\"Hi I am %s %s from %s\" % (self.__firstname, lastname, city))"
   ]
  },
  {
   "cell_type": "code",
   "execution_count": 36,
   "id": "02ff56c0",
   "metadata": {},
   "outputs": [],
   "source": [
    "p = Person(\"Kentucky\", \"Jones\", \"Lily\")"
   ]
  },
  {
   "cell_type": "code",
   "execution_count": 37,
   "id": "505d6f91",
   "metadata": {},
   "outputs": [
    {
     "name": "stdout",
     "output_type": "stream",
     "text": [
      "Hi I am Lily Jones from Kentucky\n"
     ]
    }
   ],
   "source": [
    "p.get_introduction()"
   ]
  },
  {
   "cell_type": "code",
   "execution_count": 38,
   "id": "945787ae",
   "metadata": {},
   "outputs": [
    {
     "name": "stdout",
     "output_type": "stream",
     "text": [
      "Hi I am Lily Jones from Kentucky\n"
     ]
    }
   ],
   "source": [
    "p.get_information()"
   ]
  }
 ],
 "metadata": {
  "kernelspec": {
   "display_name": "Python 3 (ipykernel)",
   "language": "python",
   "name": "python3"
  },
  "language_info": {
   "codemirror_mode": {
    "name": "ipython",
    "version": 3
   },
   "file_extension": ".py",
   "mimetype": "text/x-python",
   "name": "python",
   "nbconvert_exporter": "python",
   "pygments_lexer": "ipython3",
   "version": "3.11.4"
  }
 },
 "nbformat": 4,
 "nbformat_minor": 5
}
