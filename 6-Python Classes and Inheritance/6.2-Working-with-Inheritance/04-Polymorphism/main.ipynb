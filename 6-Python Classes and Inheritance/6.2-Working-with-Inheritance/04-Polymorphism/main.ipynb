{
 "cells": [
  {
   "cell_type": "code",
   "execution_count": 1,
   "id": "8fbfca63",
   "metadata": {},
   "outputs": [],
   "source": [
    "class Hominidae():\n",
    "    \n",
    "    def communication(self):\n",
    "        print(\"They use auditory calls and visual cues.\")\n",
    "        \n",
    "    def walk(self):\n",
    "        print(\"They are knuckle-walkers, used to hang and swing from one tree to another.\")"
   ]
  },
  {
   "cell_type": "code",
   "execution_count": 2,
   "id": "b3b45b1b",
   "metadata": {},
   "outputs": [],
   "source": [
    "class Human(Hominidae):\n",
    "    \n",
    "    def communication(self):\n",
    "        print(\"They use language to communicate.\")\n",
    "        \n",
    "    def walk(self):\n",
    "        print(\"They are bipeds.\")"
   ]
  },
  {
   "cell_type": "code",
   "execution_count": 3,
   "id": "295dbc52",
   "metadata": {},
   "outputs": [],
   "source": [
    "class Gorilla(Hominidae):\n",
    "    \n",
    "    def communication(self):\n",
    "        print(\"They use twenty-five distinct vocalizations to communicate.\")\n",
    "        \n",
    "    def walk(self):\n",
    "        print(\"They are knuckle-walkers.\")"
   ]
  },
  {
   "cell_type": "code",
   "execution_count": 4,
   "id": "6069b63b",
   "metadata": {},
   "outputs": [],
   "source": [
    "hominidae_1 = Hominidae()\n",
    "\n",
    "human_1 = Human()\n",
    "\n",
    "gorilla_1 = Gorilla()"
   ]
  },
  {
   "cell_type": "code",
   "execution_count": 5,
   "id": "88ec02be",
   "metadata": {},
   "outputs": [
    {
     "name": "stdout",
     "output_type": "stream",
     "text": [
      "They use auditory calls and visual cues.\n",
      "They use language to communicate.\n",
      "They use twenty-five distinct vocalizations to communicate.\n"
     ]
    }
   ],
   "source": [
    "hominidae_1.communication()\n",
    "\n",
    "human_1.communication()\n",
    "\n",
    "gorilla_1.communication()"
   ]
  },
  {
   "cell_type": "code",
   "execution_count": 6,
   "id": "ef958f7d",
   "metadata": {},
   "outputs": [
    {
     "name": "stdout",
     "output_type": "stream",
     "text": [
      "They are knuckle-walkers, used to hang and swing from one tree to another.\n",
      "They are bipeds.\n",
      "They are knuckle-walkers.\n"
     ]
    }
   ],
   "source": [
    "hominidae_1.walk()\n",
    "\n",
    "human_1.walk()\n",
    "\n",
    "gorilla_1.walk()"
   ]
  },
  {
   "cell_type": "code",
   "execution_count": 7,
   "id": "e2398a38",
   "metadata": {},
   "outputs": [],
   "source": [
    "class BankAccount:\n",
    "    \n",
    "    def __init__(self, balance):\n",
    "        self.__balance = balance\n",
    "        \n",
    "    def deposit(self, value):\n",
    "        self.__balance = self.__balance + value\n",
    "        \n",
    "        print(\"Deposit amount:\", value)\n",
    "        print(\"Balance after depositing:\", self.__balance)\n",
    "        \n",
    "    def withdrawal(self, value):\n",
    "        self.__balance = self.__balance - value\n",
    "        \n",
    "        print(\"Withdrawal amount:\", value)\n",
    "        print(\"Balance after withdrawal:\", self.__balance)"
   ]
  },
  {
   "cell_type": "code",
   "execution_count": 8,
   "id": "39d5b6ec",
   "metadata": {},
   "outputs": [],
   "source": [
    "b_1 = BankAccount(1500)"
   ]
  },
  {
   "cell_type": "code",
   "execution_count": 9,
   "id": "de9d83af",
   "metadata": {},
   "outputs": [
    {
     "name": "stdout",
     "output_type": "stream",
     "text": [
      "Deposit amount: 100\n",
      "Balance after depositing: 1600\n"
     ]
    }
   ],
   "source": [
    "b_1.deposit(100)"
   ]
  },
  {
   "cell_type": "code",
   "execution_count": 10,
   "id": "d0d5ae68",
   "metadata": {},
   "outputs": [
    {
     "name": "stdout",
     "output_type": "stream",
     "text": [
      "Withdrawal amount: 200\n",
      "Balance after withdrawal: 1400\n"
     ]
    }
   ],
   "source": [
    "b_1.withdrawal(200)"
   ]
  },
  {
   "cell_type": "code",
   "execution_count": 11,
   "id": "80e1aa57",
   "metadata": {},
   "outputs": [],
   "source": [
    "class CurrentAccount(BankAccount):\n",
    "    \n",
    "    def __init__(self, balance):\n",
    "        super().__init__(balance)\n",
    "        \n",
    "    def withdrawal(self, value):\n",
    "        if value > 1000:\n",
    "            print(\"Contact your branch manager\")\n",
    "        else:\n",
    "            super().withdrawal(value)"
   ]
  },
  {
   "cell_type": "code",
   "execution_count": 12,
   "id": "048c4c1c",
   "metadata": {},
   "outputs": [],
   "source": [
    "c_1 = CurrentAccount(1500)"
   ]
  },
  {
   "cell_type": "code",
   "execution_count": 13,
   "id": "1001e4d8",
   "metadata": {},
   "outputs": [
    {
     "name": "stdout",
     "output_type": "stream",
     "text": [
      "Withdrawal amount: 100\n",
      "Balance after withdrawal: 1400\n"
     ]
    }
   ],
   "source": [
    "c_1.withdrawal(100)"
   ]
  },
  {
   "cell_type": "code",
   "execution_count": 14,
   "id": "60285ee9",
   "metadata": {},
   "outputs": [
    {
     "name": "stdout",
     "output_type": "stream",
     "text": [
      "Contact your branch manager\n"
     ]
    }
   ],
   "source": [
    "c_1.withdrawal(1400)"
   ]
  },
  {
   "cell_type": "code",
   "execution_count": 15,
   "id": "b65cfe16",
   "metadata": {},
   "outputs": [],
   "source": [
    "class SavingsAccount(BankAccount):\n",
    "    \n",
    "    def __init__(self, balance):\n",
    "        super().__init__(balance)\n",
    "        \n",
    "    def deposit(self, value):\n",
    "        value += 0.05 * value\n",
    "        \n",
    "        super().deposit(value)"
   ]
  },
  {
   "cell_type": "code",
   "execution_count": 16,
   "id": "c5410775",
   "metadata": {},
   "outputs": [],
   "source": [
    "s_1 = SavingsAccount(2000)"
   ]
  },
  {
   "cell_type": "code",
   "execution_count": 17,
   "id": "906575fd",
   "metadata": {},
   "outputs": [
    {
     "name": "stdout",
     "output_type": "stream",
     "text": [
      "Deposit amount: 525.0\n",
      "Balance after depositing: 2525.0\n"
     ]
    }
   ],
   "source": [
    "s_1.deposit(500)"
   ]
  }
 ],
 "metadata": {
  "kernelspec": {
   "display_name": "Python 3 (ipykernel)",
   "language": "python",
   "name": "python3"
  },
  "language_info": {
   "codemirror_mode": {
    "name": "ipython",
    "version": 3
   },
   "file_extension": ".py",
   "mimetype": "text/x-python",
   "name": "python",
   "nbconvert_exporter": "python",
   "pygments_lexer": "ipython3",
   "version": "3.11.4"
  }
 },
 "nbformat": 4,
 "nbformat_minor": 5
}
