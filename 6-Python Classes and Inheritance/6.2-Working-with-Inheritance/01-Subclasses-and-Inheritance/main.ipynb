{
 "cells": [
  {
   "cell_type": "code",
   "execution_count": 1,
   "id": "b9a43a89",
   "metadata": {},
   "outputs": [],
   "source": [
    "class Shape:\n",
    "    pass"
   ]
  },
  {
   "cell_type": "code",
   "execution_count": 2,
   "id": "07f82764",
   "metadata": {},
   "outputs": [],
   "source": [
    "class Shape():\n",
    "    pass"
   ]
  },
  {
   "cell_type": "code",
   "execution_count": 3,
   "id": "094f1911",
   "metadata": {},
   "outputs": [],
   "source": [
    "class Shape(object):\n",
    "    pass"
   ]
  },
  {
   "cell_type": "code",
   "execution_count": 4,
   "id": "b12854b3",
   "metadata": {},
   "outputs": [],
   "source": [
    "class Shape:\n",
    "    \n",
    "    def __init__(self, shape_type):\n",
    "        self.__type = shape_type\n",
    "        \n",
    "    def get_type(self):\n",
    "        return self.__type"
   ]
  },
  {
   "cell_type": "code",
   "execution_count": 5,
   "id": "0f4308af",
   "metadata": {},
   "outputs": [
    {
     "data": {
      "text/plain": [
       "__main__.Shape"
      ]
     },
     "execution_count": 5,
     "metadata": {},
     "output_type": "execute_result"
    }
   ],
   "source": [
    "circle = Shape(\"circle\")\n",
    "\n",
    "type(circle)"
   ]
  },
  {
   "cell_type": "code",
   "execution_count": 6,
   "id": "fcf0ffe8",
   "metadata": {},
   "outputs": [
    {
     "data": {
      "text/plain": [
       "'circle'"
      ]
     },
     "execution_count": 6,
     "metadata": {},
     "output_type": "execute_result"
    }
   ],
   "source": [
    "circle.get_type()"
   ]
  },
  {
   "cell_type": "code",
   "execution_count": 7,
   "id": "f184ada3",
   "metadata": {},
   "outputs": [
    {
     "data": {
      "text/plain": [
       "__main__.Shape"
      ]
     },
     "execution_count": 7,
     "metadata": {},
     "output_type": "execute_result"
    }
   ],
   "source": [
    "square = Shape(\"square\")\n",
    "\n",
    "type(square)"
   ]
  },
  {
   "cell_type": "code",
   "execution_count": 8,
   "id": "26aee81a",
   "metadata": {},
   "outputs": [
    {
     "data": {
      "text/plain": [
       "'square'"
      ]
     },
     "execution_count": 8,
     "metadata": {},
     "output_type": "execute_result"
    }
   ],
   "source": [
    "square.get_type()"
   ]
  },
  {
   "cell_type": "code",
   "execution_count": 9,
   "id": "05d5663b",
   "metadata": {},
   "outputs": [],
   "source": [
    "class Shape:\n",
    "    \n",
    "    def __init__(self, shape_type, color=\"Red\"):\n",
    "        self.__type = shape_type\n",
    "        self.__color = color\n",
    "        \n",
    "    def get_type(self):\n",
    "        return self.__type\n",
    "    \n",
    "    def get_color(self):\n",
    "        return self.__color"
   ]
  },
  {
   "cell_type": "code",
   "execution_count": 10,
   "id": "1020e166",
   "metadata": {},
   "outputs": [
    {
     "data": {
      "text/plain": [
       "'Red'"
      ]
     },
     "execution_count": 10,
     "metadata": {},
     "output_type": "execute_result"
    }
   ],
   "source": [
    "circle = Shape(\"circle\")\n",
    "\n",
    "circle.get_color()"
   ]
  },
  {
   "cell_type": "code",
   "execution_count": 11,
   "id": "ff142b26",
   "metadata": {},
   "outputs": [
    {
     "data": {
      "text/plain": [
       "'Blue'"
      ]
     },
     "execution_count": 11,
     "metadata": {},
     "output_type": "execute_result"
    }
   ],
   "source": [
    "square = Shape(\"square\", color=\"Blue\")\n",
    "\n",
    "square.get_color()"
   ]
  },
  {
   "cell_type": "code",
   "execution_count": 12,
   "id": "8005b666",
   "metadata": {},
   "outputs": [],
   "source": [
    "class Shape:\n",
    "    \n",
    "    def __init__(self, shape_type, color=\"Red\"):\n",
    "        self.__type = shape_type\n",
    "        self.__color = color\n",
    "        \n",
    "    def get_type(self):\n",
    "        return self.__type\n",
    "    \n",
    "    def get_color(self):\n",
    "        return self.__color\n",
    "    \n",
    "    def get_area(self):\n",
    "        pass\n",
    "    \n",
    "    def get_perimeter(self):\n",
    "        pass"
   ]
  },
  {
   "cell_type": "code",
   "execution_count": 13,
   "id": "51b35035",
   "metadata": {},
   "outputs": [],
   "source": [
    "s = Shape(\"circle\")"
   ]
  },
  {
   "cell_type": "code",
   "execution_count": 14,
   "id": "297981ea",
   "metadata": {},
   "outputs": [],
   "source": [
    "s.get_area()"
   ]
  },
  {
   "cell_type": "code",
   "execution_count": 15,
   "id": "65b771dc",
   "metadata": {},
   "outputs": [],
   "source": [
    "s.get_perimeter()"
   ]
  },
  {
   "cell_type": "code",
   "execution_count": 16,
   "id": "3f5754eb",
   "metadata": {},
   "outputs": [],
   "source": [
    "class Circle(Shape):\n",
    "    pass"
   ]
  },
  {
   "cell_type": "code",
   "execution_count": 17,
   "id": "9920e748",
   "metadata": {},
   "outputs": [
    {
     "ename": "TypeError",
     "evalue": "Shape.__init__() missing 1 required positional argument: 'shape_type'",
     "output_type": "error",
     "traceback": [
      "\u001b[1;31m---------------------------------------------------------------------------\u001b[0m",
      "\u001b[1;31mTypeError\u001b[0m                                 Traceback (most recent call last)",
      "Cell \u001b[1;32mIn[17], line 1\u001b[0m\n\u001b[1;32m----> 1\u001b[0m circle \u001b[38;5;241m=\u001b[39m \u001b[43mCircle\u001b[49m\u001b[43m(\u001b[49m\u001b[43m)\u001b[49m\n",
      "\u001b[1;31mTypeError\u001b[0m: Shape.__init__() missing 1 required positional argument: 'shape_type'"
     ]
    }
   ],
   "source": [
    "circle = Circle()"
   ]
  },
  {
   "cell_type": "code",
   "execution_count": 18,
   "id": "434fbd05",
   "metadata": {},
   "outputs": [
    {
     "data": {
      "text/plain": [
       "__main__.Circle"
      ]
     },
     "execution_count": 18,
     "metadata": {},
     "output_type": "execute_result"
    }
   ],
   "source": [
    "circle = Circle(\"circle\")\n",
    "\n",
    "type(circle)"
   ]
  },
  {
   "cell_type": "code",
   "execution_count": 19,
   "id": "bed12311",
   "metadata": {},
   "outputs": [],
   "source": [
    "class Square(Shape):\n",
    "    pass"
   ]
  },
  {
   "cell_type": "code",
   "execution_count": 20,
   "id": "c67e600f",
   "metadata": {},
   "outputs": [
    {
     "data": {
      "text/plain": [
       "__main__.Square"
      ]
     },
     "execution_count": 20,
     "metadata": {},
     "output_type": "execute_result"
    }
   ],
   "source": [
    "square = Square(\"square\")\n",
    "\n",
    "type(square)"
   ]
  },
  {
   "cell_type": "code",
   "execution_count": 21,
   "id": "90c77ca6",
   "metadata": {},
   "outputs": [],
   "source": [
    "class Circle(Shape):\n",
    "    \n",
    "    def __init__(self):\n",
    "        Shape.__init__(self, \"circle\")"
   ]
  },
  {
   "cell_type": "code",
   "execution_count": 22,
   "id": "ab329e1e",
   "metadata": {},
   "outputs": [],
   "source": [
    "class Square(Shape):\n",
    "    \n",
    "    def __init__(self):\n",
    "        Shape.__init__(self, \"square\")"
   ]
  },
  {
   "cell_type": "code",
   "execution_count": 23,
   "id": "26f37244",
   "metadata": {},
   "outputs": [],
   "source": [
    "circle = Circle()\n",
    "\n",
    "square = Square()"
   ]
  },
  {
   "cell_type": "code",
   "execution_count": 24,
   "id": "c7e519c1",
   "metadata": {},
   "outputs": [
    {
     "data": {
      "text/plain": [
       "(__main__.Circle, __main__.Square)"
      ]
     },
     "execution_count": 24,
     "metadata": {},
     "output_type": "execute_result"
    }
   ],
   "source": [
    "type(circle), type(square)"
   ]
  },
  {
   "cell_type": "code",
   "execution_count": 25,
   "id": "ceef5908",
   "metadata": {},
   "outputs": [
    {
     "data": {
      "text/plain": [
       "('circle', 'square')"
      ]
     },
     "execution_count": 25,
     "metadata": {},
     "output_type": "execute_result"
    }
   ],
   "source": [
    "circle.get_type(), square.get_type()"
   ]
  },
  {
   "cell_type": "code",
   "execution_count": 26,
   "id": "ee58655e",
   "metadata": {},
   "outputs": [
    {
     "data": {
      "text/plain": [
       "('Red', 'Red')"
      ]
     },
     "execution_count": 26,
     "metadata": {},
     "output_type": "execute_result"
    }
   ],
   "source": [
    "circle.get_color(), square.get_color()"
   ]
  },
  {
   "cell_type": "code",
   "execution_count": 27,
   "id": "aab8045a",
   "metadata": {},
   "outputs": [],
   "source": [
    "class Circle(Shape):\n",
    "    \n",
    "    def __init__(self, color=\"Green\"):\n",
    "        Shape.__init__(self, \"circle\", color)"
   ]
  },
  {
   "cell_type": "code",
   "execution_count": 28,
   "id": "f545f72b",
   "metadata": {},
   "outputs": [
    {
     "data": {
      "text/plain": [
       "'Green'"
      ]
     },
     "execution_count": 28,
     "metadata": {},
     "output_type": "execute_result"
    }
   ],
   "source": [
    "circle = Circle()\n",
    "\n",
    "circle.get_color()"
   ]
  },
  {
   "cell_type": "code",
   "execution_count": 29,
   "id": "2fcf1a7c",
   "metadata": {},
   "outputs": [
    {
     "data": {
      "text/plain": [
       "'Yellow'"
      ]
     },
     "execution_count": 29,
     "metadata": {},
     "output_type": "execute_result"
    }
   ],
   "source": [
    "circle = Circle(\"Yellow\")\n",
    "\n",
    "circle.get_color()"
   ]
  },
  {
   "cell_type": "code",
   "execution_count": 30,
   "id": "4fa2ec9f",
   "metadata": {},
   "outputs": [],
   "source": [
    "class Square(Shape):\n",
    "    \n",
    "    def __init__(self, color):\n",
    "        Shape.__init__(self, \"square\", color)"
   ]
  },
  {
   "cell_type": "code",
   "execution_count": 31,
   "id": "f522a3a8",
   "metadata": {},
   "outputs": [
    {
     "ename": "TypeError",
     "evalue": "Square.__init__() missing 1 required positional argument: 'color'",
     "output_type": "error",
     "traceback": [
      "\u001b[1;31m---------------------------------------------------------------------------\u001b[0m",
      "\u001b[1;31mTypeError\u001b[0m                                 Traceback (most recent call last)",
      "Cell \u001b[1;32mIn[31], line 1\u001b[0m\n\u001b[1;32m----> 1\u001b[0m square \u001b[38;5;241m=\u001b[39m \u001b[43mSquare\u001b[49m\u001b[43m(\u001b[49m\u001b[43m)\u001b[49m\n",
      "\u001b[1;31mTypeError\u001b[0m: Square.__init__() missing 1 required positional argument: 'color'"
     ]
    }
   ],
   "source": [
    "square = Square()"
   ]
  },
  {
   "cell_type": "code",
   "execution_count": 32,
   "id": "4b773b21",
   "metadata": {},
   "outputs": [
    {
     "data": {
      "text/plain": [
       "'Orange'"
      ]
     },
     "execution_count": 32,
     "metadata": {},
     "output_type": "execute_result"
    }
   ],
   "source": [
    "square = Square(\"Orange\")\n",
    "\n",
    "square.get_color()"
   ]
  },
  {
   "cell_type": "code",
   "execution_count": 33,
   "id": "be40b064",
   "metadata": {},
   "outputs": [],
   "source": [
    "import math\n",
    "\n",
    "class Circle(Shape):\n",
    "    \n",
    "    def __init__(self, radius):\n",
    "        Shape.__init__(self, 'circle')\n",
    "        self.__radius = radius\n",
    "    \n",
    "    def get_area(self):\n",
    "        return math.pi * self.__radius * self.__radius\n",
    "    \n",
    "    def get_perimeter(self):\n",
    "        return 2 * math.pi * self.__radius"
   ]
  },
  {
   "cell_type": "code",
   "execution_count": 34,
   "id": "12e7263d",
   "metadata": {},
   "outputs": [],
   "source": [
    "c = Circle(10)"
   ]
  },
  {
   "cell_type": "code",
   "execution_count": 35,
   "id": "6e63e8b9",
   "metadata": {},
   "outputs": [
    {
     "data": {
      "text/plain": [
       "314.1592653589793"
      ]
     },
     "execution_count": 35,
     "metadata": {},
     "output_type": "execute_result"
    }
   ],
   "source": [
    "c.get_area()"
   ]
  },
  {
   "cell_type": "code",
   "execution_count": 36,
   "id": "3bccb663",
   "metadata": {},
   "outputs": [
    {
     "data": {
      "text/plain": [
       "62.83185307179586"
      ]
     },
     "execution_count": 36,
     "metadata": {},
     "output_type": "execute_result"
    }
   ],
   "source": [
    "c.get_perimeter()"
   ]
  },
  {
   "cell_type": "code",
   "execution_count": 37,
   "id": "dcac72d0",
   "metadata": {},
   "outputs": [],
   "source": [
    "class Square(Shape):\n",
    "    \n",
    "    def __init__(self, side):\n",
    "        Shape.__init__(self, 'side')\n",
    "        self.__side = side\n",
    "    \n",
    "    def get_area(self):\n",
    "        return self.__side * self.__side\n",
    "    \n",
    "    def get_perimeter(self):\n",
    "        return 4 * self.__side"
   ]
  },
  {
   "cell_type": "code",
   "execution_count": 38,
   "id": "14ea2238",
   "metadata": {},
   "outputs": [],
   "source": [
    "s = Square(10)"
   ]
  },
  {
   "cell_type": "code",
   "execution_count": 39,
   "id": "04ee2f73",
   "metadata": {},
   "outputs": [
    {
     "data": {
      "text/plain": [
       "100"
      ]
     },
     "execution_count": 39,
     "metadata": {},
     "output_type": "execute_result"
    }
   ],
   "source": [
    "s.get_area()"
   ]
  },
  {
   "cell_type": "code",
   "execution_count": 40,
   "id": "abbf7a96",
   "metadata": {},
   "outputs": [
    {
     "data": {
      "text/plain": [
       "40"
      ]
     },
     "execution_count": 40,
     "metadata": {},
     "output_type": "execute_result"
    }
   ],
   "source": [
    "s.get_perimeter()"
   ]
  }
 ],
 "metadata": {
  "kernelspec": {
   "display_name": "Python 3 (ipykernel)",
   "language": "python",
   "name": "python3"
  },
  "language_info": {
   "codemirror_mode": {
    "name": "ipython",
    "version": 3
   },
   "file_extension": ".py",
   "mimetype": "text/x-python",
   "name": "python",
   "nbconvert_exporter": "python",
   "pygments_lexer": "ipython3",
   "version": "3.11.4"
  }
 },
 "nbformat": 4,
 "nbformat_minor": 5
}
