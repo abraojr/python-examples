{
 "cells": [
  {
   "cell_type": "markdown",
   "id": "e4921d2d-9498-4c9a-b94d-22389a7e470f",
   "metadata": {},
   "source": [
    "## Defining a Custom Linked List"
   ]
  },
  {
   "cell_type": "code",
   "execution_count": 1,
   "id": "29a5d181-c6a6-4382-afb9-a2e105c2b628",
   "metadata": {},
   "outputs": [],
   "source": [
    "class Node:\n",
    "    \"\"\"\n",
    "    A node in a singly-linked list.\n",
    "    \"\"\"\n",
    "    def __init__(self, dataval=None, nextval=None):\n",
    "        self.dataval = dataval\n",
    "        self.nextval = nextval\n",
    "\n",
    "    def __repr__(self):\n",
    "        return repr(self.dataval)"
   ]
  },
  {
   "cell_type": "code",
   "execution_count": 2,
   "id": "5713574d-abba-41d6-b3e6-3f01672e75b9",
   "metadata": {},
   "outputs": [],
   "source": [
    "class LinkedList:\n",
    "    def __init__(self):\n",
    "\n",
    "        \"\"\"Creating a new singly-linked list.\"\"\"\n",
    "        self.head = None\n",
    "\n",
    "    def __repr__(self):\n",
    "\n",
    "        \"\"\"Creating a string representation of the data in a list.\"\"\"\n",
    "        nodes = []\n",
    "        curr = self.head\n",
    "\n",
    "        while curr:\n",
    "            nodes.append(repr(curr))\n",
    "            curr = curr.nextval\n",
    "\n",
    "        return \"[\" + \"->\".join(nodes) + \"]\"\n",
    "\n",
    "    def prepend(self, dataval):\n",
    "\n",
    "        \"\"\"Insert a new element at the beginning of the list.\"\"\"\n",
    "        self.head = Node(dataval=dataval, nextval=self.head)\n",
    "\n",
    "    def append(self, dataval):\n",
    "\n",
    "        \"\"\"Insert a new element at the end of the list.\"\"\"\n",
    "        if not self.head:\n",
    "            self.head = Node(dataval=dataval)\n",
    "            return\n",
    "\n",
    "        curr = self.head\n",
    "\n",
    "        while curr.nextval:\n",
    "            curr = curr.nextval\n",
    "\n",
    "        curr.nextval = Node(dataval=dataval)\n",
    "\n",
    "    def add_after(self, middle_dataval, dataval):\n",
    "\n",
    "        \"\"\"Insert a new element after the node with middle_dataval.\"\"\"\n",
    "        if middle_dataval is None:\n",
    "            print(\"Data to insert after not specified\")\n",
    "            return\n",
    "\n",
    "        curr = self.head\n",
    "\n",
    "        while curr and curr.dataval != middle_dataval:\n",
    "            curr = curr.nextval\n",
    "\n",
    "        new_node = Node(dataval=dataval)\n",
    "        new_node.nextval = curr.nextval\n",
    "        curr.nextval = new_node\n",
    "\n",
    "    def find(self, data):\n",
    "\n",
    "        \"\"\"Search for the first element with `dataval` matching\n",
    "        `data`. Return the element or `None` if not found.\"\"\"\n",
    "        curr = self.head\n",
    "        while curr and curr.dataval != data:\n",
    "            curr = curr.nextval\n",
    "\n",
    "        return curr\n",
    "\n",
    "    def remove(self, data):\n",
    "\n",
    "        \"\"\"Remove the first occurrence of `data` in the list.\"\"\"\n",
    "        curr = self.head\n",
    "        prev = None\n",
    "\n",
    "        while curr and curr.dataval != data:\n",
    "            prev = curr\n",
    "            curr = curr.nextval\n",
    "\n",
    "        if prev is None:\n",
    "            self.head = curr.nextval\n",
    "        elif curr:\n",
    "            prev.nextval = curr.nextval\n",
    "            curr.nextval = None\n",
    "\n",
    "    def reverse(self):\n",
    "\n",
    "        \"\"\"Reverse the list in-place.\"\"\"\n",
    "        curr = self.head\n",
    "\n",
    "        prev_node = None\n",
    "        next_node = None\n",
    "\n",
    "        while curr:\n",
    "            nextval = curr.nextval\n",
    "            curr.nextval = prev_node\n",
    "\n",
    "            prev_node = curr\n",
    "\n",
    "            curr = nextval\n",
    "\n",
    "        self.head = prev_node\n",
    "\n",
    "    def reverse_recursive(self):\n",
    "\n",
    "        \"\"\"Reverse the list in place using recursion.\"\"\"\n",
    "\n",
    "        def recursion(curr, prev):\n",
    "            if not curr:\n",
    "                return prev\n",
    "\n",
    "            nextval = curr.nextval\n",
    "            curr.nextval = prev\n",
    "\n",
    "            prev = curr\n",
    "            curr = nextval\n",
    "\n",
    "            return recursion(curr, prev)\n",
    "\n",
    "        self.head = recursion(curr=self.head, prev=None)\n",
    "\n",
    "    def count_nodes(self):\n",
    "\n",
    "        \"\"\"Count the number of nodes in the linked list.\"\"\"\n",
    "        if self.head == None:\n",
    "            return 0\n",
    "        else:\n",
    "            curr = self.head\n",
    "            count = 0\n",
    "            while curr != None:\n",
    "                curr = curr.nextval\n",
    "                count += 1\n",
    "\n",
    "        return count"
   ]
  },
  {
   "cell_type": "code",
   "execution_count": 3,
   "id": "840b82e6-17df-49c3-ac96-7f60da550f24",
   "metadata": {},
   "outputs": [],
   "source": [
    "numbers = LinkedList()"
   ]
  },
  {
   "cell_type": "code",
   "execution_count": 4,
   "id": "56650fe4-1563-488e-ad45-6733fda7b5a9",
   "metadata": {},
   "outputs": [
    {
     "data": {
      "text/plain": [
       "[]"
      ]
     },
     "execution_count": 4,
     "metadata": {},
     "output_type": "execute_result"
    }
   ],
   "source": [
    "numbers"
   ]
  },
  {
   "cell_type": "code",
   "execution_count": 5,
   "id": "142c54d3-4efa-441c-a4d7-806eb0afa1c9",
   "metadata": {},
   "outputs": [
    {
     "data": {
      "text/plain": [
       "['two'->'three']"
      ]
     },
     "execution_count": 5,
     "metadata": {},
     "output_type": "execute_result"
    }
   ],
   "source": [
    "numbers.append(\"two\")\n",
    "numbers.append(\"three\")\n",
    "\n",
    "numbers"
   ]
  },
  {
   "cell_type": "code",
   "execution_count": 6,
   "id": "5f186f78-a16e-4c9f-9bec-80393f4e03fe",
   "metadata": {},
   "outputs": [
    {
     "data": {
      "text/plain": [
       "['one'->'two'->'three']"
      ]
     },
     "execution_count": 6,
     "metadata": {},
     "output_type": "execute_result"
    }
   ],
   "source": [
    "numbers.prepend(\"one\")\n",
    "\n",
    "numbers"
   ]
  },
  {
   "cell_type": "code",
   "execution_count": 7,
   "id": "212ec301-da24-4424-b1a2-2ea9ef974f80",
   "metadata": {},
   "outputs": [
    {
     "data": {
      "text/plain": [
       "['one'->'two'->'three'->'four'->'five'->'seven']"
      ]
     },
     "execution_count": 7,
     "metadata": {},
     "output_type": "execute_result"
    }
   ],
   "source": [
    "numbers.append(\"four\")\n",
    "numbers.append(\"five\")\n",
    "numbers.append(\"seven\")\n",
    "\n",
    "numbers"
   ]
  },
  {
   "cell_type": "code",
   "execution_count": 8,
   "id": "7151e2fa-6298-4786-89f9-d21140fb8263",
   "metadata": {},
   "outputs": [
    {
     "data": {
      "text/plain": [
       "['one'->'two'->'three'->'four'->'five'->'six'->'seven']"
      ]
     },
     "execution_count": 8,
     "metadata": {},
     "output_type": "execute_result"
    }
   ],
   "source": [
    "numbers.add_after(\"five\", \"six\")\n",
    "\n",
    "numbers"
   ]
  },
  {
   "cell_type": "code",
   "execution_count": 9,
   "id": "12d149fb-d4e4-4ae7-bbfc-d1c3ebd5fe3f",
   "metadata": {},
   "outputs": [
    {
     "data": {
      "text/plain": [
       "['seven'->'six'->'five'->'four'->'three'->'two'->'one']"
      ]
     },
     "execution_count": 9,
     "metadata": {},
     "output_type": "execute_result"
    }
   ],
   "source": [
    "numbers.reverse()\n",
    "\n",
    "numbers"
   ]
  },
  {
   "cell_type": "code",
   "execution_count": 10,
   "id": "b2ccb3c9-468f-4b53-8db2-1bc2aff4a936",
   "metadata": {},
   "outputs": [
    {
     "data": {
      "text/plain": [
       "['one'->'two'->'three'->'four'->'five'->'six'->'seven']"
      ]
     },
     "execution_count": 10,
     "metadata": {},
     "output_type": "execute_result"
    }
   ],
   "source": [
    "numbers.reverse_recursive()\n",
    "\n",
    "numbers"
   ]
  },
  {
   "cell_type": "code",
   "execution_count": 11,
   "id": "89738931-8d7a-4c22-bb3f-d3a5821b4f84",
   "metadata": {},
   "outputs": [
    {
     "data": {
      "text/plain": [
       "['two'->'three'->'four'->'five'->'six'->'seven']"
      ]
     },
     "execution_count": 11,
     "metadata": {},
     "output_type": "execute_result"
    }
   ],
   "source": [
    "numbers.remove(\"one\")\n",
    "\n",
    "numbers"
   ]
  },
  {
   "cell_type": "code",
   "execution_count": 12,
   "id": "e049e47e-7ea7-4f20-8691-4240bef0a947",
   "metadata": {},
   "outputs": [
    {
     "data": {
      "text/plain": [
       "['two'->'three'->'four'->'five'->'seven']"
      ]
     },
     "execution_count": 12,
     "metadata": {},
     "output_type": "execute_result"
    }
   ],
   "source": [
    "numbers.remove(\"six\")\n",
    "\n",
    "numbers"
   ]
  },
  {
   "cell_type": "code",
   "execution_count": 13,
   "id": "d8db20ae-6477-48ea-90e7-0593bf5db092",
   "metadata": {},
   "outputs": [
    {
     "data": {
      "text/plain": [
       "5"
      ]
     },
     "execution_count": 13,
     "metadata": {},
     "output_type": "execute_result"
    }
   ],
   "source": [
    "numbers.count_nodes()"
   ]
  }
 ],
 "metadata": {
  "kernelspec": {
   "display_name": "Python 3 (ipykernel)",
   "language": "python",
   "name": "python3"
  },
  "language_info": {
   "codemirror_mode": {
    "name": "ipython",
    "version": 3
   },
   "file_extension": ".py",
   "mimetype": "text/x-python",
   "name": "python",
   "nbconvert_exporter": "python",
   "pygments_lexer": "ipython3",
   "version": "3.11.8"
  }
 },
 "nbformat": 4,
 "nbformat_minor": 5
}
