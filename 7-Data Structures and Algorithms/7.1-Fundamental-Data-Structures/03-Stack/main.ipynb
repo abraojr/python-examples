{
 "cells": [
  {
   "cell_type": "markdown",
   "id": "6bea5406-b9c9-472e-89c4-a2ccabc76dcf",
   "metadata": {},
   "source": [
    "## Using a Python List as a Stack"
   ]
  },
  {
   "cell_type": "code",
   "execution_count": 1,
   "id": "10e69b9d-ef06-4ca0-8b6e-6c6d423e82eb",
   "metadata": {},
   "outputs": [],
   "source": [
    "stack = []"
   ]
  },
  {
   "cell_type": "code",
   "execution_count": 2,
   "id": "7eccd384-a06c-417f-a03b-7a152af0b13d",
   "metadata": {},
   "outputs": [],
   "source": [
    "stack.append('United States (USA)')\n",
    "stack.append('Great Britain (GBR)')\n",
    "stack.append('China (CHN)')"
   ]
  },
  {
   "cell_type": "code",
   "execution_count": 3,
   "id": "de7ed3d4-6a95-4141-9af4-6e2a9a304e40",
   "metadata": {},
   "outputs": [
    {
     "data": {
      "text/plain": [
       "['United States (USA)', 'Great Britain (GBR)', 'China (CHN)']"
      ]
     },
     "execution_count": 3,
     "metadata": {},
     "output_type": "execute_result"
    }
   ],
   "source": [
    "stack"
   ]
  },
  {
   "cell_type": "code",
   "execution_count": 4,
   "id": "3b445c72-8cbd-4e9d-a5ed-43e9a5144c68",
   "metadata": {},
   "outputs": [
    {
     "data": {
      "text/plain": [
       "'China (CHN)'"
      ]
     },
     "execution_count": 4,
     "metadata": {},
     "output_type": "execute_result"
    }
   ],
   "source": [
    "stack.pop()"
   ]
  },
  {
   "cell_type": "code",
   "execution_count": 5,
   "id": "4cbfc08f-1f6a-4f81-98a6-60f538f43e98",
   "metadata": {},
   "outputs": [
    {
     "data": {
      "text/plain": [
       "['United States (USA)', 'Great Britain (GBR)']"
      ]
     },
     "execution_count": 5,
     "metadata": {},
     "output_type": "execute_result"
    }
   ],
   "source": [
    "stack"
   ]
  },
  {
   "cell_type": "code",
   "execution_count": 6,
   "id": "0254ed17-8f02-40c3-8a68-aa868ee2d27e",
   "metadata": {},
   "outputs": [],
   "source": [
    "stack.append('China (CHN)')"
   ]
  },
  {
   "cell_type": "code",
   "execution_count": 7,
   "id": "1da3f378-0799-446b-95fa-155bf0eaecdb",
   "metadata": {},
   "outputs": [
    {
     "data": {
      "text/plain": [
       "['United States (USA)', 'Great Britain (GBR)', 'China (CHN)']"
      ]
     },
     "execution_count": 7,
     "metadata": {},
     "output_type": "execute_result"
    }
   ],
   "source": [
    "stack"
   ]
  },
  {
   "cell_type": "code",
   "execution_count": 8,
   "id": "ff65ad62-314f-45cc-8fcf-94ee10117d66",
   "metadata": {},
   "outputs": [],
   "source": [
    "stack.append('Russia (RUS)')\n",
    "stack.append('Germany (GER)')\n",
    "stack.append('Japan (JPN)')\n",
    "stack.append('France (FRA)')\n",
    "stack.append('South Korea (KOR)')\n",
    "stack.append('Italy (ITA)')\n",
    "stack.append('Australia (AUS)')"
   ]
  },
  {
   "cell_type": "code",
   "execution_count": 9,
   "id": "4a80aa0d-4b54-41b7-977d-bc7b83ccef6e",
   "metadata": {},
   "outputs": [
    {
     "data": {
      "text/plain": [
       "'Australia (AUS)'"
      ]
     },
     "execution_count": 9,
     "metadata": {},
     "output_type": "execute_result"
    }
   ],
   "source": [
    "stack.pop()"
   ]
  },
  {
   "cell_type": "code",
   "execution_count": 10,
   "id": "6190eba7-1144-4ba4-880d-785628ff9f3d",
   "metadata": {},
   "outputs": [
    {
     "data": {
      "text/plain": [
       "'Italy (ITA)'"
      ]
     },
     "execution_count": 10,
     "metadata": {},
     "output_type": "execute_result"
    }
   ],
   "source": [
    "stack.pop()"
   ]
  },
  {
   "cell_type": "markdown",
   "id": "9c5feb46-88cd-4fdc-996b-71b2f5f02bca",
   "metadata": {},
   "source": [
    "## Defining a Custom Stack"
   ]
  },
  {
   "cell_type": "code",
   "execution_count": 11,
   "id": "14a929bd-3022-4124-b627-59308da98381",
   "metadata": {},
   "outputs": [],
   "source": [
    "class Stack:\n",
    "\n",
    "    def __init__(self):\n",
    "        \"\"\"Create a new stack\"\"\"\n",
    "        self.stack = []\n",
    "\n",
    "    def push(self, data):\n",
    "        \"\"\"Add a element to the stack\"\"\"\n",
    "        self.stack.append(data)\n",
    "\n",
    "    def pop(self): \n",
    "        \"\"\"Remove the top element of the stack\"\"\"\n",
    "        if self.is_empty():\n",
    "            raise Exception(\"Nothing to pop\")\n",
    "            \n",
    "        return self.stack.pop(len(self.stack) - 1)\n",
    "        \n",
    "    def peek(self): \n",
    "        \"\"\"Have a look at the top element of the stack\"\"\"\n",
    "        if self.is_empty():\n",
    "            raise Exception(\"Nothing to peek\")\n",
    "            \n",
    "        return self.stack[len(self.stack) - 1]\n",
    "\n",
    "    def is_empty(self): \n",
    "        \"\"\"Returns true if stack is empty\"\"\"\n",
    "        return len(self.stack) == 0\n",
    "\n",
    "    def size(self): \n",
    "        \"\"\"Returns size of the stack\"\"\"\n",
    "        return len(self.stack)"
   ]
  },
  {
   "cell_type": "code",
   "execution_count": 12,
   "id": "5f9d7b9b-2d30-4fe5-a575-4501efd015cc",
   "metadata": {},
   "outputs": [
    {
     "data": {
      "text/plain": [
       "<__main__.Stack at 0x2772b770f10>"
      ]
     },
     "execution_count": 12,
     "metadata": {},
     "output_type": "execute_result"
    }
   ],
   "source": [
    "olympics = Stack()\n",
    "olympics"
   ]
  },
  {
   "cell_type": "code",
   "execution_count": 13,
   "id": "42d2e3cd-145c-424b-ad64-e9f2411d5dcb",
   "metadata": {},
   "outputs": [],
   "source": [
    "olympics.push('United States (USA)')\n",
    "olympics.push('Great Britain (GBR)')\n",
    "olympics.push('China (CHN)')\n",
    "olympics.push('Russia (RUS)')"
   ]
  },
  {
   "cell_type": "code",
   "execution_count": 14,
   "id": "cf9c0d92-f695-4019-ba90-23a5fabe2022",
   "metadata": {},
   "outputs": [
    {
     "data": {
      "text/plain": [
       "4"
      ]
     },
     "execution_count": 14,
     "metadata": {},
     "output_type": "execute_result"
    }
   ],
   "source": [
    "olympics.size()"
   ]
  },
  {
   "cell_type": "code",
   "execution_count": 15,
   "id": "483b1e09-7588-4dc9-8024-25e70ad8005c",
   "metadata": {},
   "outputs": [],
   "source": [
    "olympics.push('Germany (GER)')\n",
    "olympics.push('Japan (JPN)')"
   ]
  },
  {
   "cell_type": "code",
   "execution_count": 16,
   "id": "3f3f2bfe-e87e-432d-9153-034814126564",
   "metadata": {},
   "outputs": [
    {
     "data": {
      "text/plain": [
       "'Japan (JPN)'"
      ]
     },
     "execution_count": 16,
     "metadata": {},
     "output_type": "execute_result"
    }
   ],
   "source": [
    "olympics.pop()"
   ]
  },
  {
   "cell_type": "code",
   "execution_count": 17,
   "id": "c00b6273-2f4f-48a0-8663-39f438fb9130",
   "metadata": {},
   "outputs": [
    {
     "data": {
      "text/plain": [
       "False"
      ]
     },
     "execution_count": 17,
     "metadata": {},
     "output_type": "execute_result"
    }
   ],
   "source": [
    "olympics.is_empty()"
   ]
  },
  {
   "cell_type": "code",
   "execution_count": 18,
   "id": "5ecdc9f5-24a2-4714-bc32-8335136a8964",
   "metadata": {},
   "outputs": [
    {
     "data": {
      "text/plain": [
       "'Germany (GER)'"
      ]
     },
     "execution_count": 18,
     "metadata": {},
     "output_type": "execute_result"
    }
   ],
   "source": [
    "olympics.peek()"
   ]
  },
  {
   "cell_type": "code",
   "execution_count": 19,
   "id": "603fae0b-6e53-4101-93c1-a9b041cea3dc",
   "metadata": {},
   "outputs": [
    {
     "data": {
      "text/plain": [
       "'Germany (GER)'"
      ]
     },
     "execution_count": 19,
     "metadata": {},
     "output_type": "execute_result"
    }
   ],
   "source": [
    "olympics.pop()"
   ]
  },
  {
   "cell_type": "code",
   "execution_count": 20,
   "id": "c0c01643-a116-441a-bdf0-411bc821cb95",
   "metadata": {},
   "outputs": [
    {
     "data": {
      "text/plain": [
       "'Russia (RUS)'"
      ]
     },
     "execution_count": 20,
     "metadata": {},
     "output_type": "execute_result"
    }
   ],
   "source": [
    "olympics.pop()"
   ]
  },
  {
   "cell_type": "code",
   "execution_count": 21,
   "id": "c61d62ef-f2ba-4040-af5b-c1e107a54a48",
   "metadata": {},
   "outputs": [
    {
     "data": {
      "text/plain": [
       "'China (CHN)'"
      ]
     },
     "execution_count": 21,
     "metadata": {},
     "output_type": "execute_result"
    }
   ],
   "source": [
    "olympics.pop()"
   ]
  },
  {
   "cell_type": "code",
   "execution_count": 22,
   "id": "a9f48ef4-785e-4e50-b3b8-ee3c3f200a5f",
   "metadata": {},
   "outputs": [
    {
     "data": {
      "text/plain": [
       "'Great Britain (GBR)'"
      ]
     },
     "execution_count": 22,
     "metadata": {},
     "output_type": "execute_result"
    }
   ],
   "source": [
    "olympics.pop()"
   ]
  },
  {
   "cell_type": "code",
   "execution_count": 23,
   "id": "ebfde341-2c06-4ed3-9aec-ec77840a94cf",
   "metadata": {},
   "outputs": [
    {
     "data": {
      "text/plain": [
       "'United States (USA)'"
      ]
     },
     "execution_count": 23,
     "metadata": {},
     "output_type": "execute_result"
    }
   ],
   "source": [
    "olympics.pop()"
   ]
  },
  {
   "cell_type": "code",
   "execution_count": 24,
   "id": "dc9d66f8-44de-41cb-915c-51699e8ae8a5",
   "metadata": {},
   "outputs": [
    {
     "ename": "Exception",
     "evalue": "Nothing to pop",
     "output_type": "error",
     "traceback": [
      "\u001b[1;31m---------------------------------------------------------------------------\u001b[0m",
      "\u001b[1;31mException\u001b[0m                                 Traceback (most recent call last)",
      "Cell \u001b[1;32mIn[24], line 1\u001b[0m\n\u001b[1;32m----> 1\u001b[0m \u001b[43molympics\u001b[49m\u001b[38;5;241;43m.\u001b[39;49m\u001b[43mpop\u001b[49m\u001b[43m(\u001b[49m\u001b[43m)\u001b[49m\n",
      "Cell \u001b[1;32mIn[11], line 14\u001b[0m, in \u001b[0;36mStack.pop\u001b[1;34m(self)\u001b[0m\n\u001b[0;32m     12\u001b[0m \u001b[38;5;250m\u001b[39m\u001b[38;5;124;03m\"\"\"Remove the top element of the stack\"\"\"\u001b[39;00m\n\u001b[0;32m     13\u001b[0m \u001b[38;5;28;01mif\u001b[39;00m \u001b[38;5;28mself\u001b[39m\u001b[38;5;241m.\u001b[39mis_empty():\n\u001b[1;32m---> 14\u001b[0m     \u001b[38;5;28;01mraise\u001b[39;00m \u001b[38;5;167;01mException\u001b[39;00m(\u001b[38;5;124m\"\u001b[39m\u001b[38;5;124mNothing to pop\u001b[39m\u001b[38;5;124m\"\u001b[39m)\n\u001b[0;32m     16\u001b[0m \u001b[38;5;28;01mreturn\u001b[39;00m \u001b[38;5;28mself\u001b[39m\u001b[38;5;241m.\u001b[39mstack\u001b[38;5;241m.\u001b[39mpop(\u001b[38;5;28mlen\u001b[39m(\u001b[38;5;28mself\u001b[39m\u001b[38;5;241m.\u001b[39mstack) \u001b[38;5;241m-\u001b[39m \u001b[38;5;241m1\u001b[39m)\n",
      "\u001b[1;31mException\u001b[0m: Nothing to pop"
     ]
    }
   ],
   "source": [
    "olympics.pop()"
   ]
  },
  {
   "cell_type": "code",
   "execution_count": 25,
   "id": "103bafb7-c65e-4831-9ff3-abb908e4c213",
   "metadata": {},
   "outputs": [
    {
     "data": {
      "text/plain": [
       "True"
      ]
     },
     "execution_count": 25,
     "metadata": {},
     "output_type": "execute_result"
    }
   ],
   "source": [
    "olympics.is_empty()"
   ]
  }
 ],
 "metadata": {
  "kernelspec": {
   "display_name": "Python 3 (ipykernel)",
   "language": "python",
   "name": "python3"
  },
  "language_info": {
   "codemirror_mode": {
    "name": "ipython",
    "version": 3
   },
   "file_extension": ".py",
   "mimetype": "text/x-python",
   "name": "python",
   "nbconvert_exporter": "python",
   "pygments_lexer": "ipython3",
   "version": "3.11.8"
  }
 },
 "nbformat": 4,
 "nbformat_minor": 5
}
