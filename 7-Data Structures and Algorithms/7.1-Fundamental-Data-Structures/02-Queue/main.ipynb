{
 "cells": [
  {
   "cell_type": "markdown",
   "id": "2768303b-8f2f-42b1-ad38-aa45249c66f8",
   "metadata": {
    "jp-MarkdownHeadingCollapsed": true
   },
   "source": [
    "## Python's Built-in Queue"
   ]
  },
  {
   "cell_type": "code",
   "execution_count": 1,
   "id": "f75e6de6-f73f-4f57-b98d-5d555f605b61",
   "metadata": {},
   "outputs": [],
   "source": [
    "from queue import Queue"
   ]
  },
  {
   "cell_type": "code",
   "execution_count": 2,
   "id": "54cf417f-dc3e-4363-b9f3-d199b8addb2a",
   "metadata": {},
   "outputs": [
    {
     "data": {
      "text/plain": [
       "<queue.Queue at 0x228578fba90>"
      ]
     },
     "execution_count": 2,
     "metadata": {},
     "output_type": "execute_result"
    }
   ],
   "source": [
    "olympics = Queue(5)\n",
    "olympics"
   ]
  },
  {
   "cell_type": "code",
   "execution_count": 3,
   "id": "900275f2-0b06-41ec-96c5-83624cbdbea8",
   "metadata": {},
   "outputs": [],
   "source": [
    "olympics.put(\"United States (USA)\")\n",
    "olympics.put(\"Great Britain (GBR)\")"
   ]
  },
  {
   "cell_type": "code",
   "execution_count": 4,
   "id": "ca49ed2d-b615-4911-9225-79411c0dac02",
   "metadata": {},
   "outputs": [
    {
     "data": {
      "text/plain": [
       "False"
      ]
     },
     "execution_count": 4,
     "metadata": {},
     "output_type": "execute_result"
    }
   ],
   "source": [
    "olympics.empty()"
   ]
  },
  {
   "cell_type": "code",
   "execution_count": 5,
   "id": "7be124ee-1521-4ad0-b274-6dda728a3d0d",
   "metadata": {},
   "outputs": [
    {
     "data": {
      "text/plain": [
       "False"
      ]
     },
     "execution_count": 5,
     "metadata": {},
     "output_type": "execute_result"
    }
   ],
   "source": [
    "olympics.full()"
   ]
  },
  {
   "cell_type": "code",
   "execution_count": 6,
   "id": "2e177c9a-87f1-4a24-a46d-ac81eb3b36b6",
   "metadata": {},
   "outputs": [
    {
     "data": {
      "text/plain": [
       "2"
      ]
     },
     "execution_count": 6,
     "metadata": {},
     "output_type": "execute_result"
    }
   ],
   "source": [
    "olympics.qsize()"
   ]
  },
  {
   "cell_type": "code",
   "execution_count": 7,
   "id": "74f234b4-05fb-46c6-a3bc-ab35d737256b",
   "metadata": {},
   "outputs": [],
   "source": [
    "olympics.put(\"China (CHN)\")\n",
    "olympics.put(\"Russia (RUS)\")\n",
    "olympics.put(\"Germany (GER)\")"
   ]
  },
  {
   "cell_type": "code",
   "execution_count": 8,
   "id": "8b4e3963-1881-4cb3-8814-9455e640dbf4",
   "metadata": {},
   "outputs": [
    {
     "data": {
      "text/plain": [
       "False"
      ]
     },
     "execution_count": 8,
     "metadata": {},
     "output_type": "execute_result"
    }
   ],
   "source": [
    "olympics.empty()"
   ]
  },
  {
   "cell_type": "code",
   "execution_count": 9,
   "id": "7959f1eb-db1e-49b2-8557-ffbc47d21a19",
   "metadata": {},
   "outputs": [
    {
     "data": {
      "text/plain": [
       "True"
      ]
     },
     "execution_count": 9,
     "metadata": {},
     "output_type": "execute_result"
    }
   ],
   "source": [
    "olympics.full()"
   ]
  },
  {
   "cell_type": "code",
   "execution_count": 10,
   "id": "412e520f-dc3c-48a7-866e-7ac37fa4b0aa",
   "metadata": {},
   "outputs": [
    {
     "data": {
      "text/plain": [
       "5"
      ]
     },
     "execution_count": 10,
     "metadata": {},
     "output_type": "execute_result"
    }
   ],
   "source": [
    "olympics.qsize()"
   ]
  },
  {
   "cell_type": "code",
   "execution_count": 11,
   "id": "fe43d0ab-5755-4dd5-bd03-bdb6108c96d6",
   "metadata": {},
   "outputs": [
    {
     "data": {
      "text/plain": [
       "'United States (USA)'"
      ]
     },
     "execution_count": 11,
     "metadata": {},
     "output_type": "execute_result"
    }
   ],
   "source": [
    "olympics.get()"
   ]
  },
  {
   "cell_type": "code",
   "execution_count": 12,
   "id": "cb0a5f08-1c49-494e-92f6-6df8c1282c9e",
   "metadata": {},
   "outputs": [
    {
     "data": {
      "text/plain": [
       "4"
      ]
     },
     "execution_count": 12,
     "metadata": {},
     "output_type": "execute_result"
    }
   ],
   "source": [
    "olympics.qsize()"
   ]
  },
  {
   "cell_type": "code",
   "execution_count": 13,
   "id": "1ccd0c10-7331-4905-a315-132b5311e5b8",
   "metadata": {},
   "outputs": [
    {
     "data": {
      "text/plain": [
       "False"
      ]
     },
     "execution_count": 13,
     "metadata": {},
     "output_type": "execute_result"
    }
   ],
   "source": [
    "olympics.full()"
   ]
  },
  {
   "cell_type": "code",
   "execution_count": 14,
   "id": "7ea7d967-3143-4c73-90eb-262095e02a40",
   "metadata": {},
   "outputs": [
    {
     "data": {
      "text/plain": [
       "'Great Britain (GBR)'"
      ]
     },
     "execution_count": 14,
     "metadata": {},
     "output_type": "execute_result"
    }
   ],
   "source": [
    "olympics.get()"
   ]
  },
  {
   "cell_type": "code",
   "execution_count": 15,
   "id": "83fd5244-da7e-4c4c-8fce-3c8570a8dca6",
   "metadata": {},
   "outputs": [
    {
     "data": {
      "text/plain": [
       "'China (CHN)'"
      ]
     },
     "execution_count": 15,
     "metadata": {},
     "output_type": "execute_result"
    }
   ],
   "source": [
    "olympics.get()"
   ]
  },
  {
   "cell_type": "code",
   "execution_count": 16,
   "id": "764410bc-344a-4454-9153-303cd3668d5c",
   "metadata": {},
   "outputs": [
    {
     "data": {
      "text/plain": [
       "'Russia (RUS)'"
      ]
     },
     "execution_count": 16,
     "metadata": {},
     "output_type": "execute_result"
    }
   ],
   "source": [
    "olympics.get()"
   ]
  },
  {
   "cell_type": "code",
   "execution_count": 17,
   "id": "08dd7632-c65a-433f-8e9a-c1db02c42948",
   "metadata": {},
   "outputs": [
    {
     "data": {
      "text/plain": [
       "'Germany (GER)'"
      ]
     },
     "execution_count": 17,
     "metadata": {},
     "output_type": "execute_result"
    }
   ],
   "source": [
    "olympics.get()"
   ]
  },
  {
   "cell_type": "code",
   "execution_count": 18,
   "id": "7c1ed130-9218-4fe6-85b6-6d7c0d768c8b",
   "metadata": {},
   "outputs": [
    {
     "data": {
      "text/plain": [
       "True"
      ]
     },
     "execution_count": 18,
     "metadata": {},
     "output_type": "execute_result"
    }
   ],
   "source": [
    "olympics.empty()"
   ]
  },
  {
   "cell_type": "markdown",
   "id": "071547c1-03f7-4aa8-9508-d97212af93f0",
   "metadata": {
    "jp-MarkdownHeadingCollapsed": true
   },
   "source": [
    "## Defining a Custom Queue"
   ]
  },
  {
   "cell_type": "code",
   "execution_count": 19,
   "id": "e5743c68-3df9-48f8-9321-8038334b106e",
   "metadata": {},
   "outputs": [],
   "source": [
    "class MyQueue:\n",
    "\n",
    "    def __init__(self):\n",
    "\n",
    "        \"\"\" Create a new queue.\"\"\"\n",
    "        \n",
    "        self.items = []\n",
    "\n",
    "    def is_empty(self):\n",
    "\n",
    "        \"\"\" Returns true if queue is empty.\"\"\"\n",
    "\n",
    "        return len(self.items) == 0\n",
    "\n",
    "    def enqueue(self, item):\n",
    "\n",
    "        \"\"\" Add a new element to the end of queue.\"\"\"\n",
    "        \n",
    "        self.items.append(item)\n",
    "\n",
    "    def dequeue(self):\n",
    "\n",
    "        \"\"\" Remove a element from the beginning of queue.\"\"\"\n",
    "        \n",
    "        return self.items.pop(0)\n",
    "\n",
    "    def size(self):\n",
    "\n",
    "        \"\"\" Returns the size of the queue.\"\"\"\n",
    "        \n",
    "        return len(self.items)\n",
    "\n",
    "    def peek(self):\n",
    "\n",
    "        \"\"\" Have a look at first element of the queue.\"\"\"\n",
    "\n",
    "        if self.is_empty():\n",
    "            raise Exception(\"Nothing to peek\")\n",
    "            \n",
    "        return self.items[0]"
   ]
  },
  {
   "cell_type": "code",
   "execution_count": 20,
   "id": "fc9e60f1-9464-4f54-b396-84c337e7472a",
   "metadata": {},
   "outputs": [
    {
     "data": {
      "text/plain": [
       "<__main__.MyQueue at 0x22857937cd0>"
      ]
     },
     "execution_count": 20,
     "metadata": {},
     "output_type": "execute_result"
    }
   ],
   "source": [
    "olympics = MyQueue()\n",
    "olympics"
   ]
  },
  {
   "cell_type": "code",
   "execution_count": 21,
   "id": "5a76e3f0-3e7d-461c-85ee-a9bf2c65c2e3",
   "metadata": {},
   "outputs": [],
   "source": [
    "olympics.enqueue(\"United States (USA)\")\n",
    "olympics.enqueue(\"Great Britain (GBR)\")"
   ]
  },
  {
   "cell_type": "code",
   "execution_count": 22,
   "id": "1bd5b83d-a162-487d-9d51-838006a90a73",
   "metadata": {},
   "outputs": [
    {
     "data": {
      "text/plain": [
       "['United States (USA)', 'Great Britain (GBR)']"
      ]
     },
     "execution_count": 22,
     "metadata": {},
     "output_type": "execute_result"
    }
   ],
   "source": [
    "olympics.items"
   ]
  },
  {
   "cell_type": "code",
   "execution_count": 23,
   "id": "b8453b71-0702-4004-a0ee-11dcdaf575d3",
   "metadata": {},
   "outputs": [
    {
     "data": {
      "text/plain": [
       "'United States (USA)'"
      ]
     },
     "execution_count": 23,
     "metadata": {},
     "output_type": "execute_result"
    }
   ],
   "source": [
    "olympics.peek()"
   ]
  },
  {
   "cell_type": "code",
   "execution_count": 24,
   "id": "965497f0-7056-4a5c-a8f1-37e11b12018e",
   "metadata": {},
   "outputs": [
    {
     "data": {
      "text/plain": [
       "2"
      ]
     },
     "execution_count": 24,
     "metadata": {},
     "output_type": "execute_result"
    }
   ],
   "source": [
    "olympics.size()"
   ]
  },
  {
   "cell_type": "code",
   "execution_count": 25,
   "id": "23ef9001-e55a-4697-a7b3-d7902b7dae4c",
   "metadata": {},
   "outputs": [],
   "source": [
    "olympics.enqueue(\"China (CHN)\")\n",
    "olympics.enqueue(\"Russia (RUS)\")\n",
    "olympics.enqueue(\"Germany (GER)\")"
   ]
  },
  {
   "cell_type": "code",
   "execution_count": 26,
   "id": "befddb4e-ef77-4914-be51-2bad9893d46f",
   "metadata": {},
   "outputs": [
    {
     "data": {
      "text/plain": [
       "5"
      ]
     },
     "execution_count": 26,
     "metadata": {},
     "output_type": "execute_result"
    }
   ],
   "source": [
    "olympics.size()"
   ]
  },
  {
   "cell_type": "code",
   "execution_count": 27,
   "id": "8881de76-315a-4cdd-a0bf-29aad1be96be",
   "metadata": {},
   "outputs": [
    {
     "data": {
      "text/plain": [
       "'United States (USA)'"
      ]
     },
     "execution_count": 27,
     "metadata": {},
     "output_type": "execute_result"
    }
   ],
   "source": [
    "olympics.peek()"
   ]
  },
  {
   "cell_type": "code",
   "execution_count": 28,
   "id": "0f627e3b-a7d9-40d4-b53d-d874d110792a",
   "metadata": {},
   "outputs": [
    {
     "data": {
      "text/plain": [
       "'United States (USA)'"
      ]
     },
     "execution_count": 28,
     "metadata": {},
     "output_type": "execute_result"
    }
   ],
   "source": [
    "olympics.dequeue()"
   ]
  },
  {
   "cell_type": "code",
   "execution_count": 29,
   "id": "c3bb678b-7cc3-4a08-9c08-04f6e3ee9aef",
   "metadata": {},
   "outputs": [
    {
     "data": {
      "text/plain": [
       "'Great Britain (GBR)'"
      ]
     },
     "execution_count": 29,
     "metadata": {},
     "output_type": "execute_result"
    }
   ],
   "source": [
    "olympics.peek()"
   ]
  },
  {
   "cell_type": "code",
   "execution_count": 30,
   "id": "0fd2210d-64dd-4af8-af04-901034809282",
   "metadata": {},
   "outputs": [
    {
     "data": {
      "text/plain": [
       "'Great Britain (GBR)'"
      ]
     },
     "execution_count": 30,
     "metadata": {},
     "output_type": "execute_result"
    }
   ],
   "source": [
    "olympics.dequeue()"
   ]
  },
  {
   "cell_type": "code",
   "execution_count": 31,
   "id": "22968d5d-f223-4a80-acfc-95470da074b2",
   "metadata": {},
   "outputs": [
    {
     "data": {
      "text/plain": [
       "'China (CHN)'"
      ]
     },
     "execution_count": 31,
     "metadata": {},
     "output_type": "execute_result"
    }
   ],
   "source": [
    "olympics.dequeue()"
   ]
  },
  {
   "cell_type": "code",
   "execution_count": 32,
   "id": "e3153e08-d47d-4224-af1e-8cf47db17aaa",
   "metadata": {},
   "outputs": [
    {
     "data": {
      "text/plain": [
       "'Russia (RUS)'"
      ]
     },
     "execution_count": 32,
     "metadata": {},
     "output_type": "execute_result"
    }
   ],
   "source": [
    "olympics.dequeue()"
   ]
  },
  {
   "cell_type": "code",
   "execution_count": 33,
   "id": "85dad0ae-649f-4166-8745-50210d50dc32",
   "metadata": {},
   "outputs": [
    {
     "data": {
      "text/plain": [
       "'Germany (GER)'"
      ]
     },
     "execution_count": 33,
     "metadata": {},
     "output_type": "execute_result"
    }
   ],
   "source": [
    "olympics.peek()"
   ]
  },
  {
   "cell_type": "code",
   "execution_count": 34,
   "id": "f1028f99-c006-4fce-8371-64b9fde67bfb",
   "metadata": {},
   "outputs": [
    {
     "data": {
      "text/plain": [
       "1"
      ]
     },
     "execution_count": 34,
     "metadata": {},
     "output_type": "execute_result"
    }
   ],
   "source": [
    "olympics.size()"
   ]
  },
  {
   "cell_type": "code",
   "execution_count": 35,
   "id": "42452aeb-520a-4ac0-873e-4a6c223c8ba6",
   "metadata": {},
   "outputs": [
    {
     "data": {
      "text/plain": [
       "'Germany (GER)'"
      ]
     },
     "execution_count": 35,
     "metadata": {},
     "output_type": "execute_result"
    }
   ],
   "source": [
    "olympics.dequeue()"
   ]
  },
  {
   "cell_type": "code",
   "execution_count": 36,
   "id": "673a3fc7-9f0c-4e94-84de-35e5894f5e3a",
   "metadata": {},
   "outputs": [
    {
     "ename": "IndexError",
     "evalue": "pop from empty list",
     "output_type": "error",
     "traceback": [
      "\u001b[1;31m---------------------------------------------------------------------------\u001b[0m",
      "\u001b[1;31mIndexError\u001b[0m                                Traceback (most recent call last)",
      "Cell \u001b[1;32mIn[36], line 1\u001b[0m\n\u001b[1;32m----> 1\u001b[0m \u001b[43molympics\u001b[49m\u001b[38;5;241;43m.\u001b[39;49m\u001b[43mdequeue\u001b[49m\u001b[43m(\u001b[49m\u001b[43m)\u001b[49m\n",
      "Cell \u001b[1;32mIn[19], line 25\u001b[0m, in \u001b[0;36mMyQueue.dequeue\u001b[1;34m(self)\u001b[0m\n\u001b[0;32m     21\u001b[0m \u001b[38;5;28;01mdef\u001b[39;00m \u001b[38;5;21mdequeue\u001b[39m(\u001b[38;5;28mself\u001b[39m):\n\u001b[0;32m     23\u001b[0m \u001b[38;5;250m    \u001b[39m\u001b[38;5;124;03m\"\"\" Remove a element from the beginning of queue.\"\"\"\u001b[39;00m\n\u001b[1;32m---> 25\u001b[0m     \u001b[38;5;28;01mreturn\u001b[39;00m \u001b[38;5;28;43mself\u001b[39;49m\u001b[38;5;241;43m.\u001b[39;49m\u001b[43mitems\u001b[49m\u001b[38;5;241;43m.\u001b[39;49m\u001b[43mpop\u001b[49m\u001b[43m(\u001b[49m\u001b[38;5;241;43m0\u001b[39;49m\u001b[43m)\u001b[49m\n",
      "\u001b[1;31mIndexError\u001b[0m: pop from empty list"
     ]
    }
   ],
   "source": [
    "olympics.dequeue()"
   ]
  }
 ],
 "metadata": {
  "kernelspec": {
   "display_name": "Python 3 (ipykernel)",
   "language": "python",
   "name": "python3"
  },
  "language_info": {
   "codemirror_mode": {
    "name": "ipython",
    "version": 3
   },
   "file_extension": ".py",
   "mimetype": "text/x-python",
   "name": "python",
   "nbconvert_exporter": "python",
   "pygments_lexer": "ipython3",
   "version": "3.11.8"
  }
 },
 "nbformat": 4,
 "nbformat_minor": 5
}
