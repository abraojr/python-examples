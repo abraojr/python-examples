{
 "cells": [
  {
   "cell_type": "code",
   "execution_count": 1,
   "id": "0d2c7bf1",
   "metadata": {},
   "outputs": [
    {
     "name": "stdout",
     "output_type": "stream",
     "text": [
      "current value is:  10\n",
      "current value is:  9\n",
      "current value is:  8\n",
      "current value is:  7\n",
      "current value is:  6\n",
      "current value is:  5\n",
      "this is a pass block\n",
      "current value is:  4\n",
      "current value is:  3\n",
      "current value is:  2\n",
      "current value is:  1\n",
      "good bye!\n"
     ]
    }
   ],
   "source": [
    "num_value = 10\n",
    "\n",
    "while num_value > 0:\n",
    "    print(\"current value is: \", num_value)\n",
    "    \n",
    "    if num_value == 5:\n",
    "        pass \n",
    "        print(\"this is a pass block\")\n",
    "        \n",
    "    num_value -= 1\n",
    "    \n",
    "print(\"good bye!\")"
   ]
  },
  {
   "cell_type": "code",
   "execution_count": 2,
   "id": "2887da7a",
   "metadata": {},
   "outputs": [
    {
     "name": "stdout",
     "output_type": "stream",
     "text": [
      "Enter a number: 11\n",
      "current value is:  11\n",
      "current value is:  10\n",
      "current value is:  9\n",
      "current value is:  8\n",
      "current value is:  4\n",
      "current value is:  3\n",
      "current value is:  2\n",
      "current value is:  1\n",
      "good bye!\n"
     ]
    }
   ],
   "source": [
    "num_value = int(input(\"Enter a number: \"))\n",
    "\n",
    "while num_value > 0:\n",
    "    \n",
    "    if num_value < 8 and num_value > 4:\n",
    "        pass\n",
    "    else:\n",
    "        print(\"current value is: \", num_value)\n",
    "        \n",
    "    num_value -= 1\n",
    "\n",
    "else:\n",
    "    print(\"good bye!\")"
   ]
  }
 ],
 "metadata": {
  "kernelspec": {
   "display_name": "Python 3 (ipykernel)",
   "language": "python",
   "name": "python3"
  },
  "language_info": {
   "codemirror_mode": {
    "name": "ipython",
    "version": 3
   },
   "file_extension": ".py",
   "mimetype": "text/x-python",
   "name": "python",
   "nbconvert_exporter": "python",
   "pygments_lexer": "ipython3",
   "version": "3.11.4"
  }
 },
 "nbformat": 4,
 "nbformat_minor": 5
}
