{
 "cells": [
  {
   "cell_type": "code",
   "execution_count": 1,
   "id": "840d729c",
   "metadata": {},
   "outputs": [
    {
     "name": "stdout",
     "output_type": "stream",
     "text": [
      "20\n",
      "30\n",
      "40\n",
      "50\n",
      "60\n"
     ]
    }
   ],
   "source": [
    "num_list = [20, 30, 40, 50, 60]\n",
    "\n",
    "count = 0\n",
    "\n",
    "while count < len(num_list):\n",
    "    \n",
    "    print(num_list[count])\n",
    "    \n",
    "    count += 1"
   ]
  },
  {
   "cell_type": "code",
   "execution_count": 2,
   "id": "7652010b",
   "metadata": {},
   "outputs": [
    {
     "name": "stdout",
     "output_type": "stream",
     "text": [
      "there are 5 elements in the list\n"
     ]
    }
   ],
   "source": [
    "count = 0\n",
    "\n",
    "while count < len(num_list):\n",
    "    \n",
    "    count += 1\n",
    "\n",
    "print(\"there are %d elements in the list\" % count)"
   ]
  },
  {
   "cell_type": "code",
   "execution_count": 3,
   "id": "3a439585",
   "metadata": {},
   "outputs": [
    {
     "name": "stdout",
     "output_type": "stream",
     "text": [
      "20\n",
      "50\n",
      "90\n",
      "140\n",
      "200\n",
      "sum of all elements in the list:  200\n"
     ]
    }
   ],
   "source": [
    "total = 0\n",
    "element = 0\n",
    "\n",
    "while element < len(num_list):\n",
    "    \n",
    "    total += num_list[element]\n",
    "    \n",
    "    print(total)\n",
    "    \n",
    "    element += 1\n",
    "    \n",
    "print(\"sum of all elements in the list: \", total)"
   ]
  },
  {
   "cell_type": "code",
   "execution_count": 4,
   "id": "4340030a",
   "metadata": {},
   "outputs": [
    {
     "name": "stdout",
     "output_type": "stream",
     "text": [
      "20\n",
      "50\n",
      "90\n",
      "140\n",
      "200\n",
      "sum of all elements in the list:  200\n"
     ]
    }
   ],
   "source": [
    "total = 0\n",
    "element = 0\n",
    "\n",
    "for element in num_list:\n",
    "    \n",
    "    total += element\n",
    "    \n",
    "    print(total)\n",
    "    \n",
    "    element += 1\n",
    "    \n",
    "print(\"sum of all elements in the list: \", total)"
   ]
  },
  {
   "cell_type": "code",
   "execution_count": 5,
   "id": "e0a53094",
   "metadata": {},
   "outputs": [],
   "source": [
    "smartphone_brands = [\"Samsung\", \"Huawei\", \"Apple\", \"Nokia\", \"OnePlus\", \"Vivo\", \"Sony\"]"
   ]
  },
  {
   "cell_type": "code",
   "execution_count": null,
   "id": "b8ad050f",
   "metadata": {},
   "outputs": [],
   "source": [
    "count = 0\n",
    "\n",
    "# Will throw an error\n",
    "while count < 10:\n",
    "    print(smartphone_brands[count])\n",
    "    \n",
    "    count += 1"
   ]
  },
  {
   "cell_type": "code",
   "execution_count": 7,
   "id": "a24fd227",
   "metadata": {},
   "outputs": [
    {
     "name": "stdout",
     "output_type": "stream",
     "text": [
      "Samsung\n",
      "Huawei\n",
      "Apple\n",
      "Nokia\n",
      "OnePlus\n",
      "Vivo\n",
      "Sony\n"
     ]
    }
   ],
   "source": [
    "count = 0\n",
    "\n",
    "while count < len(smartphone_brands):\n",
    "    print(smartphone_brands[count])\n",
    "    \n",
    "    count += 1"
   ]
  },
  {
   "cell_type": "code",
   "execution_count": 8,
   "id": "7b6d74a4",
   "metadata": {},
   "outputs": [
    {
     "name": "stdout",
     "output_type": "stream",
     "text": [
      "Samsung\n",
      "Apple\n",
      "OnePlus\n",
      "Sony\n"
     ]
    }
   ],
   "source": [
    "count = 0\n",
    "\n",
    "while count < len(smartphone_brands):\n",
    "    print(smartphone_brands[count])\n",
    "    \n",
    "    count += 2"
   ]
  },
  {
   "cell_type": "code",
   "execution_count": 9,
   "id": "24af7790",
   "metadata": {},
   "outputs": [],
   "source": [
    "even_list = []\n",
    "odd_list = []\n",
    "num = 0\n",
    "\n",
    "while num <= 50:\n",
    "    \n",
    "    if num % 2 == 0:\n",
    "        even_list.append(num)\n",
    "        \n",
    "    else:\n",
    "        odd_list.append(num)\n",
    "    \n",
    "    num +=1"
   ]
  },
  {
   "cell_type": "code",
   "execution_count": 10,
   "id": "aaae2c3f",
   "metadata": {},
   "outputs": [
    {
     "name": "stdout",
     "output_type": "stream",
     "text": [
      "[0, 2, 4, 6, 8, 10, 12, 14, 16, 18, 20, 22, 24, 26, 28, 30, 32, 34, 36, 38, 40, 42, 44, 46, 48, 50]\n"
     ]
    }
   ],
   "source": [
    "print(even_list)"
   ]
  },
  {
   "cell_type": "code",
   "execution_count": 11,
   "id": "a9edf985",
   "metadata": {},
   "outputs": [
    {
     "name": "stdout",
     "output_type": "stream",
     "text": [
      "[1, 3, 5, 7, 9, 11, 13, 15, 17, 19, 21, 23, 25, 27, 29, 31, 33, 35, 37, 39, 41, 43, 45, 47, 49]\n"
     ]
    }
   ],
   "source": [
    "print(odd_list)"
   ]
  },
  {
   "cell_type": "code",
   "execution_count": 12,
   "id": "8979a042",
   "metadata": {},
   "outputs": [
    {
     "name": "stdout",
     "output_type": "stream",
     "text": [
      "    C    F\n",
      "  -20  -4.0\n",
      "  -15   5.0\n",
      "  -10  14.0\n",
      "   -5  23.0\n",
      "    0  32.0\n",
      "    5  41.0\n",
      "   10  50.0\n",
      "   15  59.0\n",
      "   20  68.0\n",
      "   25  77.0\n",
      "   30  86.0\n",
      "   35  95.0\n",
      "   40 104.0\n"
     ]
    }
   ],
   "source": [
    "c_degrees = [-20, -15, -10, -5, 0, 5, 10, 15, 20, 25, 30, 35, 40]\n",
    "index = 0\n",
    "\n",
    "print('    C    F')\n",
    "\n",
    "while index < len(c_degrees):\n",
    "    \n",
    "    C = c_degrees[index]\n",
    "    F = (9.0 / 5) * C + 32\n",
    "    \n",
    "    print('%5d %5.1f' % (C, F))\n",
    "    \n",
    "    index += 1"
   ]
  },
  {
   "cell_type": "code",
   "execution_count": 13,
   "id": "ffa17b28",
   "metadata": {},
   "outputs": [],
   "source": [
    "name_list = [\"William\", \"James\", \"Olive\", \"Jessie\", \"Liam\"]\n",
    "\n",
    "age_list = [22, 26, 24, 28, 21]"
   ]
  },
  {
   "cell_type": "code",
   "execution_count": 14,
   "id": "78e42e23",
   "metadata": {},
   "outputs": [
    {
     "name": "stdout",
     "output_type": "stream",
     "text": [
      "William is 22 years old\n",
      "James is 26 years old\n",
      "Olive is 24 years old\n",
      "Jessie is 28 years old\n",
      "Liam is 21 years old\n"
     ]
    }
   ],
   "source": [
    "index = 0\n",
    "\n",
    "while index < len(name_list):\n",
    "    \n",
    "    print(name_list[index], \"is\", age_list[index], \"years old\")\n",
    "    \n",
    "    index += 1"
   ]
  },
  {
   "cell_type": "code",
   "execution_count": 15,
   "id": "2adabf4f",
   "metadata": {},
   "outputs": [
    {
     "name": "stdout",
     "output_type": "stream",
     "text": [
      "a\n",
      "b\n",
      "c\n",
      "d\n",
      "e\n",
      "f\n",
      "g\n",
      "h\n"
     ]
    }
   ],
   "source": [
    "alpha_tuple = ('a', 'b', 'c', 'd', 'e', 'f', 'g', 'h')\n",
    "count = 0\n",
    "\n",
    "while count < 8:\n",
    "    \n",
    "    print(alpha_tuple[count])\n",
    "    \n",
    "    count += 1"
   ]
  },
  {
   "cell_type": "code",
   "execution_count": 16,
   "id": "33c95748",
   "metadata": {},
   "outputs": [
    {
     "name": "stdout",
     "output_type": "stream",
     "text": [
      "The longest name in the tuple is:  Missandei\n"
     ]
    }
   ],
   "source": [
    "character_name = (\"Samwell\", \"Jorah\", \"Brienne\", \"Margaery\", \"Missandei\")\n",
    "\n",
    "long_name = character_name[0]\n",
    "index = 0\n",
    "\n",
    "while index < len(character_name):\n",
    "    \n",
    "    if len(long_name) < len(character_name[index]):\n",
    "        \n",
    "        long_name = character_name[index]\n",
    "        \n",
    "    index += 1\n",
    "    \n",
    "print(\"The longest name in the tuple is: \", long_name)"
   ]
  }
 ],
 "metadata": {
  "kernelspec": {
   "display_name": "Python 3 (ipykernel)",
   "language": "python",
   "name": "python3"
  },
  "language_info": {
   "codemirror_mode": {
    "name": "ipython",
    "version": 3
   },
   "file_extension": ".py",
   "mimetype": "text/x-python",
   "name": "python",
   "nbconvert_exporter": "python",
   "pygments_lexer": "ipython3",
   "version": "3.11.4"
  }
 },
 "nbformat": 4,
 "nbformat_minor": 5
}
