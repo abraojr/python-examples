{
 "cells": [
  {
   "cell_type": "code",
   "execution_count": 1,
   "id": "67b2eb65",
   "metadata": {},
   "outputs": [
    {
     "name": "stdout",
     "output_type": "stream",
     "text": [
      "20\n"
     ]
    }
   ],
   "source": [
    "number = 20\n",
    "\n",
    "while number < 25:\n",
    "    print(number)\n",
    "    break"
   ]
  },
  {
   "cell_type": "code",
   "execution_count": 2,
   "id": "c1a1a9e1",
   "metadata": {},
   "outputs": [
    {
     "name": "stdout",
     "output_type": "stream",
     "text": [
      "10\n",
      "20\n",
      "30\n",
      "40\n",
      "50\n",
      "out of the loop\n"
     ]
    }
   ],
   "source": [
    "num = 10\n",
    "\n",
    "while num in range(10, 100):\n",
    "    \n",
    "    print(num)\n",
    "    \n",
    "    if num == 50:\n",
    "        break\n",
    "        \n",
    "    num += 10\n",
    "    \n",
    "print(\"out of the loop\")"
   ]
  },
  {
   "cell_type": "code",
   "execution_count": 3,
   "id": "c2309ffa",
   "metadata": {},
   "outputs": [
    {
     "name": "stdout",
     "output_type": "stream",
     "text": [
      "enter a number: 5\n",
      "enter a number: 17\n",
      "enter a number: 12\n",
      "\n",
      "We are out of the loop since we encountered the number 12\n"
     ]
    }
   ],
   "source": [
    "num = 10\n",
    "\n",
    "while True:\n",
    "    \n",
    "    num = int(input(\"enter a number: \"))\n",
    "    \n",
    "    if num % 3 == 0:\n",
    "        break\n",
    "        \n",
    "print(\"\\nWe are out of the loop since we encountered the number\", num)"
   ]
  },
  {
   "cell_type": "code",
   "execution_count": 4,
   "id": "34ac00c7",
   "metadata": {},
   "outputs": [
    {
     "name": "stdout",
     "output_type": "stream",
     "text": [
      "N\n",
      "e\n",
      "w\n",
      "Y\n",
      "o\n",
      "r\n",
      "k\n"
     ]
    }
   ],
   "source": [
    "place = \"NewYorkCity\"\n",
    "place_length = len(place)\n",
    "\n",
    "index = 0\n",
    "\n",
    "while index in range(place_length):\n",
    "    \n",
    "    print(place[index])\n",
    "    \n",
    "    index += 1\n",
    "    \n",
    "    if place[index] == \"C\":\n",
    "        break"
   ]
  },
  {
   "cell_type": "code",
   "execution_count": 5,
   "id": "c77bdc54",
   "metadata": {},
   "outputs": [],
   "source": [
    "clean_haystack = [\"hay\", \"hay\", \"hay\", \"hay\", \n",
    "                  \"hay\", \"hay\", \"hay\", \"hay\"]\n",
    "\n",
    "unclean_haystack = [\"hay\", \"hay\", \"hay\", \"hay\", \n",
    "                    \"hay\", \"needle\", \"hay\", \"hay\"]\n",
    "\n",
    "searching_for = \"needle\""
   ]
  },
  {
   "cell_type": "code",
   "execution_count": 6,
   "id": "22d475d9",
   "metadata": {},
   "outputs": [
    {
     "name": "stdout",
     "output_type": "stream",
     "text": [
      "\n",
      "The needle was not found :(\n"
     ]
    }
   ],
   "source": [
    "maximum = len(clean_haystack)\n",
    "\n",
    "i = 0\n",
    "\n",
    "while i < maximum:\n",
    "    \n",
    "    if searching_for == clean_haystack[i]:\n",
    "        print(\"The %s is at index %i:\" % (searching_for, i))\n",
    "        \n",
    "        del clean_haystack[i]\n",
    "        break\n",
    "        \n",
    "    i += 1\n",
    "    \n",
    "else:\n",
    "    print(\"\\nThe needle was not found :(\")"
   ]
  },
  {
   "cell_type": "code",
   "execution_count": 7,
   "id": "df7921b7",
   "metadata": {},
   "outputs": [
    {
     "name": "stdout",
     "output_type": "stream",
     "text": [
      "The needle is at index 5:\n",
      "The updated haystack is: ['hay', 'hay', 'hay', 'hay', 'hay', 'hay', 'hay']\n"
     ]
    }
   ],
   "source": [
    "maximum = len(unclean_haystack)\n",
    "\n",
    "i = 0\n",
    "\n",
    "while i < maximum:\n",
    "    \n",
    "    if searching_for == unclean_haystack[i]:\n",
    "        print(\"The %s is at index %i:\" % (searching_for, i))\n",
    "        \n",
    "        del unclean_haystack[i]\n",
    "        print(\"The updated haystack is:\", unclean_haystack)\n",
    "        break\n",
    "        \n",
    "    i += 1\n",
    "    \n",
    "else:\n",
    "    print(\"\\nThe needle was not found :(\")"
   ]
  },
  {
   "cell_type": "code",
   "execution_count": 8,
   "id": "07a07351",
   "metadata": {},
   "outputs": [
    {
     "name": "stdout",
     "output_type": "stream",
     "text": [
      "enter an integer: 50\n",
      "prime number upto 50:\n",
      "2\n",
      "3\n",
      "5\n",
      "7\n",
      "11\n",
      "13\n",
      "17\n",
      "19\n",
      "23\n",
      "29\n",
      "31\n",
      "37\n",
      "41\n",
      "43\n",
      "47\n"
     ]
    }
   ],
   "source": [
    "max_num = int(input(\"enter an integer: \"))\n",
    "num = 2\n",
    "\n",
    "print(\"prime number upto %i:\" % max_num)\n",
    "\n",
    "while num < max_num + 1:\n",
    "    \n",
    "    isPrime = True\n",
    "    count = 2\n",
    "    \n",
    "    while count < num:\n",
    "        if num % count == 0:\n",
    "            isPrime = False\n",
    "            break\n",
    "            \n",
    "        count += 1\n",
    "        \n",
    "    if isPrime:\n",
    "        print(num)\n",
    "        \n",
    "    num += 1"
   ]
  }
 ],
 "metadata": {
  "kernelspec": {
   "display_name": "Python 3 (ipykernel)",
   "language": "python",
   "name": "python3"
  },
  "language_info": {
   "codemirror_mode": {
    "name": "ipython",
    "version": 3
   },
   "file_extension": ".py",
   "mimetype": "text/x-python",
   "name": "python",
   "nbconvert_exporter": "python",
   "pygments_lexer": "ipython3",
   "version": "3.11.4"
  }
 },
 "nbformat": 4,
 "nbformat_minor": 5
}
