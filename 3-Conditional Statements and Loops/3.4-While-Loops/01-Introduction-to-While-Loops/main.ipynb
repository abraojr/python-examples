{
 "cells": [
  {
   "cell_type": "code",
   "execution_count": 1,
   "id": "46b01292",
   "metadata": {},
   "outputs": [
    {
     "name": "stdout",
     "output_type": "stream",
     "text": [
      "20\n"
     ]
    }
   ],
   "source": [
    "number = 20\n",
    "\n",
    "while number < 25:\n",
    "    print(number)\n",
    "    \n",
    "    number = 26"
   ]
  },
  {
   "cell_type": "code",
   "execution_count": 2,
   "id": "4f684c2b",
   "metadata": {},
   "outputs": [
    {
     "name": "stdout",
     "output_type": "stream",
     "text": [
      "20\n",
      "21\n",
      "22\n",
      "23\n",
      "24\n"
     ]
    }
   ],
   "source": [
    "number = 20\n",
    "\n",
    "while number < 25:\n",
    "    print(number)\n",
    "    \n",
    "    number += 1"
   ]
  },
  {
   "cell_type": "code",
   "execution_count": 1,
   "id": "a72f7014",
   "metadata": {},
   "outputs": [
    {
     "name": "stdout",
     "output_type": "stream",
     "text": [
      "20\n",
      "21\n",
      "22\n",
      "23\n",
      "24\n",
      "25\n",
      "26\n",
      "27\n",
      "28\n",
      "29\n",
      "30\n"
     ]
    }
   ],
   "source": [
    "number = 20\n",
    "\n",
    "while number <= (25 + 5):\n",
    "    print(number)\n",
    "    \n",
    "    number += 1"
   ]
  },
  {
   "cell_type": "code",
   "execution_count": 2,
   "id": "f43a67bd",
   "metadata": {},
   "outputs": [
    {
     "name": "stdout",
     "output_type": "stream",
     "text": [
      "Value of num is 5\n",
      "Value of num is 4\n",
      "Value of num is 3\n",
      "Value of num is 2\n",
      "Value of num is 1\n",
      "good bye\n"
     ]
    }
   ],
   "source": [
    "num = 5\n",
    "\n",
    "while num:\n",
    "    \n",
    "    print(\"Value of num is\", num)\n",
    "    \n",
    "    num = num - 1\n",
    "    \n",
    "print(\"good bye\")"
   ]
  },
  {
   "cell_type": "code",
   "execution_count": 3,
   "id": "073b3662",
   "metadata": {},
   "outputs": [
    {
     "name": "stdout",
     "output_type": "stream",
     "text": [
      "Thomas is an amazing soccer player\n"
     ]
    }
   ],
   "source": [
    "name = \"Thomas\"\n",
    "\n",
    "while name == \"Thomas\":\n",
    "    \n",
    "    print(\"%s is an amazing soccer player\" % name)\n",
    "    \n",
    "    name = \"Kingsley\""
   ]
  },
  {
   "cell_type": "code",
   "execution_count": 4,
   "id": "1ce2901c",
   "metadata": {},
   "outputs": [
    {
     "name": "stdout",
     "output_type": "stream",
     "text": [
      "password: jim@12\n",
      "password: joy65\n",
      "password: Ron@95\n",
      "\n",
      "Access Granted!\n"
     ]
    }
   ],
   "source": [
    "user_password = \"\"\n",
    "\n",
    "while user_password != \"Ron@95\":\n",
    "    user_password = input(\"password: \")\n",
    "    \n",
    "print(\"\\nAccess Granted!\")"
   ]
  },
  {
   "cell_type": "code",
   "execution_count": 5,
   "id": "2fdfab01",
   "metadata": {},
   "outputs": [
    {
     "name": "stdout",
     "output_type": "stream",
     "text": [
      "1\n",
      "4\n",
      "9\n",
      "16\n",
      "25\n",
      "36\n",
      "49\n",
      "64\n",
      "81\n",
      "100\n"
     ]
    }
   ],
   "source": [
    "num = 1\n",
    "\n",
    "while num <= 10:\n",
    "    \n",
    "    print(num ** 2)\n",
    "    \n",
    "    num += 1"
   ]
  },
  {
   "cell_type": "code",
   "execution_count": 6,
   "id": "4ed22955",
   "metadata": {},
   "outputs": [
    {
     "name": "stdout",
     "output_type": "stream",
     "text": [
      "enter a number: 6\n",
      "enter a name: James\n",
      "1 : James\n",
      "2 : James\n",
      "3 : James\n",
      "4 : James\n",
      "5 : James\n",
      "6 : James\n"
     ]
    }
   ],
   "source": [
    "num_value = int(input(\"enter a number: \"))\n",
    "name = input(\"enter a name: \")\n",
    "\n",
    "count = 1\n",
    "\n",
    "while count <= num_value:\n",
    "    \n",
    "    print(count, \":\", name)\n",
    "    \n",
    "    count += 1"
   ]
  },
  {
   "cell_type": "code",
   "execution_count": 7,
   "id": "b202b17c",
   "metadata": {},
   "outputs": [
    {
     "name": "stdout",
     "output_type": "stream",
     "text": [
      "0\n",
      "1\n",
      "2\n",
      "3\n",
      "4\n",
      "5\n",
      "6\n",
      "7\n",
      "8\n",
      "9\n"
     ]
    }
   ],
   "source": [
    "num = 0\n",
    "\n",
    "while num in range(0, 10):\n",
    "    print(num)\n",
    "    \n",
    "    num += 1"
   ]
  },
  {
   "cell_type": "code",
   "execution_count": 8,
   "id": "0796d326",
   "metadata": {},
   "outputs": [
    {
     "name": "stdout",
     "output_type": "stream",
     "text": [
      "even number:  0\n",
      "even number:  2\n",
      "even number:  4\n",
      "even number:  6\n",
      "even number:  8\n"
     ]
    }
   ],
   "source": [
    "num = 0\n",
    "\n",
    "while num in range(0, 10):\n",
    "    \n",
    "    if num % 2 == 0:\n",
    "        print(\"even number: \", num)\n",
    "    \n",
    "    num += 1"
   ]
  },
  {
   "cell_type": "code",
   "execution_count": 9,
   "id": "458d89e2",
   "metadata": {},
   "outputs": [
    {
     "name": "stdout",
     "output_type": "stream",
     "text": [
      "enter an integer: 43897\n",
      "number of digits:  5\n"
     ]
    }
   ],
   "source": [
    "value_int = int(input(\"enter an integer: \"))\n",
    "\n",
    "length = 0\n",
    "\n",
    "while value_int > 0:\n",
    "    \n",
    "    value_int //= 10\n",
    "    \n",
    "    length += 1\n",
    "\n",
    "print(\"number of digits: \", length)"
   ]
  },
  {
   "cell_type": "code",
   "execution_count": 10,
   "id": "645f6285",
   "metadata": {},
   "outputs": [
    {
     "name": "stdout",
     "output_type": "stream",
     "text": [
      "1\n",
      "2\n",
      "3\n",
      "4\n",
      "5\n",
      "6\n",
      "7\n",
      "8\n"
     ]
    }
   ],
   "source": [
    "x, y = 0, 8\n",
    "\n",
    "while(x < y): x += 1; print(x)"
   ]
  },
  {
   "cell_type": "code",
   "execution_count": 11,
   "id": "553c6311",
   "metadata": {},
   "outputs": [
    {
     "name": "stdout",
     "output_type": "stream",
     "text": [
      "1 1\n",
      "1 2\n",
      "1 3\n",
      "1 4\n",
      "2 1\n",
      "2 2\n",
      "2 3\n",
      "2 4\n",
      "3 1\n",
      "3 2\n",
      "3 3\n",
      "3 4\n",
      "4 1\n",
      "4 2\n",
      "4 3\n",
      "4 4\n"
     ]
    }
   ],
   "source": [
    "x = 1\n",
    "\n",
    "while x < 5:\n",
    "    \n",
    "    y = 1\n",
    "    \n",
    "    while y < 5:\n",
    "        print(x, y)\n",
    "        y += 1\n",
    "        \n",
    "    x += 1"
   ]
  }
 ],
 "metadata": {
  "kernelspec": {
   "display_name": "Python 3 (ipykernel)",
   "language": "python",
   "name": "python3"
  },
  "language_info": {
   "codemirror_mode": {
    "name": "ipython",
    "version": 3
   },
   "file_extension": ".py",
   "mimetype": "text/x-python",
   "name": "python",
   "nbconvert_exporter": "python",
   "pygments_lexer": "ipython3",
   "version": "3.11.4"
  }
 },
 "nbformat": 4,
 "nbformat_minor": 5
}
