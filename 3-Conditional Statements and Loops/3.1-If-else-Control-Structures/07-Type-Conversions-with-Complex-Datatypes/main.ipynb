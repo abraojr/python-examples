{
 "cells": [
  {
   "cell_type": "code",
   "execution_count": null,
   "id": "02bb4196",
   "metadata": {},
   "outputs": [],
   "source": [
    "old_num = \"500\"\n",
    "\n",
    "new_num = \"10\"\n",
    "\n",
    "remaining_num = old_num - new_num # Will throw an error"
   ]
  },
  {
   "cell_type": "code",
   "execution_count": 2,
   "id": "0334a9c6",
   "metadata": {},
   "outputs": [
    {
     "data": {
      "text/plain": [
       "str"
      ]
     },
     "execution_count": 2,
     "metadata": {},
     "output_type": "execute_result"
    }
   ],
   "source": [
    "type(old_num)"
   ]
  },
  {
   "cell_type": "code",
   "execution_count": 3,
   "id": "b09514a3",
   "metadata": {},
   "outputs": [
    {
     "data": {
      "text/plain": [
       "500"
      ]
     },
     "execution_count": 3,
     "metadata": {},
     "output_type": "execute_result"
    }
   ],
   "source": [
    "int(old_num)"
   ]
  },
  {
   "cell_type": "code",
   "execution_count": 4,
   "id": "f9914760",
   "metadata": {},
   "outputs": [
    {
     "data": {
      "text/plain": [
       "str"
      ]
     },
     "execution_count": 4,
     "metadata": {},
     "output_type": "execute_result"
    }
   ],
   "source": [
    "type(old_num)"
   ]
  },
  {
   "cell_type": "code",
   "execution_count": 5,
   "id": "d6c14aab",
   "metadata": {},
   "outputs": [
    {
     "data": {
      "text/plain": [
       "490"
      ]
     },
     "execution_count": 5,
     "metadata": {},
     "output_type": "execute_result"
    }
   ],
   "source": [
    "old_num = \"500\"\n",
    "\n",
    "new_num = \"10\"\n",
    "\n",
    "remaining_num = int(old_num) - int(new_num)\n",
    "\n",
    "remaining_num"
   ]
  },
  {
   "cell_type": "code",
   "execution_count": 6,
   "id": "ca910e8a",
   "metadata": {},
   "outputs": [
    {
     "data": {
      "text/plain": [
       "'40.660.8'"
      ]
     },
     "execution_count": 6,
     "metadata": {},
     "output_type": "execute_result"
    }
   ],
   "source": [
    "old_code = \"40.6\"\n",
    "new_code = \"60.8\"\n",
    "\n",
    "total_code = old_code + new_code\n",
    "\n",
    "total_code"
   ]
  },
  {
   "cell_type": "code",
   "execution_count": 7,
   "id": "2ae9d4d1",
   "metadata": {},
   "outputs": [
    {
     "data": {
      "text/plain": [
       "101.0"
      ]
     },
     "execution_count": 7,
     "metadata": {},
     "output_type": "execute_result"
    }
   ],
   "source": [
    "old_code = \"40.6\"\n",
    "new_code = \"60.4\"\n",
    "\n",
    "total_code = float(old_code) + float(new_code)\n",
    "\n",
    "total_code"
   ]
  },
  {
   "cell_type": "code",
   "execution_count": 8,
   "id": "bf10275e",
   "metadata": {},
   "outputs": [
    {
     "data": {
      "text/plain": [
       "10.6"
      ]
     },
     "execution_count": 8,
     "metadata": {},
     "output_type": "execute_result"
    }
   ],
   "source": [
    "my_float = \"4.6\"\n",
    "my_int = \"6\"\n",
    "\n",
    "total = float(my_float) + int(my_int)\n",
    "total"
   ]
  },
  {
   "cell_type": "code",
   "execution_count": 9,
   "id": "565a1c67",
   "metadata": {},
   "outputs": [
    {
     "data": {
      "text/plain": [
       "['p', 'y', 't', 'h', 'o', 'n', ' ', 'w', 'o', 'r', 'l', 'd']"
      ]
     },
     "execution_count": 9,
     "metadata": {},
     "output_type": "execute_result"
    }
   ],
   "source": [
    "value_str = \"python world\"\n",
    "\n",
    "value_list = list(value_str)\n",
    "value_list"
   ]
  },
  {
   "cell_type": "code",
   "execution_count": 10,
   "id": "f18243f4",
   "metadata": {},
   "outputs": [
    {
     "name": "stdout",
     "output_type": "stream",
     "text": [
      "Type of value_str is: <class 'str'>\n",
      "Type of value_list is: <class 'list'>\n"
     ]
    }
   ],
   "source": [
    "print(\"Type of value_str is:\", type(value_str))\n",
    "\n",
    "print(\"Type of value_list is:\", type(value_list))"
   ]
  },
  {
   "cell_type": "code",
   "execution_count": null,
   "id": "8be5d5bf",
   "metadata": {},
   "outputs": [],
   "source": [
    "list(1, 2, 3, 4, 5) # Will throw an error"
   ]
  },
  {
   "cell_type": "code",
   "execution_count": 12,
   "id": "7abf7266",
   "metadata": {},
   "outputs": [
    {
     "data": {
      "text/plain": [
       "[1, 2, 3, 4, 5]"
      ]
     },
     "execution_count": 12,
     "metadata": {},
     "output_type": "execute_result"
    }
   ],
   "source": [
    "list((1, 2, 3, 4, 5))"
   ]
  },
  {
   "cell_type": "code",
   "execution_count": 13,
   "id": "45faa5fc",
   "metadata": {},
   "outputs": [
    {
     "data": {
      "text/plain": [
       "('Apple', 'Orange', 'Mango', 'Banana')"
      ]
     },
     "execution_count": 13,
     "metadata": {},
     "output_type": "execute_result"
    }
   ],
   "source": [
    "my_tuple = (\"Apple\", \"Orange\", \"Mango\", \"Banana\")\n",
    "\n",
    "my_tuple"
   ]
  },
  {
   "cell_type": "code",
   "execution_count": null,
   "id": "6fd125b3",
   "metadata": {},
   "outputs": [
    {
     "data": {
      "text/plain": [
       "tuple"
      ]
     },
     "execution_count": 14,
     "metadata": {},
     "output_type": "execute_result"
    }
   ],
   "source": [
    "type(my_tuple)"
   ]
  },
  {
   "cell_type": "code",
   "execution_count": 15,
   "id": "323f5344",
   "metadata": {},
   "outputs": [
    {
     "data": {
      "text/plain": [
       "['Apple', 'Orange', 'Mango', 'Banana']"
      ]
     },
     "execution_count": 15,
     "metadata": {},
     "output_type": "execute_result"
    }
   ],
   "source": [
    "my_list = list(my_tuple)\n",
    "\n",
    "my_list"
   ]
  },
  {
   "cell_type": "code",
   "execution_count": 16,
   "id": "1f64a083",
   "metadata": {},
   "outputs": [
    {
     "data": {
      "text/plain": [
       "list"
      ]
     },
     "execution_count": 16,
     "metadata": {},
     "output_type": "execute_result"
    }
   ],
   "source": [
    "type(my_list)"
   ]
  },
  {
   "cell_type": "code",
   "execution_count": 17,
   "id": "dfd38f85",
   "metadata": {},
   "outputs": [
    {
     "data": {
      "text/plain": [
       "('p', 'y', 't', 'h', 'o', 'n', ' ', 'w', 'o', 'r', 'l', 'd')"
      ]
     },
     "execution_count": 17,
     "metadata": {},
     "output_type": "execute_result"
    }
   ],
   "source": [
    "value_str = \"python world\"\n",
    "\n",
    "value_tup = tuple(value_str)\n",
    "\n",
    "value_tup"
   ]
  },
  {
   "cell_type": "code",
   "execution_count": 18,
   "id": "afb80180",
   "metadata": {},
   "outputs": [
    {
     "name": "stdout",
     "output_type": "stream",
     "text": [
      "Type of value_str is: <class 'str'>\n",
      "Type of value_tup is: <class 'tuple'>\n"
     ]
    }
   ],
   "source": [
    "print(\"Type of value_str is:\", type(value_str))\n",
    "\n",
    "print(\"Type of value_tup is:\", type(value_tup))"
   ]
  },
  {
   "cell_type": "code",
   "execution_count": null,
   "id": "d0088210",
   "metadata": {},
   "outputs": [],
   "source": [
    "tuple(5000) # Will throw an error"
   ]
  },
  {
   "cell_type": "code",
   "execution_count": 20,
   "id": "34df549b",
   "metadata": {},
   "outputs": [
    {
     "name": "stdout",
     "output_type": "stream",
     "text": [
      "['Apple', 'Orange', 'Mango', 'Banana']\n"
     ]
    }
   ],
   "source": [
    "my_list = [\"Apple\", \"Orange\", \"Mango\", \"Banana\"]\n",
    "\n",
    "print(my_list)"
   ]
  },
  {
   "cell_type": "code",
   "execution_count": 21,
   "id": "e3e835da",
   "metadata": {},
   "outputs": [
    {
     "data": {
      "text/plain": [
       "list"
      ]
     },
     "execution_count": 21,
     "metadata": {},
     "output_type": "execute_result"
    }
   ],
   "source": [
    "type(my_list)"
   ]
  },
  {
   "cell_type": "code",
   "execution_count": 22,
   "id": "888d291f",
   "metadata": {},
   "outputs": [
    {
     "name": "stdout",
     "output_type": "stream",
     "text": [
      "('Apple', 'Orange', 'Mango', 'Banana')\n"
     ]
    }
   ],
   "source": [
    "my_tuple = tuple(my_list)\n",
    "\n",
    "print(my_tuple)"
   ]
  },
  {
   "cell_type": "code",
   "execution_count": 23,
   "id": "e1239442",
   "metadata": {},
   "outputs": [
    {
     "data": {
      "text/plain": [
       "tuple"
      ]
     },
     "execution_count": 23,
     "metadata": {},
     "output_type": "execute_result"
    }
   ],
   "source": [
    "type(my_tuple)"
   ]
  },
  {
   "cell_type": "code",
   "execution_count": 24,
   "id": "c6f07a1a",
   "metadata": {},
   "outputs": [
    {
     "data": {
      "text/plain": [
       "(['William', 50], ['Henry', 60], ['James', 90])"
      ]
     },
     "execution_count": 24,
     "metadata": {},
     "output_type": "execute_result"
    }
   ],
   "source": [
    "age_list = [[\"William\", 50], [\"Henry\", 60], [\"James\", 90]]\n",
    "\n",
    "age_tuple = tuple(age_list)\n",
    "\n",
    "age_tuple"
   ]
  },
  {
   "cell_type": "code",
   "execution_count": 25,
   "id": "463f2bca",
   "metadata": {},
   "outputs": [
    {
     "data": {
      "text/plain": [
       "('William', 50)"
      ]
     },
     "execution_count": 25,
     "metadata": {},
     "output_type": "execute_result"
    }
   ],
   "source": [
    "age_tuple = tuple(age_list[0])\n",
    "\n",
    "age_tuple"
   ]
  },
  {
   "cell_type": "code",
   "execution_count": 26,
   "id": "25a9009f",
   "metadata": {},
   "outputs": [
    {
     "name": "stdout",
     "output_type": "stream",
     "text": [
      "Type of age_list is: <class 'list'>\n",
      "Type of age_tuple is: <class 'tuple'>\n"
     ]
    }
   ],
   "source": [
    "print(\"Type of age_list is:\", type(age_list))\n",
    "\n",
    "print(\"Type of age_tuple is:\", type(age_tuple))"
   ]
  },
  {
   "cell_type": "code",
   "execution_count": 27,
   "id": "424ca266",
   "metadata": {},
   "outputs": [],
   "source": [
    "pet_list = [(\"Dog\", 1), (\"Cat\", 2), (\"Cow\", 3), (\"Goat\", 4)]"
   ]
  },
  {
   "cell_type": "code",
   "execution_count": 28,
   "id": "f58cc094",
   "metadata": {},
   "outputs": [
    {
     "data": {
      "text/plain": [
       "(('Dog', 1), ('Cat', 2), ('Cow', 3), ('Goat', 4))"
      ]
     },
     "execution_count": 28,
     "metadata": {},
     "output_type": "execute_result"
    }
   ],
   "source": [
    "pet_tuple = tuple(pet_list)\n",
    "\n",
    "pet_tuple"
   ]
  },
  {
   "cell_type": "code",
   "execution_count": 29,
   "id": "6c0a07b9",
   "metadata": {},
   "outputs": [
    {
     "data": {
      "text/plain": [
       "('Leo', 18, 'Aaron', 25, 'Easton', 34, 'Jordan', 30)"
      ]
     },
     "execution_count": 29,
     "metadata": {},
     "output_type": "execute_result"
    }
   ],
   "source": [
    "age_tuple = (\"Leo\", 18,\n",
    "             \"Aaron\", 25,\n",
    "             \"Easton\", 34,\n",
    "             \"Jordan\", 30)\n",
    "\n",
    "age_tuple"
   ]
  },
  {
   "cell_type": "code",
   "execution_count": null,
   "id": "b02dd421",
   "metadata": {},
   "outputs": [],
   "source": [
    "dict(age_tuple) # Will throw an error"
   ]
  },
  {
   "cell_type": "code",
   "execution_count": 31,
   "id": "e0607232",
   "metadata": {},
   "outputs": [
    {
     "data": {
      "text/plain": [
       "(('Leo', 18), ('Aaron', 25), ('Easton', 34), ('Jordan', 30))"
      ]
     },
     "execution_count": 31,
     "metadata": {},
     "output_type": "execute_result"
    }
   ],
   "source": [
    "age_tuple1 = ((\"Leo\", 18),\n",
    "              (\"Aaron\", 25),\n",
    "              (\"Easton\", 34),\n",
    "              (\"Jordan\", 30))\n",
    "\n",
    "age_tuple1"
   ]
  },
  {
   "cell_type": "code",
   "execution_count": 32,
   "id": "7bc1716f",
   "metadata": {},
   "outputs": [
    {
     "data": {
      "text/plain": [
       "{'Leo': 18, 'Aaron': 25, 'Easton': 34, 'Jordan': 30}"
      ]
     },
     "execution_count": 32,
     "metadata": {},
     "output_type": "execute_result"
    }
   ],
   "source": [
    "dict(age_tuple1)"
   ]
  },
  {
   "cell_type": "code",
   "execution_count": 33,
   "id": "88a53ee7",
   "metadata": {},
   "outputs": [
    {
     "data": {
      "text/plain": [
       "(('Leo', 18), ('Aaron', 25), ('Easton', 34), (['Jordan', 'John'], 30))"
      ]
     },
     "execution_count": 33,
     "metadata": {},
     "output_type": "execute_result"
    }
   ],
   "source": [
    "age_tuple2 = ((\"Leo\", 18),\n",
    "              (\"Aaron\", 25),\n",
    "              (\"Easton\", 34),\n",
    "              ([\"Jordan\", \"John\"], 30))\n",
    "\n",
    "age_tuple2"
   ]
  },
  {
   "cell_type": "code",
   "execution_count": null,
   "id": "71c13fcc",
   "metadata": {},
   "outputs": [],
   "source": [
    "dict(age_tuple2) # Will throw an error"
   ]
  },
  {
   "cell_type": "code",
   "execution_count": 35,
   "id": "076ae54a",
   "metadata": {},
   "outputs": [
    {
     "data": {
      "text/plain": [
       "(('Leo', 18), ('Aaron', 25), ('Easton', 34), ('Jordan', ['John', 30]))"
      ]
     },
     "execution_count": 35,
     "metadata": {},
     "output_type": "execute_result"
    }
   ],
   "source": [
    "age_tuple3 = ((\"Leo\", 18),\n",
    "              (\"Aaron\", 25),\n",
    "              (\"Easton\", 34),\n",
    "              (\"Jordan\", [\"John\", 30]))\n",
    "\n",
    "age_tuple3"
   ]
  },
  {
   "cell_type": "code",
   "execution_count": 36,
   "id": "e83785c5",
   "metadata": {},
   "outputs": [
    {
     "data": {
      "text/plain": [
       "{'Leo': 18, 'Aaron': 25, 'Easton': 34, 'Jordan': ['John', 30]}"
      ]
     },
     "execution_count": 36,
     "metadata": {},
     "output_type": "execute_result"
    }
   ],
   "source": [
    "dict(age_tuple3)"
   ]
  },
  {
   "cell_type": "code",
   "execution_count": 37,
   "id": "82e0dc4e",
   "metadata": {},
   "outputs": [
    {
     "data": {
      "text/plain": [
       "{'William': 50, 'Joanne': 60, 'Maria': 90}"
      ]
     },
     "execution_count": 37,
     "metadata": {},
     "output_type": "execute_result"
    }
   ],
   "source": [
    "age_list = [[\"William\", 50],\n",
    "            [\"Joanne\", 60],\n",
    "            [\"Maria\", 90]]\n",
    "\n",
    "age_dict = dict(age_list)\n",
    "\n",
    "age_dict"
   ]
  },
  {
   "cell_type": "code",
   "execution_count": 38,
   "id": "ae13f588",
   "metadata": {},
   "outputs": [
    {
     "name": "stdout",
     "output_type": "stream",
     "text": [
      "Type of age_list is: <class 'list'>\n",
      "Type of age_dict is: <class 'dict'>\n"
     ]
    }
   ],
   "source": [
    "print(\"Type of age_list is:\", type(age_list))\n",
    "\n",
    "print(\"Type of age_dict is:\", type(age_dict))"
   ]
  },
  {
   "cell_type": "code",
   "execution_count": 39,
   "id": "c6b0255d",
   "metadata": {},
   "outputs": [
    {
     "data": {
      "text/plain": [
       "{'a', 'e', 'l', 'p'}"
      ]
     },
     "execution_count": 39,
     "metadata": {},
     "output_type": "execute_result"
    }
   ],
   "source": [
    "set('apple')"
   ]
  },
  {
   "cell_type": "code",
   "execution_count": 40,
   "id": "33db4f46",
   "metadata": {},
   "outputs": [
    {
     "data": {
      "text/plain": [
       "{'Apple', 'Banana', 'Mango', 'Orange'}"
      ]
     },
     "execution_count": 40,
     "metadata": {},
     "output_type": "execute_result"
    }
   ],
   "source": [
    "fruit_tuple = (\"Apple\", \"Orange\", \"Mango\", \"Banana\", \"Banana\")\n",
    "\n",
    "fruit_set = set(fruit_tuple)\n",
    "\n",
    "fruit_set"
   ]
  },
  {
   "cell_type": "code",
   "execution_count": 41,
   "id": "3f716f4a",
   "metadata": {},
   "outputs": [
    {
     "data": {
      "text/plain": [
       "set"
      ]
     },
     "execution_count": 41,
     "metadata": {},
     "output_type": "execute_result"
    }
   ],
   "source": [
    "type(fruit_set)"
   ]
  }
 ],
 "metadata": {
  "kernelspec": {
   "display_name": "Python 3 (ipykernel)",
   "language": "python",
   "name": "python3"
  },
  "language_info": {
   "codemirror_mode": {
    "name": "ipython",
    "version": 3
   },
   "file_extension": ".py",
   "mimetype": "text/x-python",
   "name": "python",
   "nbconvert_exporter": "python",
   "pygments_lexer": "ipython3",
   "version": "3.11.4"
  }
 },
 "nbformat": 4,
 "nbformat_minor": 5
}
