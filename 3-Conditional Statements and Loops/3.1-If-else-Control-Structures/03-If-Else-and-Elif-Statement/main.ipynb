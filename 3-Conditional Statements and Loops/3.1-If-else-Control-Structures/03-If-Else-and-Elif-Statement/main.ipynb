{
 "cells": [
  {
   "cell_type": "code",
   "execution_count": 1,
   "id": "c7cd71ef",
   "metadata": {},
   "outputs": [
    {
     "name": "stdout",
     "output_type": "stream",
     "text": [
      "10 is less than 20\n",
      "else block activated\n"
     ]
    }
   ],
   "source": [
    "if 10 > 20:\n",
    "    print(\"10 is greater than 20\")\n",
    "    print(\"if block activated\")\n",
    "\n",
    "else:\n",
    "    print(\"10 is less than 20\")\n",
    "    print(\"else block activated\")"
   ]
  },
  {
   "cell_type": "code",
   "execution_count": 2,
   "id": "f3ef54ec",
   "metadata": {},
   "outputs": [
    {
     "data": {
      "text/plain": [
       "7160"
      ]
     },
     "execution_count": 2,
     "metadata": {},
     "output_type": "execute_result"
    }
   ],
   "source": [
    "bike_price = 7160\n",
    "bike_price"
   ]
  },
  {
   "cell_type": "code",
   "execution_count": 3,
   "id": "9b424b25",
   "metadata": {},
   "outputs": [
    {
     "name": "stdout",
     "output_type": "stream",
     "text": [
      "It's a cheap bike\n",
      "if block activated\n"
     ]
    }
   ],
   "source": [
    "if bike_price <= 8000:\n",
    "    print(\"It's a cheap bike\")\n",
    "    print(\"if block activated\")\n",
    "    \n",
    "else:\n",
    "    print(\"It's an expensive bike\")\n",
    "    print(\"else block activated\")"
   ]
  },
  {
   "cell_type": "code",
   "execution_count": null,
   "id": "981bce67",
   "metadata": {},
   "outputs": [],
   "source": [
    "bike_price = 9000\n",
    "\n",
    "if bike_price <= 8000:\n",
    "    print(\"It's a cheap bike\")\n",
    "    \n",
    "    # Will throw an error\n",
    "    else: \n",
    "        print(\"It's an expensive bike\")"
   ]
  },
  {
   "cell_type": "code",
   "execution_count": 5,
   "id": "c4accaa0",
   "metadata": {},
   "outputs": [
    {
     "name": "stdout",
     "output_type": "stream",
     "text": [
      "It's an expensive bike\n"
     ]
    }
   ],
   "source": [
    "bike_price = 9000\n",
    "\n",
    "if bike_price <= 8000:\n",
    "    print(\"It's a cheap bike\")\n",
    "    \n",
    "else: \n",
    "    print(\"It's an expensive bike\")"
   ]
  },
  {
   "cell_type": "code",
   "execution_count": 6,
   "id": "20f2d791",
   "metadata": {},
   "outputs": [
    {
     "name": "stdout",
     "output_type": "stream",
     "text": [
      "num before expression:  50\n",
      "num after expression:  30\n"
     ]
    }
   ],
   "source": [
    "num = 50\n",
    "print(\"num before expression: \", num)\n",
    "\n",
    "num = num - 20 if num > 20 else num + 20\n",
    "\n",
    "print(\"num after expression: \", num)"
   ]
  },
  {
   "cell_type": "code",
   "execution_count": 7,
   "id": "6b70c042",
   "metadata": {},
   "outputs": [
    {
     "name": "stdout",
     "output_type": "stream",
     "text": [
      "num before expression:  50\n",
      "num after expression:  30\n"
     ]
    }
   ],
   "source": [
    "num = 50\n",
    "print(\"num before expression: \", num)\n",
    "\n",
    "if num > 20:\n",
    "    num = num - 20\n",
    "else:\n",
    "    num = num + 20\n",
    "\n",
    "print(\"num after expression: \", num)"
   ]
  },
  {
   "cell_type": "code",
   "execution_count": 8,
   "id": "ba9b5ffe",
   "metadata": {},
   "outputs": [
    {
     "name": "stdout",
     "output_type": "stream",
     "text": [
      "Number before expression:  100\n",
      "Number after expression:  500\n"
     ]
    }
   ],
   "source": [
    "num = 100\n",
    "print(\"Number before expression: \", num)\n",
    "\n",
    "result = num / 5 if num < 50 else num * 5\n",
    "\n",
    "print(\"Number after expression: \", result)"
   ]
  },
  {
   "cell_type": "code",
   "execution_count": 9,
   "id": "d430f999",
   "metadata": {},
   "outputs": [
    {
     "name": "stdout",
     "output_type": "stream",
     "text": [
      "15 is less than 20\n",
      "elif block activated\n"
     ]
    }
   ],
   "source": [
    "if 15 > 20:\n",
    "    print(\"15 is greater than 20\")\n",
    "    print(\"if block activated\")\n",
    "\n",
    "elif 15 < 20:\n",
    "    print(\"15 is less than 20\")\n",
    "    print(\"elif block activated\")\n",
    "    \n",
    "else:\n",
    "    print(\"Both are equal\")\n",
    "    print(\"else block activated\")"
   ]
  },
  {
   "cell_type": "code",
   "execution_count": 10,
   "id": "3eec37ef",
   "metadata": {},
   "outputs": [
    {
     "name": "stdout",
     "output_type": "stream",
     "text": [
      "a and b are equal\n",
      "elif block activated\n"
     ]
    }
   ],
   "source": [
    "a = 45\n",
    "b = 45\n",
    "\n",
    "if b > a:\n",
    "    print(\"b is greater than a\")\n",
    "    print(\"if block activated\")\n",
    "\n",
    "elif a == b:\n",
    "    print(\"a and b are equal\")\n",
    "    print(\"elif block activated\")\n",
    "\n",
    "else:\n",
    "    print(\"a is greater than b\")\n",
    "    print(\"else block activated\")"
   ]
  }
 ],
 "metadata": {
  "kernelspec": {
   "display_name": "Python 3 (ipykernel)",
   "language": "python",
   "name": "python3"
  },
  "language_info": {
   "codemirror_mode": {
    "name": "ipython",
    "version": 3
   },
   "file_extension": ".py",
   "mimetype": "text/x-python",
   "name": "python",
   "nbconvert_exporter": "python",
   "pygments_lexer": "ipython3",
   "version": "3.11.4"
  }
 },
 "nbformat": 4,
 "nbformat_minor": 5
}
