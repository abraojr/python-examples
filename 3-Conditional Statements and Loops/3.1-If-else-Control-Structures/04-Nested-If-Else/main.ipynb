{
 "cells": [
  {
   "cell_type": "code",
   "execution_count": 1,
   "id": "201b45cc",
   "metadata": {},
   "outputs": [],
   "source": [
    "bike_price = 20000"
   ]
  },
  {
   "cell_type": "code",
   "execution_count": 2,
   "id": "8843d73b",
   "metadata": {},
   "outputs": [],
   "source": [
    "if bike_price < 6000:\n",
    "    print(\"It's a cheap bike\")\n",
    "    \n",
    "elif bike_price >= 6000 and bike_price < 10000:\n",
    "    print(\"It's a moderately priced bike\")\n",
    "    \n",
    "elif bike_price >= 10000 and bike_price < 15000:\n",
    "    print(\"It's a somewhat expensive bike\")"
   ]
  },
  {
   "cell_type": "code",
   "execution_count": 3,
   "id": "c401afb8",
   "metadata": {},
   "outputs": [
    {
     "name": "stdout",
     "output_type": "stream",
     "text": [
      "It's a somewhat expensive bike\n"
     ]
    }
   ],
   "source": [
    "if bike_price < 6000:\n",
    "    print(\"It's a cheap bike\")\n",
    "    \n",
    "elif bike_price >= 6000 and bike_price < 10000:\n",
    "    print(\"It's a moderately priced bike\")\n",
    "    \n",
    "elif bike_price >= 10000:\n",
    "    print(\"It's a somewhat expensive bike\")\n",
    "\n",
    "elif bike_price >= 20000:\n",
    "    print(\"It's a very expensive bike\")"
   ]
  },
  {
   "cell_type": "code",
   "execution_count": 4,
   "id": "5898f86a",
   "metadata": {},
   "outputs": [],
   "source": [
    "x = 25\n",
    "y = 35\n",
    "z = 45"
   ]
  },
  {
   "cell_type": "code",
   "execution_count": 5,
   "id": "7fb62e0f",
   "metadata": {},
   "outputs": [
    {
     "name": "stdout",
     "output_type": "stream",
     "text": [
      "The first condition is true\n",
      "Both conditions are true\n"
     ]
    }
   ],
   "source": [
    "if x < y:\n",
    "    print(\"The first condition is true\")\n",
    "    \n",
    "    if x < z:\n",
    "        print(\"Both conditions are true\")\n",
    "    \n",
    "    else:\n",
    "        print(\"The first condition is true, the second one is false\")"
   ]
  },
  {
   "cell_type": "code",
   "execution_count": 6,
   "id": "9e6b43f6",
   "metadata": {},
   "outputs": [
    {
     "name": "stdout",
     "output_type": "stream",
     "text": [
      "The first condition is false\n"
     ]
    }
   ],
   "source": [
    "x = 55\n",
    "\n",
    "if x < y:\n",
    "    print(\"The first condition is true\")\n",
    "    \n",
    "    if x < z:\n",
    "        print(\"Both conditions are true\")\n",
    "    \n",
    "    else:\n",
    "        print(\"The first condition is true, the second one is false\")\n",
    "        \n",
    "else:\n",
    "    print(\"The first condition is false\")"
   ]
  },
  {
   "cell_type": "code",
   "execution_count": 7,
   "id": "62c5481c",
   "metadata": {},
   "outputs": [
    {
     "name": "stdout",
     "output_type": "stream",
     "text": [
      "Enter your age: 23\n",
      "You are too old for this camping trip!\n"
     ]
    }
   ],
   "source": [
    "age = int(input(\"Enter your age: \"))\n",
    "\n",
    "if age >= 15:\n",
    "    \n",
    "    if age > 10:\n",
    "        print(\"You are too old for this camping trip!\")\n",
    "    \n",
    "    else:\n",
    "        print(\"You are of the right age for this camping trip!\")\n",
    "        \n",
    "else:\n",
    "    print(\"You are too young for this camping trip!\")"
   ]
  },
  {
   "cell_type": "code",
   "execution_count": 8,
   "id": "8c1b40ff",
   "metadata": {},
   "outputs": [
    {
     "name": "stdout",
     "output_type": "stream",
     "text": [
      "Enter your age: 18\n",
      "You are of the right age for this camping trip!\n"
     ]
    }
   ],
   "source": [
    "age = int(input(\"Enter your age: \"))\n",
    "\n",
    "if age >= 15:\n",
    "    \n",
    "    if age > 20:\n",
    "        print(\"You are too old for this camping trip!\")\n",
    "    \n",
    "    else:\n",
    "        print(\"You are of the right age for this camping trip!\")\n",
    "        \n",
    "else:\n",
    "    print(\"You are too young for this camping trip!\")"
   ]
  },
  {
   "cell_type": "code",
   "execution_count": 9,
   "id": "889d743a",
   "metadata": {},
   "outputs": [
    {
     "name": "stdout",
     "output_type": "stream",
     "text": [
      "What is the total amount of your online shopping? 80\n",
      "USA or Canada? USA\n",
      "Shipping Cost is $6.00\n"
     ]
    }
   ],
   "source": [
    "total = int(input(\"What is the total amount of your online shopping? \"))\n",
    "country =  input(\"USA or Canada? \")\n",
    "\n",
    "if country == \"USA\":\n",
    "    if total <= 50:\n",
    "        print(\"Shipping Cost is $9.00\")\n",
    "    \n",
    "    elif total <= 100:\n",
    "        print(\"Shipping Cost is $6.00\")\n",
    "    \n",
    "    else:\n",
    "        print(\"Shipping is FREE\")\n",
    "\n",
    "if country == \"Canada\":\n",
    "    if total <= 50:\n",
    "        print(\"Shipping Cost is $12.00\")\n",
    "    \n",
    "    elif total <= 100:\n",
    "        print(\"Shipping Cost is $8.00\")\n",
    "    \n",
    "    else:\n",
    "        print(\"Shipping is FREE\")"
   ]
  },
  {
   "cell_type": "code",
   "execution_count": 10,
   "id": "6d44d8f5",
   "metadata": {},
   "outputs": [
    {
     "name": "stdout",
     "output_type": "stream",
     "text": [
      "What is the total amount of your online shopping? 40\n",
      "USA or Canada? Canada\n",
      "Shipping Cost is $12.00\n"
     ]
    }
   ],
   "source": [
    "total = int(input(\"What is the total amount of your online shopping? \"))\n",
    "country =  input(\"USA or Canada? \")\n",
    "\n",
    "if country == \"USA\":\n",
    "    if total <= 50:\n",
    "        print(\"Shipping Cost is $9.00\")\n",
    "    \n",
    "    elif total <= 100:\n",
    "        print(\"Shipping Cost is $6.00\")\n",
    "    \n",
    "    else:\n",
    "        print(\"Shipping is FREE\")\n",
    "\n",
    "if country == \"Canada\":\n",
    "    if total <= 50:\n",
    "        print(\"Shipping Cost is $12.00\")\n",
    "    \n",
    "    elif total <= 100:\n",
    "        print(\"Shipping Cost is $8.00\")\n",
    "    \n",
    "    else:\n",
    "        print(\"Shipping is FREE\")"
   ]
  }
 ],
 "metadata": {
  "kernelspec": {
   "display_name": "Python 3 (ipykernel)",
   "language": "python",
   "name": "python3"
  },
  "language_info": {
   "codemirror_mode": {
    "name": "ipython",
    "version": 3
   },
   "file_extension": ".py",
   "mimetype": "text/x-python",
   "name": "python",
   "nbconvert_exporter": "python",
   "pygments_lexer": "ipython3",
   "version": "3.11.4"
  }
 },
 "nbformat": 4,
 "nbformat_minor": 5
}
