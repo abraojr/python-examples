{
 "cells": [
  {
   "cell_type": "code",
   "execution_count": 1,
   "id": "412820e0",
   "metadata": {},
   "outputs": [
    {
     "data": {
      "text/plain": [
       "int"
      ]
     },
     "execution_count": 1,
     "metadata": {},
     "output_type": "execute_result"
    }
   ],
   "source": [
    "type(66)"
   ]
  },
  {
   "cell_type": "code",
   "execution_count": 2,
   "id": "d9895d49",
   "metadata": {},
   "outputs": [
    {
     "data": {
      "text/plain": [
       "66.0"
      ]
     },
     "execution_count": 2,
     "metadata": {},
     "output_type": "execute_result"
    }
   ],
   "source": [
    "float(66)"
   ]
  },
  {
   "cell_type": "code",
   "execution_count": 3,
   "id": "d661aad7",
   "metadata": {},
   "outputs": [
    {
     "data": {
      "text/plain": [
       "int"
      ]
     },
     "execution_count": 3,
     "metadata": {},
     "output_type": "execute_result"
    }
   ],
   "source": [
    "a = 66\n",
    "\n",
    "type(a)"
   ]
  },
  {
   "cell_type": "code",
   "execution_count": 4,
   "id": "be49b907",
   "metadata": {},
   "outputs": [
    {
     "data": {
      "text/plain": [
       "66.0"
      ]
     },
     "execution_count": 4,
     "metadata": {},
     "output_type": "execute_result"
    }
   ],
   "source": [
    "my_float = float(a)\n",
    "\n",
    "my_float"
   ]
  },
  {
   "cell_type": "code",
   "execution_count": 5,
   "id": "e2ab054f",
   "metadata": {},
   "outputs": [
    {
     "data": {
      "text/plain": [
       "float"
      ]
     },
     "execution_count": 5,
     "metadata": {},
     "output_type": "execute_result"
    }
   ],
   "source": [
    "type(390.8)"
   ]
  },
  {
   "cell_type": "code",
   "execution_count": 6,
   "id": "625b32c9",
   "metadata": {},
   "outputs": [
    {
     "data": {
      "text/plain": [
       "390"
      ]
     },
     "execution_count": 6,
     "metadata": {},
     "output_type": "execute_result"
    }
   ],
   "source": [
    "int(390.8)"
   ]
  },
  {
   "cell_type": "code",
   "execution_count": 7,
   "id": "ce9b1b9c",
   "metadata": {},
   "outputs": [
    {
     "data": {
      "text/plain": [
       "66"
      ]
     },
     "execution_count": 7,
     "metadata": {},
     "output_type": "execute_result"
    }
   ],
   "source": [
    "b = 66.6\n",
    "\n",
    "my_int = int(b)\n",
    "\n",
    "my_int"
   ]
  },
  {
   "cell_type": "code",
   "execution_count": 8,
   "id": "6493a175",
   "metadata": {},
   "outputs": [
    {
     "data": {
      "text/plain": [
       "float"
      ]
     },
     "execution_count": 8,
     "metadata": {},
     "output_type": "execute_result"
    }
   ],
   "source": [
    "type(b)"
   ]
  },
  {
   "cell_type": "code",
   "execution_count": 9,
   "id": "b554a736",
   "metadata": {},
   "outputs": [
    {
     "data": {
      "text/plain": [
       "int"
      ]
     },
     "execution_count": 9,
     "metadata": {},
     "output_type": "execute_result"
    }
   ],
   "source": [
    "type(my_int)"
   ]
  },
  {
   "cell_type": "code",
   "execution_count": 10,
   "id": "9271da8c",
   "metadata": {},
   "outputs": [
    {
     "name": "stdout",
     "output_type": "stream",
     "text": [
      "datatype of num_int: <class 'int'>\n",
      "datatype of num_float: <class 'float'>\n"
     ]
    }
   ],
   "source": [
    "num_int = 76\n",
    "num_float = 23.4\n",
    "\n",
    "print(\"datatype of num_int:\", type(num_int))\n",
    "print(\"datatype of num_float:\", type(num_float))"
   ]
  },
  {
   "cell_type": "code",
   "execution_count": 11,
   "id": "86015371",
   "metadata": {},
   "outputs": [
    {
     "name": "stdout",
     "output_type": "stream",
     "text": [
      "99.4\n",
      "datatype of new_num is <class 'float'>\n"
     ]
    }
   ],
   "source": [
    "new_num = num_int + num_float\n",
    "\n",
    "print(new_num)\n",
    "print(\"datatype of new_num is\", type(new_num))"
   ]
  },
  {
   "cell_type": "code",
   "execution_count": 12,
   "id": "a5aff295",
   "metadata": {},
   "outputs": [],
   "source": [
    "my_float = 66.999999"
   ]
  },
  {
   "cell_type": "code",
   "execution_count": 13,
   "id": "e9dcb16b",
   "metadata": {},
   "outputs": [
    {
     "data": {
      "text/plain": [
       "66"
      ]
     },
     "execution_count": 13,
     "metadata": {},
     "output_type": "execute_result"
    }
   ],
   "source": [
    "my_num = int(my_float)\n",
    "\n",
    "my_num"
   ]
  },
  {
   "cell_type": "code",
   "execution_count": 14,
   "id": "01672698",
   "metadata": {},
   "outputs": [
    {
     "name": "stdout",
     "output_type": "stream",
     "text": [
      "125\n",
      "390\n"
     ]
    }
   ],
   "source": [
    "a = 125.0\n",
    "b = 390.8\n",
    "\n",
    "print(int (a))\n",
    "print(int (b))"
   ]
  },
  {
   "cell_type": "code",
   "execution_count": 15,
   "id": "23bdb31a",
   "metadata": {},
   "outputs": [
    {
     "data": {
      "text/plain": [
       "12"
      ]
     },
     "execution_count": 15,
     "metadata": {},
     "output_type": "execute_result"
    }
   ],
   "source": [
    "int('12')"
   ]
  },
  {
   "cell_type": "code",
   "execution_count": 16,
   "id": "ede8b098",
   "metadata": {},
   "outputs": [
    {
     "data": {
      "text/plain": [
       "str"
      ]
     },
     "execution_count": 16,
     "metadata": {},
     "output_type": "execute_result"
    }
   ],
   "source": [
    "a = \"66\"\n",
    "\n",
    "type(a)"
   ]
  },
  {
   "cell_type": "code",
   "execution_count": 17,
   "id": "14311235",
   "metadata": {},
   "outputs": [
    {
     "data": {
      "text/plain": [
       "66"
      ]
     },
     "execution_count": 17,
     "metadata": {},
     "output_type": "execute_result"
    }
   ],
   "source": [
    "my_int = int(a)\n",
    "\n",
    "my_int"
   ]
  },
  {
   "cell_type": "code",
   "execution_count": 18,
   "id": "d7fa7db0",
   "metadata": {},
   "outputs": [
    {
     "data": {
      "text/plain": [
       "int"
      ]
     },
     "execution_count": 18,
     "metadata": {},
     "output_type": "execute_result"
    }
   ],
   "source": [
    "type(my_int)"
   ]
  },
  {
   "cell_type": "code",
   "execution_count": null,
   "id": "3f499c41",
   "metadata": {},
   "outputs": [],
   "source": [
    "num_int = 123\n",
    "num_str = \"456\"\n",
    "\n",
    "print(num_int + num_str) # Will throw an error"
   ]
  },
  {
   "cell_type": "code",
   "execution_count": 20,
   "id": "6c176143",
   "metadata": {},
   "outputs": [
    {
     "name": "stdout",
     "output_type": "stream",
     "text": [
      "Data type of num_int: <class 'int'>\n",
      "Data type of num_str: <class 'str'>\n"
     ]
    }
   ],
   "source": [
    "print(\"Data type of num_int:\", type(num_int))\n",
    "print(\"Data type of num_str:\", type(num_str))"
   ]
  },
  {
   "cell_type": "code",
   "execution_count": 21,
   "id": "c57f6da0",
   "metadata": {},
   "outputs": [
    {
     "name": "stdout",
     "output_type": "stream",
     "text": [
      "Data type of num_str: <class 'int'>\n"
     ]
    }
   ],
   "source": [
    "num_str = int(num_str)\n",
    "\n",
    "print(\"Data type of num_str:\", type(num_str))"
   ]
  },
  {
   "cell_type": "code",
   "execution_count": 22,
   "id": "853bd2ac",
   "metadata": {},
   "outputs": [
    {
     "name": "stdout",
     "output_type": "stream",
     "text": [
      "579\n",
      "Data type of sum_value: <class 'int'>\n"
     ]
    }
   ],
   "source": [
    "sum_value = num_int + num_str\n",
    "\n",
    "print(sum_value)\n",
    "print(\"Data type of sum_value:\", type(sum_value))"
   ]
  },
  {
   "cell_type": "code",
   "execution_count": null,
   "id": "105f61df",
   "metadata": {},
   "outputs": [],
   "source": [
    "value_str = \"five\"\n",
    "\n",
    "value_str = int(value_str) # Will throw an error"
   ]
  },
  {
   "cell_type": "code",
   "execution_count": 24,
   "id": "e7e15b2d",
   "metadata": {},
   "outputs": [
    {
     "data": {
      "text/plain": [
       "'12'"
      ]
     },
     "execution_count": 24,
     "metadata": {},
     "output_type": "execute_result"
    }
   ],
   "source": [
    "str(12)"
   ]
  },
  {
   "cell_type": "code",
   "execution_count": 25,
   "id": "02259d2b",
   "metadata": {},
   "outputs": [
    {
     "data": {
      "text/plain": [
       "'123'"
      ]
     },
     "execution_count": 25,
     "metadata": {},
     "output_type": "execute_result"
    }
   ],
   "source": [
    "my_str = str(num_int)\n",
    "my_str"
   ]
  },
  {
   "cell_type": "code",
   "execution_count": 26,
   "id": "99a17d17",
   "metadata": {},
   "outputs": [
    {
     "name": "stdout",
     "output_type": "stream",
     "text": [
      "John has 5524.53 points\n"
     ]
    }
   ],
   "source": [
    "my_float = 5524.53\n",
    "\n",
    "print(\"John has \" + str(my_float) + \" points\")"
   ]
  },
  {
   "cell_type": "code",
   "execution_count": null,
   "id": "b576f468",
   "metadata": {},
   "outputs": [],
   "source": [
    "user = \"John\"\n",
    "lines = 50\n",
    "\n",
    "print(\"Congratulations, \" + user + \"! You just wrote \" + lines + \" lines of code\") # Will throw an error"
   ]
  },
  {
   "cell_type": "code",
   "execution_count": 28,
   "id": "907a4129",
   "metadata": {},
   "outputs": [
    {
     "name": "stdout",
     "output_type": "stream",
     "text": [
      "Congratulations, John! You just wrote 50 lines of code\n"
     ]
    }
   ],
   "source": [
    "user = \"John\"\n",
    "lines = 50\n",
    "\n",
    "print(\"Congratulations, \" + user + \"! You just wrote \" + str(lines) + \" lines of code\")"
   ]
  },
  {
   "cell_type": "code",
   "execution_count": null,
   "id": "52cb8c97",
   "metadata": {},
   "outputs": [],
   "source": [
    "number = input()\n",
    "\n",
    "plus_ten = number + 10 # Will throw an error"
   ]
  },
  {
   "cell_type": "code",
   "execution_count": 30,
   "id": "b13e9183",
   "metadata": {},
   "outputs": [
    {
     "data": {
      "text/plain": [
       "str"
      ]
     },
     "execution_count": 30,
     "metadata": {},
     "output_type": "execute_result"
    }
   ],
   "source": [
    "type(number)"
   ]
  },
  {
   "cell_type": "code",
   "execution_count": null,
   "id": "bfd82e4e",
   "metadata": {},
   "outputs": [],
   "source": [
    "number = int(input())\n",
    "\n",
    "plus_ten = number + 10\n",
    "\n",
    "print(\"If we add 10 to this number, we get \" + plus_ten) # Will throw an error"
   ]
  },
  {
   "cell_type": "code",
   "execution_count": 32,
   "id": "945fd4f6",
   "metadata": {},
   "outputs": [
    {
     "name": "stdout",
     "output_type": "stream",
     "text": [
      "6\n",
      "If we add 10 to this number, we get 16\n"
     ]
    }
   ],
   "source": [
    "number = int(input())\n",
    "\n",
    "plus_ten = number + 10\n",
    "\n",
    "print(\"If we add 10 to this number, we get \" + str(plus_ten))"
   ]
  },
  {
   "cell_type": "code",
   "execution_count": 33,
   "id": "138fe8e0",
   "metadata": {},
   "outputs": [
    {
     "name": "stdout",
     "output_type": "stream",
     "text": [
      "67\n",
      "\n",
      "If we add 10 and 20 to this number, we get 77 and 87\n"
     ]
    }
   ],
   "source": [
    "number = int(input())\n",
    "plus_ten = number + 10\n",
    "plus_twenty = number + 20\n",
    "\n",
    "print(\"\\nIf we add 10 and 20 to this number, we get %s and %s\" %(plus_ten, plus_twenty))"
   ]
  }
 ],
 "metadata": {
  "kernelspec": {
   "display_name": "Python 3 (ipykernel)",
   "language": "python",
   "name": "python3"
  },
  "language_info": {
   "codemirror_mode": {
    "name": "ipython",
    "version": 3
   },
   "file_extension": ".py",
   "mimetype": "text/x-python",
   "name": "python",
   "nbconvert_exporter": "python",
   "pygments_lexer": "ipython3",
   "version": "3.11.4"
  }
 },
 "nbformat": 4,
 "nbformat_minor": 5
}
