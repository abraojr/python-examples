{
 "cells": [
  {
   "cell_type": "code",
   "execution_count": 1,
   "id": "168b87ff",
   "metadata": {},
   "outputs": [
    {
     "name": "stdout",
     "output_type": "stream",
     "text": [
      "10 is less than 15\n"
     ]
    }
   ],
   "source": [
    "if 10 < 15:\n",
    "    print(\"10 is less than 15\")"
   ]
  },
  {
   "cell_type": "code",
   "execution_count": 2,
   "id": "db5023f7",
   "metadata": {},
   "outputs": [
    {
     "name": "stdout",
     "output_type": "stream",
     "text": [
      "46 is greater than 45\n"
     ]
    }
   ],
   "source": [
    "if 46 > 40 + 5:\n",
    "    print(\"46 is greater than 45\")"
   ]
  },
  {
   "cell_type": "code",
   "execution_count": null,
   "id": "8b27153a",
   "metadata": {},
   "outputs": [],
   "source": [
    "if 46 > 40:\n",
    "print(\"46 is greater than 45\") # Will throw an error"
   ]
  },
  {
   "cell_type": "code",
   "execution_count": 4,
   "id": "a9b6a46e",
   "metadata": {},
   "outputs": [],
   "source": [
    "x_value = 65\n",
    "\n",
    "y_value = 25"
   ]
  },
  {
   "cell_type": "code",
   "execution_count": 5,
   "id": "f60d0172",
   "metadata": {},
   "outputs": [],
   "source": [
    "if x_value < y_value:\n",
    "    print(\"Value of x is less than the value of y\")"
   ]
  },
  {
   "cell_type": "code",
   "execution_count": 6,
   "id": "c5c78ccf",
   "metadata": {},
   "outputs": [
    {
     "name": "stdout",
     "output_type": "stream",
     "text": [
      "Value of x is greater than the value of y\n"
     ]
    }
   ],
   "source": [
    "if x_value > y_value:\n",
    "    print(\"Value of x is greater than the value of y\")"
   ]
  },
  {
   "cell_type": "code",
   "execution_count": 7,
   "id": "a2c44dc6",
   "metadata": {},
   "outputs": [],
   "source": [
    "my_string = \"Hello python world\""
   ]
  },
  {
   "cell_type": "code",
   "execution_count": 8,
   "id": "f37b30b3",
   "metadata": {},
   "outputs": [
    {
     "name": "stdout",
     "output_type": "stream",
     "text": [
      "Yes, \"python\" is in my string\n"
     ]
    }
   ],
   "source": [
    "if \"python\" in my_string:\n",
    "    print('Yes, \"python\" is in my string')"
   ]
  },
  {
   "cell_type": "code",
   "execution_count": 9,
   "id": "81bf5d64",
   "metadata": {},
   "outputs": [],
   "source": [
    "if \"pythonworld\" in my_string:\n",
    "    print('Yes, \"python world\" is in my string')"
   ]
  },
  {
   "cell_type": "code",
   "execution_count": 10,
   "id": "821590ed",
   "metadata": {},
   "outputs": [
    {
     "name": "stdout",
     "output_type": "stream",
     "text": [
      "Yes, \"python world\" is in my string\n"
     ]
    }
   ],
   "source": [
    "if \"python world\" in my_string:\n",
    "    print('Yes, \"python world\" is in my string')"
   ]
  },
  {
   "cell_type": "code",
   "execution_count": 11,
   "id": "c6fb3523",
   "metadata": {},
   "outputs": [],
   "source": [
    "if \"Python World\" in my_string:\n",
    "    print('Yes, \"Python World\" is in my string')"
   ]
  },
  {
   "cell_type": "code",
   "execution_count": 12,
   "id": "000755df",
   "metadata": {},
   "outputs": [
    {
     "data": {
      "text/plain": [
       "['Ayden', 'Gavin', 'Ian', 'Jose', 'Jane']"
      ]
     },
     "execution_count": 12,
     "metadata": {},
     "output_type": "execute_result"
    }
   ],
   "source": [
    "list_student = [\"Ayden\", \"Gavin\", \"Ian\", \"Jose\", \"Jane\"]\n",
    "\n",
    "list_student"
   ]
  },
  {
   "cell_type": "code",
   "execution_count": 13,
   "id": "c934b40b",
   "metadata": {},
   "outputs": [
    {
     "name": "stdout",
     "output_type": "stream",
     "text": [
      "Jose is a student\n"
     ]
    }
   ],
   "source": [
    "if \"Jose\" in list_student:\n",
    "    print(\"Jose is a student\")"
   ]
  },
  {
   "cell_type": "code",
   "execution_count": 14,
   "id": "d0a9d6b0",
   "metadata": {},
   "outputs": [],
   "source": [
    "if \"Eva\" in list_student:\n",
    "    print(\"Eva is a student\")"
   ]
  },
  {
   "cell_type": "code",
   "execution_count": 15,
   "id": "a6d97541",
   "metadata": {},
   "outputs": [
    {
     "data": {
      "text/plain": [
       "('Alice', 'Alexa', 'Robert', 'Bella')"
      ]
     },
     "execution_count": 15,
     "metadata": {},
     "output_type": "execute_result"
    }
   ],
   "source": [
    "tuple_teachers = (\"Alice\", \"Alexa\", \"Robert\", \"Bella\")\n",
    "\n",
    "tuple_teachers"
   ]
  },
  {
   "cell_type": "code",
   "execution_count": 16,
   "id": "94189ccf",
   "metadata": {},
   "outputs": [
    {
     "name": "stdout",
     "output_type": "stream",
     "text": [
      "Alexa is a teacher\n"
     ]
    }
   ],
   "source": [
    "if \"Alexa\" in tuple_teachers:\n",
    "    print(\"Alexa is a teacher\")"
   ]
  },
  {
   "cell_type": "code",
   "execution_count": 17,
   "id": "84220474",
   "metadata": {},
   "outputs": [
    {
     "data": {
      "text/plain": [
       "{'Ayden': 60, 'Gavin': 85, 'Ian': 76, 'Jose': 70, 'Jane': 82}"
      ]
     },
     "execution_count": 17,
     "metadata": {},
     "output_type": "execute_result"
    }
   ],
   "source": [
    "student_score = {\"Ayden\" : 60, \"Gavin\" : 85, \"Ian\" : 76, \"Jose\" : 70, \"Jane\" : 82}\n",
    "\n",
    "student_score"
   ]
  },
  {
   "cell_type": "code",
   "execution_count": 18,
   "id": "bb76b875",
   "metadata": {},
   "outputs": [
    {
     "name": "stdout",
     "output_type": "stream",
     "text": [
      "Ian is in the student score dictionary\n"
     ]
    }
   ],
   "source": [
    "if \"Ian\" in student_score:\n",
    "    print(\"Ian is in the student score dictionary\")"
   ]
  },
  {
   "cell_type": "code",
   "execution_count": 19,
   "id": "88d362e4",
   "metadata": {},
   "outputs": [
    {
     "name": "stdout",
     "output_type": "stream",
     "text": [
      "Jane's score:  82\n"
     ]
    }
   ],
   "source": [
    "if \"Jane\" in student_score:\n",
    "    print(\"Jane's score: \", student_score[\"Jane\"])"
   ]
  },
  {
   "cell_type": "code",
   "execution_count": 20,
   "id": "5f6f3bf4",
   "metadata": {},
   "outputs": [
    {
     "name": "stdout",
     "output_type": "stream",
     "text": [
      "Ayden's score:  60\n"
     ]
    }
   ],
   "source": [
    "if \"Ayden\" in student_score:\n",
    "    print(\"Ayden's score: \", student_score[\"Ayden\"])"
   ]
  },
  {
   "cell_type": "code",
   "execution_count": 21,
   "id": "35bbe7e0",
   "metadata": {},
   "outputs": [],
   "source": [
    "a = 60\n",
    "b = 35"
   ]
  },
  {
   "cell_type": "code",
   "execution_count": 22,
   "id": "53ed9511",
   "metadata": {},
   "outputs": [
    {
     "name": "stdout",
     "output_type": "stream",
     "text": [
      "a is greater than b\n"
     ]
    }
   ],
   "source": [
    "if a > b and b < a:\n",
    "    print(\"a is greater than b\")"
   ]
  },
  {
   "cell_type": "code",
   "execution_count": 23,
   "id": "0f9e86e9",
   "metadata": {},
   "outputs": [],
   "source": [
    "if a > b and b > a:\n",
    "    print(\"a is greater than b\")"
   ]
  },
  {
   "cell_type": "code",
   "execution_count": 24,
   "id": "20fd3989",
   "metadata": {},
   "outputs": [
    {
     "name": "stdout",
     "output_type": "stream",
     "text": [
      "65\n",
      "25\n"
     ]
    }
   ],
   "source": [
    "print(x_value)\n",
    "print(y_value)"
   ]
  },
  {
   "cell_type": "code",
   "execution_count": 25,
   "id": "d9783202",
   "metadata": {},
   "outputs": [
    {
     "data": {
      "text/plain": [
       "90"
      ]
     },
     "execution_count": 25,
     "metadata": {},
     "output_type": "execute_result"
    }
   ],
   "source": [
    "z_value = x_value + y_value\n",
    "z_value"
   ]
  },
  {
   "cell_type": "code",
   "execution_count": 26,
   "id": "b0be71ad",
   "metadata": {},
   "outputs": [
    {
     "name": "stdout",
     "output_type": "stream",
     "text": [
      "Both conditions are true\n"
     ]
    }
   ],
   "source": [
    "if x_value > y_value and y_value < z_value:\n",
    "    print(\"Both conditions are true\")"
   ]
  },
  {
   "cell_type": "code",
   "execution_count": 27,
   "id": "16c9a778",
   "metadata": {},
   "outputs": [
    {
     "data": {
      "text/plain": [
       "(60, 35)"
      ]
     },
     "execution_count": 27,
     "metadata": {},
     "output_type": "execute_result"
    }
   ],
   "source": [
    "a, b"
   ]
  },
  {
   "cell_type": "code",
   "execution_count": 28,
   "id": "d7e2f6ee",
   "metadata": {},
   "outputs": [
    {
     "name": "stdout",
     "output_type": "stream",
     "text": [
      "At least one of the above conditions is true\n"
     ]
    }
   ],
   "source": [
    "if a > b or b < a:\n",
    "    print(\"At least one of the above conditions is true\")"
   ]
  },
  {
   "cell_type": "code",
   "execution_count": 29,
   "id": "96053123",
   "metadata": {},
   "outputs": [],
   "source": [
    "bike_price = 716\n",
    "\n",
    "bike_is_eletric = False"
   ]
  },
  {
   "cell_type": "code",
   "execution_count": 30,
   "id": "42023794",
   "metadata": {},
   "outputs": [
    {
     "name": "stdout",
     "output_type": "stream",
     "text": [
      "At least one of the above conditions is true\n"
     ]
    }
   ],
   "source": [
    "if bike_price > 500 or bike_is_eletric:\n",
    "    print(\"At least one of the above conditions is true\")"
   ]
  },
  {
   "cell_type": "code",
   "execution_count": 31,
   "id": "b60a3afd",
   "metadata": {},
   "outputs": [],
   "source": [
    "if bike_price > 1000 or bike_is_eletric:\n",
    "    print(\"At least one of the above conditions is true\")"
   ]
  },
  {
   "cell_type": "code",
   "execution_count": 32,
   "id": "30b5eccc",
   "metadata": {},
   "outputs": [
    {
     "name": "stdout",
     "output_type": "stream",
     "text": [
      "It's a human-powered bike\n"
     ]
    }
   ],
   "source": [
    "if not bike_is_eletric:\n",
    "    print(\"It's a human-powered bike\")"
   ]
  },
  {
   "cell_type": "code",
   "execution_count": 33,
   "id": "810185fb",
   "metadata": {},
   "outputs": [],
   "source": [
    "x = 45\n",
    "y = 78"
   ]
  },
  {
   "cell_type": "code",
   "execution_count": 34,
   "id": "7b3af08c",
   "metadata": {},
   "outputs": [],
   "source": [
    "if not (x < y):\n",
    "    print(\"x is not less than y\")"
   ]
  },
  {
   "cell_type": "code",
   "execution_count": 35,
   "id": "7361a18e",
   "metadata": {},
   "outputs": [
    {
     "name": "stdout",
     "output_type": "stream",
     "text": [
      "x is not greater than y\n"
     ]
    }
   ],
   "source": [
    "if not (x > y):\n",
    "    print(\"x is not greater than y\")"
   ]
  }
 ],
 "metadata": {
  "kernelspec": {
   "display_name": "Python 3 (ipykernel)",
   "language": "python",
   "name": "python3"
  },
  "language_info": {
   "codemirror_mode": {
    "name": "ipython",
    "version": 3
   },
   "file_extension": ".py",
   "mimetype": "text/x-python",
   "name": "python",
   "nbconvert_exporter": "python",
   "pygments_lexer": "ipython3",
   "version": "3.11.4"
  }
 },
 "nbformat": 4,
 "nbformat_minor": 5
}
