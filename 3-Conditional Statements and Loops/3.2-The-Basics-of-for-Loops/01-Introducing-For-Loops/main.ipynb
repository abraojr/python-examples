{
 "cells": [
  {
   "cell_type": "code",
   "execution_count": 1,
   "id": "27b994f2",
   "metadata": {},
   "outputs": [
    {
     "name": "stdout",
     "output_type": "stream",
     "text": [
      "H\n",
      "e\n",
      "l\n",
      "l\n",
      "o\n"
     ]
    }
   ],
   "source": [
    "for letter in ['H', 'e', 'l', 'l', 'o']:\n",
    "    print(letter)"
   ]
  },
  {
   "cell_type": "code",
   "execution_count": 2,
   "id": "d4f6837f",
   "metadata": {},
   "outputs": [
    {
     "name": "stdout",
     "output_type": "stream",
     "text": [
      "H\n",
      "e\n",
      "l\n",
      "l\n",
      "o\n"
     ]
    }
   ],
   "source": [
    "for letter in \"Hello\":\n",
    "    print(letter)"
   ]
  },
  {
   "cell_type": "code",
   "execution_count": 3,
   "id": "1a08ce54",
   "metadata": {},
   "outputs": [
    {
     "name": "stdout",
     "output_type": "stream",
     "text": [
      "H\n",
      "e\n",
      "l\n",
      "l\n",
      "o\n",
      " \n",
      "W\n",
      "o\n",
      "r\n",
      "l\n",
      "d\n"
     ]
    }
   ],
   "source": [
    "my_string = \"Hello World\"\n",
    "\n",
    "for char in my_string:\n",
    "    print(char)"
   ]
  },
  {
   "cell_type": "code",
   "execution_count": 4,
   "id": "54547c2a",
   "metadata": {},
   "outputs": [
    {
     "name": "stdout",
     "output_type": "stream",
     "text": [
      "1\n",
      "0\n"
     ]
    }
   ],
   "source": [
    "for digit in \"10\":\n",
    "    print(digit)"
   ]
  },
  {
   "cell_type": "code",
   "execution_count": null,
   "id": "8dd3ae8b",
   "metadata": {},
   "outputs": [],
   "source": [
    "# Will throw an error\n",
    "for digit in 10:\n",
    "    print(digit)"
   ]
  },
  {
   "cell_type": "code",
   "execution_count": 6,
   "id": "16ffe2bf",
   "metadata": {},
   "outputs": [
    {
     "name": "stdout",
     "output_type": "stream",
     "text": [
      "Germany\n",
      "India\n",
      "Israel\n"
     ]
    }
   ],
   "source": [
    "for country in \"Germany\", \"India\", \"Israel\":\n",
    "    print(country)"
   ]
  }
 ],
 "metadata": {
  "kernelspec": {
   "display_name": "Python 3 (ipykernel)",
   "language": "python",
   "name": "python3"
  },
  "language_info": {
   "codemirror_mode": {
    "name": "ipython",
    "version": 3
   },
   "file_extension": ".py",
   "mimetype": "text/x-python",
   "name": "python",
   "nbconvert_exporter": "python",
   "pygments_lexer": "ipython3",
   "version": "3.11.4"
  }
 },
 "nbformat": 4,
 "nbformat_minor": 5
}
