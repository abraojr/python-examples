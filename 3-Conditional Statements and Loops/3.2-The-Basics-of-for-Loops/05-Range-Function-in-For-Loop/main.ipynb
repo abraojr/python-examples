{
 "cells": [
  {
   "cell_type": "code",
   "execution_count": 1,
   "id": "1509ffc9",
   "metadata": {},
   "outputs": [
    {
     "data": {
      "text/plain": [
       "range(0, 5)"
      ]
     },
     "execution_count": 1,
     "metadata": {},
     "output_type": "execute_result"
    }
   ],
   "source": [
    "my_range = range(5)\n",
    "\n",
    "my_range"
   ]
  },
  {
   "cell_type": "code",
   "execution_count": 2,
   "id": "d4652deb",
   "metadata": {},
   "outputs": [
    {
     "data": {
      "text/plain": [
       "(0, 1, 2, 3, 4)"
      ]
     },
     "execution_count": 2,
     "metadata": {},
     "output_type": "execute_result"
    }
   ],
   "source": [
    "tuple(my_range)"
   ]
  },
  {
   "cell_type": "code",
   "execution_count": 3,
   "id": "ee78d236",
   "metadata": {},
   "outputs": [
    {
     "data": {
      "text/plain": [
       "[0, 1, 2, 3, 4]"
      ]
     },
     "execution_count": 3,
     "metadata": {},
     "output_type": "execute_result"
    }
   ],
   "source": [
    "list(my_range)"
   ]
  },
  {
   "cell_type": "code",
   "execution_count": 4,
   "id": "1441cc63",
   "metadata": {},
   "outputs": [
    {
     "data": {
      "text/plain": [
       "[5, 6, 7, 8, 9]"
      ]
     },
     "execution_count": 4,
     "metadata": {},
     "output_type": "execute_result"
    }
   ],
   "source": [
    "list(range(5, 10))"
   ]
  },
  {
   "cell_type": "code",
   "execution_count": 5,
   "id": "28edebfd",
   "metadata": {},
   "outputs": [
    {
     "data": {
      "text/plain": [
       "[-5, -4, -3, -2, -1, 0, 1, 2, 3, 4]"
      ]
     },
     "execution_count": 5,
     "metadata": {},
     "output_type": "execute_result"
    }
   ],
   "source": [
    "list(range(-5, 5))"
   ]
  },
  {
   "cell_type": "code",
   "execution_count": null,
   "id": "68d667ac",
   "metadata": {},
   "outputs": [],
   "source": [
    "# Will throw an error\n",
    "for i in range(3.3):\n",
    "    print(i)"
   ]
  },
  {
   "cell_type": "code",
   "execution_count": null,
   "id": "cec9d600",
   "metadata": {},
   "outputs": [],
   "source": [
    "# Will throw an error\n",
    "for i in range(\"C\", \"Y\"):\n",
    "    print(i)"
   ]
  },
  {
   "cell_type": "code",
   "execution_count": 8,
   "id": "13551e60",
   "metadata": {},
   "outputs": [
    {
     "name": "stdout",
     "output_type": "stream",
     "text": [
      "0\n",
      "1\n",
      "2\n",
      "3\n",
      "4\n",
      "5\n"
     ]
    }
   ],
   "source": [
    "for i in range(6):\n",
    "    print(i)"
   ]
  },
  {
   "cell_type": "code",
   "execution_count": 9,
   "id": "47af0cc4",
   "metadata": {},
   "outputs": [
    {
     "name": "stdout",
     "output_type": "stream",
     "text": [
      "Hello\n",
      "Hello\n",
      "Hello\n"
     ]
    }
   ],
   "source": [
    "for i in range(3):\n",
    "    print(\"Hello\")"
   ]
  },
  {
   "cell_type": "code",
   "execution_count": 10,
   "id": "acf3f614",
   "metadata": {},
   "outputs": [
    {
     "name": "stdout",
     "output_type": "stream",
     "text": [
      "Hello\n",
      "Hello\n",
      "Hello\n"
     ]
    }
   ],
   "source": [
    "for _ in range(3):\n",
    "    print(\"Hello\")"
   ]
  },
  {
   "cell_type": "code",
   "execution_count": 11,
   "id": "8aab9b2b",
   "metadata": {},
   "outputs": [
    {
     "name": "stdout",
     "output_type": "stream",
     "text": [
      "python\n",
      "python\n",
      "python\n",
      "python\n"
     ]
    }
   ],
   "source": [
    "for i in range(2 ** 2):\n",
    "    print(\"python\")"
   ]
  },
  {
   "cell_type": "code",
   "execution_count": 12,
   "id": "9c2a8191",
   "metadata": {},
   "outputs": [
    {
     "name": "stdout",
     "output_type": "stream",
     "text": [
      "number: 5\n",
      "number: 6\n",
      "number: 7\n",
      "number: 8\n",
      "number: 9\n"
     ]
    }
   ],
   "source": [
    "for num in range(5, 10):\n",
    "    print(\"number:\", num)"
   ]
  },
  {
   "cell_type": "code",
   "execution_count": 13,
   "id": "f472ff4d",
   "metadata": {},
   "outputs": [
    {
     "name": "stdout",
     "output_type": "stream",
     "text": [
      "5 square is 25\n",
      "6 square is 36\n",
      "7 square is 49\n",
      "End of loop\n"
     ]
    }
   ],
   "source": [
    "for i in range(5, 8):\n",
    "    print(i, \"square is\", i ** 2)\n",
    "\n",
    "print(\"End of loop\")"
   ]
  },
  {
   "cell_type": "code",
   "execution_count": 14,
   "id": "9c61b6ea",
   "metadata": {},
   "outputs": [
    {
     "name": "stdout",
     "output_type": "stream",
     "text": [
      "5\n",
      "6\n",
      "7\n",
      "8\n",
      "9\n",
      "10\n",
      "the loop has ended\n"
     ]
    }
   ],
   "source": [
    "for val in range(5, 10 + 1):\n",
    "    print(val)\n",
    "\n",
    "print(\"the loop has ended\")"
   ]
  },
  {
   "cell_type": "code",
   "execution_count": 15,
   "id": "336e1784",
   "metadata": {},
   "outputs": [
    {
     "name": "stdout",
     "output_type": "stream",
     "text": [
      "4\n",
      "3\n",
      "2\n",
      "1\n",
      "0\n"
     ]
    }
   ],
   "source": [
    "x = range(5)\n",
    "\n",
    "for i in reversed(x):\n",
    "    print(i)"
   ]
  },
  {
   "cell_type": "code",
   "execution_count": 16,
   "id": "73cf2223",
   "metadata": {},
   "outputs": [
    {
     "name": "stdout",
     "output_type": "stream",
     "text": [
      "e\n",
      "m\n",
      "o\n",
      "c\n",
      "l\n",
      "e\n",
      "w\n"
     ]
    }
   ],
   "source": [
    "for i in reversed(\"welcome\"):\n",
    "    print(i)"
   ]
  },
  {
   "cell_type": "code",
   "execution_count": 17,
   "id": "2f80cd15",
   "metadata": {},
   "outputs": [
    {
     "data": {
      "text/plain": [
       "[5, 6, 7, 8, 9]"
      ]
     },
     "execution_count": 17,
     "metadata": {},
     "output_type": "execute_result"
    }
   ],
   "source": [
    "list(range(5, 10, 1))"
   ]
  },
  {
   "cell_type": "code",
   "execution_count": 18,
   "id": "b74aeb7c",
   "metadata": {},
   "outputs": [
    {
     "name": "stdout",
     "output_type": "stream",
     "text": [
      "[5, 7, 9]\n"
     ]
    }
   ],
   "source": [
    "x = list(range(5, 10, 2))\n",
    "print(x)"
   ]
  },
  {
   "cell_type": "code",
   "execution_count": 19,
   "id": "368b2a34",
   "metadata": {},
   "outputs": [
    {
     "data": {
      "text/plain": [
       "(5, 3, 1, -1, -3, -5, -7, -9)"
      ]
     },
     "execution_count": 19,
     "metadata": {},
     "output_type": "execute_result"
    }
   ],
   "source": [
    "tuple(range(5, -10, -2))"
   ]
  },
  {
   "cell_type": "code",
   "execution_count": 20,
   "id": "d17be478",
   "metadata": {},
   "outputs": [
    {
     "data": {
      "text/plain": [
       "[-2, -4, -6, -8]"
      ]
     },
     "execution_count": 20,
     "metadata": {},
     "output_type": "execute_result"
    }
   ],
   "source": [
    "list(range(-2, -10, -2))"
   ]
  },
  {
   "cell_type": "code",
   "execution_count": 21,
   "id": "f92900b1",
   "metadata": {},
   "outputs": [
    {
     "name": "stdout",
     "output_type": "stream",
     "text": [
      "-2\n",
      "-4\n",
      "-6\n",
      "-8\n"
     ]
    }
   ],
   "source": [
    "start = -2\n",
    "stop = -10\n",
    "step = -2\n",
    "\n",
    "for number in range(start, stop, step):\n",
    "    print(number)"
   ]
  },
  {
   "cell_type": "code",
   "execution_count": 22,
   "id": "65a1a8cb",
   "metadata": {},
   "outputs": [
    {
     "name": "stdout",
     "output_type": "stream",
     "text": [
      "The number 1 is not divisible by 2\n",
      "The number 2 is divisible by 2\n",
      "The number 3 is not divisible by 2\n",
      "The number 4 is divisible by 2\n",
      "The number 5 is not divisible by 2\n",
      "The number 6 is divisible by 2\n",
      "The number 7 is not divisible by 2\n",
      "The number 8 is divisible by 2\n",
      "The number 9 is not divisible by 2\n"
     ]
    }
   ],
   "source": [
    "for i in range(1, 10):\n",
    "    \n",
    "    if i % 2 == 0:\n",
    "        print(\"The number %s is divisible by 2\" % i)\n",
    "        \n",
    "    else:\n",
    "        print(\"The number %s is not divisible by 2\" % i)"
   ]
  },
  {
   "cell_type": "code",
   "execution_count": 23,
   "id": "aa68f695",
   "metadata": {},
   "outputs": [
    {
     "name": "stdout",
     "output_type": "stream",
     "text": [
      "[3, 5, 6, 9, 10, 12, 15, 18, 20]\n"
     ]
    }
   ],
   "source": [
    "num_list = []\n",
    "\n",
    "for i in range(1, 21):\n",
    "    \n",
    "    if(i % 3 == 0 or i % 5 == 0):\n",
    "        num_list.append(i)\n",
    "    \n",
    "print(num_list)"
   ]
  },
  {
   "cell_type": "code",
   "execution_count": 24,
   "id": "6fe695d8",
   "metadata": {},
   "outputs": [
    {
     "name": "stdout",
     "output_type": "stream",
     "text": [
      "200, 202, 204, 206, 208, 220, 222, 224, 226, 228, 240, 242, 244, 246, 248, 260, 262, 264, 266, 268, 280, 282, 284, 286, 288\n"
     ]
    }
   ],
   "source": [
    "items = []\n",
    "\n",
    "for i in range(100, 301):\n",
    "    \n",
    "    num_str = str(i)\n",
    "    \n",
    "    first_digit = int(num_str[0])\n",
    "    second_digit = int(num_str[1])\n",
    "    third_digit = int(num_str[2])\n",
    "    \n",
    "    if (first_digit % 2 == 0) and (second_digit % 2 == 0) and (third_digit % 2 == 0):\n",
    "        items.append(num_str)\n",
    "    \n",
    "print(\", \".join(items))"
   ]
  },
  {
   "cell_type": "code",
   "execution_count": 25,
   "id": "5c1ae509",
   "metadata": {},
   "outputs": [
    {
     "name": "stdout",
     "output_type": "stream",
     "text": [
      "num =  1 :  1  2  3  4  5  6  7  8  9 \n",
      "num =  2 :  2  4  6  8 10 12 14 16 18 \n",
      "num =  3 :  3  6  9 12 15 18 21 24 27 \n",
      "num =  4 :  4  8 12 16 20 24 28 32 36 \n",
      "num =  5 :  5 10 15 20 25 30 35 40 45 \n",
      "num =  6 :  6 12 18 24 30 36 42 48 54 \n",
      "num =  7 :  7 14 21 28 35 42 49 56 63 \n",
      "num =  8 :  8 16 24 32 40 48 56 64 72 \n",
      "num =  9 :  9 18 27 36 45 54 63 72 81 \n"
     ]
    }
   ],
   "source": [
    "for num1 in range(1, 10):\n",
    "    print(\"num = \", num1, \":\", end = \" \")\n",
    "    \n",
    "    for num2 in range(1, 10):\n",
    "        print(\"{:2d}\".format(num1 * num2), end = \" \")\n",
    "        \n",
    "    print()"
   ]
  }
 ],
 "metadata": {
  "kernelspec": {
   "display_name": "Python 3 (ipykernel)",
   "language": "python",
   "name": "python3"
  },
  "language_info": {
   "codemirror_mode": {
    "name": "ipython",
    "version": 3
   },
   "file_extension": ".py",
   "mimetype": "text/x-python",
   "name": "python",
   "nbconvert_exporter": "python",
   "pygments_lexer": "ipython3",
   "version": "3.11.4"
  }
 },
 "nbformat": 4,
 "nbformat_minor": 5
}
