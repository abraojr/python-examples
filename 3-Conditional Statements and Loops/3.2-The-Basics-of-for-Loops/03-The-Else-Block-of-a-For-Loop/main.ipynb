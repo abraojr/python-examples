{
 "cells": [
  {
   "cell_type": "code",
   "execution_count": 1,
   "id": "fd085828",
   "metadata": {},
   "outputs": [
    {
     "name": "stdout",
     "output_type": "stream",
     "text": [
      "2\n",
      "3\n",
      "5\n",
      "7\n",
      "No more items left in the list\n"
     ]
    }
   ],
   "source": [
    "numbers = [2, 3, 5, 7]\n",
    "\n",
    "for num in numbers:\n",
    "    print(num)\n",
    "\n",
    "else:\n",
    "    print(\"No more items left in the list\")"
   ]
  },
  {
   "cell_type": "code",
   "execution_count": 2,
   "id": "417274ce",
   "metadata": {},
   "outputs": [
    {
     "name": "stdout",
     "output_type": "stream",
     "text": [
      "b\n",
      "d\n",
      "c\n",
      "a\n",
      "No more characters left\n"
     ]
    }
   ],
   "source": [
    "characters = {\"a\", \"b\", \"c\", \"d\"}\n",
    "\n",
    "for letter in characters:\n",
    "    print(letter)\n",
    "    \n",
    "else:\n",
    "    print(\"No more characters left\")"
   ]
  }
 ],
 "metadata": {
  "kernelspec": {
   "display_name": "Python 3 (ipykernel)",
   "language": "python",
   "name": "python3"
  },
  "language_info": {
   "codemirror_mode": {
    "name": "ipython",
    "version": 3
   },
   "file_extension": ".py",
   "mimetype": "text/x-python",
   "name": "python",
   "nbconvert_exporter": "python",
   "pygments_lexer": "ipython3",
   "version": "3.11.4"
  }
 },
 "nbformat": 4,
 "nbformat_minor": 5
}
