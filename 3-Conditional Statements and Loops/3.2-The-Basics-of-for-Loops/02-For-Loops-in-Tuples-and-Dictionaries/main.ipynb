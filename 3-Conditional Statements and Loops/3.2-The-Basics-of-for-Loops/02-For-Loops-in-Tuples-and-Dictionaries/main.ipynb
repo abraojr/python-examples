{
 "cells": [
  {
   "cell_type": "code",
   "execution_count": 1,
   "id": "43751075",
   "metadata": {},
   "outputs": [
    {
     "name": "stdout",
     "output_type": "stream",
     "text": [
      "It's a Pug\n",
      "It's a Doberman\n",
      "It's a Golden Retriever\n"
     ]
    }
   ],
   "source": [
    "dogs = (\"Pug\", \"Doberman\", \"Golden Retriever\")\n",
    "\n",
    "for dog in dogs:\n",
    "    print(\"It's a\", dog)"
   ]
  },
  {
   "cell_type": "code",
   "execution_count": 2,
   "id": "ea0e2147",
   "metadata": {},
   "outputs": [
    {
     "name": "stdout",
     "output_type": "stream",
     "text": [
      "The dog at index 0 is a Pug and it weighs 20 pounds\n",
      "The dog at index 1 is a Doberman and it weighs 80 pounds\n",
      "The dog at index 2 is a Golden Retriever and it weighs 55 pounds\n"
     ]
    }
   ],
   "source": [
    "dog_weight = ((\"Pug\", 20),\n",
    "              (\"Doberman\", 80),\n",
    "              (\"Golden Retriever\", 55))\n",
    "\n",
    "for i, (dog, weight) in enumerate(dog_weight):\n",
    "    print(\"The dog at index %d is a %s and it weighs %s pounds\" % (i, dog, weight))"
   ]
  },
  {
   "cell_type": "code",
   "execution_count": 3,
   "id": "b2c127fd",
   "metadata": {},
   "outputs": [
    {
     "name": "stdout",
     "output_type": "stream",
     "text": [
      "Happy New Year, John\n",
      "Happy New Year, Sam\n",
      "Happy New Year, Jill\n"
     ]
    }
   ],
   "source": [
    "friends = [\"John\", \"Sam\", \"Jill\"]\n",
    "\n",
    "for friend in friends:\n",
    "    print(\"Happy New Year,\", friend)"
   ]
  },
  {
   "cell_type": "code",
   "execution_count": 4,
   "id": "d62ca80a",
   "metadata": {},
   "outputs": [
    {
     "data": {
      "text/plain": [
       "{'John': 80, 'Sam': 60, 'Jill': 50, 'Bob': 96}"
      ]
     },
     "execution_count": 4,
     "metadata": {},
     "output_type": "execute_result"
    }
   ],
   "source": [
    "student_scores = {'John' : 80,\n",
    "                  'Sam' : 60,\n",
    "                  'Jill' : 50,\n",
    "                  'Bob' : 96}\n",
    "\n",
    "student_scores"
   ]
  },
  {
   "cell_type": "code",
   "execution_count": 5,
   "id": "30778e1a",
   "metadata": {},
   "outputs": [
    {
     "name": "stdout",
     "output_type": "stream",
     "text": [
      "John\n",
      "Sam\n",
      "Jill\n",
      "Bob\n"
     ]
    }
   ],
   "source": [
    "for student in student_scores:\n",
    "    print(student)"
   ]
  },
  {
   "cell_type": "code",
   "execution_count": 6,
   "id": "783b5e2f",
   "metadata": {},
   "outputs": [
    {
     "data": {
      "text/plain": [
       "dict_keys(['John', 'Sam', 'Jill', 'Bob'])"
      ]
     },
     "execution_count": 6,
     "metadata": {},
     "output_type": "execute_result"
    }
   ],
   "source": [
    "student_scores.keys()"
   ]
  },
  {
   "cell_type": "code",
   "execution_count": 7,
   "id": "6b6d8215",
   "metadata": {},
   "outputs": [
    {
     "name": "stdout",
     "output_type": "stream",
     "text": [
      "John\n",
      "Sam\n",
      "Jill\n",
      "Bob\n"
     ]
    }
   ],
   "source": [
    "for student in student_scores.keys():\n",
    "    print(student)"
   ]
  },
  {
   "cell_type": "code",
   "execution_count": 8,
   "id": "7ef1d029",
   "metadata": {},
   "outputs": [
    {
     "name": "stdout",
     "output_type": "stream",
     "text": [
      "80\n",
      "60\n",
      "50\n",
      "96\n"
     ]
    }
   ],
   "source": [
    "for score in student_scores.values():\n",
    "    print(score)"
   ]
  },
  {
   "cell_type": "code",
   "execution_count": 9,
   "id": "669c11f5",
   "metadata": {},
   "outputs": [
    {
     "name": "stdout",
     "output_type": "stream",
     "text": [
      "Key value pair - John : 80\n",
      "Key value pair - Sam : 60\n",
      "Key value pair - Jill : 50\n",
      "Key value pair - Bob : 96\n"
     ]
    }
   ],
   "source": [
    "for key in student_scores:\n",
    "    print(\"Key value pair -\", key, \":\", student_scores[key])"
   ]
  },
  {
   "cell_type": "code",
   "execution_count": 10,
   "id": "1c5a2e01",
   "metadata": {},
   "outputs": [
    {
     "name": "stdout",
     "output_type": "stream",
     "text": [
      "('John', 80)\n",
      "('Sam', 60)\n",
      "('Jill', 50)\n",
      "('Bob', 96)\n"
     ]
    }
   ],
   "source": [
    "for key_value in student_scores.items():\n",
    "    print(key_value)"
   ]
  },
  {
   "cell_type": "code",
   "execution_count": 11,
   "id": "a45db3ed",
   "metadata": {},
   "outputs": [
    {
     "name": "stdout",
     "output_type": "stream",
     "text": [
      "Student: John \tScore: 80\n",
      "Student: Sam \tScore: 60\n",
      "Student: Jill \tScore: 50\n",
      "Student: Bob \tScore: 96\n"
     ]
    }
   ],
   "source": [
    "for student, score in student_scores.items():\n",
    "    print(\"Student:\", student, \"\\tScore:\",score)"
   ]
  },
  {
   "cell_type": "code",
   "execution_count": 12,
   "id": "c1ce0321",
   "metadata": {},
   "outputs": [
    {
     "name": "stdout",
     "output_type": "stream",
     "text": [
      "2 is the quotient of 4 / 2\n",
      "3 is the quotient of 6 / 2\n",
      "4 is the quotient of 9 / 2\n",
      "5 is the quotient of 10 / 2\n"
     ]
    }
   ],
   "source": [
    "numbers = [4, 6, 9, 10]\n",
    "\n",
    "for num in numbers:\n",
    "    quotient = num // 2\n",
    "    \n",
    "    print(quotient, \"is the quotient of\", num, \"/ 2\")"
   ]
  },
  {
   "cell_type": "code",
   "execution_count": 13,
   "id": "2669c2bf",
   "metadata": {},
   "outputs": [
    {
     "name": "stdout",
     "output_type": "stream",
     "text": [
      "Type of  145  is <class 'int'>\n",
      "Type of  10.5  is <class 'float'>\n",
      "Type of  (1+3j)  is <class 'complex'>\n",
      "Type of  True  is <class 'bool'>\n",
      "Type of  Pyhton  is <class 'str'>\n",
      "Type of  (0, 1)  is <class 'tuple'>\n",
      "Type of  [2, -5]  is <class 'list'>\n",
      "Type of  {'Class': 'V', 'Section': 'A'}  is <class 'dict'>\n"
     ]
    }
   ],
   "source": [
    "mixed_list = [145, 10.5, 1 + 3j,\n",
    "              True, \"Pyhton\",\n",
    "              (0, 1), [2, -5],\n",
    "              {\"Class\" : \"V\", \"Section\" : \"A\"}]\n",
    "\n",
    "for item in mixed_list:\n",
    "    print(\"Type of \", item, \" is\", type(item))"
   ]
  },
  {
   "cell_type": "code",
   "execution_count": 14,
   "id": "a65bbc0e",
   "metadata": {},
   "outputs": [
    {
     "name": "stdout",
     "output_type": "stream",
     "text": [
      "Square of 2 is 4\n",
      "Square of 4 is 16\n",
      "Square of 6 is 36\n",
      "Square of 8 is 64\n"
     ]
    }
   ],
   "source": [
    "num_list = [2, 4, 6, 8]\n",
    "\n",
    "square = 0\n",
    "\n",
    "for val in num_list:\n",
    "    square = val ** 2\n",
    "    \n",
    "    print(\"Square of\", val, \"is\", square)"
   ]
  },
  {
   "cell_type": "code",
   "execution_count": 15,
   "id": "6ef52c35",
   "metadata": {},
   "outputs": [
    {
     "name": "stdout",
     "output_type": "stream",
     "text": [
      "Enter a string: python\n",
      "6\n"
     ]
    }
   ],
   "source": [
    "string = input(\"Enter a string: \")\n",
    "\n",
    "count = 0\n",
    "\n",
    "for i in string:\n",
    "    count = count + 1\n",
    "\n",
    "print(count)"
   ]
  }
 ],
 "metadata": {
  "kernelspec": {
   "display_name": "Python 3 (ipykernel)",
   "language": "python",
   "name": "python3"
  },
  "language_info": {
   "codemirror_mode": {
    "name": "ipython",
    "version": 3
   },
   "file_extension": ".py",
   "mimetype": "text/x-python",
   "name": "python",
   "nbconvert_exporter": "python",
   "pygments_lexer": "ipython3",
   "version": "3.11.4"
  }
 },
 "nbformat": 4,
 "nbformat_minor": 5
}
