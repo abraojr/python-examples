{
 "cells": [
  {
   "cell_type": "code",
   "execution_count": 1,
   "id": "80c69533",
   "metadata": {},
   "outputs": [
    {
     "name": "stdout",
     "output_type": "stream",
     "text": [
      "s\n",
      "t\n",
      "r\n",
      "n\n",
      "g\n",
      "The end\n"
     ]
    }
   ],
   "source": [
    "for letter in \"string\":\n",
    "    \n",
    "    if letter == \"i\":\n",
    "        continue\n",
    "        \n",
    "    print(letter)\n",
    "        \n",
    "print(\"The end\")"
   ]
  },
  {
   "cell_type": "code",
   "execution_count": 2,
   "id": "4fea45c0",
   "metadata": {},
   "outputs": [
    {
     "name": "stdout",
     "output_type": "stream",
     "text": [
      "S\n",
      "t\n",
      "u\n",
      "d\n",
      "n\n",
      "t\n"
     ]
    }
   ],
   "source": [
    "my_string = \"Students\"\n",
    "\n",
    "for letter in my_string:\n",
    "    if(letter == \"e\" or letter == \"s\"):\n",
    "        continue\n",
    "    \n",
    "    else:\n",
    "        print(letter)"
   ]
  },
  {
   "cell_type": "code",
   "execution_count": 3,
   "id": "15d0dd67",
   "metadata": {},
   "outputs": [
    {
     "name": "stdout",
     "output_type": "stream",
     "text": [
      "Is 2 an even number? \n",
      "Yes\n",
      "Is 4 an even number? \n",
      "Yes\n",
      "Is 6 an even number? \n",
      "Yes\n",
      "Is 8 an even number? \n",
      "Yes\n"
     ]
    }
   ],
   "source": [
    "for i in range(1, 10):\n",
    "    \n",
    "    if i % 2 == 0:\n",
    "        print(\"Is %s an even number? \" % i)\n",
    "    \n",
    "    else:\n",
    "        continue\n",
    "    \n",
    "    print(\"Yes\")"
   ]
  },
  {
   "cell_type": "code",
   "execution_count": 4,
   "id": "a7ccf372",
   "metadata": {},
   "outputs": [
    {
     "name": "stdout",
     "output_type": "stream",
     "text": [
      "1\n",
      "Found an even number: 2\n",
      "3\n",
      "Found an even number: 4\n",
      "5\n",
      "Found an even number: 6\n",
      "7\n",
      "Found an even number: 8\n",
      "9\n"
     ]
    }
   ],
   "source": [
    "for num in range(1, 10):\n",
    "    \n",
    "    if num % 2 == 0:\n",
    "        print(\"Found an even number:\", num)\n",
    "        \n",
    "        continue\n",
    "    \n",
    "    print(num)"
   ]
  },
  {
   "cell_type": "code",
   "execution_count": 5,
   "id": "6ae7c7e7",
   "metadata": {},
   "outputs": [
    {
     "name": "stdout",
     "output_type": "stream",
     "text": [
      "\n",
      "Before the continue statement 1\n",
      "After the continue statement 1\n",
      "\n",
      "Before the continue statement 2\n",
      "After the continue statement 2\n",
      "\n",
      "Before the continue statement 3\n",
      "\n",
      "Before the continue statement 4\n",
      "After the continue statement 4\n",
      "\n",
      "Before the continue statement 5\n",
      "After the continue statement 5\n",
      "\n",
      "Before the continue statement 6\n",
      "\n",
      "Before the continue statement 7\n",
      "After the continue statement 7\n",
      "\n",
      "Before the continue statement 8\n",
      "After the continue statement 8\n",
      "\n",
      "Before the continue statement 9\n",
      "\n",
      "Before the continue statement 10\n",
      "After the continue statement 10\n",
      "\n",
      "Before the continue statement 11\n",
      "After the continue statement 11\n"
     ]
    }
   ],
   "source": [
    "for i in range(1, 12):\n",
    "    \n",
    "    print()\n",
    "    print(\"Before the continue statement\", i)\n",
    "    \n",
    "    if i % 3 == 0:\n",
    "        continue\n",
    "        \n",
    "    print(\"After the continue statement\", i)"
   ]
  },
  {
   "cell_type": "code",
   "execution_count": 6,
   "id": "0fb9d778",
   "metadata": {},
   "outputs": [
    {
     "name": "stdout",
     "output_type": "stream",
     "text": [
      "Jan month has 31 days\n",
      "Mar month has 31 days\n",
      "Apr month has 30 days\n",
      "May month has 31 days\n",
      "Jun month has 30 days\n",
      "Jul month has 31 days\n",
      "Aug month has 31 days\n",
      "Sep month has 30 days\n",
      "Oct month has 31 days\n",
      "Nov month has 30 days\n",
      "Dec month has 31 days\n"
     ]
    }
   ],
   "source": [
    "num_days = [31, 28, 31, 30, 31, 30, 31, 31, 30, 31, 30, 31]\n",
    "\n",
    "months = [\"Jan\", \"Feb\", \"Mar\", \"Apr\", \"May\", \"Jun\", \"Jul\", \"Aug\", \"Sep\", \"Oct\", \"Nov\", \"Dec\"]\n",
    "\n",
    "new_dict = dict()\n",
    "\n",
    "for i, j in zip(months, num_days):\n",
    "    new_dict.update({i:j})\n",
    "    \n",
    "    if new_dict[i] < 29:\n",
    "        continue\n",
    "        \n",
    "    else:\n",
    "        print(i, \"month has\", new_dict[i], \"days\")"
   ]
  },
  {
   "cell_type": "code",
   "execution_count": 7,
   "id": "1340364b",
   "metadata": {},
   "outputs": [
    {
     "name": "stdout",
     "output_type": "stream",
     "text": [
      "Deer\n",
      "Rabbit\n",
      "Dog\n",
      "Cat\n",
      "Cat\n"
     ]
    }
   ],
   "source": [
    "animals = [\"Deer\", \"Rabbit\", \"Lion\", \"Dog\", \"Cat\", \"Cat\", \"Elephant\", \"Giraffe\"]\n",
    "\n",
    "for pet in animals:\n",
    "    \n",
    "    if pet == \"Lion\":\n",
    "        continue\n",
    "        \n",
    "    if pet == \"Elephant\":\n",
    "        break\n",
    "        \n",
    "    print(pet)"
   ]
  }
 ],
 "metadata": {
  "kernelspec": {
   "display_name": "Python 3 (ipykernel)",
   "language": "python",
   "name": "python3"
  },
  "language_info": {
   "codemirror_mode": {
    "name": "ipython",
    "version": 3
   },
   "file_extension": ".py",
   "mimetype": "text/x-python",
   "name": "python",
   "nbconvert_exporter": "python",
   "pygments_lexer": "ipython3",
   "version": "3.11.4"
  }
 },
 "nbformat": 4,
 "nbformat_minor": 5
}
