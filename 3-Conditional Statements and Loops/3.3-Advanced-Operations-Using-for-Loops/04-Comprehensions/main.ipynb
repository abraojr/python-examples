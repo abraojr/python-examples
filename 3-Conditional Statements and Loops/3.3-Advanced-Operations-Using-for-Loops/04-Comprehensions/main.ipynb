{
 "cells": [
  {
   "cell_type": "code",
   "execution_count": 1,
   "id": "fadfbcae",
   "metadata": {},
   "outputs": [
    {
     "data": {
      "text/plain": [
       "[0, 1, 4, 9, 16, 25, 36, 49, 64, 81]"
      ]
     },
     "execution_count": 1,
     "metadata": {},
     "output_type": "execute_result"
    }
   ],
   "source": [
    "num = range(10)\n",
    "\n",
    "[x * x for x in num]"
   ]
  },
  {
   "cell_type": "code",
   "execution_count": 2,
   "id": "e46b9cbe",
   "metadata": {},
   "outputs": [
    {
     "name": "stdout",
     "output_type": "stream",
     "text": [
      "['a', 'n', 'x', 'i', 'e', 't', 'y']\n"
     ]
    }
   ],
   "source": [
    "letters = [letter for letter in \"anxiety\"]\n",
    "\n",
    "print(letters)"
   ]
  },
  {
   "cell_type": "code",
   "execution_count": 3,
   "id": "7ca8d914",
   "metadata": {},
   "outputs": [
    {
     "name": "stdout",
     "output_type": "stream",
     "text": [
      "['t', 'i', 'a', 'l', 'o', 'w']\n"
     ]
    }
   ],
   "source": [
    "list_words = [\"this\", \"is\", \"a\", \"list\", \"of\", \"words\"]\n",
    "\n",
    "items = [word[0] for word in list_words]\n",
    "\n",
    "print(items)"
   ]
  },
  {
   "cell_type": "code",
   "execution_count": 4,
   "id": "ea3b57fa",
   "metadata": {},
   "outputs": [
    {
     "data": {
      "text/plain": [
       "['T', 'I', 'A', 'L', 'O', 'W']"
      ]
     },
     "execution_count": 4,
     "metadata": {},
     "output_type": "execute_result"
    }
   ],
   "source": [
    "[word[0].upper() for word in list_words]"
   ]
  },
  {
   "cell_type": "code",
   "execution_count": 5,
   "id": "c4b23b7e",
   "metadata": {},
   "outputs": [
    {
     "data": {
      "text/plain": [
       "['THIS', 'IS', 'A', 'LIST', 'OF', 'WORDS']"
      ]
     },
     "execution_count": 5,
     "metadata": {},
     "output_type": "execute_result"
    }
   ],
   "source": [
    "[word.upper() for word in list_words]"
   ]
  },
  {
   "cell_type": "code",
   "execution_count": 6,
   "id": "a9a4adb2",
   "metadata": {},
   "outputs": [
    {
     "data": {
      "text/plain": [
       "[1, 9, 25, 49, 81]"
      ]
     },
     "execution_count": 6,
     "metadata": {},
     "output_type": "execute_result"
    }
   ],
   "source": [
    "[x * x for x in num if x % 2 != 0]"
   ]
  },
  {
   "cell_type": "code",
   "execution_count": 7,
   "id": "eaaae3e7",
   "metadata": {},
   "outputs": [
    {
     "name": "stdout",
     "output_type": "stream",
     "text": [
      "[0, 2, 4, 6, 8, 10, 12, 14, 16, 18]\n"
     ]
    }
   ],
   "source": [
    "number_list = [number for number in range(20) if number % 2 == 0]\n",
    "\n",
    "print(number_list)"
   ]
  },
  {
   "cell_type": "code",
   "execution_count": 8,
   "id": "46628ca5",
   "metadata": {},
   "outputs": [
    {
     "name": "stdout",
     "output_type": "stream",
     "text": [
      "[0, 27, 54, 81, 108, 135, 162, 189, 216, 243, 270, 297]\n"
     ]
    }
   ],
   "source": [
    "multiples_27 = [i for i in range(300) if i % 27 == 0]\n",
    "\n",
    "print(multiples_27)"
   ]
  },
  {
   "cell_type": "code",
   "execution_count": 9,
   "id": "13250930",
   "metadata": {},
   "outputs": [
    {
     "data": {
      "text/plain": [
       "['A', 'E', 'A', 'I']"
      ]
     },
     "execution_count": 9,
     "metadata": {},
     "output_type": "execute_result"
    }
   ],
   "source": [
    "[i for i in \"MATHEMATICS\" if i in [\"A\", \"E\", \"I\", \"O\", \"U\"]]"
   ]
  },
  {
   "cell_type": "code",
   "execution_count": 10,
   "id": "aa370df9",
   "metadata": {},
   "outputs": [
    {
     "name": "stdout",
     "output_type": "stream",
     "text": [
      "[1, 2, 3, 4, 5]\n"
     ]
    }
   ],
   "source": [
    "string = \"Hello 12345 World\"\n",
    "\n",
    "numbers = [int(x) for x in string if x.isdigit()]\n",
    "\n",
    "print(numbers)"
   ]
  },
  {
   "cell_type": "code",
   "execution_count": 11,
   "id": "cf2a1cb3",
   "metadata": {},
   "outputs": [
    {
     "name": "stdout",
     "output_type": "stream",
     "text": [
      "['H', 'e', 'l', 'l', 'o', 'W', 'o', 'r', 'l', 'd']\n"
     ]
    }
   ],
   "source": [
    "alpha = [x for x in string if x.isalpha()]\n",
    "\n",
    "print(alpha)"
   ]
  },
  {
   "cell_type": "code",
   "execution_count": 12,
   "id": "6fa0de6c",
   "metadata": {},
   "outputs": [
    {
     "data": {
      "text/plain": [
       "[('Red', 'Pen'),\n",
       " ('Blue', 'Pen'),\n",
       " ('Green', 'Pen'),\n",
       " ('Red', 'Marker'),\n",
       " ('Blue', 'Marker'),\n",
       " ('Green', 'Marker'),\n",
       " ('Red', 'Ink'),\n",
       " ('Blue', 'Ink'),\n",
       " ('Green', 'Ink')]"
      ]
     },
     "execution_count": 12,
     "metadata": {},
     "output_type": "execute_result"
    }
   ],
   "source": [
    "stationery = [\"Pen\", \"Marker\", \"Ink\"]\n",
    "colors = [\"Red\",\"Blue\", \"Green\"]\n",
    "\n",
    "combined = [(i, j) for j in stationery for i in colors]\n",
    "\n",
    "combined"
   ]
  },
  {
   "cell_type": "code",
   "execution_count": 13,
   "id": "f1862805",
   "metadata": {},
   "outputs": [
    {
     "name": "stdout",
     "output_type": "stream",
     "text": [
      "[0, 10, 20, 30, 40, 50]\n"
     ]
    }
   ],
   "source": [
    "number_list = [number for number in range(51) if number % 2 == 0 if number % 5 == 0]\n",
    "\n",
    "print(number_list)"
   ]
  },
  {
   "cell_type": "code",
   "execution_count": 14,
   "id": "b3477182",
   "metadata": {},
   "outputs": [
    {
     "name": "stdout",
     "output_type": "stream",
     "text": [
      "['Even', 'Odd', 'Even', 'Odd', 'Even', 'Odd', 'Even', 'Odd', 'Even', 'Odd']\n"
     ]
    }
   ],
   "source": [
    "num = [\"Even\" if i % 2 == 0 else \"Odd\" for i in range(10)]\n",
    "print(num)"
   ]
  },
  {
   "cell_type": "code",
   "execution_count": 15,
   "id": "cb1e6e2a",
   "metadata": {},
   "outputs": [
    {
     "data": {
      "text/plain": [
       "[27, 35, 46, 51, 23, 70, 48, 49, 17]"
      ]
     },
     "execution_count": 15,
     "metadata": {},
     "output_type": "execute_result"
    }
   ],
   "source": [
    "numbers = [22, 30, 45, 50, 18, 69, 43, 44, 12]\n",
    "\n",
    "[x + 1 if x >= 45 else x + 5 for x in numbers]"
   ]
  },
  {
   "cell_type": "code",
   "execution_count": 16,
   "id": "8c6c60e4",
   "metadata": {},
   "outputs": [
    {
     "name": "stdout",
     "output_type": "stream",
     "text": [
      "['large', 'small', 'small']\n"
     ]
    }
   ],
   "source": [
    "z = [\"small\" if number < 20 else \"large\" for number in numbers if number % 2 == 0 if number % 3 == 0]\n",
    "print(z)"
   ]
  }
 ],
 "metadata": {
  "kernelspec": {
   "display_name": "Python 3 (ipykernel)",
   "language": "python",
   "name": "python3"
  },
  "language_info": {
   "codemirror_mode": {
    "name": "ipython",
    "version": 3
   },
   "file_extension": ".py",
   "mimetype": "text/x-python",
   "name": "python",
   "nbconvert_exporter": "python",
   "pygments_lexer": "ipython3",
   "version": "3.11.4"
  }
 },
 "nbformat": 4,
 "nbformat_minor": 5
}
