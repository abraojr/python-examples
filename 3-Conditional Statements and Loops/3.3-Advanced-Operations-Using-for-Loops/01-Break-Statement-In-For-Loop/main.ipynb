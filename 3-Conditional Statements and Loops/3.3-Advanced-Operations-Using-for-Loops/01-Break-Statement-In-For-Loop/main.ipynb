{
 "cells": [
  {
   "cell_type": "code",
   "execution_count": 1,
   "id": "7bada3c5",
   "metadata": {},
   "outputs": [
    {
     "name": "stdout",
     "output_type": "stream",
     "text": [
      "p\n",
      "y\n",
      "t\n",
      "h\n"
     ]
    }
   ],
   "source": [
    "for letter in \"python\":\n",
    "    if letter == \"o\":\n",
    "        break\n",
    "        \n",
    "    print(letter)"
   ]
  },
  {
   "cell_type": "code",
   "execution_count": 2,
   "id": "a1a5adcc",
   "metadata": {},
   "outputs": [
    {
     "name": "stdout",
     "output_type": "stream",
     "text": [
      "p\n",
      "y\n",
      "t\n",
      "h\n",
      "o\n"
     ]
    }
   ],
   "source": [
    "for letter in \"python\":\n",
    "    print(letter)\n",
    "    \n",
    "    if letter == \"o\":\n",
    "        break"
   ]
  },
  {
   "cell_type": "code",
   "execution_count": 3,
   "id": "6bcb2807",
   "metadata": {},
   "outputs": [
    {
     "name": "stdout",
     "output_type": "stream",
     "text": [
      "The letter c was found in the string\n"
     ]
    }
   ],
   "source": [
    "for char in \"icecream\":\n",
    "    if char == \"c\":\n",
    "        \n",
    "        print(\"The letter %s was found in the string\" % char)\n",
    "        break\n",
    "else:\n",
    "    print(\"The letter %s does not exist in the string\" % char)"
   ]
  },
  {
   "cell_type": "code",
   "execution_count": 4,
   "id": "5043b829",
   "metadata": {},
   "outputs": [
    {
     "name": "stdout",
     "output_type": "stream",
     "text": [
      "3\n",
      "11\n",
      "22\n",
      "The number 22 has been found\n",
      "Terminating the loop...\n"
     ]
    }
   ],
   "source": [
    "for num in [3, 11, 22, 35, 90]:\n",
    "    print(num)\n",
    "    \n",
    "    if (num == 22):\n",
    "        print(\"The number %d has been found\" % num)\n",
    "        print(\"Terminating the loop...\")\n",
    "        \n",
    "        break"
   ]
  },
  {
   "cell_type": "code",
   "execution_count": 5,
   "id": "1bf9be2e",
   "metadata": {},
   "outputs": [
    {
     "name": "stdout",
     "output_type": "stream",
     "text": [
      "0\n",
      "1\n",
      "2\n",
      "3\n"
     ]
    }
   ],
   "source": [
    "for i in range(5):\n",
    "    \n",
    "    if i == 4:\n",
    "        break\n",
    "    \n",
    "    print(i)"
   ]
  },
  {
   "cell_type": "code",
   "execution_count": 6,
   "id": "c6892c6a",
   "metadata": {},
   "outputs": [
    {
     "name": "stdout",
     "output_type": "stream",
     "text": [
      "1  is less than 5\n",
      "2  is less than 5\n",
      "3  is less than 5\n",
      "4  is less than 5\n"
     ]
    }
   ],
   "source": [
    "for i in range(1, 10):\n",
    "    \n",
    "    if i >= 5:\n",
    "        break\n",
    "        \n",
    "    print(i, \" is less than 5\")"
   ]
  },
  {
   "cell_type": "code",
   "execution_count": 7,
   "id": "c25f4ed1",
   "metadata": {},
   "outputs": [
    {
     "name": "stdout",
     "output_type": "stream",
     "text": [
      "0 square 0\n",
      "1 square 1\n",
      "2 square 4\n",
      "3 square 9\n",
      "4 square 16\n"
     ]
    }
   ],
   "source": [
    "my_list = range(10)\n",
    "\n",
    "for num in my_list:\n",
    "    if num ** 2 > 20:\n",
    "        break\n",
    "        \n",
    "    print(num, \"square\", num ** 2)"
   ]
  },
  {
   "cell_type": "code",
   "execution_count": 8,
   "id": "5c929e36",
   "metadata": {},
   "outputs": [
    {
     "name": "stdout",
     "output_type": "stream",
     "text": [
      "The villain got away :(\n"
     ]
    }
   ],
   "source": [
    "places = [\"New Zeland\", \"Norway\", \"Botswana\", \"Zimbabwe\", \"Uzbekistan\", \"Brazil\"]\n",
    "\n",
    "villain_at = \"Mali\"\n",
    "\n",
    "for place in places:\n",
    "    if place == villain_at:\n",
    "        \n",
    "        print(\"The Villain has been captured!\")\n",
    "        break\n",
    "else:\n",
    "    print(\"The villain got away :(\")"
   ]
  },
  {
   "cell_type": "code",
   "execution_count": 9,
   "id": "96963ed8",
   "metadata": {},
   "outputs": [
    {
     "name": "stdout",
     "output_type": "stream",
     "text": [
      "The Villain has been captured!\n"
     ]
    }
   ],
   "source": [
    "places = [\"New Zeland\", \"Norway\", \"Botswana\", \"Zimbabwe\", \"Uzbekistan\", \"Brazil\"]\n",
    "\n",
    "villain_at = \"Norway\"\n",
    "\n",
    "for place in places:\n",
    "    if place == villain_at:\n",
    "        \n",
    "        print(\"The Villain has been captured!\")\n",
    "        break\n",
    "else:\n",
    "    print(\"The villain got away :(\")"
   ]
  },
  {
   "cell_type": "code",
   "execution_count": 10,
   "id": "6f050763",
   "metadata": {},
   "outputs": [
    {
     "name": "stdout",
     "output_type": "stream",
     "text": [
      "Enter a number: 7\n",
      "7 is a prime number\n"
     ]
    }
   ],
   "source": [
    "num = int(input(\"Enter a number: \"))\n",
    "\n",
    "for i in range(2, num):\n",
    "    if num % i == 0:\n",
    "        \n",
    "        print(\"It's not a prime number\")\n",
    "        break\n",
    "\n",
    "else:\n",
    "    print(num, \"is a prime number\")"
   ]
  }
 ],
 "metadata": {
  "kernelspec": {
   "display_name": "Python 3 (ipykernel)",
   "language": "python",
   "name": "python3"
  },
  "language_info": {
   "codemirror_mode": {
    "name": "ipython",
    "version": 3
   },
   "file_extension": ".py",
   "mimetype": "text/x-python",
   "name": "python",
   "nbconvert_exporter": "python",
   "pygments_lexer": "ipython3",
   "version": "3.11.4"
  }
 },
 "nbformat": 4,
 "nbformat_minor": 5
}
