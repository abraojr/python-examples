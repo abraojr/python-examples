{
 "cells": [
  {
   "cell_type": "code",
   "execution_count": 1,
   "id": "8cbaf7a9",
   "metadata": {},
   "outputs": [],
   "source": [
    "# Functions are first-class citizens, just like all other data types in Python\n",
    "def hello(name):\n",
    "    print(\"Hello:\", name)"
   ]
  },
  {
   "cell_type": "code",
   "execution_count": 2,
   "id": "d4383f79",
   "metadata": {},
   "outputs": [
    {
     "name": "stdout",
     "output_type": "stream",
     "text": [
      "Hello: Bruce\n"
     ]
    }
   ],
   "source": [
    "hello(\"Bruce\")"
   ]
  },
  {
   "cell_type": "code",
   "execution_count": 3,
   "id": "540d9a69",
   "metadata": {},
   "outputs": [
    {
     "data": {
      "text/plain": [
       "<function __main__.hello(name)>"
      ]
     },
     "execution_count": 3,
     "metadata": {},
     "output_type": "execute_result"
    }
   ],
   "source": [
    "hello"
   ]
  },
  {
   "cell_type": "code",
   "execution_count": 4,
   "id": "8483d4f8",
   "metadata": {},
   "outputs": [],
   "source": [
    "greet = hello"
   ]
  },
  {
   "cell_type": "code",
   "execution_count": 5,
   "id": "7910b460",
   "metadata": {},
   "outputs": [
    {
     "name": "stdout",
     "output_type": "stream",
     "text": [
      "Hello: Tom\n"
     ]
    }
   ],
   "source": [
    "greet(\"Tom\")"
   ]
  },
  {
   "cell_type": "code",
   "execution_count": 6,
   "id": "0b75f0ee",
   "metadata": {},
   "outputs": [],
   "source": [
    "calculate_length = len"
   ]
  },
  {
   "cell_type": "code",
   "execution_count": 7,
   "id": "701ce446",
   "metadata": {},
   "outputs": [
    {
     "data": {
      "text/plain": [
       "10"
      ]
     },
     "execution_count": 7,
     "metadata": {},
     "output_type": "execute_result"
    }
   ],
   "source": [
    "calculate_length(\"SomeString\")"
   ]
  },
  {
   "cell_type": "code",
   "execution_count": 8,
   "id": "f10f2340",
   "metadata": {},
   "outputs": [
    {
     "data": {
      "text/plain": [
       "True"
      ]
     },
     "execution_count": 8,
     "metadata": {},
     "output_type": "execute_result"
    }
   ],
   "source": [
    "calculate_length == len"
   ]
  },
  {
   "cell_type": "code",
   "execution_count": 9,
   "id": "61584a9d",
   "metadata": {},
   "outputs": [
    {
     "data": {
      "text/plain": [
       "6"
      ]
     },
     "execution_count": 9,
     "metadata": {},
     "output_type": "execute_result"
    }
   ],
   "source": [
    "calculate_length([3, 5, 6, 8, 1, 2])"
   ]
  },
  {
   "cell_type": "code",
   "execution_count": 10,
   "id": "0f143f13",
   "metadata": {},
   "outputs": [],
   "source": [
    "import math"
   ]
  },
  {
   "cell_type": "code",
   "execution_count": 11,
   "id": "6789ad41",
   "metadata": {},
   "outputs": [],
   "source": [
    "def area_circle_fn(radius):\n",
    "    \n",
    "    return math.pi * radius * radius"
   ]
  },
  {
   "cell_type": "code",
   "execution_count": 12,
   "id": "30bbb3a7",
   "metadata": {},
   "outputs": [],
   "source": [
    "def perimeter_circle_fn(radius):\n",
    "    \n",
    "    return 2 * math.pi * radius"
   ]
  },
  {
   "cell_type": "code",
   "execution_count": 13,
   "id": "a456ca6d",
   "metadata": {},
   "outputs": [],
   "source": [
    "def diameter_circle_fn(radius):\n",
    "    \n",
    "    return 2 * radius"
   ]
  },
  {
   "cell_type": "code",
   "execution_count": 14,
   "id": "90e7e491",
   "metadata": {},
   "outputs": [],
   "source": [
    "# Functions can be passed in as input arguments\n",
    "def calculate_for_circle(radius, fn):\n",
    "    \n",
    "    return fn(radius)"
   ]
  },
  {
   "cell_type": "code",
   "execution_count": 15,
   "id": "1cb4a079",
   "metadata": {},
   "outputs": [
    {
     "data": {
      "text/plain": [
       "20"
      ]
     },
     "execution_count": 15,
     "metadata": {},
     "output_type": "execute_result"
    }
   ],
   "source": [
    "calculate_for_circle(10, diameter_circle_fn)"
   ]
  },
  {
   "cell_type": "code",
   "execution_count": 16,
   "id": "3cd1e4cb",
   "metadata": {},
   "outputs": [
    {
     "data": {
      "text/plain": [
       "62.83185307179586"
      ]
     },
     "execution_count": 16,
     "metadata": {},
     "output_type": "execute_result"
    }
   ],
   "source": [
    "calculate_for_circle(10, perimeter_circle_fn)"
   ]
  },
  {
   "cell_type": "code",
   "execution_count": 17,
   "id": "ad639b15",
   "metadata": {},
   "outputs": [
    {
     "data": {
      "text/plain": [
       "314.1592653589793"
      ]
     },
     "execution_count": 17,
     "metadata": {},
     "output_type": "execute_result"
    }
   ],
   "source": [
    "calculate_for_circle(10, area_circle_fn)"
   ]
  },
  {
   "cell_type": "code",
   "execution_count": 18,
   "id": "fb9b6a7b",
   "metadata": {},
   "outputs": [
    {
     "data": {
      "text/plain": [
       "125.66370614359172"
      ]
     },
     "execution_count": 18,
     "metadata": {},
     "output_type": "execute_result"
    }
   ],
   "source": [
    "calculate_for_circle(20, perimeter_circle_fn)"
   ]
  },
  {
   "cell_type": "code",
   "execution_count": 19,
   "id": "8bb945d5",
   "metadata": {},
   "outputs": [],
   "source": [
    "def calculate(*args, fn):\n",
    "    \n",
    "    return fn(*args)"
   ]
  },
  {
   "cell_type": "code",
   "execution_count": 20,
   "id": "7f28330b",
   "metadata": {},
   "outputs": [
    {
     "data": {
      "text/plain": [
       "20"
      ]
     },
     "execution_count": 20,
     "metadata": {},
     "output_type": "execute_result"
    }
   ],
   "source": [
    "calculate(10, fn=diameter_circle_fn)"
   ]
  },
  {
   "cell_type": "code",
   "execution_count": 21,
   "id": "95594728",
   "metadata": {},
   "outputs": [
    {
     "data": {
      "text/plain": [
       "62.83185307179586"
      ]
     },
     "execution_count": 21,
     "metadata": {},
     "output_type": "execute_result"
    }
   ],
   "source": [
    "calculate(10, fn=perimeter_circle_fn)"
   ]
  },
  {
   "cell_type": "code",
   "execution_count": 22,
   "id": "36b1c120",
   "metadata": {},
   "outputs": [
    {
     "data": {
      "text/plain": [
       "314.1592653589793"
      ]
     },
     "execution_count": 22,
     "metadata": {},
     "output_type": "execute_result"
    }
   ],
   "source": [
    "calculate(10, fn=area_circle_fn)"
   ]
  },
  {
   "cell_type": "code",
   "execution_count": 23,
   "id": "5bea8802",
   "metadata": {},
   "outputs": [],
   "source": [
    "def area_rectangle_fn(length, breadth):\n",
    "    \n",
    "    return length * breadth"
   ]
  },
  {
   "cell_type": "code",
   "execution_count": 24,
   "id": "bdb43663",
   "metadata": {},
   "outputs": [],
   "source": [
    "def perimeter_rectangle_fn(length, breadth):\n",
    "    \n",
    "    return 2 * (length + breadth)"
   ]
  },
  {
   "cell_type": "code",
   "execution_count": 25,
   "id": "5ad890ff",
   "metadata": {},
   "outputs": [
    {
     "data": {
      "text/plain": [
       "800"
      ]
     },
     "execution_count": 25,
     "metadata": {},
     "output_type": "execute_result"
    }
   ],
   "source": [
    "calculate(20, 40, fn=area_rectangle_fn)"
   ]
  },
  {
   "cell_type": "code",
   "execution_count": 26,
   "id": "f2806e4a",
   "metadata": {},
   "outputs": [
    {
     "data": {
      "text/plain": [
       "120"
      ]
     },
     "execution_count": 26,
     "metadata": {},
     "output_type": "execute_result"
    }
   ],
   "source": [
    "calculate(20, 40, fn=perimeter_rectangle_fn)"
   ]
  },
  {
   "cell_type": "code",
   "execution_count": null,
   "id": "6e9d40ed",
   "metadata": {},
   "outputs": [],
   "source": [
    "# Will throw an error\n",
    "calculate(10, fn=area_rectangle_fn)"
   ]
  }
 ],
 "metadata": {
  "kernelspec": {
   "display_name": "Python 3 (ipykernel)",
   "language": "python",
   "name": "python3"
  },
  "language_info": {
   "codemirror_mode": {
    "name": "ipython",
    "version": 3
   },
   "file_extension": ".py",
   "mimetype": "text/x-python",
   "name": "python",
   "nbconvert_exporter": "python",
   "pygments_lexer": "ipython3",
   "version": "3.11.4"
  }
 },
 "nbformat": 4,
 "nbformat_minor": 5
}
