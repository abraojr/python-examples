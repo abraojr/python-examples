{
 "cells": [
  {
   "cell_type": "code",
   "execution_count": 1,
   "id": "4eee19e9",
   "metadata": {},
   "outputs": [],
   "source": [
    "salary = 1000\n",
    "\n",
    "expense = 200\n",
    "\n",
    "name = \"James\"\n",
    "interest_rate = 0.04"
   ]
  },
  {
   "cell_type": "code",
   "execution_count": 2,
   "id": "f9e3350f",
   "metadata": {},
   "outputs": [],
   "source": [
    "def print_savings_details():\n",
    "    \n",
    "    print(\"Name on account: \", name)\n",
    "    \n",
    "    savings = salary - expense\n",
    "    print(\"Savings: \", savings)\n",
    "    \n",
    "    print(\"Interest rate: \", interest_rate)"
   ]
  },
  {
   "cell_type": "code",
   "execution_count": 3,
   "id": "b5b23d71",
   "metadata": {},
   "outputs": [
    {
     "name": "stdout",
     "output_type": "stream",
     "text": [
      "Name on account:  James\n",
      "Savings:  800\n",
      "Interest rate:  0.04\n"
     ]
    }
   ],
   "source": [
    "print_savings_details()"
   ]
  },
  {
   "cell_type": "code",
   "execution_count": 4,
   "id": "cfdd42f7",
   "metadata": {},
   "outputs": [],
   "source": [
    "def print_savings_details(name, salary, expense, interest_rate):\n",
    "    \n",
    "    print(\"Name on account: \", name)\n",
    "    \n",
    "    savings = salary - expense\n",
    "    print(\"Savings: \", savings)\n",
    "    \n",
    "    print(\"Interest rate: \", interest_rate)"
   ]
  },
  {
   "cell_type": "code",
   "execution_count": 5,
   "id": "1861ab79",
   "metadata": {},
   "outputs": [
    {
     "name": "stdout",
     "output_type": "stream",
     "text": [
      "Name on account:  James\n",
      "Savings:  800\n",
      "Interest rate:  0.04\n"
     ]
    }
   ],
   "source": [
    "print_savings_details(name, salary, expense, interest_rate)"
   ]
  },
  {
   "cell_type": "code",
   "execution_count": 6,
   "id": "b314b89f",
   "metadata": {},
   "outputs": [
    {
     "name": "stdout",
     "output_type": "stream",
     "text": [
      "Name on account:  Julie\n",
      "Savings:  8000\n",
      "Interest rate:  0.02\n"
     ]
    }
   ],
   "source": [
    "print_savings_details(\"Julie\", 10000, 2000, 0.02)"
   ]
  },
  {
   "cell_type": "code",
   "execution_count": 7,
   "id": "8436b8bc",
   "metadata": {},
   "outputs": [],
   "source": [
    "def print_savings_details(name, salary, expense, interest_rate):\n",
    "    \n",
    "    print(\"Name on account: \", name)\n",
    "    \n",
    "    expense = expense + 100\n",
    "    \n",
    "    savings = salary - expense\n",
    "    print(\"Savings: \", savings)\n",
    "    \n",
    "    print(\"Interest rate: \", interest_rate)"
   ]
  },
  {
   "cell_type": "code",
   "execution_count": 8,
   "id": "b1aa2396",
   "metadata": {},
   "outputs": [
    {
     "name": "stdout",
     "output_type": "stream",
     "text": [
      "Name on account:  James\n",
      "Savings:  700\n",
      "Interest rate:  0.04\n"
     ]
    }
   ],
   "source": [
    "print_savings_details(name, salary, expense, interest_rate)"
   ]
  },
  {
   "cell_type": "code",
   "execution_count": 9,
   "id": "de8aec15",
   "metadata": {},
   "outputs": [
    {
     "data": {
      "text/plain": [
       "('James', 1000, 200, 0.04)"
      ]
     },
     "execution_count": 9,
     "metadata": {},
     "output_type": "execute_result"
    }
   ],
   "source": [
    "name, salary, expense, interest_rate"
   ]
  },
  {
   "cell_type": "code",
   "execution_count": 10,
   "id": "31539326",
   "metadata": {},
   "outputs": [],
   "source": [
    "def print_savings_details(name, salary, expense, interest_rate):\n",
    "    \n",
    "    name = \"Harry\"\n",
    "    print(\"Name on account: \", name)\n",
    "    \n",
    "    salary = salary * 2\n",
    "    expense = expense + 100\n",
    "    \n",
    "    savings = salary - expense\n",
    "    print(\"Savings: \", savings)\n",
    "    \n",
    "    interest_rate = 0.09\n",
    "    print(\"Interest rate: \", interest_rate)"
   ]
  },
  {
   "cell_type": "code",
   "execution_count": 11,
   "id": "6a6b4777",
   "metadata": {},
   "outputs": [
    {
     "name": "stdout",
     "output_type": "stream",
     "text": [
      "Name on account:  Harry\n",
      "Savings:  1700\n",
      "Interest rate:  0.09\n"
     ]
    }
   ],
   "source": [
    "print_savings_details(name, salary, expense, interest_rate)"
   ]
  },
  {
   "cell_type": "code",
   "execution_count": 12,
   "id": "197180b1",
   "metadata": {},
   "outputs": [
    {
     "data": {
      "text/plain": [
       "('James', 1000, 200, 0.04)"
      ]
     },
     "execution_count": 12,
     "metadata": {},
     "output_type": "execute_result"
    }
   ],
   "source": [
    "name, salary, expense, interest_rate"
   ]
  },
  {
   "cell_type": "code",
   "execution_count": 13,
   "id": "f4ec8f85",
   "metadata": {},
   "outputs": [],
   "source": [
    "fruit_list = [\"Apple\", \"Grapes\", \"Mango\", \"Banana\"]"
   ]
  },
  {
   "cell_type": "code",
   "execution_count": 14,
   "id": "523a6417",
   "metadata": {},
   "outputs": [
    {
     "name": "stdout",
     "output_type": "stream",
     "text": [
      "Inside the function:  ['Kiwi', 'Strawberry']\n",
      "\n",
      "Outside the function:  ['Apple', 'Grapes', 'Mango', 'Banana']\n"
     ]
    }
   ],
   "source": [
    "def change_list(fruit_list):\n",
    "    \n",
    "    fruit_list = [\"Kiwi\", \"Strawberry\"]\n",
    "    \n",
    "    print(\"Inside the function: \", fruit_list)\n",
    "    \n",
    "change_list(fruit_list)\n",
    "print()\n",
    "print(\"Outside the function: \", fruit_list)"
   ]
  },
  {
   "cell_type": "code",
   "execution_count": 15,
   "id": "4b04a485",
   "metadata": {},
   "outputs": [],
   "source": [
    "fruit_list = [\"Apple\", \"Grapes\"]"
   ]
  },
  {
   "cell_type": "code",
   "execution_count": 16,
   "id": "376fdb08",
   "metadata": {},
   "outputs": [
    {
     "name": "stdout",
     "output_type": "stream",
     "text": [
      "Inside the function:  ['Kiwi', 'Strawberry']\n"
     ]
    }
   ],
   "source": [
    "change_list(fruit_list)"
   ]
  },
  {
   "cell_type": "code",
   "execution_count": 17,
   "id": "9cc4f8a8",
   "metadata": {},
   "outputs": [
    {
     "data": {
      "text/plain": [
       "['Apple', 'Grapes']"
      ]
     },
     "execution_count": 17,
     "metadata": {},
     "output_type": "execute_result"
    }
   ],
   "source": [
    "fruit_list"
   ]
  },
  {
   "cell_type": "code",
   "execution_count": 18,
   "id": "cc36e72b",
   "metadata": {},
   "outputs": [],
   "source": [
    "fruits_tuple = (\"Apple\", \"Grapes\", \"Mango\",\" Banana\")"
   ]
  },
  {
   "cell_type": "code",
   "execution_count": 19,
   "id": "6087c9f8",
   "metadata": {},
   "outputs": [
    {
     "name": "stdout",
     "output_type": "stream",
     "text": [
      "Inside the function:  ('Kiwi', 'Strawberry')\n",
      "\n",
      "Outside the function:  ('Apple', 'Grapes', 'Mango', ' Banana')\n"
     ]
    }
   ],
   "source": [
    "def change_tuple(fruits_tuple):\n",
    "    \n",
    "    fruits_tuple = (\"Kiwi\", \"Strawberry\")\n",
    "    \n",
    "    print(\"Inside the function: \", fruits_tuple)\n",
    "    \n",
    "change_tuple(fruits_tuple)\n",
    "print()\n",
    "print(\"Outside the function: \", fruits_tuple)"
   ]
  },
  {
   "cell_type": "code",
   "execution_count": 20,
   "id": "8e47bbea",
   "metadata": {},
   "outputs": [
    {
     "name": "stdout",
     "output_type": "stream",
     "text": [
      "Inside the function:  This is not even a tuple\n",
      "\n",
      "Outside the function:  ('Apple', 'Grapes', 'Mango', ' Banana')\n"
     ]
    }
   ],
   "source": [
    "def change_tuple(fruits_tuple):\n",
    "    \n",
    "    fruits_tuple = \"This is not even a tuple\"\n",
    "    \n",
    "    print(\"Inside the function: \", fruits_tuple)\n",
    "    \n",
    "change_tuple(fruits_tuple)\n",
    "print()\n",
    "print(\"Outside the function: \", fruits_tuple)"
   ]
  },
  {
   "cell_type": "code",
   "execution_count": 21,
   "id": "b1e44d30",
   "metadata": {},
   "outputs": [],
   "source": [
    "car_speed_dictionary = {\n",
    "    \"Camry\" : 120,\n",
    "    \"Accord\" : 130,\n",
    "    \"Cayenne\" : 250,\n",
    "    \"Mini Cooper\" : 100\n",
    "}"
   ]
  },
  {
   "cell_type": "code",
   "execution_count": 22,
   "id": "a4333209",
   "metadata": {},
   "outputs": [],
   "source": [
    "def change_dictionary(car_speed_dictionary):\n",
    "    \n",
    "    car_speed_dictionary = {\n",
    "        \"Mustang\" : 200\n",
    "    }\n",
    "    \n",
    "    print(\"Inside the function: \", car_speed_dictionary)"
   ]
  },
  {
   "cell_type": "code",
   "execution_count": 23,
   "id": "d24737dc",
   "metadata": {},
   "outputs": [
    {
     "name": "stdout",
     "output_type": "stream",
     "text": [
      "Inside the function:  {'Mustang': 200}\n"
     ]
    }
   ],
   "source": [
    "change_dictionary(car_speed_dictionary)"
   ]
  },
  {
   "cell_type": "code",
   "execution_count": 24,
   "id": "69e15a2e",
   "metadata": {},
   "outputs": [
    {
     "data": {
      "text/plain": [
       "{'Camry': 120, 'Accord': 130, 'Cayenne': 250, 'Mini Cooper': 100}"
      ]
     },
     "execution_count": 24,
     "metadata": {},
     "output_type": "execute_result"
    }
   ],
   "source": [
    "car_speed_dictionary"
   ]
  }
 ],
 "metadata": {
  "kernelspec": {
   "display_name": "Python 3 (ipykernel)",
   "language": "python",
   "name": "python3"
  },
  "language_info": {
   "codemirror_mode": {
    "name": "ipython",
    "version": 3
   },
   "file_extension": ".py",
   "mimetype": "text/x-python",
   "name": "python",
   "nbconvert_exporter": "python",
   "pygments_lexer": "ipython3",
   "version": "3.11.4"
  }
 },
 "nbformat": 4,
 "nbformat_minor": 5
}
