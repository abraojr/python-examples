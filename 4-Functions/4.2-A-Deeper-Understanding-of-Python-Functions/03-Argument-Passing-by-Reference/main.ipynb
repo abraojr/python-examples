{
 "cells": [
  {
   "cell_type": "code",
   "execution_count": 1,
   "id": "e46a5ba4",
   "metadata": {},
   "outputs": [],
   "source": [
    "fruits_list = [\"Apple\", \"Grapes\", \"Mango\", \"Banana\"]"
   ]
  },
  {
   "cell_type": "code",
   "execution_count": 2,
   "id": "037d66d9",
   "metadata": {},
   "outputs": [
    {
     "name": "stdout",
     "output_type": "stream",
     "text": [
      "Inside the function:  ['Kiwi', 'Grapes', 'Mango', 'Banana']\n",
      "\n",
      "Outside the function:  ['Kiwi', 'Grapes', 'Mango', 'Banana']\n"
     ]
    }
   ],
   "source": [
    "def change_list(fruits_list):\n",
    "    \n",
    "    fruits_list[0] = \"Kiwi\"\n",
    "    \n",
    "    print(\"Inside the function: \", fruits_list)\n",
    "    \n",
    "change_list(fruits_list)\n",
    "print()\n",
    "print(\"Outside the function: \", fruits_list)"
   ]
  },
  {
   "cell_type": "code",
   "execution_count": 3,
   "id": "38dd99b1",
   "metadata": {},
   "outputs": [],
   "source": [
    "fruits_list = [\"Apple\", \"Grapes\"]"
   ]
  },
  {
   "cell_type": "code",
   "execution_count": 4,
   "id": "39ed8a8e",
   "metadata": {},
   "outputs": [
    {
     "name": "stdout",
     "output_type": "stream",
     "text": [
      "Inside the function:  ['Kiwi', 'Grapes']\n"
     ]
    }
   ],
   "source": [
    "change_list(fruits_list)"
   ]
  },
  {
   "cell_type": "code",
   "execution_count": 5,
   "id": "4925040e",
   "metadata": {},
   "outputs": [
    {
     "data": {
      "text/plain": [
       "['Kiwi', 'Grapes']"
      ]
     },
     "execution_count": 5,
     "metadata": {},
     "output_type": "execute_result"
    }
   ],
   "source": [
    "fruits_list"
   ]
  },
  {
   "cell_type": "code",
   "execution_count": 6,
   "id": "7a61771a",
   "metadata": {},
   "outputs": [
    {
     "name": "stdout",
     "output_type": "stream",
     "text": [
      "Inside the function:  ['Apple', 'Grapes', 'Mango', 'Banana', 'Kiwi']\n",
      "\n",
      "Outside the function:  ['Apple', 'Grapes', 'Mango', 'Banana', 'Kiwi']\n"
     ]
    }
   ],
   "source": [
    "fruits_list = [\"Apple\", \"Grapes\", \"Mango\", \"Banana\"]\n",
    "\n",
    "def change_list(fruits_list):\n",
    "    \n",
    "    fruits_list.append(\"Kiwi\")\n",
    "    \n",
    "    print(\"Inside the function: \", fruits_list)\n",
    "    \n",
    "change_list(fruits_list)\n",
    "print()\n",
    "print(\"Outside the function: \", fruits_list)"
   ]
  },
  {
   "cell_type": "code",
   "execution_count": 7,
   "id": "650f9be6",
   "metadata": {},
   "outputs": [
    {
     "name": "stdout",
     "output_type": "stream",
     "text": [
      "Inside the function:  ['Grapes', 'Mango', 'Banana']\n",
      "\n",
      "Outside the function:  ['Grapes', 'Mango', 'Banana']\n"
     ]
    }
   ],
   "source": [
    "fruits_list = [\"Apple\", \"Grapes\", \"Mango\", \"Banana\"]\n",
    "\n",
    "def change_list(fruits_list):\n",
    "    \n",
    "    fruits_list.remove(\"Apple\")\n",
    "    \n",
    "    print(\"Inside the function: \", fruits_list)\n",
    "    \n",
    "change_list(fruits_list)\n",
    "print()\n",
    "print(\"Outside the function: \", fruits_list)"
   ]
  },
  {
   "cell_type": "code",
   "execution_count": 8,
   "id": "1cdb1317",
   "metadata": {},
   "outputs": [],
   "source": [
    "fruits_list = [\"Apple\", \"Grapes\", \"Mango\", \"Banana\"]\n",
    "\n",
    "def sort_items_and_remove_last(my_list):\n",
    "    \n",
    "    my_list.sort()\n",
    "    my_list.pop()\n",
    "    \n",
    "    print(\"Inside the function: \", my_list)"
   ]
  },
  {
   "cell_type": "code",
   "execution_count": 9,
   "id": "1a7834fc",
   "metadata": {},
   "outputs": [
    {
     "name": "stdout",
     "output_type": "stream",
     "text": [
      "Inside the function:  ['Apple', 'Banana', 'Grapes']\n"
     ]
    }
   ],
   "source": [
    "sort_items_and_remove_last(fruits_list)"
   ]
  },
  {
   "cell_type": "code",
   "execution_count": 10,
   "id": "2a618e98",
   "metadata": {},
   "outputs": [
    {
     "data": {
      "text/plain": [
       "['Apple', 'Banana', 'Grapes']"
      ]
     },
     "execution_count": 10,
     "metadata": {},
     "output_type": "execute_result"
    }
   ],
   "source": [
    "fruits_list"
   ]
  },
  {
   "cell_type": "code",
   "execution_count": 11,
   "id": "2d9c3f1f",
   "metadata": {},
   "outputs": [],
   "source": [
    "car_speed_dictionary = {\n",
    "    \"Camry\" : 120,\n",
    "    \"Accord\" : 130,\n",
    "    \"Cayenne\" : 250,\n",
    "    \"Mini Cooper\" : 100\n",
    "}"
   ]
  },
  {
   "cell_type": "code",
   "execution_count": 12,
   "id": "976a63c3",
   "metadata": {},
   "outputs": [],
   "source": [
    "def change_dictionary(car_speed_dictionary):\n",
    "    \n",
    "    car_speed_dictionary[\"Mustang\"] = 200\n",
    "    \n",
    "    print(\"Inside the function: \", car_speed_dictionary)"
   ]
  },
  {
   "cell_type": "code",
   "execution_count": 13,
   "id": "2263ae25",
   "metadata": {},
   "outputs": [
    {
     "name": "stdout",
     "output_type": "stream",
     "text": [
      "Inside the function:  {'Camry': 120, 'Accord': 130, 'Cayenne': 250, 'Mini Cooper': 100, 'Mustang': 200}\n"
     ]
    }
   ],
   "source": [
    "change_dictionary(car_speed_dictionary)"
   ]
  },
  {
   "cell_type": "code",
   "execution_count": 14,
   "id": "c40daf31",
   "metadata": {},
   "outputs": [
    {
     "data": {
      "text/plain": [
       "{'Camry': 120,\n",
       " 'Accord': 130,\n",
       " 'Cayenne': 250,\n",
       " 'Mini Cooper': 100,\n",
       " 'Mustang': 200}"
      ]
     },
     "execution_count": 14,
     "metadata": {},
     "output_type": "execute_result"
    }
   ],
   "source": [
    "car_speed_dictionary"
   ]
  },
  {
   "cell_type": "code",
   "execution_count": 15,
   "id": "24110ec2",
   "metadata": {},
   "outputs": [],
   "source": [
    "def change_dictionary(some_dictionary):\n",
    "    \n",
    "    some_dictionary[\"Camry\"] = 140\n",
    "    \n",
    "    print(\"Inside the function: \", some_dictionary)"
   ]
  },
  {
   "cell_type": "code",
   "execution_count": 16,
   "id": "05ce66e9",
   "metadata": {},
   "outputs": [
    {
     "name": "stdout",
     "output_type": "stream",
     "text": [
      "Inside the function:  {'Camry': 140, 'Accord': 130, 'Cayenne': 250, 'Mini Cooper': 100, 'Mustang': 200}\n"
     ]
    },
    {
     "data": {
      "text/plain": [
       "{'Camry': 140,\n",
       " 'Accord': 130,\n",
       " 'Cayenne': 250,\n",
       " 'Mini Cooper': 100,\n",
       " 'Mustang': 200}"
      ]
     },
     "execution_count": 16,
     "metadata": {},
     "output_type": "execute_result"
    }
   ],
   "source": [
    "change_dictionary(car_speed_dictionary)\n",
    "\n",
    "car_speed_dictionary"
   ]
  },
  {
   "cell_type": "code",
   "execution_count": 17,
   "id": "4853f2d5",
   "metadata": {},
   "outputs": [],
   "source": [
    "def change_dictionary(some_dictionary):\n",
    "    \n",
    "    del some_dictionary[\"Camry\"]\n",
    "    \n",
    "    print(\"Inside the function: \", some_dictionary)"
   ]
  },
  {
   "cell_type": "code",
   "execution_count": 18,
   "id": "968dfa61",
   "metadata": {},
   "outputs": [
    {
     "name": "stdout",
     "output_type": "stream",
     "text": [
      "Inside the function:  {'Accord': 130, 'Cayenne': 250, 'Mini Cooper': 100, 'Mustang': 200}\n"
     ]
    },
    {
     "data": {
      "text/plain": [
       "{'Accord': 130, 'Cayenne': 250, 'Mini Cooper': 100, 'Mustang': 200}"
      ]
     },
     "execution_count": 18,
     "metadata": {},
     "output_type": "execute_result"
    }
   ],
   "source": [
    "change_dictionary(car_speed_dictionary)\n",
    "\n",
    "car_speed_dictionary"
   ]
  }
 ],
 "metadata": {
  "kernelspec": {
   "display_name": "Python 3 (ipykernel)",
   "language": "python",
   "name": "python3"
  },
  "language_info": {
   "codemirror_mode": {
    "name": "ipython",
    "version": 3
   },
   "file_extension": ".py",
   "mimetype": "text/x-python",
   "name": "python",
   "nbconvert_exporter": "python",
   "pygments_lexer": "ipython3",
   "version": "3.11.4"
  }
 },
 "nbformat": 4,
 "nbformat_minor": 5
}
