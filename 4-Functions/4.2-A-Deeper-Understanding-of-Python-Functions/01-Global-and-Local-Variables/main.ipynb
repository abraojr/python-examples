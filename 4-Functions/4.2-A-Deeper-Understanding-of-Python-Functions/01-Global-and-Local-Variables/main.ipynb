{
 "cells": [
  {
   "cell_type": "code",
   "execution_count": 1,
   "id": "d841ae44",
   "metadata": {},
   "outputs": [],
   "source": [
    "# Global Variables: Defined and assigned values outside the scope of a function\n",
    "country = \"USA\"\n",
    "city = \"Seattle\""
   ]
  },
  {
   "cell_type": "code",
   "execution_count": 2,
   "id": "f6bc8620",
   "metadata": {},
   "outputs": [],
   "source": [
    "def some_fn():\n",
    "    print(\"Country:\", country)\n",
    "    print(\"City:\", city)"
   ]
  },
  {
   "cell_type": "code",
   "execution_count": 3,
   "id": "d55233d0",
   "metadata": {},
   "outputs": [
    {
     "name": "stdout",
     "output_type": "stream",
     "text": [
      "Country: USA\n",
      "City: Seattle\n"
     ]
    }
   ],
   "source": [
    "some_fn()"
   ]
  },
  {
   "cell_type": "code",
   "execution_count": 4,
   "id": "7779b0db",
   "metadata": {},
   "outputs": [],
   "source": [
    "def some_fn():\n",
    "    \n",
    "    # Local Variables: Defined and assigned values within the function body\n",
    "    country = \"India\"\n",
    "    \n",
    "    print(\"Country:\", country)\n",
    "    print(\"City:\", city)"
   ]
  },
  {
   "cell_type": "code",
   "execution_count": 5,
   "id": "02a0c33a",
   "metadata": {},
   "outputs": [
    {
     "name": "stdout",
     "output_type": "stream",
     "text": [
      "Country: India\n",
      "City: Seattle\n"
     ]
    }
   ],
   "source": [
    "some_fn()"
   ]
  },
  {
   "cell_type": "code",
   "execution_count": 6,
   "id": "6d82e84d",
   "metadata": {},
   "outputs": [
    {
     "data": {
      "text/plain": [
       "('USA', 'Seattle')"
      ]
     },
     "execution_count": 6,
     "metadata": {},
     "output_type": "execute_result"
    }
   ],
   "source": [
    "country, city"
   ]
  },
  {
   "cell_type": "code",
   "execution_count": 7,
   "id": "616ce8b2",
   "metadata": {},
   "outputs": [],
   "source": [
    "def some_fn():\n",
    "    city = \"Detroit\"\n",
    "    \n",
    "    print(\"Country:\", country)\n",
    "    print(\"City:\", city)"
   ]
  },
  {
   "cell_type": "code",
   "execution_count": 8,
   "id": "c1781f7d",
   "metadata": {},
   "outputs": [
    {
     "name": "stdout",
     "output_type": "stream",
     "text": [
      "Country: USA\n",
      "City: Detroit\n"
     ]
    }
   ],
   "source": [
    "some_fn()"
   ]
  },
  {
   "cell_type": "code",
   "execution_count": 9,
   "id": "baa80764",
   "metadata": {},
   "outputs": [
    {
     "data": {
      "text/plain": [
       "('USA', 'Seattle')"
      ]
     },
     "execution_count": 9,
     "metadata": {},
     "output_type": "execute_result"
    }
   ],
   "source": [
    "country, city"
   ]
  },
  {
   "cell_type": "code",
   "execution_count": 10,
   "id": "2b1f9b39",
   "metadata": {},
   "outputs": [],
   "source": [
    "def some_fn():\n",
    "    country = \"India\"\n",
    "    city = \"Bangalore\"\n",
    "    \n",
    "    print(\"Country:\", country)\n",
    "    print(\"City:\", city)"
   ]
  },
  {
   "cell_type": "code",
   "execution_count": 11,
   "id": "2805efd1",
   "metadata": {},
   "outputs": [
    {
     "name": "stdout",
     "output_type": "stream",
     "text": [
      "Country: India\n",
      "City: Bangalore\n"
     ]
    }
   ],
   "source": [
    "some_fn()"
   ]
  },
  {
   "cell_type": "code",
   "execution_count": 12,
   "id": "e744dfa3",
   "metadata": {},
   "outputs": [
    {
     "data": {
      "text/plain": [
       "('USA', 'Seattle')"
      ]
     },
     "execution_count": 12,
     "metadata": {},
     "output_type": "execute_result"
    }
   ],
   "source": [
    "country, city"
   ]
  },
  {
   "cell_type": "code",
   "execution_count": 13,
   "id": "30f4d701",
   "metadata": {},
   "outputs": [],
   "source": [
    "def some_fn():\n",
    "    \n",
    "    # This will cause an error\n",
    "    city = city + \"-Washington\"\n",
    "    \n",
    "    print(\"Country:\", country)\n",
    "    print(\"City:\", city)"
   ]
  },
  {
   "cell_type": "code",
   "execution_count": null,
   "id": "3bc9ed27",
   "metadata": {},
   "outputs": [],
   "source": [
    "some_fn()"
   ]
  },
  {
   "cell_type": "code",
   "execution_count": 15,
   "id": "216b81f3",
   "metadata": {},
   "outputs": [],
   "source": [
    "def some_fn():\n",
    "    city = \"Seattle\"\n",
    "    city = city + \"-Washington\"\n",
    "    \n",
    "    print(\"Country:\", country)\n",
    "    print(\"City:\", city)"
   ]
  },
  {
   "cell_type": "code",
   "execution_count": 16,
   "id": "580879b3",
   "metadata": {},
   "outputs": [
    {
     "name": "stdout",
     "output_type": "stream",
     "text": [
      "Country: USA\n",
      "City: Seattle-Washington\n"
     ]
    }
   ],
   "source": [
    "some_fn()"
   ]
  },
  {
   "cell_type": "code",
   "execution_count": 17,
   "id": "c81b64cf",
   "metadata": {},
   "outputs": [],
   "source": [
    "def some_fn():\n",
    "    city = \"San Francisco\"\n",
    "    city = city + \"-California\"\n",
    "    \n",
    "    print(\"Country:\", country)\n",
    "    print(\"City:\", city)"
   ]
  },
  {
   "cell_type": "code",
   "execution_count": 18,
   "id": "12c2d738",
   "metadata": {},
   "outputs": [
    {
     "name": "stdout",
     "output_type": "stream",
     "text": [
      "Country: USA\n",
      "City: San Francisco-California\n"
     ]
    }
   ],
   "source": [
    "some_fn()"
   ]
  },
  {
   "cell_type": "code",
   "execution_count": 19,
   "id": "fe25f7c7",
   "metadata": {},
   "outputs": [
    {
     "data": {
      "text/plain": [
       "('USA', 'Seattle')"
      ]
     },
     "execution_count": 19,
     "metadata": {},
     "output_type": "execute_result"
    }
   ],
   "source": [
    "country, city"
   ]
  },
  {
   "cell_type": "code",
   "execution_count": 20,
   "id": "35b520ef",
   "metadata": {},
   "outputs": [],
   "source": [
    "def some_fn(country, city):\n",
    "    print(\"Country:\", country)\n",
    "    print(\"City:\", city)"
   ]
  },
  {
   "cell_type": "code",
   "execution_count": 21,
   "id": "db9cb5b4",
   "metadata": {},
   "outputs": [
    {
     "name": "stdout",
     "output_type": "stream",
     "text": [
      "Country: India\n",
      "City: Bangalore\n"
     ]
    }
   ],
   "source": [
    "some_fn(\"India\", \"Bangalore\")"
   ]
  },
  {
   "cell_type": "code",
   "execution_count": 22,
   "id": "d2e338b4",
   "metadata": {},
   "outputs": [],
   "source": [
    "def some_fn():\n",
    "    \n",
    "    global city\n",
    "    \n",
    "    city = city + \"-Washington\"\n",
    "    \n",
    "    print(\"Country:\", country)\n",
    "    print(\"City:\", city)"
   ]
  },
  {
   "cell_type": "code",
   "execution_count": 23,
   "id": "68da9121",
   "metadata": {},
   "outputs": [
    {
     "name": "stdout",
     "output_type": "stream",
     "text": [
      "Country: USA\n",
      "City: Seattle-Washington\n"
     ]
    }
   ],
   "source": [
    "some_fn()"
   ]
  },
  {
   "cell_type": "code",
   "execution_count": 24,
   "id": "81fa020d",
   "metadata": {},
   "outputs": [
    {
     "data": {
      "text/plain": [
       "('USA', 'Seattle-Washington')"
      ]
     },
     "execution_count": 24,
     "metadata": {},
     "output_type": "execute_result"
    }
   ],
   "source": [
    "country, city"
   ]
  },
  {
   "cell_type": "code",
   "execution_count": 25,
   "id": "c6470d52",
   "metadata": {},
   "outputs": [
    {
     "data": {
      "text/plain": [
       "('USA', 'Seattle')"
      ]
     },
     "execution_count": 25,
     "metadata": {},
     "output_type": "execute_result"
    }
   ],
   "source": [
    "city = \"Seattle\"\n",
    "\n",
    "country, city"
   ]
  },
  {
   "cell_type": "code",
   "execution_count": 26,
   "id": "bd329bad",
   "metadata": {},
   "outputs": [],
   "source": [
    "def some_fn():\n",
    "    \n",
    "    global city, country\n",
    "    \n",
    "    city = city + \"-Washington\"\n",
    "    country = country + \"-World\"\n",
    "    \n",
    "    print(\"Country:\", country)\n",
    "    print(\"City:\", city)"
   ]
  },
  {
   "cell_type": "code",
   "execution_count": 27,
   "id": "c0384d8f",
   "metadata": {},
   "outputs": [
    {
     "name": "stdout",
     "output_type": "stream",
     "text": [
      "Country: USA-World\n",
      "City: Seattle-Washington\n"
     ]
    }
   ],
   "source": [
    "some_fn()"
   ]
  },
  {
   "cell_type": "code",
   "execution_count": 28,
   "id": "252a2d4c",
   "metadata": {},
   "outputs": [
    {
     "data": {
      "text/plain": [
       "('USA-World', 'Seattle-Washington')"
      ]
     },
     "execution_count": 28,
     "metadata": {},
     "output_type": "execute_result"
    }
   ],
   "source": [
    "country, city"
   ]
  }
 ],
 "metadata": {
  "kernelspec": {
   "display_name": "Python 3 (ipykernel)",
   "language": "python",
   "name": "python3"
  },
  "language_info": {
   "codemirror_mode": {
    "name": "ipython",
    "version": 3
   },
   "file_extension": ".py",
   "mimetype": "text/x-python",
   "name": "python",
   "nbconvert_exporter": "python",
   "pygments_lexer": "ipython3",
   "version": "3.11.4"
  }
 },
 "nbformat": 4,
 "nbformat_minor": 5
}
