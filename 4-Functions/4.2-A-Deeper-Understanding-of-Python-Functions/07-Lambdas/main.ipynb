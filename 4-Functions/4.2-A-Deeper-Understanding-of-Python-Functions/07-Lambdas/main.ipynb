{
 "cells": [
  {
   "cell_type": "code",
   "execution_count": 1,
   "id": "6ae514fa",
   "metadata": {},
   "outputs": [],
   "source": [
    "def square(x):\n",
    "    \n",
    "    return x * x"
   ]
  },
  {
   "cell_type": "code",
   "execution_count": 2,
   "id": "6ceb8d43",
   "metadata": {},
   "outputs": [
    {
     "data": {
      "text/plain": [
       "25"
      ]
     },
     "execution_count": 2,
     "metadata": {},
     "output_type": "execute_result"
    }
   ],
   "source": [
    "result = square(5)\n",
    "\n",
    "result"
   ]
  },
  {
   "cell_type": "code",
   "execution_count": 3,
   "id": "6c9a6137",
   "metadata": {},
   "outputs": [
    {
     "data": {
      "text/plain": [
       "<function __main__.square(x)>"
      ]
     },
     "execution_count": 3,
     "metadata": {},
     "output_type": "execute_result"
    }
   ],
   "source": [
    "square"
   ]
  },
  {
   "cell_type": "code",
   "execution_count": 4,
   "id": "eb2df8eb",
   "metadata": {},
   "outputs": [
    {
     "data": {
      "text/plain": [
       "<function __main__.square(x)>"
      ]
     },
     "execution_count": 4,
     "metadata": {},
     "output_type": "execute_result"
    }
   ],
   "source": [
    "sq = square\n",
    "\n",
    "sq"
   ]
  },
  {
   "cell_type": "code",
   "execution_count": 5,
   "id": "7c8fc341",
   "metadata": {},
   "outputs": [
    {
     "data": {
      "text/plain": [
       "144"
      ]
     },
     "execution_count": 5,
     "metadata": {},
     "output_type": "execute_result"
    }
   ],
   "source": [
    "result = sq(12)\n",
    "\n",
    "result"
   ]
  },
  {
   "cell_type": "code",
   "execution_count": 6,
   "id": "1eee8edb",
   "metadata": {},
   "outputs": [],
   "source": [
    "# Lambda definition: lambda <input_arguments>:<expression>\n",
    "cube_of = lambda x : x * x * x"
   ]
  },
  {
   "cell_type": "code",
   "execution_count": 7,
   "id": "81bcd2e5",
   "metadata": {},
   "outputs": [
    {
     "data": {
      "text/plain": [
       "125"
      ]
     },
     "execution_count": 7,
     "metadata": {},
     "output_type": "execute_result"
    }
   ],
   "source": [
    "result = cube_of(5)\n",
    "\n",
    "result"
   ]
  },
  {
   "cell_type": "code",
   "execution_count": 8,
   "id": "dcac5b61",
   "metadata": {},
   "outputs": [
    {
     "data": {
      "text/plain": [
       "1000"
      ]
     },
     "execution_count": 8,
     "metadata": {},
     "output_type": "execute_result"
    }
   ],
   "source": [
    "result = cube_of(10)\n",
    "\n",
    "result"
   ]
  },
  {
   "cell_type": "code",
   "execution_count": 9,
   "id": "cbb3e944",
   "metadata": {},
   "outputs": [
    {
     "data": {
      "text/plain": [
       "<function __main__.<lambda>(x)>"
      ]
     },
     "execution_count": 9,
     "metadata": {},
     "output_type": "execute_result"
    }
   ],
   "source": [
    "cube_of"
   ]
  },
  {
   "cell_type": "code",
   "execution_count": 10,
   "id": "7d7b2417",
   "metadata": {},
   "outputs": [],
   "source": [
    "add = lambda x, y: x + y"
   ]
  },
  {
   "cell_type": "code",
   "execution_count": 11,
   "id": "63146a12",
   "metadata": {},
   "outputs": [],
   "source": [
    "sub = lambda x, y: x - y"
   ]
  },
  {
   "cell_type": "code",
   "execution_count": 12,
   "id": "6858c9c1",
   "metadata": {},
   "outputs": [],
   "source": [
    "mul = lambda x, y: x * y"
   ]
  },
  {
   "cell_type": "code",
   "execution_count": 13,
   "id": "d708e811",
   "metadata": {},
   "outputs": [],
   "source": [
    "div = lambda x, y: x / y"
   ]
  },
  {
   "cell_type": "code",
   "execution_count": 14,
   "id": "8d8f864c",
   "metadata": {},
   "outputs": [],
   "source": [
    "def calculate(x, y, operation=\"add\"):\n",
    "    \n",
    "    if operation == \"add\":\n",
    "        return add(x, y)\n",
    "    \n",
    "    if operation == \"sub\":\n",
    "        return sub(x, y)\n",
    "    \n",
    "    if operation == \"mul\":\n",
    "        return mul(x, y)\n",
    "    \n",
    "    if operation == \"div\":\n",
    "        return div(x, y)"
   ]
  },
  {
   "cell_type": "code",
   "execution_count": 15,
   "id": "6c922c6e",
   "metadata": {},
   "outputs": [
    {
     "data": {
      "text/plain": [
       "96"
      ]
     },
     "execution_count": 15,
     "metadata": {},
     "output_type": "execute_result"
    }
   ],
   "source": [
    "calculate(100, 4, operation=\"sub\")"
   ]
  },
  {
   "cell_type": "code",
   "execution_count": 16,
   "id": "ce4a2bba",
   "metadata": {},
   "outputs": [
    {
     "data": {
      "text/plain": [
       "104"
      ]
     },
     "execution_count": 16,
     "metadata": {},
     "output_type": "execute_result"
    }
   ],
   "source": [
    "calculate(100, 4)"
   ]
  },
  {
   "cell_type": "code",
   "execution_count": 17,
   "id": "77d89d8d",
   "metadata": {},
   "outputs": [
    {
     "data": {
      "text/plain": [
       "400"
      ]
     },
     "execution_count": 17,
     "metadata": {},
     "output_type": "execute_result"
    }
   ],
   "source": [
    "calculate(100, 4, operation=\"mul\")"
   ]
  },
  {
   "cell_type": "code",
   "execution_count": 18,
   "id": "8f86bbd6",
   "metadata": {},
   "outputs": [],
   "source": [
    "def calculate(*args, operation=\"add\"):\n",
    "    \n",
    "    if operation == \"add\":\n",
    "        return add(*args)\n",
    "    \n",
    "    if operation == \"sub\":\n",
    "        return sub(*args)\n",
    "    \n",
    "    if operation == \"mul\":\n",
    "        return mul(*args)\n",
    "    \n",
    "    if operation == \"div\":\n",
    "        return div(*args)"
   ]
  },
  {
   "cell_type": "code",
   "execution_count": 19,
   "id": "26564aab",
   "metadata": {},
   "outputs": [
    {
     "data": {
      "text/plain": [
       "96"
      ]
     },
     "execution_count": 19,
     "metadata": {},
     "output_type": "execute_result"
    }
   ],
   "source": [
    "calculate(100, 4, operation=\"sub\")"
   ]
  },
  {
   "cell_type": "code",
   "execution_count": 20,
   "id": "f9984d70",
   "metadata": {},
   "outputs": [
    {
     "data": {
      "text/plain": [
       "300"
      ]
     },
     "execution_count": 20,
     "metadata": {},
     "output_type": "execute_result"
    }
   ],
   "source": [
    "calculate(100, 3, operation=\"mul\")"
   ]
  },
  {
   "cell_type": "code",
   "execution_count": 21,
   "id": "0a55fa51",
   "metadata": {},
   "outputs": [
    {
     "data": {
      "text/plain": [
       "103"
      ]
     },
     "execution_count": 21,
     "metadata": {},
     "output_type": "execute_result"
    }
   ],
   "source": [
    "calculate(100, 3)"
   ]
  },
  {
   "cell_type": "code",
   "execution_count": 22,
   "id": "b7310e13",
   "metadata": {},
   "outputs": [],
   "source": [
    "def calculate(*args, operation=add):\n",
    "    \n",
    "    return operation(*args)"
   ]
  },
  {
   "cell_type": "code",
   "execution_count": 23,
   "id": "19b927e4",
   "metadata": {},
   "outputs": [
    {
     "data": {
      "text/plain": [
       "96"
      ]
     },
     "execution_count": 23,
     "metadata": {},
     "output_type": "execute_result"
    }
   ],
   "source": [
    "calculate(100, 4, operation=sub)"
   ]
  },
  {
   "cell_type": "code",
   "execution_count": 24,
   "id": "b4798110",
   "metadata": {},
   "outputs": [
    {
     "data": {
      "text/plain": [
       "25.0"
      ]
     },
     "execution_count": 24,
     "metadata": {},
     "output_type": "execute_result"
    }
   ],
   "source": [
    "calculate(100, 4, operation=div)"
   ]
  },
  {
   "cell_type": "code",
   "execution_count": 25,
   "id": "93ab01d6",
   "metadata": {},
   "outputs": [
    {
     "data": {
      "text/plain": [
       "10000"
      ]
     },
     "execution_count": 25,
     "metadata": {},
     "output_type": "execute_result"
    }
   ],
   "source": [
    "calculate(10, 4, operation=lambda x, y: x ** y)"
   ]
  },
  {
   "cell_type": "code",
   "execution_count": 26,
   "id": "e1a0e566",
   "metadata": {},
   "outputs": [
    {
     "data": {
      "text/plain": [
       "12"
      ]
     },
     "execution_count": 26,
     "metadata": {},
     "output_type": "execute_result"
    }
   ],
   "source": [
    "(lambda x: x + 2)(10)"
   ]
  },
  {
   "cell_type": "code",
   "execution_count": 27,
   "id": "eb715c73",
   "metadata": {},
   "outputs": [
    {
     "data": {
      "text/plain": [
       "220"
      ]
     },
     "execution_count": 27,
     "metadata": {},
     "output_type": "execute_result"
    }
   ],
   "source": [
    "(lambda x: x * 10)(22)"
   ]
  },
  {
   "cell_type": "code",
   "execution_count": 28,
   "id": "98c25018",
   "metadata": {},
   "outputs": [
    {
     "data": {
      "text/plain": [
       "100"
      ]
     },
     "execution_count": 28,
     "metadata": {},
     "output_type": "execute_result"
    }
   ],
   "source": [
    "(lambda x, y: x ** y)(10, 2)"
   ]
  },
  {
   "cell_type": "code",
   "execution_count": 29,
   "id": "2a3e4d07",
   "metadata": {},
   "outputs": [],
   "source": [
    "def check_if_even(x):\n",
    "    \n",
    "    assert x % 2 == 0"
   ]
  },
  {
   "cell_type": "code",
   "execution_count": 30,
   "id": "8877f64e",
   "metadata": {},
   "outputs": [],
   "source": [
    "check_if_even(2)"
   ]
  },
  {
   "cell_type": "code",
   "execution_count": null,
   "id": "a0bd0a0c",
   "metadata": {},
   "outputs": [],
   "source": [
    "# Will throw an error\n",
    "check_if_even(3)"
   ]
  },
  {
   "cell_type": "code",
   "execution_count": null,
   "id": "bc66ab6b",
   "metadata": {},
   "outputs": [],
   "source": [
    "# This is an invalid syntax: lambda's body can only contains expressions\n",
    "even_check_lambda = lambda x : assert x % 2 == 0"
   ]
  },
  {
   "cell_type": "code",
   "execution_count": 33,
   "id": "ec2c7528",
   "metadata": {},
   "outputs": [],
   "source": [
    "total_score = lambda math, physics, chemistry, biology: math + physics + chemistry + biology"
   ]
  },
  {
   "cell_type": "code",
   "execution_count": 34,
   "id": "45ed1710",
   "metadata": {},
   "outputs": [
    {
     "data": {
      "text/plain": [
       "281"
      ]
     },
     "execution_count": 34,
     "metadata": {},
     "output_type": "execute_result"
    }
   ],
   "source": [
    "total_score(44, 56, 89, 92)"
   ]
  },
  {
   "cell_type": "code",
   "execution_count": 35,
   "id": "6888f45c",
   "metadata": {},
   "outputs": [
    {
     "data": {
      "text/plain": [
       "281"
      ]
     },
     "execution_count": 35,
     "metadata": {},
     "output_type": "execute_result"
    }
   ],
   "source": [
    "total_score(math=44, physics=56, chemistry=89, biology=92)"
   ]
  },
  {
   "cell_type": "code",
   "execution_count": 36,
   "id": "7b9f08ee",
   "metadata": {},
   "outputs": [],
   "source": [
    "total_score = lambda math, physics, chemistry, biology=50: math + physics + chemistry + biology"
   ]
  },
  {
   "cell_type": "code",
   "execution_count": 37,
   "id": "cb462cff",
   "metadata": {},
   "outputs": [
    {
     "data": {
      "text/plain": [
       "239"
      ]
     },
     "execution_count": 37,
     "metadata": {},
     "output_type": "execute_result"
    }
   ],
   "source": [
    "total_score(44, 56, 89)"
   ]
  },
  {
   "cell_type": "code",
   "execution_count": 38,
   "id": "cb1bd869",
   "metadata": {},
   "outputs": [
    {
     "data": {
      "text/plain": [
       "21"
      ]
     },
     "execution_count": 38,
     "metadata": {},
     "output_type": "execute_result"
    }
   ],
   "source": [
    "(lambda *numbers: sum(numbers))(3, 5, 6, 7)"
   ]
  },
  {
   "cell_type": "code",
   "execution_count": 39,
   "id": "4ac0f854",
   "metadata": {},
   "outputs": [
    {
     "data": {
      "text/plain": [
       "31"
      ]
     },
     "execution_count": 39,
     "metadata": {},
     "output_type": "execute_result"
    }
   ],
   "source": [
    "(lambda *numbers: sum(numbers))(3, 5, 6, 7, 10)"
   ]
  },
  {
   "cell_type": "code",
   "execution_count": 40,
   "id": "0beea97a",
   "metadata": {},
   "outputs": [
    {
     "data": {
      "text/plain": [
       "102"
      ]
     },
     "execution_count": 40,
     "metadata": {},
     "output_type": "execute_result"
    }
   ],
   "source": [
    "(lambda **num_dictionary: sum(num_dictionary.values()))(a=23, b=34, c=45)"
   ]
  },
  {
   "cell_type": "code",
   "execution_count": 41,
   "id": "ae71a50c",
   "metadata": {},
   "outputs": [
    {
     "data": {
      "text/plain": [
       "57"
      ]
     },
     "execution_count": 41,
     "metadata": {},
     "output_type": "execute_result"
    }
   ],
   "source": [
    "(lambda **num_dictionary: sum(num_dictionary.values()))(a=23, b=34)"
   ]
  },
  {
   "cell_type": "code",
   "execution_count": 42,
   "id": "d6a96431",
   "metadata": {},
   "outputs": [],
   "source": [
    "num_list = [1, 5, 6, 7, 11, 78, 99, 34, 105, 214]"
   ]
  },
  {
   "cell_type": "code",
   "execution_count": 43,
   "id": "8bbc1c98",
   "metadata": {},
   "outputs": [
    {
     "data": {
      "text/plain": [
       "<filter at 0x26caa31a5f0>"
      ]
     },
     "execution_count": 43,
     "metadata": {},
     "output_type": "execute_result"
    }
   ],
   "source": [
    "filter(lambda x: x > 10, num_list)"
   ]
  },
  {
   "cell_type": "code",
   "execution_count": 44,
   "id": "6bcfbc6c",
   "metadata": {},
   "outputs": [
    {
     "data": {
      "text/plain": [
       "[11, 78, 99, 34, 105, 214]"
      ]
     },
     "execution_count": 44,
     "metadata": {},
     "output_type": "execute_result"
    }
   ],
   "source": [
    "greater_than_10_list = list(filter(lambda x: x > 10, num_list))\n",
    "\n",
    "greater_than_10_list"
   ]
  },
  {
   "cell_type": "code",
   "execution_count": 45,
   "id": "b3d25cf8",
   "metadata": {},
   "outputs": [
    {
     "data": {
      "text/plain": [
       "[6, 78, 34, 214]"
      ]
     },
     "execution_count": 45,
     "metadata": {},
     "output_type": "execute_result"
    }
   ],
   "source": [
    "even_list = list(filter(lambda x: x % 2 == 0, num_list))\n",
    "\n",
    "even_list"
   ]
  },
  {
   "cell_type": "code",
   "execution_count": 46,
   "id": "0a2f4090",
   "metadata": {},
   "outputs": [
    {
     "data": {
      "text/plain": [
       "[11, 78, 99, 34]"
      ]
     },
     "execution_count": 46,
     "metadata": {},
     "output_type": "execute_result"
    }
   ],
   "source": [
    "greater_than_10_less_than_100_list = list(filter(lambda x: x > 10 and x < 100, num_list))\n",
    "\n",
    "greater_than_10_less_than_100_list"
   ]
  }
 ],
 "metadata": {
  "kernelspec": {
   "display_name": "Python 3 (ipykernel)",
   "language": "python",
   "name": "python3"
  },
  "language_info": {
   "codemirror_mode": {
    "name": "ipython",
    "version": 3
   },
   "file_extension": ".py",
   "mimetype": "text/x-python",
   "name": "python",
   "nbconvert_exporter": "python",
   "pygments_lexer": "ipython3",
   "version": "3.11.4"
  }
 },
 "nbformat": 4,
 "nbformat_minor": 5
}
