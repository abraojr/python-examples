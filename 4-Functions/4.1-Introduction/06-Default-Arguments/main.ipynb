{
 "cells": [
  {
   "cell_type": "code",
   "execution_count": 1,
   "id": "6f6102ba",
   "metadata": {},
   "outputs": [],
   "source": [
    "def print_student_details(name, school,\n",
    "                          math, physics, chemistry, biology, \n",
    "                          enrolled):\n",
    "    \n",
    "    total = math + physics + chemistry + biology\n",
    "    \n",
    "    print(\"Name: \", name)\n",
    "    print(\"School: \", school, \"Enrolled: \", enrolled)\n",
    "    print(\"Score: \", total)"
   ]
  },
  {
   "cell_type": "code",
   "execution_count": 2,
   "id": "4ebf3fe3",
   "metadata": {},
   "outputs": [
    {
     "name": "stdout",
     "output_type": "stream",
     "text": [
      "Name:  Alice\n",
      "School:  Columbia Enrolled:  True\n",
      "Score:  339\n"
     ]
    }
   ],
   "source": [
    "print_student_details(\"Alice\", \"Columbia\", \n",
    "                      math=100, physics=76, chemistry=64, biology=99, \n",
    "                      enrolled=True)"
   ]
  },
  {
   "cell_type": "code",
   "execution_count": 3,
   "id": "d9cd7760",
   "metadata": {},
   "outputs": [
    {
     "ename": "TypeError",
     "evalue": "print_student_details() missing 1 required positional argument: 'enrolled'",
     "output_type": "error",
     "traceback": [
      "\u001b[1;31m---------------------------------------------------------------------------\u001b[0m",
      "\u001b[1;31mTypeError\u001b[0m                                 Traceback (most recent call last)",
      "Cell \u001b[1;32mIn[3], line 2\u001b[0m\n\u001b[0;32m      1\u001b[0m \u001b[38;5;66;03m# Will throw an error\u001b[39;00m\n\u001b[1;32m----> 2\u001b[0m \u001b[43mprint_student_details\u001b[49m\u001b[43m(\u001b[49m\u001b[38;5;124;43m\"\u001b[39;49m\u001b[38;5;124;43mAlice\u001b[39;49m\u001b[38;5;124;43m\"\u001b[39;49m\u001b[43m,\u001b[49m\u001b[43m \u001b[49m\u001b[38;5;124;43m\"\u001b[39;49m\u001b[38;5;124;43mColumbia\u001b[39;49m\u001b[38;5;124;43m\"\u001b[39;49m\u001b[43m,\u001b[49m\u001b[43m \u001b[49m\n\u001b[0;32m      3\u001b[0m \u001b[43m                      \u001b[49m\u001b[43mmath\u001b[49m\u001b[38;5;241;43m=\u001b[39;49m\u001b[38;5;241;43m100\u001b[39;49m\u001b[43m,\u001b[49m\u001b[43m \u001b[49m\u001b[43mphysics\u001b[49m\u001b[38;5;241;43m=\u001b[39;49m\u001b[38;5;241;43m76\u001b[39;49m\u001b[43m,\u001b[49m\u001b[43m \u001b[49m\u001b[43mchemistry\u001b[49m\u001b[38;5;241;43m=\u001b[39;49m\u001b[38;5;241;43m64\u001b[39;49m\u001b[43m,\u001b[49m\u001b[43m \u001b[49m\u001b[43mbiology\u001b[49m\u001b[38;5;241;43m=\u001b[39;49m\u001b[38;5;241;43m99\u001b[39;49m\u001b[43m)\u001b[49m\n",
      "\u001b[1;31mTypeError\u001b[0m: print_student_details() missing 1 required positional argument: 'enrolled'"
     ]
    }
   ],
   "source": [
    "# Will throw an error\n",
    "print_student_details(\"Alice\", \"Columbia\", \n",
    "                      math=100, physics=76, chemistry=64, biology=99)"
   ]
  },
  {
   "cell_type": "code",
   "execution_count": 4,
   "id": "1e40b19d",
   "metadata": {},
   "outputs": [],
   "source": [
    "def print_student_details(name, school,\n",
    "                          math, physics, chemistry, biology, \n",
    "                          enrolled=False):\n",
    "    \n",
    "    total = math + physics + chemistry + biology\n",
    "    \n",
    "    print(\"Name: \", name)\n",
    "    print(\"School: \", school, \"Enrolled: \", enrolled)\n",
    "    print(\"Score: \", total)"
   ]
  },
  {
   "cell_type": "code",
   "execution_count": 5,
   "id": "d6da1f72",
   "metadata": {},
   "outputs": [
    {
     "name": "stdout",
     "output_type": "stream",
     "text": [
      "Name:  Alice\n",
      "School:  Columbia Enrolled:  True\n",
      "Score:  339\n"
     ]
    }
   ],
   "source": [
    "print_student_details(\"Alice\", \"Columbia\", \n",
    "                      math=100, physics=76, chemistry=64, biology=99, \n",
    "                      enrolled=True)"
   ]
  },
  {
   "cell_type": "code",
   "execution_count": 6,
   "id": "aa3efa0d",
   "metadata": {},
   "outputs": [
    {
     "name": "stdout",
     "output_type": "stream",
     "text": [
      "Name:  Alice\n",
      "School:  Columbia Enrolled:  False\n",
      "Score:  339\n"
     ]
    }
   ],
   "source": [
    "print_student_details(\"Alice\", \"Columbia\", \n",
    "                      math=100, physics=76, chemistry=64, biology=99, \n",
    "                      enrolled=False)"
   ]
  },
  {
   "cell_type": "code",
   "execution_count": 7,
   "id": "632637c6",
   "metadata": {},
   "outputs": [
    {
     "name": "stdout",
     "output_type": "stream",
     "text": [
      "Name:  Alice\n",
      "School:  Columbia Enrolled:  False\n",
      "Score:  339\n"
     ]
    }
   ],
   "source": [
    "print_student_details(\"Alice\", \"Columbia\", \n",
    "                      math=100, physics=76, chemistry=64, biology=99)"
   ]
  },
  {
   "cell_type": "code",
   "execution_count": 8,
   "id": "bdc5ba4a",
   "metadata": {},
   "outputs": [],
   "source": [
    "def print_student_details(name, school,\n",
    "                          math, physics, chemistry, biology=50, \n",
    "                          enrolled=False):\n",
    "    \n",
    "    total = math + physics + chemistry + biology\n",
    "    \n",
    "    print(\"Name: \", name)\n",
    "    print(\"School: \", school, \"Enrolled: \", enrolled)\n",
    "    print(\"Biology: \", biology)\n",
    "    print(\"Score: \", total)"
   ]
  },
  {
   "cell_type": "code",
   "execution_count": 9,
   "id": "5e39f985",
   "metadata": {},
   "outputs": [
    {
     "name": "stdout",
     "output_type": "stream",
     "text": [
      "Name:  Alice\n",
      "School:  Columbia Enrolled:  False\n",
      "Biology:  99\n",
      "Score:  339\n"
     ]
    }
   ],
   "source": [
    "print_student_details(\"Alice\", \"Columbia\", \n",
    "                      math=100, physics=76, chemistry=64, biology=99)"
   ]
  },
  {
   "cell_type": "code",
   "execution_count": 10,
   "id": "21435aff",
   "metadata": {},
   "outputs": [
    {
     "name": "stdout",
     "output_type": "stream",
     "text": [
      "Name:  Alice\n",
      "School:  Columbia Enrolled:  False\n",
      "Biology:  50\n",
      "Score:  290\n"
     ]
    }
   ],
   "source": [
    "print_student_details(\"Alice\", \"Columbia\", \n",
    "                      math=100, physics=76, chemistry=64)"
   ]
  },
  {
   "cell_type": "code",
   "execution_count": 11,
   "id": "0e91724e",
   "metadata": {},
   "outputs": [],
   "source": [
    "def print_student_details(name, school,\n",
    "                          math, physics, chemistry=50, biology=50, \n",
    "                          enrolled=False):\n",
    "    \n",
    "    total = math + physics + chemistry + biology\n",
    "    \n",
    "    print(\"Name: \", name)\n",
    "    print(\"School: \", school, \"Enrolled: \", enrolled)\n",
    "    print(\"Chemistry: \", chemistry)\n",
    "    print(\"Biology: \", biology)\n",
    "    print(\"Score: \", total)"
   ]
  },
  {
   "cell_type": "code",
   "execution_count": 12,
   "id": "7d50baae",
   "metadata": {},
   "outputs": [
    {
     "name": "stdout",
     "output_type": "stream",
     "text": [
      "Name:  Alice\n",
      "School:  Columbia Enrolled:  False\n",
      "Chemistry:  64\n",
      "Biology:  50\n",
      "Score:  290\n"
     ]
    }
   ],
   "source": [
    "print_student_details(\"Alice\", \"Columbia\", \n",
    "                      math=100, physics=76, chemistry=64)"
   ]
  },
  {
   "cell_type": "code",
   "execution_count": 13,
   "id": "d04e4070",
   "metadata": {},
   "outputs": [
    {
     "name": "stdout",
     "output_type": "stream",
     "text": [
      "Name:  Alice\n",
      "School:  Columbia Enrolled:  False\n",
      "Chemistry:  50\n",
      "Biology:  50\n",
      "Score:  276\n"
     ]
    }
   ],
   "source": [
    "print_student_details(\"Alice\", \"Columbia\", math=100, physics=76)"
   ]
  },
  {
   "cell_type": "code",
   "execution_count": 14,
   "id": "5ca6199e",
   "metadata": {},
   "outputs": [
    {
     "ename": "SyntaxError",
     "evalue": "non-default argument follows default argument (3041760753.py, line 3)",
     "output_type": "error",
     "traceback": [
      "\u001b[1;36m  Cell \u001b[1;32mIn[14], line 3\u001b[1;36m\u001b[0m\n\u001b[1;33m    math=50, physics, chemistry=50, biology=50,\u001b[0m\n\u001b[1;37m             ^\u001b[0m\n\u001b[1;31mSyntaxError\u001b[0m\u001b[1;31m:\u001b[0m non-default argument follows default argument\n"
     ]
    }
   ],
   "source": [
    "# Will throw an error\n",
    "def print_student_details(name, school,\n",
    "                          math=50, physics, chemistry=50, biology=50, \n",
    "                          enrolled=False):\n",
    "    \n",
    "    total = math + physics + chemistry + biology\n",
    "    \n",
    "    print(\"Name: \", name)\n",
    "    print(\"School: \", school, \"Enrolled: \", enrolled)\n",
    "    print(\"Chemistry: \", chemistry)\n",
    "    print(\"Biology: \", biology)\n",
    "    print(\"Score: \", total)"
   ]
  },
  {
   "cell_type": "code",
   "execution_count": 15,
   "id": "2f51dc2f",
   "metadata": {},
   "outputs": [
    {
     "ename": "SyntaxError",
     "evalue": "non-default argument follows default argument (4055061167.py, line 3)",
     "output_type": "error",
     "traceback": [
      "\u001b[1;36m  Cell \u001b[1;32mIn[15], line 3\u001b[1;36m\u001b[0m\n\u001b[1;33m    math, physics, chemistry=50, biology=50,\u001b[0m\n\u001b[1;37m    ^\u001b[0m\n\u001b[1;31mSyntaxError\u001b[0m\u001b[1;31m:\u001b[0m non-default argument follows default argument\n"
     ]
    }
   ],
   "source": [
    "# Will throw an error\n",
    "def print_student_details(name, school=\"Harvard\",\n",
    "                          math, physics, chemistry=50, biology=50, \n",
    "                          enrolled=False):\n",
    "    \n",
    "    total = math + physics + chemistry + biology\n",
    "    \n",
    "    print(\"Name: \", name)\n",
    "    print(\"School: \", school, \"Enrolled: \", enrolled)\n",
    "    print(\"Chemistry: \", chemistry)\n",
    "    print(\"Biology: \", biology)\n",
    "    print(\"Score: \", total)"
   ]
  },
  {
   "cell_type": "code",
   "execution_count": 16,
   "id": "964cb613",
   "metadata": {},
   "outputs": [
    {
     "ename": "SyntaxError",
     "evalue": "non-default argument follows default argument (371926713.py, line 2)",
     "output_type": "error",
     "traceback": [
      "\u001b[1;36m  Cell \u001b[1;32mIn[16], line 2\u001b[1;36m\u001b[0m\n\u001b[1;33m    def print_student_details(name=\"Mark\", school,\u001b[0m\n\u001b[1;37m                                           ^\u001b[0m\n\u001b[1;31mSyntaxError\u001b[0m\u001b[1;31m:\u001b[0m non-default argument follows default argument\n"
     ]
    }
   ],
   "source": [
    "# Will throw an error\n",
    "def print_student_details(name=\"Mark\", school,\n",
    "                          math, physics, chemistry=50, biology=50, \n",
    "                          enrolled=False):\n",
    "    \n",
    "    total = math + physics + chemistry + biology\n",
    "    \n",
    "    print(\"Name: \", name)\n",
    "    print(\"School: \", school, \"Enrolled: \", enrolled)\n",
    "    print(\"Chemistry: \", chemistry)\n",
    "    print(\"Biology: \", biology)\n",
    "    print(\"Score: \", total)"
   ]
  },
  {
   "cell_type": "code",
   "execution_count": 17,
   "id": "58f81d03",
   "metadata": {},
   "outputs": [],
   "source": [
    "def print_student_details(name=\"Mark\", school=\"Harvard\",\n",
    "                          math=50, physics=50, chemistry=50, biology=50, \n",
    "                          enrolled=False):\n",
    "    \n",
    "    total = math + physics + chemistry + biology\n",
    "    \n",
    "    print(\"Name: \", name)\n",
    "    print(\"School: \", school, \"Enrolled: \", enrolled)\n",
    "    print(\"Math: \", math)\n",
    "    print(\"Physics: \", physics)\n",
    "    print(\"Chemistry: \", chemistry)\n",
    "    print(\"Biology: \", biology)\n",
    "    print(\"Score: \", total)"
   ]
  },
  {
   "cell_type": "code",
   "execution_count": 18,
   "id": "6166b50f",
   "metadata": {},
   "outputs": [
    {
     "name": "stdout",
     "output_type": "stream",
     "text": [
      "Name:  Mark\n",
      "School:  Harvard Enrolled:  False\n",
      "Math:  50\n",
      "Physics:  50\n",
      "Chemistry:  50\n",
      "Biology:  50\n",
      "Score:  200\n"
     ]
    }
   ],
   "source": [
    "print_student_details()"
   ]
  },
  {
   "cell_type": "code",
   "execution_count": 19,
   "id": "5ce9cd47",
   "metadata": {},
   "outputs": [
    {
     "name": "stdout",
     "output_type": "stream",
     "text": [
      "Name:  Alice\n",
      "School:  Harvard Enrolled:  False\n",
      "Math:  50\n",
      "Physics:  50\n",
      "Chemistry:  50\n",
      "Biology:  50\n",
      "Score:  200\n"
     ]
    }
   ],
   "source": [
    "print_student_details(\"Alice\")"
   ]
  },
  {
   "cell_type": "code",
   "execution_count": 20,
   "id": "3ac28d26",
   "metadata": {},
   "outputs": [
    {
     "name": "stdout",
     "output_type": "stream",
     "text": [
      "Name:  Alice\n",
      "School:  Columbia Enrolled:  False\n",
      "Math:  50\n",
      "Physics:  50\n",
      "Chemistry:  50\n",
      "Biology:  50\n",
      "Score:  200\n"
     ]
    }
   ],
   "source": [
    "print_student_details(\"Alice\", \"Columbia\")"
   ]
  },
  {
   "cell_type": "code",
   "execution_count": 21,
   "id": "7e244535",
   "metadata": {},
   "outputs": [
    {
     "name": "stdout",
     "output_type": "stream",
     "text": [
      "Name:  Alice\n",
      "School:  Columbia Enrolled:  True\n",
      "Math:  99\n",
      "Physics:  50\n",
      "Chemistry:  50\n",
      "Biology:  66\n",
      "Score:  265\n"
     ]
    }
   ],
   "source": [
    "print_student_details(\"Alice\", \"Columbia\", 99, biology=66, enrolled=True)"
   ]
  }
 ],
 "metadata": {
  "kernelspec": {
   "display_name": "Python 3 (ipykernel)",
   "language": "python",
   "name": "python3"
  },
  "language_info": {
   "codemirror_mode": {
    "name": "ipython",
    "version": 3
   },
   "file_extension": ".py",
   "mimetype": "text/x-python",
   "name": "python",
   "nbconvert_exporter": "python",
   "pygments_lexer": "ipython3",
   "version": "3.11.4"
  }
 },
 "nbformat": 4,
 "nbformat_minor": 5
}
