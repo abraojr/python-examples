{
 "cells": [
  {
   "cell_type": "code",
   "execution_count": 1,
   "id": "568f6f7c",
   "metadata": {},
   "outputs": [],
   "source": [
    "def my_introduction():\n",
    "    print(\"Hello, my name is Harry\")\n",
    "    print(\"I live and work in Dallas\")"
   ]
  },
  {
   "cell_type": "code",
   "execution_count": 2,
   "id": "61e3ea78",
   "metadata": {},
   "outputs": [
    {
     "name": "stdout",
     "output_type": "stream",
     "text": [
      "Hello, my name is Harry\n",
      "I live and work in Dallas\n"
     ]
    }
   ],
   "source": [
    "my_introduction()"
   ]
  },
  {
   "cell_type": "code",
   "execution_count": 3,
   "id": "4ee16568",
   "metadata": {},
   "outputs": [],
   "source": [
    "def introduction(name):\n",
    "    print(\"Hello, my name is\", name)\n",
    "    print(\"I live and work in Dallas\")"
   ]
  },
  {
   "cell_type": "code",
   "execution_count": 4,
   "id": "bd2afa26",
   "metadata": {},
   "outputs": [
    {
     "name": "stdout",
     "output_type": "stream",
     "text": [
      "Hello, my name is Lily\n",
      "I live and work in Dallas\n"
     ]
    }
   ],
   "source": [
    "introduction(\"Lily\")"
   ]
  },
  {
   "cell_type": "code",
   "execution_count": 5,
   "id": "36267900",
   "metadata": {},
   "outputs": [
    {
     "name": "stdout",
     "output_type": "stream",
     "text": [
      "Hello, my name is Henry\n",
      "I live and work in Dallas\n"
     ]
    }
   ],
   "source": [
    "introduction(\"Henry\")"
   ]
  },
  {
   "cell_type": "code",
   "execution_count": 6,
   "id": "c003771e",
   "metadata": {},
   "outputs": [],
   "source": [
    "def general_introduction(name, city):\n",
    "    print(\"Hello, my name is\", name)\n",
    "    print(\"I live and work in\", city)"
   ]
  },
  {
   "cell_type": "code",
   "execution_count": 7,
   "id": "ff41b932",
   "metadata": {},
   "outputs": [
    {
     "name": "stdout",
     "output_type": "stream",
     "text": [
      "Hello, my name is Lily\n",
      "I live and work in San Francisco\n"
     ]
    }
   ],
   "source": [
    "general_introduction(\"Lily\", \"San Francisco\")"
   ]
  },
  {
   "cell_type": "code",
   "execution_count": 8,
   "id": "e3e68223",
   "metadata": {},
   "outputs": [
    {
     "name": "stdout",
     "output_type": "stream",
     "text": [
      "Hello, my name is John\n",
      "I live and work in Dublin\n"
     ]
    }
   ],
   "source": [
    "general_introduction(\"John\", \"Dublin\")"
   ]
  },
  {
   "cell_type": "code",
   "execution_count": 9,
   "id": "e9dad6aa",
   "metadata": {},
   "outputs": [
    {
     "name": "stdout",
     "output_type": "stream",
     "text": [
      "Hello, my name is Dublin\n",
      "I live and work in John\n"
     ]
    }
   ],
   "source": [
    "general_introduction(\"Dublin\", \"John\")"
   ]
  },
  {
   "cell_type": "code",
   "execution_count": null,
   "id": "3fe4eeb8",
   "metadata": {},
   "outputs": [],
   "source": [
    "# This will throw an error\n",
    "my_introduction(\"Lily\")"
   ]
  },
  {
   "cell_type": "code",
   "execution_count": null,
   "id": "ba9ff3e1",
   "metadata": {},
   "outputs": [],
   "source": [
    "# This will throw an error\n",
    "general_introduction(\"Lily\")"
   ]
  },
  {
   "cell_type": "code",
   "execution_count": 12,
   "id": "84d8bac9",
   "metadata": {},
   "outputs": [],
   "source": [
    "def square(x):\n",
    "    print(\"The square of\", x, \"is\", x * x)"
   ]
  },
  {
   "cell_type": "code",
   "execution_count": 13,
   "id": "d433e667",
   "metadata": {},
   "outputs": [
    {
     "name": "stdout",
     "output_type": "stream",
     "text": [
      "The square of 3 is 9\n"
     ]
    }
   ],
   "source": [
    "square(3)"
   ]
  },
  {
   "cell_type": "code",
   "execution_count": 14,
   "id": "b3c9ca77",
   "metadata": {},
   "outputs": [
    {
     "name": "stdout",
     "output_type": "stream",
     "text": [
      "The square of 10001 is 100020001\n"
     ]
    }
   ],
   "source": [
    "square(10001)"
   ]
  },
  {
   "cell_type": "code",
   "execution_count": null,
   "id": "a5805728",
   "metadata": {},
   "outputs": [],
   "source": [
    "# This will throw an error\n",
    "square(\"James\")"
   ]
  },
  {
   "cell_type": "code",
   "execution_count": 16,
   "id": "5b140b66",
   "metadata": {},
   "outputs": [
    {
     "name": "stdout",
     "output_type": "stream",
     "text": [
      "The square of 25 is 625\n"
     ]
    }
   ],
   "source": [
    "num = 25\n",
    "\n",
    "square(num)"
   ]
  },
  {
   "cell_type": "code",
   "execution_count": 17,
   "id": "ef09954b",
   "metadata": {},
   "outputs": [
    {
     "name": "stdout",
     "output_type": "stream",
     "text": [
      "The square of 25 is 625\n",
      "The square of 100 is 10000\n"
     ]
    }
   ],
   "source": [
    "another_num = 100\n",
    "\n",
    "square(num)\n",
    "square(another_num)"
   ]
  },
  {
   "cell_type": "code",
   "execution_count": 18,
   "id": "d2c120fe",
   "metadata": {},
   "outputs": [],
   "source": [
    "salary = 1000\n",
    "expense = 300\n",
    "\n",
    "def my_savings(a, b):\n",
    "    print(\"My total savings:\", salary - expense)"
   ]
  },
  {
   "cell_type": "code",
   "execution_count": 19,
   "id": "6fd9fa82",
   "metadata": {},
   "outputs": [
    {
     "name": "stdout",
     "output_type": "stream",
     "text": [
      "My total savings: 700\n"
     ]
    }
   ],
   "source": [
    "my_savings(1000, 300)"
   ]
  },
  {
   "cell_type": "code",
   "execution_count": 20,
   "id": "2762f3a3",
   "metadata": {},
   "outputs": [
    {
     "name": "stdout",
     "output_type": "stream",
     "text": [
      "My total savings: 700\n"
     ]
    }
   ],
   "source": [
    "my_savings(1200, 400)"
   ]
  },
  {
   "cell_type": "code",
   "execution_count": 21,
   "id": "5e807db6",
   "metadata": {},
   "outputs": [],
   "source": [
    "def my_actual_savings(a, b):\n",
    "    print(\"My actual savings:\", a - b)"
   ]
  },
  {
   "cell_type": "code",
   "execution_count": 22,
   "id": "c76f0971",
   "metadata": {},
   "outputs": [
    {
     "name": "stdout",
     "output_type": "stream",
     "text": [
      "My actual savings: 800\n"
     ]
    }
   ],
   "source": [
    "my_actual_savings(1200, 400)"
   ]
  },
  {
   "cell_type": "code",
   "execution_count": 23,
   "id": "745f0ef7",
   "metadata": {},
   "outputs": [],
   "source": [
    "salary = 2000\n",
    "expense = 700\n",
    "\n",
    "def calculate_savings(salary, expense):\n",
    "    print(\"My savings are:\", salary - expense)"
   ]
  },
  {
   "cell_type": "code",
   "execution_count": null,
   "id": "6690f661",
   "metadata": {},
   "outputs": [],
   "source": [
    "# This will throw an error\n",
    "calculate_savings()"
   ]
  },
  {
   "cell_type": "code",
   "execution_count": 25,
   "id": "fd732925",
   "metadata": {},
   "outputs": [
    {
     "name": "stdout",
     "output_type": "stream",
     "text": [
      "My savings are: 1300\n"
     ]
    }
   ],
   "source": [
    "calculate_savings(salary, expense)"
   ]
  },
  {
   "cell_type": "code",
   "execution_count": 26,
   "id": "23c960db",
   "metadata": {},
   "outputs": [
    {
     "name": "stdout",
     "output_type": "stream",
     "text": [
      "My savings are: 2000\n"
     ]
    }
   ],
   "source": [
    "calculate_savings(3000, 1000)"
   ]
  },
  {
   "cell_type": "code",
   "execution_count": 27,
   "id": "186e481b",
   "metadata": {},
   "outputs": [
    {
     "name": "stdout",
     "output_type": "stream",
     "text": [
      "My savings are: 1500\n"
     ]
    }
   ],
   "source": [
    "total_salary = 4000\n",
    "total_expense = 2500\n",
    "\n",
    "calculate_savings(total_salary, total_expense)"
   ]
  },
  {
   "cell_type": "code",
   "execution_count": 28,
   "id": "77e4806f",
   "metadata": {},
   "outputs": [],
   "source": [
    "def print_many_times(string, times):\n",
    "    for i in range(times):\n",
    "        print(string)"
   ]
  },
  {
   "cell_type": "code",
   "execution_count": 29,
   "id": "83a6b945",
   "metadata": {},
   "outputs": [
    {
     "name": "stdout",
     "output_type": "stream",
     "text": [
      "Skillsoft\n",
      "Skillsoft\n",
      "Skillsoft\n",
      "Skillsoft\n",
      "Skillsoft\n"
     ]
    }
   ],
   "source": [
    "print_many_times(\"Skillsoft\", 5)"
   ]
  },
  {
   "cell_type": "code",
   "execution_count": null,
   "id": "b90d5bde",
   "metadata": {},
   "outputs": [],
   "source": [
    "# This will throw an error\n",
    "print_many_times(5, \"Skillsoft\")"
   ]
  },
  {
   "cell_type": "code",
   "execution_count": 31,
   "id": "8e0a82bb",
   "metadata": {},
   "outputs": [],
   "source": [
    "def print_many_times_with_doc(string, times):\n",
    "    \n",
    "    \"\"\"\n",
    "        Prints the specified string the specified number of times\n",
    "        \n",
    "        The first argument is the string you want printed, the second\n",
    "        argument is the number of times you want the string printed\n",
    "        \n",
    "        Parameters (both required):\n",
    "        string(str): The string to be printed\n",
    "        times(int): The number of times the string should be printed\n",
    "        \n",
    "        Returns:\n",
    "        No return value\n",
    "    \n",
    "    \"\"\"\n",
    "    \n",
    "    for i in range(times):\n",
    "        print(string)"
   ]
  },
  {
   "cell_type": "code",
   "execution_count": 32,
   "id": "2d35ef0a",
   "metadata": {},
   "outputs": [
    {
     "data": {
      "text/plain": [
       "'\\n        Prints the specified string the specified number of times\\n        \\n        The first argument is the string you want printed, the second\\n        argument is the number of times you want the string printed\\n        \\n        Parameters (both required):\\n        string(str): The string to be printed\\n        times(int): The number of times the string should be printed\\n        \\n        Returns:\\n        No return value\\n    \\n    '"
      ]
     },
     "execution_count": 32,
     "metadata": {},
     "output_type": "execute_result"
    }
   ],
   "source": [
    "print_many_times_with_doc.__doc__"
   ]
  },
  {
   "cell_type": "code",
   "execution_count": 33,
   "id": "e7cf42fe",
   "metadata": {},
   "outputs": [
    {
     "name": "stdout",
     "output_type": "stream",
     "text": [
      "\n",
      "        Prints the specified string the specified number of times\n",
      "        \n",
      "        The first argument is the string you want printed, the second\n",
      "        argument is the number of times you want the string printed\n",
      "        \n",
      "        Parameters (both required):\n",
      "        string(str): The string to be printed\n",
      "        times(int): The number of times the string should be printed\n",
      "        \n",
      "        Returns:\n",
      "        No return value\n",
      "    \n",
      "    \n"
     ]
    }
   ],
   "source": [
    "print(print_many_times_with_doc.__doc__)"
   ]
  },
  {
   "cell_type": "code",
   "execution_count": 34,
   "id": "addfaf00",
   "metadata": {},
   "outputs": [],
   "source": [
    "def print_higher_number(a, b):\n",
    "    \n",
    "    if a > b:\n",
    "        print(\"Higher number is\", a)\n",
    "    else:\n",
    "        print(\"Higher number is\", b)"
   ]
  },
  {
   "cell_type": "code",
   "execution_count": 35,
   "id": "8bbc9e5d",
   "metadata": {},
   "outputs": [
    {
     "name": "stdout",
     "output_type": "stream",
     "text": [
      "Higher number is 10\n"
     ]
    }
   ],
   "source": [
    "print_higher_number(10, 5)"
   ]
  },
  {
   "cell_type": "code",
   "execution_count": 36,
   "id": "6bc38fe1",
   "metadata": {},
   "outputs": [
    {
     "name": "stdout",
     "output_type": "stream",
     "text": [
      "Higher number is 20\n"
     ]
    }
   ],
   "source": [
    "print_higher_number(10, 20)"
   ]
  },
  {
   "cell_type": "code",
   "execution_count": 37,
   "id": "f9982725",
   "metadata": {},
   "outputs": [],
   "source": [
    "def multiply(num_1, num_2, num_3):\n",
    "    print(\"Multiplication result: \", num_1 * num_2 * num_3)"
   ]
  },
  {
   "cell_type": "code",
   "execution_count": 38,
   "id": "71493efa",
   "metadata": {},
   "outputs": [
    {
     "name": "stdout",
     "output_type": "stream",
     "text": [
      "Multiplication result:  9.2\n"
     ]
    }
   ],
   "source": [
    "multiply(1, 2.3, 4)"
   ]
  },
  {
   "cell_type": "code",
   "execution_count": null,
   "id": "ac1f4067",
   "metadata": {},
   "outputs": [],
   "source": [
    "# This will throw an error\n",
    "multiply(1, 2.3, 4, 10)"
   ]
  },
  {
   "cell_type": "code",
   "execution_count": 40,
   "id": "3291f1bf",
   "metadata": {},
   "outputs": [],
   "source": [
    "def length(some_list):\n",
    "    \n",
    "    count = 0\n",
    "    for element in some_list:\n",
    "        count += 1\n",
    "        \n",
    "    print(\"The length of the list is\", count)"
   ]
  },
  {
   "cell_type": "code",
   "execution_count": 41,
   "id": "7f27aae6",
   "metadata": {},
   "outputs": [
    {
     "name": "stdout",
     "output_type": "stream",
     "text": [
      "The length of the list is 7\n"
     ]
    }
   ],
   "source": [
    "num_list = [4, 6, 12, 7, 2, 9, 23]\n",
    "\n",
    "length(num_list)"
   ]
  },
  {
   "cell_type": "code",
   "execution_count": 42,
   "id": "b290ce84",
   "metadata": {},
   "outputs": [
    {
     "name": "stdout",
     "output_type": "stream",
     "text": [
      "The length of the list is 4\n"
     ]
    }
   ],
   "source": [
    "cars_list = [\"Toyota\", \"Honda\", \"Hyundai\", \"Ford\"]\n",
    "\n",
    "length(cars_list)"
   ]
  },
  {
   "cell_type": "code",
   "execution_count": 43,
   "id": "a3f70d15",
   "metadata": {},
   "outputs": [
    {
     "name": "stdout",
     "output_type": "stream",
     "text": [
      "The length of the list is 3\n"
     ]
    }
   ],
   "source": [
    "length([4.5, 7.8, 3.3])"
   ]
  },
  {
   "cell_type": "code",
   "execution_count": 44,
   "id": "2745b694",
   "metadata": {},
   "outputs": [
    {
     "data": {
      "text/plain": [
       "4"
      ]
     },
     "execution_count": 44,
     "metadata": {},
     "output_type": "execute_result"
    }
   ],
   "source": [
    "num_cars = len(cars_list)\n",
    "\n",
    "num_cars"
   ]
  },
  {
   "cell_type": "code",
   "execution_count": 45,
   "id": "2f96121a",
   "metadata": {},
   "outputs": [
    {
     "name": "stdout",
     "output_type": "stream",
     "text": [
      "The length of the list is 4\n"
     ]
    }
   ],
   "source": [
    "num_cars = length(cars_list)"
   ]
  },
  {
   "cell_type": "code",
   "execution_count": 46,
   "id": "8c027d03",
   "metadata": {},
   "outputs": [],
   "source": [
    "num_cars"
   ]
  },
  {
   "cell_type": "code",
   "execution_count": 47,
   "id": "bc835e3a",
   "metadata": {},
   "outputs": [
    {
     "name": "stdout",
     "output_type": "stream",
     "text": [
      "None\n"
     ]
    }
   ],
   "source": [
    "print(num_cars)"
   ]
  }
 ],
 "metadata": {
  "kernelspec": {
   "display_name": "Python 3 (ipykernel)",
   "language": "python",
   "name": "python3"
  },
  "language_info": {
   "codemirror_mode": {
    "name": "ipython",
    "version": 3
   },
   "file_extension": ".py",
   "mimetype": "text/x-python",
   "name": "python",
   "nbconvert_exporter": "python",
   "pygments_lexer": "ipython3",
   "version": "3.11.4"
  }
 },
 "nbformat": 4,
 "nbformat_minor": 5
}
