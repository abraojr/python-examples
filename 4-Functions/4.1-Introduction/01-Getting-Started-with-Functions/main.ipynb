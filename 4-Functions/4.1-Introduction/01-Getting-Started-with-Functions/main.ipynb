{
 "cells": [
  {
   "cell_type": "code",
   "execution_count": 1,
   "id": "ebb2bbe6",
   "metadata": {},
   "outputs": [
    {
     "name": "stdout",
     "output_type": "stream",
     "text": [
      "My name is John\n",
      "I live in Boston\n",
      "I am a data analyst and I love what I do!\n"
     ]
    }
   ],
   "source": [
    "print(\"My name is John\")\n",
    "print(\"I live in Boston\")\n",
    "print(\"I am a data analyst and I love what I do!\")"
   ]
  },
  {
   "cell_type": "code",
   "execution_count": 2,
   "id": "9921bbc5",
   "metadata": {},
   "outputs": [],
   "source": [
    "def my_introduction():\n",
    "    print(\"My name is John\")\n",
    "    print(\"I live in Boston\")\n",
    "    print(\"I am a data analyst and I love what I do!\")"
   ]
  },
  {
   "cell_type": "code",
   "execution_count": 3,
   "id": "0a4f497f",
   "metadata": {},
   "outputs": [
    {
     "name": "stdout",
     "output_type": "stream",
     "text": [
      "My name is John\n",
      "I live in Boston\n",
      "I am a data analyst and I love what I do!\n"
     ]
    }
   ],
   "source": [
    "my_introduction()"
   ]
  },
  {
   "cell_type": "code",
   "execution_count": 4,
   "id": "45d064c1",
   "metadata": {},
   "outputs": [
    {
     "name": "stdout",
     "output_type": "stream",
     "text": [
      "This is outside the function\n"
     ]
    }
   ],
   "source": [
    "def hello_world():\n",
    "    print(\"Welcome to Python!\")\n",
    "    \n",
    "print(\"This is outside the function\")"
   ]
  },
  {
   "cell_type": "code",
   "execution_count": 5,
   "id": "2cca2efe",
   "metadata": {},
   "outputs": [
    {
     "name": "stdout",
     "output_type": "stream",
     "text": [
      "Welcome to Python!\n"
     ]
    }
   ],
   "source": [
    "hello_world()"
   ]
  },
  {
   "cell_type": "code",
   "execution_count": 6,
   "id": "43c5225a",
   "metadata": {},
   "outputs": [],
   "source": [
    "def will_work_function():\n",
    "    print(\"This indentation is alright!\")\n",
    "    \n",
    "    if 10 > 5:\n",
    "        print(\"Well 10 is greater than 5\")"
   ]
  },
  {
   "cell_type": "code",
   "execution_count": 7,
   "id": "1c6d6395",
   "metadata": {},
   "outputs": [
    {
     "name": "stdout",
     "output_type": "stream",
     "text": [
      "This indentation is alright!\n",
      "Well 10 is greater than 5\n"
     ]
    }
   ],
   "source": [
    "will_work_function()"
   ]
  },
  {
   "cell_type": "code",
   "execution_count": 8,
   "id": "b0e59f55",
   "metadata": {},
   "outputs": [],
   "source": [
    "def more_complicated_function():\n",
    "    for i in range(10):\n",
    "        print(\"i is now: \", i)"
   ]
  },
  {
   "cell_type": "code",
   "execution_count": 9,
   "id": "a8ea7ae7",
   "metadata": {},
   "outputs": [
    {
     "name": "stdout",
     "output_type": "stream",
     "text": [
      "i is now:  0\n",
      "i is now:  1\n",
      "i is now:  2\n",
      "i is now:  3\n",
      "i is now:  4\n",
      "i is now:  5\n",
      "i is now:  6\n",
      "i is now:  7\n",
      "i is now:  8\n",
      "i is now:  9\n"
     ]
    }
   ],
   "source": [
    "more_complicated_function()"
   ]
  },
  {
   "cell_type": "code",
   "execution_count": 10,
   "id": "eb36a2ed",
   "metadata": {},
   "outputs": [
    {
     "name": "stdout",
     "output_type": "stream",
     "text": [
      "This works!\n"
     ]
    }
   ],
   "source": [
    "def _Functions_Can_Be_NamedLikeThis_123():\n",
    "    print(\"This works!\")\n",
    "    \n",
    "_Functions_Can_Be_NamedLikeThis_123()"
   ]
  },
  {
   "cell_type": "code",
   "execution_count": null,
   "id": "602e79cc",
   "metadata": {},
   "outputs": [],
   "source": [
    "# This will throw an error\n",
    "def 123this_does_not_work():\n",
    "    print(\"This does not work\")"
   ]
  }
 ],
 "metadata": {
  "kernelspec": {
   "display_name": "Python 3 (ipykernel)",
   "language": "python",
   "name": "python3"
  },
  "language_info": {
   "codemirror_mode": {
    "name": "ipython",
    "version": 3
   },
   "file_extension": ".py",
   "mimetype": "text/x-python",
   "name": "python",
   "nbconvert_exporter": "python",
   "pygments_lexer": "ipython3",
   "version": "3.11.4"
  }
 },
 "nbformat": 4,
 "nbformat_minor": 5
}
