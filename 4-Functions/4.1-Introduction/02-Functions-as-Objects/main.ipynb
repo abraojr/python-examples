{
 "cells": [
  {
   "cell_type": "code",
   "execution_count": 1,
   "id": "50a59393",
   "metadata": {},
   "outputs": [],
   "source": [
    "def documented_function():\n",
    "    \"\"\" This function does something that is well documented \"\"\"\n",
    "    print(\"Hello\")"
   ]
  },
  {
   "cell_type": "code",
   "execution_count": 2,
   "id": "dbfb69cb",
   "metadata": {},
   "outputs": [
    {
     "data": {
      "text/plain": [
       "<function __main__.documented_function()>"
      ]
     },
     "execution_count": 2,
     "metadata": {},
     "output_type": "execute_result"
    }
   ],
   "source": [
    "documented_function"
   ]
  },
  {
   "cell_type": "code",
   "execution_count": 3,
   "id": "2cc46fa6",
   "metadata": {},
   "outputs": [
    {
     "data": {
      "text/plain": [
       "' This function does something that is well documented '"
      ]
     },
     "execution_count": 3,
     "metadata": {},
     "output_type": "execute_result"
    }
   ],
   "source": [
    "documented_function.__doc__"
   ]
  },
  {
   "cell_type": "code",
   "execution_count": 4,
   "id": "646800a4",
   "metadata": {},
   "outputs": [],
   "source": [
    "another_function = documented_function"
   ]
  },
  {
   "cell_type": "code",
   "execution_count": 5,
   "id": "b2ef007c",
   "metadata": {},
   "outputs": [
    {
     "data": {
      "text/plain": [
       "<function __main__.documented_function()>"
      ]
     },
     "execution_count": 5,
     "metadata": {},
     "output_type": "execute_result"
    }
   ],
   "source": [
    "another_function"
   ]
  },
  {
   "cell_type": "code",
   "execution_count": 6,
   "id": "f7288d0e",
   "metadata": {},
   "outputs": [
    {
     "name": "stdout",
     "output_type": "stream",
     "text": [
      "Hello\n"
     ]
    }
   ],
   "source": [
    "another_function()"
   ]
  },
  {
   "cell_type": "code",
   "execution_count": 7,
   "id": "21af0e51",
   "metadata": {},
   "outputs": [
    {
     "name": "stdout",
     "output_type": "stream",
     "text": [
      "Hello\n"
     ]
    }
   ],
   "source": [
    "documented_function()"
   ]
  },
  {
   "cell_type": "code",
   "execution_count": 8,
   "id": "32cb9051",
   "metadata": {},
   "outputs": [],
   "source": [
    "name = \"John\"\n",
    "city = \"Toronto\""
   ]
  },
  {
   "cell_type": "code",
   "execution_count": 9,
   "id": "c7c25bad",
   "metadata": {},
   "outputs": [],
   "source": [
    "def introduction():\n",
    "    print(\"My name is: \", name)\n",
    "    print(\"I live in: \", city)"
   ]
  },
  {
   "cell_type": "code",
   "execution_count": 10,
   "id": "5cb73a80",
   "metadata": {},
   "outputs": [
    {
     "name": "stdout",
     "output_type": "stream",
     "text": [
      "My name is:  John\n",
      "I live in:  Toronto\n"
     ]
    }
   ],
   "source": [
    "introduction()"
   ]
  },
  {
   "cell_type": "code",
   "execution_count": 11,
   "id": "e3370e51",
   "metadata": {},
   "outputs": [],
   "source": [
    "name = \"Lily\"\n",
    "city = \"New York\""
   ]
  },
  {
   "cell_type": "code",
   "execution_count": 12,
   "id": "733e85fb",
   "metadata": {},
   "outputs": [
    {
     "name": "stdout",
     "output_type": "stream",
     "text": [
      "My name is:  Lily\n",
      "I live in:  New York\n"
     ]
    }
   ],
   "source": [
    "introduction()"
   ]
  },
  {
   "cell_type": "code",
   "execution_count": 13,
   "id": "529d0e8f",
   "metadata": {},
   "outputs": [],
   "source": [
    "name = \"Lily\"\n",
    "city = \"Seattle\""
   ]
  },
  {
   "cell_type": "code",
   "execution_count": 14,
   "id": "6e0b0288",
   "metadata": {},
   "outputs": [
    {
     "name": "stdout",
     "output_type": "stream",
     "text": [
      "My name is:  Lily\n",
      "I live in:  Seattle\n"
     ]
    }
   ],
   "source": [
    "introduction()"
   ]
  }
 ],
 "metadata": {
  "kernelspec": {
   "display_name": "Python 3 (ipykernel)",
   "language": "python",
   "name": "python3"
  },
  "language_info": {
   "codemirror_mode": {
    "name": "ipython",
    "version": 3
   },
   "file_extension": ".py",
   "mimetype": "text/x-python",
   "name": "python",
   "nbconvert_exporter": "python",
   "pygments_lexer": "ipython3",
   "version": "3.11.4"
  }
 },
 "nbformat": 4,
 "nbformat_minor": 5
}
