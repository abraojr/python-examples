{
 "cells": [
  {
   "cell_type": "code",
   "execution_count": 1,
   "id": "7b7cf04f",
   "metadata": {},
   "outputs": [
    {
     "name": "stdout",
     "output_type": "stream",
     "text": [
      "\n"
     ]
    }
   ],
   "source": [
    "print()"
   ]
  },
  {
   "cell_type": "code",
   "execution_count": 2,
   "id": "fdfd33e0",
   "metadata": {},
   "outputs": [
    {
     "name": "stdout",
     "output_type": "stream",
     "text": [
      "Bob\n"
     ]
    }
   ],
   "source": [
    "print(\"Bob\")"
   ]
  },
  {
   "cell_type": "code",
   "execution_count": 3,
   "id": "69e13e9a",
   "metadata": {},
   "outputs": [
    {
     "name": "stdout",
     "output_type": "stream",
     "text": [
      "Bob Peter\n"
     ]
    }
   ],
   "source": [
    "print(\"Bob\", \"Peter\")"
   ]
  },
  {
   "cell_type": "code",
   "execution_count": 4,
   "id": "0e56bf3e",
   "metadata": {},
   "outputs": [
    {
     "name": "stdout",
     "output_type": "stream",
     "text": [
      "Greg Claudia Bob\n"
     ]
    }
   ],
   "source": [
    "print(\"Greg\", \"Claudia\", \"Bob\")"
   ]
  },
  {
   "cell_type": "code",
   "execution_count": 5,
   "id": "cdcb4f34",
   "metadata": {},
   "outputs": [
    {
     "name": "stdout",
     "output_type": "stream",
     "text": [
      "Greg Claudia Bob Peter\n"
     ]
    }
   ],
   "source": [
    "print(\"Greg\", \"Claudia\", \"Bob\", \"Peter\")"
   ]
  },
  {
   "cell_type": "code",
   "execution_count": 6,
   "id": "dedb8cfe",
   "metadata": {},
   "outputs": [],
   "source": [
    "def print_fn(string_1):\n",
    "    \n",
    "    print(string_1)"
   ]
  },
  {
   "cell_type": "code",
   "execution_count": null,
   "id": "ffd489b6",
   "metadata": {},
   "outputs": [],
   "source": [
    "# Will throw an error\n",
    "print_fn()"
   ]
  },
  {
   "cell_type": "code",
   "execution_count": 8,
   "id": "32951a0f",
   "metadata": {},
   "outputs": [],
   "source": [
    "def print_fn(string_1=\"\\n\"):\n",
    "    \n",
    "    print(string_1)"
   ]
  },
  {
   "cell_type": "code",
   "execution_count": 9,
   "id": "adcd90d2",
   "metadata": {},
   "outputs": [
    {
     "name": "stdout",
     "output_type": "stream",
     "text": [
      "\n",
      "\n"
     ]
    }
   ],
   "source": [
    "print_fn()"
   ]
  },
  {
   "cell_type": "code",
   "execution_count": 10,
   "id": "0b5bd4f1",
   "metadata": {},
   "outputs": [
    {
     "name": "stdout",
     "output_type": "stream",
     "text": [
      "Bob\n"
     ]
    }
   ],
   "source": [
    "print_fn(\"Bob\")"
   ]
  },
  {
   "cell_type": "code",
   "execution_count": null,
   "id": "077ff134",
   "metadata": {},
   "outputs": [],
   "source": [
    "# Will throw an error\n",
    "print_fn(\"Bob\", \"Peter\")"
   ]
  },
  {
   "cell_type": "code",
   "execution_count": 12,
   "id": "df8d6ce9",
   "metadata": {},
   "outputs": [],
   "source": [
    "def print_fn(string_1=\"\\n\", string_2=\"\"):\n",
    "    \n",
    "    print(string_1, string_2)"
   ]
  },
  {
   "cell_type": "code",
   "execution_count": 13,
   "id": "9588038b",
   "metadata": {},
   "outputs": [
    {
     "name": "stdout",
     "output_type": "stream",
     "text": [
      "\n",
      " \n"
     ]
    }
   ],
   "source": [
    "print_fn()"
   ]
  },
  {
   "cell_type": "code",
   "execution_count": 14,
   "id": "b7f7b098",
   "metadata": {},
   "outputs": [
    {
     "name": "stdout",
     "output_type": "stream",
     "text": [
      "Bob \n"
     ]
    }
   ],
   "source": [
    "print_fn(\"Bob\")"
   ]
  },
  {
   "cell_type": "code",
   "execution_count": 15,
   "id": "2369a7f4",
   "metadata": {},
   "outputs": [
    {
     "name": "stdout",
     "output_type": "stream",
     "text": [
      "Bob Peter\n"
     ]
    }
   ],
   "source": [
    "print_fn(\"Bob\", \"Peter\")"
   ]
  },
  {
   "cell_type": "code",
   "execution_count": null,
   "id": "d395351e",
   "metadata": {},
   "outputs": [],
   "source": [
    "# Will throw an error\n",
    "print_fn(\"Greg\", \"Claudia\", \"Bob\")"
   ]
  },
  {
   "cell_type": "code",
   "execution_count": 17,
   "id": "79c9ab02",
   "metadata": {},
   "outputs": [],
   "source": [
    "# *args indicates that the function can be invoked with any number of arguments\n",
    "def print_fn(*args):\n",
    "    \n",
    "    args_type = type(args)\n",
    "    print(args_type)\n",
    "    \n",
    "    print(args)"
   ]
  },
  {
   "cell_type": "code",
   "execution_count": 18,
   "id": "a654cc6a",
   "metadata": {},
   "outputs": [
    {
     "name": "stdout",
     "output_type": "stream",
     "text": [
      "<class 'tuple'>\n",
      "()\n"
     ]
    }
   ],
   "source": [
    "print_fn()"
   ]
  },
  {
   "cell_type": "code",
   "execution_count": 19,
   "id": "2cc0ddd4",
   "metadata": {},
   "outputs": [
    {
     "name": "stdout",
     "output_type": "stream",
     "text": [
      "<class 'tuple'>\n",
      "('Bob',)\n"
     ]
    }
   ],
   "source": [
    "print_fn(\"Bob\")"
   ]
  },
  {
   "cell_type": "code",
   "execution_count": 20,
   "id": "5697838b",
   "metadata": {},
   "outputs": [
    {
     "name": "stdout",
     "output_type": "stream",
     "text": [
      "<class 'tuple'>\n",
      "('Bob', 'Peter')\n"
     ]
    }
   ],
   "source": [
    "print_fn(\"Bob\", \"Peter\")"
   ]
  },
  {
   "cell_type": "code",
   "execution_count": 21,
   "id": "142d2f6d",
   "metadata": {},
   "outputs": [
    {
     "name": "stdout",
     "output_type": "stream",
     "text": [
      "<class 'tuple'>\n",
      "('Greg', 'Claudia', 'Bob')\n"
     ]
    }
   ],
   "source": [
    "print_fn(\"Greg\", \"Claudia\", \"Bob\")"
   ]
  },
  {
   "cell_type": "code",
   "execution_count": 22,
   "id": "643c052f",
   "metadata": {},
   "outputs": [
    {
     "name": "stdout",
     "output_type": "stream",
     "text": [
      "<class 'tuple'>\n",
      "('Greg', 'Claudia', 'Bob', 'Alice', 'Steve', 'Jim')\n"
     ]
    }
   ],
   "source": [
    "print_fn(\"Greg\", \"Claudia\", \"Bob\", \"Alice\", \"Steve\", \"Jim\")"
   ]
  },
  {
   "cell_type": "code",
   "execution_count": 23,
   "id": "c429e3e5",
   "metadata": {},
   "outputs": [
    {
     "name": "stdout",
     "output_type": "stream",
     "text": [
      "<class 'tuple'>\n",
      "(['Greg', 'Claudia', 'Bob', 'Alice', 'Steve', 'Jim'],)\n"
     ]
    }
   ],
   "source": [
    "names_list = [\"Greg\", \"Claudia\", \"Bob\", \"Alice\", \"Steve\", \"Jim\"]\n",
    "\n",
    "print_fn(names_list)"
   ]
  },
  {
   "cell_type": "code",
   "execution_count": 24,
   "id": "7c7307da",
   "metadata": {},
   "outputs": [
    {
     "name": "stdout",
     "output_type": "stream",
     "text": [
      "<class 'tuple'>\n",
      "('Greg', 'Claudia', 'Bob', 'Alice', 'Steve', 'Jim')\n"
     ]
    }
   ],
   "source": [
    "# *names_list first unpacks the individual elements in the names_list\n",
    "print_fn(*names_list)"
   ]
  },
  {
   "cell_type": "code",
   "execution_count": 25,
   "id": "f5c981f8",
   "metadata": {},
   "outputs": [],
   "source": [
    "def students_in_college(college, city, *students):\n",
    "    \n",
    "    print(\"College: \", college)\n",
    "    print(\"City: \", city)\n",
    "    print(\"Students: \", students)"
   ]
  },
  {
   "cell_type": "code",
   "execution_count": 26,
   "id": "8945ff52",
   "metadata": {},
   "outputs": [
    {
     "name": "stdout",
     "output_type": "stream",
     "text": [
      "College:  Columbia\n",
      "City:  New York\n",
      "Students:  ()\n"
     ]
    }
   ],
   "source": [
    "students_in_college(\"Columbia\", \"New York\")"
   ]
  },
  {
   "cell_type": "code",
   "execution_count": 27,
   "id": "365118d3",
   "metadata": {},
   "outputs": [
    {
     "name": "stdout",
     "output_type": "stream",
     "text": [
      "College:  Columbia\n",
      "City:  New York\n",
      "Students:  ('Bob',)\n"
     ]
    }
   ],
   "source": [
    "students_in_college(\"Columbia\", \"New York\", \"Bob\")"
   ]
  },
  {
   "cell_type": "code",
   "execution_count": 28,
   "id": "6be5d5de",
   "metadata": {},
   "outputs": [
    {
     "name": "stdout",
     "output_type": "stream",
     "text": [
      "College:  Columbia\n",
      "City:  New York\n",
      "Students:  ('Peter', 'Julie')\n"
     ]
    }
   ],
   "source": [
    "students_in_college(\"Columbia\", \"New York\", \"Peter\", \"Julie\")"
   ]
  },
  {
   "cell_type": "code",
   "execution_count": 29,
   "id": "c8ff2619",
   "metadata": {},
   "outputs": [
    {
     "name": "stdout",
     "output_type": "stream",
     "text": [
      "College:  Columbia\n",
      "City:  New York\n",
      "Students:  ('Peter', 'Julie', 'Trista')\n"
     ]
    }
   ],
   "source": [
    "students_in_college(\"Columbia\", \"New York\", \"Peter\", \"Julie\", \"Trista\")"
   ]
  },
  {
   "cell_type": "code",
   "execution_count": 30,
   "id": "16d04303",
   "metadata": {},
   "outputs": [],
   "source": [
    "def students_in_college(*students, college, city):\n",
    "    \n",
    "    print(\"College: \", college)\n",
    "    print(\"City: \", city)\n",
    "    print(\"Students: \", students)"
   ]
  },
  {
   "cell_type": "code",
   "execution_count": null,
   "id": "c1d25358",
   "metadata": {},
   "outputs": [],
   "source": [
    "# Will throw an error\n",
    "students_in_college(\"Columbia\", \"New York\", \"Bob\")"
   ]
  },
  {
   "cell_type": "code",
   "execution_count": 32,
   "id": "d10ee7c3",
   "metadata": {},
   "outputs": [
    {
     "name": "stdout",
     "output_type": "stream",
     "text": [
      "College:  Columbia\n",
      "City:  New York\n",
      "Students:  ('Bob',)\n"
     ]
    }
   ],
   "source": [
    "students_in_college(\"Bob\", college=\"Columbia\", city=\"New York\")"
   ]
  },
  {
   "cell_type": "code",
   "execution_count": 33,
   "id": "14ae98f8",
   "metadata": {},
   "outputs": [
    {
     "name": "stdout",
     "output_type": "stream",
     "text": [
      "College:  Columbia\n",
      "City:  New York\n",
      "Students:  ('Bob', 'Peter')\n"
     ]
    }
   ],
   "source": [
    "students_in_college(\"Bob\", \"Peter\", college=\"Columbia\", city=\"New York\")"
   ]
  },
  {
   "cell_type": "code",
   "execution_count": 34,
   "id": "5f4c39c7",
   "metadata": {},
   "outputs": [],
   "source": [
    "def students_in_college(*students, college, city=\"Boston\"):\n",
    "    \n",
    "    print(\"College: \", college)\n",
    "    print(\"City: \", city)\n",
    "    print(\"Students: \", students)"
   ]
  },
  {
   "cell_type": "code",
   "execution_count": 35,
   "id": "8fb46cd1",
   "metadata": {},
   "outputs": [
    {
     "name": "stdout",
     "output_type": "stream",
     "text": [
      "College:  Harvard\n",
      "City:  Boston\n",
      "Students:  ('Bob',)\n"
     ]
    }
   ],
   "source": [
    "students_in_college(\"Bob\", college=\"Harvard\")"
   ]
  },
  {
   "cell_type": "code",
   "execution_count": 36,
   "id": "8e6cc897",
   "metadata": {},
   "outputs": [],
   "source": [
    "# **kwargs packs the variable length arguments into a dictionary not a tuple\n",
    "def student_details(**kwargs):\n",
    "    \n",
    "    print(type(kwargs))\n",
    "    print(kwargs)"
   ]
  },
  {
   "cell_type": "code",
   "execution_count": 37,
   "id": "e38c894a",
   "metadata": {},
   "outputs": [
    {
     "name": "stdout",
     "output_type": "stream",
     "text": [
      "<class 'dict'>\n",
      "{}\n"
     ]
    }
   ],
   "source": [
    "student_details()"
   ]
  },
  {
   "cell_type": "code",
   "execution_count": 38,
   "id": "fc623288",
   "metadata": {},
   "outputs": [
    {
     "name": "stdout",
     "output_type": "stream",
     "text": [
      "<class 'dict'>\n",
      "{'name': 'John'}\n"
     ]
    }
   ],
   "source": [
    "student_details(name=\"John\")"
   ]
  },
  {
   "cell_type": "code",
   "execution_count": 39,
   "id": "d9979050",
   "metadata": {},
   "outputs": [
    {
     "name": "stdout",
     "output_type": "stream",
     "text": [
      "<class 'dict'>\n",
      "{'name': 'John', 'age': 18}\n"
     ]
    }
   ],
   "source": [
    "student_details(name=\"John\", age=18)"
   ]
  },
  {
   "cell_type": "code",
   "execution_count": 40,
   "id": "587b46c1",
   "metadata": {},
   "outputs": [
    {
     "name": "stdout",
     "output_type": "stream",
     "text": [
      "<class 'dict'>\n",
      "{'name': 'John', 'age': 18, 'college': 'Boston University'}\n"
     ]
    }
   ],
   "source": [
    "student_details(name=\"John\", age=18, college=\"Boston University\")"
   ]
  },
  {
   "cell_type": "code",
   "execution_count": 41,
   "id": "a57cb642",
   "metadata": {},
   "outputs": [],
   "source": [
    "def student_details(**details):\n",
    "    \n",
    "    for key, value in details.items():\n",
    "        print(key, value)"
   ]
  },
  {
   "cell_type": "code",
   "execution_count": 42,
   "id": "11538c09",
   "metadata": {},
   "outputs": [
    {
     "name": "stdout",
     "output_type": "stream",
     "text": [
      "name John\n",
      "age 18\n",
      "college Boston University\n"
     ]
    }
   ],
   "source": [
    "student_details(name=\"John\", age=18, college=\"Boston University\")"
   ]
  },
  {
   "cell_type": "code",
   "execution_count": 43,
   "id": "64a2ce17",
   "metadata": {},
   "outputs": [],
   "source": [
    "details_dictionary = {\"name\" : \"John\", \"age\" : 18, \"college\" : \"Boston University\"}"
   ]
  },
  {
   "cell_type": "code",
   "execution_count": null,
   "id": "7acbe72e",
   "metadata": {},
   "outputs": [],
   "source": [
    "# Will throw an error\n",
    "student_details(details_dictionary)"
   ]
  },
  {
   "cell_type": "code",
   "execution_count": 45,
   "id": "73a77bea",
   "metadata": {},
   "outputs": [
    {
     "name": "stdout",
     "output_type": "stream",
     "text": [
      "name John\n",
      "age 18\n",
      "college Boston University\n"
     ]
    }
   ],
   "source": [
    "# **details_dictionary first unpacks the individual elements in the dictionary\n",
    "student_details(**details_dictionary)"
   ]
  },
  {
   "cell_type": "code",
   "execution_count": 46,
   "id": "0d9a4a63",
   "metadata": {},
   "outputs": [],
   "source": [
    "def student_details(**details):\n",
    "    \n",
    "    if \"name\" in details:\n",
    "        print(\"Name: \", details[\"name\"])\n",
    "        \n",
    "    if \"age\" in details:\n",
    "        print(\"Age: \", details[\"age\"])\n",
    "        \n",
    "    if \"college\" in details:\n",
    "        print(\"College: \", details[\"college\"])"
   ]
  },
  {
   "cell_type": "code",
   "execution_count": 47,
   "id": "adb4fe0b",
   "metadata": {},
   "outputs": [
    {
     "name": "stdout",
     "output_type": "stream",
     "text": [
      "Name:  John\n"
     ]
    }
   ],
   "source": [
    "student_details(name=\"John\")"
   ]
  },
  {
   "cell_type": "code",
   "execution_count": 48,
   "id": "84f86081",
   "metadata": {},
   "outputs": [
    {
     "name": "stdout",
     "output_type": "stream",
     "text": [
      "Name:  John\n",
      "College:  Boston University\n"
     ]
    }
   ],
   "source": [
    "student_details(name=\"John\", college=\"Boston University\")"
   ]
  },
  {
   "cell_type": "code",
   "execution_count": 49,
   "id": "6f0fa2d0",
   "metadata": {},
   "outputs": [
    {
     "name": "stdout",
     "output_type": "stream",
     "text": [
      "Name:  John\n",
      "Age:  21\n",
      "College:  Boston University\n"
     ]
    }
   ],
   "source": [
    "student_details(name=\"John\", college=\"Boston University\", age=21)"
   ]
  },
  {
   "cell_type": "code",
   "execution_count": 50,
   "id": "10776f2a",
   "metadata": {},
   "outputs": [],
   "source": [
    "def students_in_college(*student_names, **college_details):\n",
    "    print(\"Students--\")\n",
    "    for a in student_names:\n",
    "        print(a)\n",
    "        \n",
    "    print()\n",
    "    \n",
    "    print(\"College Details--\")\n",
    "    for key, value in college_details.items():\n",
    "        print(key, value)"
   ]
  },
  {
   "cell_type": "code",
   "execution_count": 51,
   "id": "afc62581",
   "metadata": {},
   "outputs": [
    {
     "name": "stdout",
     "output_type": "stream",
     "text": [
      "Students--\n",
      "Alisson\n",
      "Bob\n",
      "Charlie\n",
      "\n",
      "College Details--\n",
      "name Stanford\n",
      "city Palo Alto\n"
     ]
    }
   ],
   "source": [
    "students_in_college(\"Alisson\", \"Bob\", \"Charlie\", name=\"Stanford\", city=\"Palo Alto\")"
   ]
  }
 ],
 "metadata": {
  "kernelspec": {
   "display_name": "Python 3 (ipykernel)",
   "language": "python",
   "name": "python3"
  },
  "language_info": {
   "codemirror_mode": {
    "name": "ipython",
    "version": 3
   },
   "file_extension": ".py",
   "mimetype": "text/x-python",
   "name": "python",
   "nbconvert_exporter": "python",
   "pygments_lexer": "ipython3",
   "version": "3.11.4"
  }
 },
 "nbformat": 4,
 "nbformat_minor": 5
}
