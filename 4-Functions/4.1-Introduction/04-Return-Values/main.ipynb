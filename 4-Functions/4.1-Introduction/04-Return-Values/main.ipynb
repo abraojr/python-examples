{
 "cells": [
  {
   "cell_type": "code",
   "execution_count": 1,
   "id": "71435639",
   "metadata": {},
   "outputs": [],
   "source": [
    "def subtract(num_1, num_2):\n",
    "    \n",
    "    result = num_1 - num_2"
   ]
  },
  {
   "cell_type": "code",
   "execution_count": 2,
   "id": "581460f7",
   "metadata": {},
   "outputs": [],
   "source": [
    "subtract(10, 7.7)"
   ]
  },
  {
   "cell_type": "code",
   "execution_count": 3,
   "id": "cf64fc0d",
   "metadata": {},
   "outputs": [],
   "source": [
    "r = subtract(100, 50)"
   ]
  },
  {
   "cell_type": "code",
   "execution_count": 4,
   "id": "1d1bda58",
   "metadata": {},
   "outputs": [
    {
     "name": "stdout",
     "output_type": "stream",
     "text": [
      "None\n"
     ]
    }
   ],
   "source": [
    "print(r)"
   ]
  },
  {
   "cell_type": "code",
   "execution_count": 5,
   "id": "f1062ef6",
   "metadata": {},
   "outputs": [
    {
     "data": {
      "text/plain": [
       "NoneType"
      ]
     },
     "execution_count": 5,
     "metadata": {},
     "output_type": "execute_result"
    }
   ],
   "source": [
    "type(r)"
   ]
  },
  {
   "cell_type": "code",
   "execution_count": 6,
   "id": "ebe1ff36",
   "metadata": {},
   "outputs": [],
   "source": [
    "def subtract_returns_none_by_default(num_1, num_2):\n",
    "    \n",
    "    result = num_1 - num_2\n",
    "    \n",
    "    return None"
   ]
  },
  {
   "cell_type": "code",
   "execution_count": 7,
   "id": "3e423c1f",
   "metadata": {},
   "outputs": [
    {
     "name": "stdout",
     "output_type": "stream",
     "text": [
      "None\n"
     ]
    }
   ],
   "source": [
    "r = subtract_returns_none_by_default(100, 50)\n",
    "\n",
    "print(r)"
   ]
  },
  {
   "cell_type": "code",
   "execution_count": 8,
   "id": "50769dbf",
   "metadata": {},
   "outputs": [],
   "source": [
    "def subtract_returns_a_result(num_1, num_2):\n",
    "    \n",
    "    result = num_1 - num_2\n",
    "    \n",
    "    return result"
   ]
  },
  {
   "cell_type": "code",
   "execution_count": 9,
   "id": "f1b5e34d",
   "metadata": {},
   "outputs": [
    {
     "name": "stdout",
     "output_type": "stream",
     "text": [
      "50\n"
     ]
    }
   ],
   "source": [
    "r = subtract_returns_a_result(100, 50)\n",
    "\n",
    "print(r)"
   ]
  },
  {
   "cell_type": "code",
   "execution_count": 10,
   "id": "f4651257",
   "metadata": {},
   "outputs": [],
   "source": [
    "def length(some_list):\n",
    "    \n",
    "    count = 0\n",
    "    for element in some_list:\n",
    "        count += 1\n",
    "        \n",
    "    print(\"The length of the list is\", count)\n",
    "    \n",
    "    return count"
   ]
  },
  {
   "cell_type": "code",
   "execution_count": 11,
   "id": "8c21b114",
   "metadata": {},
   "outputs": [
    {
     "name": "stdout",
     "output_type": "stream",
     "text": [
      "The length of the list is 3\n"
     ]
    }
   ],
   "source": [
    "l = length([100, 200, 300])"
   ]
  },
  {
   "cell_type": "code",
   "execution_count": 12,
   "id": "57e95c40",
   "metadata": {},
   "outputs": [
    {
     "data": {
      "text/plain": [
       "3"
      ]
     },
     "execution_count": 12,
     "metadata": {},
     "output_type": "execute_result"
    }
   ],
   "source": [
    "l"
   ]
  },
  {
   "cell_type": "code",
   "execution_count": 13,
   "id": "d0d21a66",
   "metadata": {},
   "outputs": [
    {
     "name": "stdout",
     "output_type": "stream",
     "text": [
      "3\n"
     ]
    }
   ],
   "source": [
    "print(l)"
   ]
  },
  {
   "cell_type": "code",
   "execution_count": 14,
   "id": "26676121",
   "metadata": {},
   "outputs": [],
   "source": [
    "def find_max_in_list(some_list):\n",
    "    \n",
    "    max_element = some_list[0]\n",
    "    \n",
    "    length = len(some_list)\n",
    "    \n",
    "    for i in range(1, length):\n",
    "        \n",
    "        if some_list[i] > max_element:\n",
    "            max_element = some_list[i]\n",
    "            \n",
    "    return max_element"
   ]
  },
  {
   "cell_type": "code",
   "execution_count": 15,
   "id": "2a262f63",
   "metadata": {},
   "outputs": [],
   "source": [
    "num_list = [5, 4, 6, 7, 2, 10, 11, 3]"
   ]
  },
  {
   "cell_type": "code",
   "execution_count": 16,
   "id": "1bfdb471",
   "metadata": {},
   "outputs": [
    {
     "name": "stdout",
     "output_type": "stream",
     "text": [
      "11\n"
     ]
    }
   ],
   "source": [
    "max_element = find_max_in_list(num_list)\n",
    "\n",
    "print(max_element)"
   ]
  },
  {
   "cell_type": "code",
   "execution_count": 17,
   "id": "8f9058eb",
   "metadata": {},
   "outputs": [
    {
     "name": "stdout",
     "output_type": "stream",
     "text": [
      "24\n"
     ]
    }
   ],
   "source": [
    "num_list.append(24)\n",
    "\n",
    "max_element = find_max_in_list(num_list)\n",
    "\n",
    "print(max_element)"
   ]
  },
  {
   "cell_type": "code",
   "execution_count": 18,
   "id": "83a1caa2",
   "metadata": {},
   "outputs": [],
   "source": [
    "def empty_return(x, y):\n",
    "    total = x + y\n",
    "    \n",
    "    return"
   ]
  },
  {
   "cell_type": "code",
   "execution_count": 19,
   "id": "bbab2446",
   "metadata": {},
   "outputs": [
    {
     "name": "stdout",
     "output_type": "stream",
     "text": [
      "None\n"
     ]
    }
   ],
   "source": [
    "result = empty_return(10, 20)\n",
    "\n",
    "print(result)"
   ]
  },
  {
   "cell_type": "code",
   "execution_count": 20,
   "id": "1292d426",
   "metadata": {},
   "outputs": [
    {
     "data": {
      "text/plain": [
       "NoneType"
      ]
     },
     "execution_count": 20,
     "metadata": {},
     "output_type": "execute_result"
    }
   ],
   "source": [
    "type(result)"
   ]
  },
  {
   "cell_type": "code",
   "execution_count": 21,
   "id": "ba107169",
   "metadata": {},
   "outputs": [],
   "source": [
    "def add_sub(x, y):\n",
    "    \n",
    "    add_result = x + y\n",
    "    sub_result = x - y\n",
    "    \n",
    "    # Multiple return values from a function returns a tuple with the values as fields of the tuple\n",
    "    return add_result, sub_result"
   ]
  },
  {
   "cell_type": "code",
   "execution_count": 22,
   "id": "5e005ae1",
   "metadata": {},
   "outputs": [
    {
     "data": {
      "text/plain": [
       "(9, 1)"
      ]
     },
     "execution_count": 22,
     "metadata": {},
     "output_type": "execute_result"
    }
   ],
   "source": [
    "add_sub(5, 4)"
   ]
  },
  {
   "cell_type": "code",
   "execution_count": 23,
   "id": "32461c35",
   "metadata": {},
   "outputs": [
    {
     "data": {
      "text/plain": [
       "(9, 1)"
      ]
     },
     "execution_count": 23,
     "metadata": {},
     "output_type": "execute_result"
    }
   ],
   "source": [
    "result = add_sub(5, 4)\n",
    "\n",
    "result"
   ]
  },
  {
   "cell_type": "code",
   "execution_count": 24,
   "id": "e9653f62",
   "metadata": {},
   "outputs": [],
   "source": [
    "result_1, result_2 = add_sub(5, 4)"
   ]
  },
  {
   "cell_type": "code",
   "execution_count": 25,
   "id": "af871759",
   "metadata": {},
   "outputs": [
    {
     "data": {
      "text/plain": [
       "9"
      ]
     },
     "execution_count": 25,
     "metadata": {},
     "output_type": "execute_result"
    }
   ],
   "source": [
    "result_1"
   ]
  },
  {
   "cell_type": "code",
   "execution_count": 26,
   "id": "f07b3cb9",
   "metadata": {},
   "outputs": [
    {
     "data": {
      "text/plain": [
       "1"
      ]
     },
     "execution_count": 26,
     "metadata": {},
     "output_type": "execute_result"
    }
   ],
   "source": [
    "result_2"
   ]
  },
  {
   "cell_type": "code",
   "execution_count": 27,
   "id": "88e185e9",
   "metadata": {},
   "outputs": [
    {
     "data": {
      "text/plain": [
       "9"
      ]
     },
     "execution_count": 27,
     "metadata": {},
     "output_type": "execute_result"
    }
   ],
   "source": [
    "result_1, _ = add_sub(5, 4)\n",
    "\n",
    "result_1"
   ]
  },
  {
   "cell_type": "code",
   "execution_count": 28,
   "id": "ae9bea5e",
   "metadata": {},
   "outputs": [
    {
     "data": {
      "text/plain": [
       "1"
      ]
     },
     "execution_count": 28,
     "metadata": {},
     "output_type": "execute_result"
    }
   ],
   "source": [
    "_, result_2 = add_sub(5, 4)\n",
    "\n",
    "result_2"
   ]
  },
  {
   "cell_type": "code",
   "execution_count": 29,
   "id": "a342a3f0",
   "metadata": {},
   "outputs": [],
   "source": [
    "def positive_or_negative(num):\n",
    "    \n",
    "    if num > 0:\n",
    "        return \"Positive!\"\n",
    "    \n",
    "    else:\n",
    "        return \"Zero or negative\""
   ]
  },
  {
   "cell_type": "code",
   "execution_count": 30,
   "id": "d17942e9",
   "metadata": {},
   "outputs": [
    {
     "data": {
      "text/plain": [
       "'Positive!'"
      ]
     },
     "execution_count": 30,
     "metadata": {},
     "output_type": "execute_result"
    }
   ],
   "source": [
    "positive_or_negative(10)"
   ]
  },
  {
   "cell_type": "code",
   "execution_count": 31,
   "id": "e46438a2",
   "metadata": {},
   "outputs": [
    {
     "data": {
      "text/plain": [
       "'Zero or negative'"
      ]
     },
     "execution_count": 31,
     "metadata": {},
     "output_type": "execute_result"
    }
   ],
   "source": [
    "positive_or_negative(-10)"
   ]
  },
  {
   "cell_type": "code",
   "execution_count": 32,
   "id": "3039c60d",
   "metadata": {},
   "outputs": [],
   "source": [
    "def positive_negative_zero(num):\n",
    "    \n",
    "    if num > 0:\n",
    "        return \"Positive!\"\n",
    "    \n",
    "    elif num < 0:\n",
    "        return \"Negative!\"\n",
    "    \n",
    "    else:\n",
    "        return \"Zero!\""
   ]
  },
  {
   "cell_type": "code",
   "execution_count": 33,
   "id": "33469072",
   "metadata": {},
   "outputs": [
    {
     "data": {
      "text/plain": [
       "'Positive!'"
      ]
     },
     "execution_count": 33,
     "metadata": {},
     "output_type": "execute_result"
    }
   ],
   "source": [
    "positive_negative_zero(90)"
   ]
  },
  {
   "cell_type": "code",
   "execution_count": 34,
   "id": "c94a4132",
   "metadata": {},
   "outputs": [
    {
     "data": {
      "text/plain": [
       "'Negative!'"
      ]
     },
     "execution_count": 34,
     "metadata": {},
     "output_type": "execute_result"
    }
   ],
   "source": [
    "positive_negative_zero(-90)"
   ]
  },
  {
   "cell_type": "code",
   "execution_count": 35,
   "id": "8245fcbc",
   "metadata": {},
   "outputs": [
    {
     "data": {
      "text/plain": [
       "'Zero!'"
      ]
     },
     "execution_count": 35,
     "metadata": {},
     "output_type": "execute_result"
    }
   ],
   "source": [
    "positive_negative_zero(0)"
   ]
  },
  {
   "cell_type": "code",
   "execution_count": 36,
   "id": "4a8bdf4f",
   "metadata": {},
   "outputs": [],
   "source": [
    "def positive_negative_zero_forgotreturn(num):\n",
    "    \n",
    "    if num > 0:\n",
    "        return \"Positive!\"\n",
    "    \n",
    "    elif num < 0:\n",
    "        return \"Negative!\""
   ]
  },
  {
   "cell_type": "code",
   "execution_count": 37,
   "id": "abbe7afc",
   "metadata": {},
   "outputs": [
    {
     "data": {
      "text/plain": [
       "'Positive!'"
      ]
     },
     "execution_count": 37,
     "metadata": {},
     "output_type": "execute_result"
    }
   ],
   "source": [
    "positive_negative_zero_forgotreturn(90)"
   ]
  },
  {
   "cell_type": "code",
   "execution_count": 38,
   "id": "dcb0ee8b",
   "metadata": {},
   "outputs": [
    {
     "data": {
      "text/plain": [
       "'Negative!'"
      ]
     },
     "execution_count": 38,
     "metadata": {},
     "output_type": "execute_result"
    }
   ],
   "source": [
    "positive_negative_zero_forgotreturn(-90)"
   ]
  },
  {
   "cell_type": "code",
   "execution_count": 39,
   "id": "3382f4fc",
   "metadata": {},
   "outputs": [],
   "source": [
    "positive_negative_zero_forgotreturn(0)"
   ]
  },
  {
   "cell_type": "code",
   "execution_count": 40,
   "id": "1b70394a",
   "metadata": {},
   "outputs": [],
   "source": [
    "def find_max_in_list(some_list):\n",
    "    \n",
    "    if len(some_list) == 0:\n",
    "        print(\"Zero element list!\")\n",
    "        \n",
    "        return None\n",
    "    \n",
    "    max_element = some_list[0]\n",
    "    \n",
    "    length = len(some_list)\n",
    "    \n",
    "    for i in range(1, length):\n",
    "        \n",
    "        if some_list[i] > max_element:\n",
    "            max_element = some_list[i]\n",
    "            \n",
    "    return max_element"
   ]
  },
  {
   "cell_type": "code",
   "execution_count": 41,
   "id": "b6f96dcd",
   "metadata": {},
   "outputs": [
    {
     "name": "stdout",
     "output_type": "stream",
     "text": [
      "Zero element list!\n"
     ]
    }
   ],
   "source": [
    "empty_list = []\n",
    "\n",
    "find_max_in_list(empty_list)"
   ]
  },
  {
   "cell_type": "code",
   "execution_count": 42,
   "id": "642d4e32",
   "metadata": {},
   "outputs": [],
   "source": [
    "def find_first_capital_letter(some_string):\n",
    "    \n",
    "    capital_letter = None\n",
    "    \n",
    "    for ch in some_string:\n",
    "        if ch.upper() == ch and ch != \" \":\n",
    "            capital_letter = ch\n",
    "            break\n",
    "            \n",
    "    if capital_letter is None:\n",
    "        return \"No capital letters found\"\n",
    "    else:\n",
    "        return \"First capital letter \" + capital_letter"
   ]
  },
  {
   "cell_type": "code",
   "execution_count": 43,
   "id": "ab102212",
   "metadata": {},
   "outputs": [
    {
     "data": {
      "text/plain": [
       "'First capital letter A'"
      ]
     },
     "execution_count": 43,
     "metadata": {},
     "output_type": "execute_result"
    }
   ],
   "source": [
    "find_first_capital_letter(\"how Are you\")"
   ]
  },
  {
   "cell_type": "code",
   "execution_count": 44,
   "id": "7c6e13ce",
   "metadata": {},
   "outputs": [
    {
     "data": {
      "text/plain": [
       "'No capital letters found'"
      ]
     },
     "execution_count": 44,
     "metadata": {},
     "output_type": "execute_result"
    }
   ],
   "source": [
    "find_first_capital_letter(\"how are you\")"
   ]
  },
  {
   "cell_type": "code",
   "execution_count": 45,
   "id": "741a7678",
   "metadata": {},
   "outputs": [],
   "source": [
    "def create_dictionary_representation(name, age, occupation):\n",
    "    \n",
    "    dictionary = {\n",
    "        \"name\" : name,\n",
    "        \"age\" : age,\n",
    "        \"occupation\" : occupation\n",
    "    }\n",
    "    \n",
    "    return dictionary"
   ]
  },
  {
   "cell_type": "code",
   "execution_count": 46,
   "id": "3fdfc152",
   "metadata": {},
   "outputs": [
    {
     "data": {
      "text/plain": [
       "{'name': 'John', 'age': 35, 'occupation': 'Engineer'}"
      ]
     },
     "execution_count": 46,
     "metadata": {},
     "output_type": "execute_result"
    }
   ],
   "source": [
    "info_dictionary = create_dictionary_representation(\"John\", 35, \"Engineer\")\n",
    "\n",
    "info_dictionary"
   ]
  },
  {
   "cell_type": "code",
   "execution_count": 47,
   "id": "f45c2949",
   "metadata": {},
   "outputs": [],
   "source": [
    "def generate_list(name, num_elements):\n",
    "    \n",
    "    return_list = []\n",
    "    \n",
    "    for i in range(num_elements):\n",
    "        return_list.append(name)\n",
    "        \n",
    "    return return_list"
   ]
  },
  {
   "cell_type": "code",
   "execution_count": 48,
   "id": "2702fad4",
   "metadata": {},
   "outputs": [
    {
     "data": {
      "text/plain": [
       "['Iris', 'Iris', 'Iris', 'Iris', 'Iris']"
      ]
     },
     "execution_count": 48,
     "metadata": {},
     "output_type": "execute_result"
    }
   ],
   "source": [
    "some_list = generate_list(\"Iris\", 5)\n",
    "\n",
    "some_list"
   ]
  },
  {
   "cell_type": "code",
   "execution_count": 49,
   "id": "bcee1a8e",
   "metadata": {},
   "outputs": [],
   "source": [
    "some_list = generate_list(\"Louise\", 3)"
   ]
  },
  {
   "cell_type": "code",
   "execution_count": 50,
   "id": "af08b164",
   "metadata": {},
   "outputs": [
    {
     "data": {
      "text/plain": [
       "['Louise', 'Louise', 'Louise']"
      ]
     },
     "execution_count": 50,
     "metadata": {},
     "output_type": "execute_result"
    }
   ],
   "source": [
    "some_list"
   ]
  },
  {
   "cell_type": "code",
   "execution_count": 51,
   "id": "9af21e52",
   "metadata": {},
   "outputs": [],
   "source": [
    "def generate_list(name, num_elements):\n",
    "    \n",
    "    print(\"Generate list using list comprehension\")\n",
    "    return_list = [name for i in range(num_elements)]\n",
    "        \n",
    "    return return_list"
   ]
  },
  {
   "cell_type": "code",
   "execution_count": 52,
   "id": "29ed89bb",
   "metadata": {},
   "outputs": [
    {
     "name": "stdout",
     "output_type": "stream",
     "text": [
      "Generate list using list comprehension\n"
     ]
    },
    {
     "data": {
      "text/plain": [
       "['Daisy', 'Daisy', 'Daisy', 'Daisy']"
      ]
     },
     "execution_count": 52,
     "metadata": {},
     "output_type": "execute_result"
    }
   ],
   "source": [
    "some_list = generate_list(\"Daisy\", 4)\n",
    "\n",
    "some_list"
   ]
  },
  {
   "cell_type": "code",
   "execution_count": 53,
   "id": "bbe5ec36",
   "metadata": {},
   "outputs": [],
   "source": [
    "def generate_list(name, num_elements):\n",
    "\n",
    "    return [name for i in range(num_elements)]"
   ]
  },
  {
   "cell_type": "code",
   "execution_count": 54,
   "id": "6993d01f",
   "metadata": {},
   "outputs": [
    {
     "data": {
      "text/plain": [
       "['Sunflower', 'Sunflower', 'Sunflower', 'Sunflower']"
      ]
     },
     "execution_count": 54,
     "metadata": {},
     "output_type": "execute_result"
    }
   ],
   "source": [
    "some_list = generate_list(\"Sunflower\", 4)\n",
    "\n",
    "some_list"
   ]
  },
  {
   "cell_type": "code",
   "execution_count": 55,
   "id": "6b3061a1",
   "metadata": {},
   "outputs": [],
   "source": [
    "def add(a, b):\n",
    "    return a + b\n",
    "\n",
    "def sub(a, b):\n",
    "    return a - b\n",
    "\n",
    "def mul(a, b):\n",
    "    return a * b\n",
    "\n",
    "def div(a, b):\n",
    "    return a / b"
   ]
  },
  {
   "cell_type": "code",
   "execution_count": 56,
   "id": "6c1976d9",
   "metadata": {},
   "outputs": [],
   "source": [
    "def calculate(a, b, operator):\n",
    "    \n",
    "    if operator == \"add\":\n",
    "        return add(a, b)\n",
    "    \n",
    "    if operator == \"sub\":\n",
    "        return sub(a, b)\n",
    "    \n",
    "    if operator == \"mul\":\n",
    "        return mul(a, b)\n",
    "    \n",
    "    if operator == \"div\":\n",
    "        return div(a, b)"
   ]
  },
  {
   "cell_type": "code",
   "execution_count": 57,
   "id": "4115ce13",
   "metadata": {},
   "outputs": [
    {
     "data": {
      "text/plain": [
       "15"
      ]
     },
     "execution_count": 57,
     "metadata": {},
     "output_type": "execute_result"
    }
   ],
   "source": [
    "calculate(10, 5, \"add\")"
   ]
  },
  {
   "cell_type": "code",
   "execution_count": 58,
   "id": "3bad7254",
   "metadata": {},
   "outputs": [
    {
     "data": {
      "text/plain": [
       "50"
      ]
     },
     "execution_count": 58,
     "metadata": {},
     "output_type": "execute_result"
    }
   ],
   "source": [
    "calculate(10, 5, \"mul\")"
   ]
  },
  {
   "cell_type": "code",
   "execution_count": 59,
   "id": "35e5cc8f",
   "metadata": {},
   "outputs": [
    {
     "data": {
      "text/plain": [
       "2.0"
      ]
     },
     "execution_count": 59,
     "metadata": {},
     "output_type": "execute_result"
    }
   ],
   "source": [
    "calculate(10, 5, \"div\")"
   ]
  },
  {
   "cell_type": "code",
   "execution_count": 60,
   "id": "d88bd318",
   "metadata": {},
   "outputs": [],
   "source": [
    "calculate(10, 5, \"meaningless\")"
   ]
  }
 ],
 "metadata": {
  "kernelspec": {
   "display_name": "Python 3 (ipykernel)",
   "language": "python",
   "name": "python3"
  },
  "language_info": {
   "codemirror_mode": {
    "name": "ipython",
    "version": 3
   },
   "file_extension": ".py",
   "mimetype": "text/x-python",
   "name": "python",
   "nbconvert_exporter": "python",
   "pygments_lexer": "ipython3",
   "version": "3.11.4"
  }
 },
 "nbformat": 4,
 "nbformat_minor": 5
}
