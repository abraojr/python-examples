{
 "cells": [
  {
   "cell_type": "code",
   "execution_count": 1,
   "id": "eee297a8",
   "metadata": {},
   "outputs": [],
   "source": [
    "def introduction(name, city):\n",
    "    print(\"Hello, my name is\", name)\n",
    "    print(\"I live and work in\", city)"
   ]
  },
  {
   "cell_type": "code",
   "execution_count": null,
   "id": "30ed4cdd",
   "metadata": {},
   "outputs": [],
   "source": [
    "# Will throw an error\n",
    "introduction()"
   ]
  },
  {
   "cell_type": "code",
   "execution_count": null,
   "id": "88ed6191",
   "metadata": {},
   "outputs": [],
   "source": [
    "# Will throw an error\n",
    "introduction(\"Rose\")"
   ]
  },
  {
   "cell_type": "code",
   "execution_count": 4,
   "id": "e50baff7",
   "metadata": {},
   "outputs": [
    {
     "name": "stdout",
     "output_type": "stream",
     "text": [
      "Hello, my name is Rose\n",
      "I live and work in San Jose\n"
     ]
    }
   ],
   "source": [
    "introduction(\"Rose\", \"San Jose\")"
   ]
  },
  {
   "cell_type": "code",
   "execution_count": 5,
   "id": "694f48ec",
   "metadata": {},
   "outputs": [],
   "source": [
    "def sum_of(num_1, num_2, num_3):\n",
    "    return (num_1 + num_2 + num_3)"
   ]
  },
  {
   "cell_type": "code",
   "execution_count": null,
   "id": "4508dc29",
   "metadata": {},
   "outputs": [],
   "source": [
    "# Will throw an error\n",
    "sum_of(25, 34)"
   ]
  },
  {
   "cell_type": "code",
   "execution_count": 7,
   "id": "98a48b30",
   "metadata": {},
   "outputs": [],
   "source": [
    "def total_score(math, physics, chemistry, biology):\n",
    "    \n",
    "    print(\"Math:\", math, \"Physics:\", physics, \"Chemistry:\", chemistry, \"Biology:\", biology)\n",
    "    return math + physics + chemistry + biology"
   ]
  },
  {
   "cell_type": "code",
   "execution_count": 8,
   "id": "12187a7e",
   "metadata": {},
   "outputs": [
    {
     "name": "stdout",
     "output_type": "stream",
     "text": [
      "Math: 100 Physics: 56 Chemistry: 34 Biology: 99\n"
     ]
    },
    {
     "data": {
      "text/plain": [
       "289"
      ]
     },
     "execution_count": 8,
     "metadata": {},
     "output_type": "execute_result"
    }
   ],
   "source": [
    "total_score(100, 56, 34, 99)"
   ]
  },
  {
   "cell_type": "code",
   "execution_count": 9,
   "id": "c1d1dddd",
   "metadata": {},
   "outputs": [
    {
     "name": "stdout",
     "output_type": "stream",
     "text": [
      "Math: 100 Physics: 56 Chemistry: 34 Biology: 99\n"
     ]
    },
    {
     "data": {
      "text/plain": [
       "289"
      ]
     },
     "execution_count": 9,
     "metadata": {},
     "output_type": "execute_result"
    }
   ],
   "source": [
    "total_score(math=100, physics=56, chemistry=34, biology=99)"
   ]
  },
  {
   "cell_type": "code",
   "execution_count": null,
   "id": "055d891f",
   "metadata": {},
   "outputs": [],
   "source": [
    "# Will throw an error\n",
    "total_score(math=100, physics=56, chem=34, biology=99)"
   ]
  },
  {
   "cell_type": "code",
   "execution_count": null,
   "id": "4b38ed8a",
   "metadata": {},
   "outputs": [],
   "source": [
    "# Will throw an error\n",
    "total_score(ma=100, phy=56, chemistry=34, biology=99)"
   ]
  },
  {
   "cell_type": "code",
   "execution_count": 12,
   "id": "f0e7ece3",
   "metadata": {},
   "outputs": [
    {
     "name": "stdout",
     "output_type": "stream",
     "text": [
      "Math: 100 Physics: 56 Chemistry: 34 Biology: 99\n"
     ]
    },
    {
     "data": {
      "text/plain": [
       "289"
      ]
     },
     "execution_count": 12,
     "metadata": {},
     "output_type": "execute_result"
    }
   ],
   "source": [
    "total_score(100, physics=56, chemistry=34, biology=99)"
   ]
  },
  {
   "cell_type": "code",
   "execution_count": 13,
   "id": "48dc0457",
   "metadata": {},
   "outputs": [
    {
     "name": "stdout",
     "output_type": "stream",
     "text": [
      "Math: 100 Physics: 56 Chemistry: 34 Biology: 99\n"
     ]
    },
    {
     "data": {
      "text/plain": [
       "289"
      ]
     },
     "execution_count": 13,
     "metadata": {},
     "output_type": "execute_result"
    }
   ],
   "source": [
    "total_score(100, 56, chemistry=34, biology=99)"
   ]
  },
  {
   "cell_type": "code",
   "execution_count": 14,
   "id": "2801b803",
   "metadata": {},
   "outputs": [
    {
     "name": "stdout",
     "output_type": "stream",
     "text": [
      "Math: 100 Physics: 56 Chemistry: 34 Biology: 99\n"
     ]
    },
    {
     "data": {
      "text/plain": [
       "289"
      ]
     },
     "execution_count": 14,
     "metadata": {},
     "output_type": "execute_result"
    }
   ],
   "source": [
    "total_score(100, 56, 34, biology=99)"
   ]
  },
  {
   "cell_type": "code",
   "execution_count": null,
   "id": "5a9550a3",
   "metadata": {},
   "outputs": [],
   "source": [
    "# Will throw an error\n",
    "total_score(math=100, 56, chemistry=34, biology=99)"
   ]
  },
  {
   "cell_type": "code",
   "execution_count": null,
   "id": "9262f32d",
   "metadata": {},
   "outputs": [],
   "source": [
    "# Will throw an error\n",
    "total_score(math=100, physics=56, 34, biology=99)"
   ]
  },
  {
   "cell_type": "code",
   "execution_count": null,
   "id": "61db4aa9",
   "metadata": {},
   "outputs": [],
   "source": [
    "# Will throw an error\n",
    "total_score(math=100, physics=56, chemistry=34, 99)"
   ]
  },
  {
   "cell_type": "code",
   "execution_count": 18,
   "id": "a951ce48",
   "metadata": {},
   "outputs": [
    {
     "name": "stdout",
     "output_type": "stream",
     "text": [
      "Math: 100 Physics: 56 Chemistry: 34 Biology: 99\n"
     ]
    },
    {
     "data": {
      "text/plain": [
       "289"
      ]
     },
     "execution_count": 18,
     "metadata": {},
     "output_type": "execute_result"
    }
   ],
   "source": [
    "total_score(biology=99, math=100, chemistry=34, physics=56)"
   ]
  },
  {
   "cell_type": "code",
   "execution_count": 19,
   "id": "93691ae8",
   "metadata": {},
   "outputs": [
    {
     "name": "stdout",
     "output_type": "stream",
     "text": [
      "Math: 100 Physics: 56 Chemistry: 34 Biology: 99\n"
     ]
    },
    {
     "data": {
      "text/plain": [
       "289"
      ]
     },
     "execution_count": 19,
     "metadata": {},
     "output_type": "execute_result"
    }
   ],
   "source": [
    "total_score(chemistry=34, biology=99, math=100, physics=56)"
   ]
  },
  {
   "cell_type": "code",
   "execution_count": null,
   "id": "26e18b04",
   "metadata": {},
   "outputs": [],
   "source": [
    "# Will throw an error\n",
    "total_score(34, biology=99, math=100, physics=56)"
   ]
  },
  {
   "cell_type": "code",
   "execution_count": null,
   "id": "69c97fb7",
   "metadata": {},
   "outputs": [],
   "source": [
    "# Will throw an error\n",
    "total_score(physics=34, biology=99, math=100, physics=56)"
   ]
  },
  {
   "cell_type": "code",
   "execution_count": 22,
   "id": "c85581f9",
   "metadata": {},
   "outputs": [],
   "source": [
    "def print_student_details(name, school, math, physics, chemistry, biology):\n",
    "    \n",
    "    total = math + physics + chemistry + biology\n",
    "    \n",
    "    print(\"Name: \", name)\n",
    "    print(\"School: \", school)\n",
    "    print(\"Score: \", total)"
   ]
  },
  {
   "cell_type": "code",
   "execution_count": 23,
   "id": "5df1c35d",
   "metadata": {},
   "outputs": [
    {
     "name": "stdout",
     "output_type": "stream",
     "text": [
      "Name:  Alice\n",
      "School:  Columbia\n",
      "Score:  339\n"
     ]
    }
   ],
   "source": [
    "print_student_details(\"Alice\", \"Columbia\",\n",
    "                     math=100, physics=76, chemistry=64, biology=99)"
   ]
  },
  {
   "cell_type": "code",
   "execution_count": 24,
   "id": "14e0c1ad",
   "metadata": {},
   "outputs": [
    {
     "name": "stdout",
     "output_type": "stream",
     "text": [
      "Name:  Columbia\n",
      "School:  Alice\n",
      "Score:  339\n"
     ]
    }
   ],
   "source": [
    "print_student_details(\"Columbia\", \"Alice\",\n",
    "                     math=100, physics=76, chemistry=64, biology=99)"
   ]
  },
  {
   "cell_type": "code",
   "execution_count": 25,
   "id": "18081582",
   "metadata": {},
   "outputs": [
    {
     "name": "stdout",
     "output_type": "stream",
     "text": [
      "Name:  Alice\n",
      "School:  Columbia\n",
      "Score:  339\n"
     ]
    }
   ],
   "source": [
    "print_student_details(name=\"Alice\", school=\"Columbia\",\n",
    "                     math=100, physics=76, chemistry=64, biology=99)"
   ]
  },
  {
   "cell_type": "code",
   "execution_count": 26,
   "id": "45bb80a1",
   "metadata": {},
   "outputs": [
    {
     "data": {
      "text/plain": [
       "[1, 3, 5, 6, 7, 9]"
      ]
     },
     "execution_count": 26,
     "metadata": {},
     "output_type": "execute_result"
    }
   ],
   "source": [
    "num_list = [3, 6, 1, 9, 5, 7]\n",
    "\n",
    "sorted(num_list)"
   ]
  },
  {
   "cell_type": "code",
   "execution_count": 27,
   "id": "01824892",
   "metadata": {},
   "outputs": [
    {
     "data": {
      "text/plain": [
       "[1, 3, 5, 6, 7, 9]"
      ]
     },
     "execution_count": 27,
     "metadata": {},
     "output_type": "execute_result"
    }
   ],
   "source": [
    "sorted(num_list, reverse=False)"
   ]
  },
  {
   "cell_type": "code",
   "execution_count": 28,
   "id": "a8aa43e2",
   "metadata": {},
   "outputs": [
    {
     "data": {
      "text/plain": [
       "[9, 7, 6, 5, 3, 1]"
      ]
     },
     "execution_count": 28,
     "metadata": {},
     "output_type": "execute_result"
    }
   ],
   "source": [
    "sorted(num_list, reverse=True)"
   ]
  },
  {
   "cell_type": "code",
   "execution_count": 29,
   "id": "4bd55338",
   "metadata": {},
   "outputs": [
    {
     "name": "stdout",
     "output_type": "stream",
     "text": [
      "Alice Peter Greg\n"
     ]
    }
   ],
   "source": [
    "print(\"Alice\", \"Peter\", \"Greg\")"
   ]
  },
  {
   "cell_type": "code",
   "execution_count": 30,
   "id": "39638b3a",
   "metadata": {},
   "outputs": [
    {
     "name": "stdout",
     "output_type": "stream",
     "text": [
      "Alice|Peter|Greg\n"
     ]
    }
   ],
   "source": [
    "print(\"Alice\", \"Peter\", \"Greg\", sep=\"|\")"
   ]
  },
  {
   "cell_type": "code",
   "execution_count": 31,
   "id": "8cf49771",
   "metadata": {},
   "outputs": [
    {
     "name": "stdout",
     "output_type": "stream",
     "text": [
      "Alice|Peter|Greg*****"
     ]
    }
   ],
   "source": [
    "print(\"Alice\", \"Peter\", \"Greg\", sep=\"|\", end=\"*****\")"
   ]
  }
 ],
 "metadata": {
  "kernelspec": {
   "display_name": "Python 3 (ipykernel)",
   "language": "python",
   "name": "python3"
  },
  "language_info": {
   "codemirror_mode": {
    "name": "ipython",
    "version": 3
   },
   "file_extension": ".py",
   "mimetype": "text/x-python",
   "name": "python",
   "nbconvert_exporter": "python",
   "pygments_lexer": "ipython3",
   "version": "3.11.4"
  }
 },
 "nbformat": 4,
 "nbformat_minor": 5
}
