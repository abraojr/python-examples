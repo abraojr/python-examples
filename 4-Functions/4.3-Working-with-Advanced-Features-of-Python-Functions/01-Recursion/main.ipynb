{
 "cells": [
  {
   "cell_type": "code",
   "execution_count": 1,
   "id": "59062d03",
   "metadata": {},
   "outputs": [
    {
     "data": {
      "text/plain": [
       "3000"
      ]
     },
     "execution_count": 1,
     "metadata": {},
     "output_type": "execute_result"
    }
   ],
   "source": [
    "# Recursion: Invoking a function from within the function itself\n",
    "import sys\n",
    "sys.getrecursionlimit()"
   ]
  },
  {
   "cell_type": "code",
   "execution_count": 2,
   "id": "ade61872",
   "metadata": {},
   "outputs": [],
   "source": [
    "# Terminating condition: Ensure that your recurve invocation is terminated based on some condition\n",
    "def decrement(num):\n",
    "    \n",
    "    while num > 0:\n",
    "        print(num)\n",
    "        num -= 1"
   ]
  },
  {
   "cell_type": "code",
   "execution_count": 3,
   "id": "ba09e76d",
   "metadata": {},
   "outputs": [
    {
     "name": "stdout",
     "output_type": "stream",
     "text": [
      "10\n",
      "9\n",
      "8\n",
      "7\n",
      "6\n",
      "5\n",
      "4\n",
      "3\n",
      "2\n",
      "1\n"
     ]
    }
   ],
   "source": [
    "decrement(10)"
   ]
  },
  {
   "cell_type": "code",
   "execution_count": 4,
   "id": "d1a5e615",
   "metadata": {},
   "outputs": [],
   "source": [
    "def decrement(num):\n",
    "    \n",
    "    if num == 0:\n",
    "        return\n",
    "    \n",
    "    print(num)\n",
    "    decrement(num - 1)"
   ]
  },
  {
   "cell_type": "code",
   "execution_count": 5,
   "id": "ed43d519",
   "metadata": {},
   "outputs": [
    {
     "name": "stdout",
     "output_type": "stream",
     "text": [
      "10\n",
      "9\n",
      "8\n",
      "7\n",
      "6\n",
      "5\n",
      "4\n",
      "3\n",
      "2\n",
      "1\n"
     ]
    }
   ],
   "source": [
    "decrement(10)"
   ]
  },
  {
   "cell_type": "code",
   "execution_count": 6,
   "id": "fa450a86",
   "metadata": {},
   "outputs": [],
   "source": [
    "def recursive_sum(num):\n",
    "    \n",
    "    if num == 0:\n",
    "        return 0\n",
    "    \n",
    "    result = num + recursive_sum(num - 1)\n",
    "    \n",
    "    return result"
   ]
  },
  {
   "cell_type": "code",
   "execution_count": 7,
   "id": "8e4980e7",
   "metadata": {},
   "outputs": [
    {
     "data": {
      "text/plain": [
       "15"
      ]
     },
     "execution_count": 7,
     "metadata": {},
     "output_type": "execute_result"
    }
   ],
   "source": [
    "recursive_sum(5)"
   ]
  },
  {
   "cell_type": "code",
   "execution_count": 8,
   "id": "8a800236",
   "metadata": {},
   "outputs": [
    {
     "data": {
      "text/plain": [
       "6"
      ]
     },
     "execution_count": 8,
     "metadata": {},
     "output_type": "execute_result"
    }
   ],
   "source": [
    "recursive_sum(3)"
   ]
  },
  {
   "cell_type": "code",
   "execution_count": 9,
   "id": "70da4eae",
   "metadata": {},
   "outputs": [
    {
     "data": {
      "text/plain": [
       "55"
      ]
     },
     "execution_count": 9,
     "metadata": {},
     "output_type": "execute_result"
    }
   ],
   "source": [
    "recursive_sum(10)"
   ]
  },
  {
   "cell_type": "code",
   "execution_count": 10,
   "id": "34d3e09c",
   "metadata": {},
   "outputs": [],
   "source": [
    "def factorial(number):\n",
    "    \n",
    "    if number < 0:\n",
    "        print(\"Sorry, factorial does not exist for negative numbers\")\n",
    "        return\n",
    "    \n",
    "    if number == 0:\n",
    "        return 1\n",
    "    \n",
    "    return number * factorial(number - 1)"
   ]
  },
  {
   "cell_type": "code",
   "execution_count": 11,
   "id": "c8fe80a0",
   "metadata": {},
   "outputs": [
    {
     "data": {
      "text/plain": [
       "6"
      ]
     },
     "execution_count": 11,
     "metadata": {},
     "output_type": "execute_result"
    }
   ],
   "source": [
    "factorial(3)"
   ]
  },
  {
   "cell_type": "code",
   "execution_count": 12,
   "id": "85830f34",
   "metadata": {},
   "outputs": [
    {
     "data": {
      "text/plain": [
       "120"
      ]
     },
     "execution_count": 12,
     "metadata": {},
     "output_type": "execute_result"
    }
   ],
   "source": [
    "factorial(5)"
   ]
  },
  {
   "cell_type": "code",
   "execution_count": 13,
   "id": "3318ee04",
   "metadata": {},
   "outputs": [
    {
     "data": {
      "text/plain": [
       "3628800"
      ]
     },
     "execution_count": 13,
     "metadata": {},
     "output_type": "execute_result"
    }
   ],
   "source": [
    "factorial(10)"
   ]
  },
  {
   "cell_type": "code",
   "execution_count": 14,
   "id": "09c2425d",
   "metadata": {},
   "outputs": [],
   "source": [
    "def fibonacci(number, fib_series):\n",
    "    \n",
    "    if number < 2:\n",
    "        return\n",
    "    \n",
    "    l = len(fib_series)\n",
    "    \n",
    "    new_number = fib_series[l - 1] + fib_series[l - 2]\n",
    "    \n",
    "    fib_series.append(new_number)\n",
    "    \n",
    "    fibonacci(number - 1, fib_series)"
   ]
  },
  {
   "cell_type": "code",
   "execution_count": 15,
   "id": "1211a781",
   "metadata": {},
   "outputs": [],
   "source": [
    "series = [0, 1]\n",
    "\n",
    "fibonacci(4, series)"
   ]
  },
  {
   "cell_type": "code",
   "execution_count": 16,
   "id": "79ce45e3",
   "metadata": {},
   "outputs": [
    {
     "data": {
      "text/plain": [
       "[0, 1, 1, 2, 3]"
      ]
     },
     "execution_count": 16,
     "metadata": {},
     "output_type": "execute_result"
    }
   ],
   "source": [
    "series"
   ]
  },
  {
   "cell_type": "code",
   "execution_count": 17,
   "id": "da09c017",
   "metadata": {},
   "outputs": [],
   "source": [
    "series = [0, 1]\n",
    "\n",
    "fibonacci(10, series)"
   ]
  },
  {
   "cell_type": "code",
   "execution_count": 18,
   "id": "cee144d2",
   "metadata": {},
   "outputs": [
    {
     "data": {
      "text/plain": [
       "[0, 1, 1, 2, 3, 5, 8, 13, 21, 34, 55]"
      ]
     },
     "execution_count": 18,
     "metadata": {},
     "output_type": "execute_result"
    }
   ],
   "source": [
    "series"
   ]
  },
  {
   "cell_type": "code",
   "execution_count": 19,
   "id": "be35ece7",
   "metadata": {},
   "outputs": [],
   "source": [
    "def fibonacci(number, fib_series):\n",
    "    \n",
    "    if number < 2:\n",
    "        return\n",
    "    \n",
    "    l = len(fib_series)\n",
    "    \n",
    "    new_number = fib_series[l - 1] + fib_series[l - 2]\n",
    "    \n",
    "    fib_series.append(new_number)\n",
    "    \n",
    "    print(\"Series so far\", fib_series)\n",
    "    \n",
    "    fibonacci(number - 1, fib_series)"
   ]
  },
  {
   "cell_type": "code",
   "execution_count": 20,
   "id": "e745489d",
   "metadata": {},
   "outputs": [
    {
     "name": "stdout",
     "output_type": "stream",
     "text": [
      "Series so far [0, 1, 1]\n",
      "Series so far [0, 1, 1, 2]\n",
      "Series so far [0, 1, 1, 2, 3]\n",
      "Series so far [0, 1, 1, 2, 3, 5]\n",
      "Series so far [0, 1, 1, 2, 3, 5, 8]\n",
      "Series so far [0, 1, 1, 2, 3, 5, 8, 13]\n",
      "Series so far [0, 1, 1, 2, 3, 5, 8, 13, 21]\n",
      "Series so far [0, 1, 1, 2, 3, 5, 8, 13, 21, 34]\n",
      "Series so far [0, 1, 1, 2, 3, 5, 8, 13, 21, 34, 55]\n"
     ]
    }
   ],
   "source": [
    "series = [0, 1]\n",
    "\n",
    "fibonacci(10, series)"
   ]
  }
 ],
 "metadata": {
  "kernelspec": {
   "display_name": "Python 3 (ipykernel)",
   "language": "python",
   "name": "python3"
  },
  "language_info": {
   "codemirror_mode": {
    "name": "ipython",
    "version": 3
   },
   "file_extension": ".py",
   "mimetype": "text/x-python",
   "name": "python",
   "nbconvert_exporter": "python",
   "pygments_lexer": "ipython3",
   "version": "3.11.4"
  }
 },
 "nbformat": 4,
 "nbformat_minor": 5
}
