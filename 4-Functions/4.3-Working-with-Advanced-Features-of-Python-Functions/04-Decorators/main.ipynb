{
 "cells": [
  {
   "cell_type": "code",
   "execution_count": 1,
   "id": "ac925f81",
   "metadata": {},
   "outputs": [],
   "source": [
    "def print_message():\n",
    "    print(\"Yoohoo! Decorators are cool!\")"
   ]
  },
  {
   "cell_type": "code",
   "execution_count": 2,
   "id": "341ab772",
   "metadata": {},
   "outputs": [
    {
     "name": "stdout",
     "output_type": "stream",
     "text": [
      "Yoohoo! Decorators are cool!\n"
     ]
    }
   ],
   "source": [
    "print_message()"
   ]
  },
  {
   "cell_type": "code",
   "execution_count": 3,
   "id": "5b3882d1",
   "metadata": {},
   "outputs": [],
   "source": [
    "import random\n",
    "\n",
    "def highlight():\n",
    "    \n",
    "    annotations = ['-', '*', '+', ':', '^']\n",
    "    annotate = random.choice(annotations)\n",
    "    \n",
    "    print(annotate * 50)\n",
    "    \n",
    "    print_message()\n",
    "    \n",
    "    print(annotate * 50)"
   ]
  },
  {
   "cell_type": "code",
   "execution_count": 4,
   "id": "09c1fe6b",
   "metadata": {},
   "outputs": [
    {
     "name": "stdout",
     "output_type": "stream",
     "text": [
      "**************************************************\n",
      "Yoohoo! Decorators are cool!\n",
      "**************************************************\n"
     ]
    }
   ],
   "source": [
    "highlight()"
   ]
  },
  {
   "cell_type": "code",
   "execution_count": 5,
   "id": "0818943f",
   "metadata": {},
   "outputs": [],
   "source": [
    "def print_another_message():\n",
    "    print(\"Did you know? Decorators use closures\")"
   ]
  },
  {
   "cell_type": "code",
   "execution_count": 6,
   "id": "dfa63b08",
   "metadata": {},
   "outputs": [
    {
     "name": "stdout",
     "output_type": "stream",
     "text": [
      "++++++++++++++++++++++++++++++++++++++++++++++++++\n",
      "Yoohoo! Decorators are cool!\n",
      "++++++++++++++++++++++++++++++++++++++++++++++++++\n"
     ]
    }
   ],
   "source": [
    "highlight()"
   ]
  },
  {
   "cell_type": "code",
   "execution_count": 7,
   "id": "fb405f78",
   "metadata": {},
   "outputs": [],
   "source": [
    "def make_highlighted(func):\n",
    "    \n",
    "    annotations = ['-', '*', '+', ':', '^']\n",
    "    annotate = random.choice(annotations)\n",
    "    \n",
    "    def highlight():\n",
    "        print(annotate * 50)\n",
    "        \n",
    "        func()\n",
    "    \n",
    "        print(annotate * 50)\n",
    "        \n",
    "    return highlight"
   ]
  },
  {
   "cell_type": "code",
   "execution_count": 8,
   "id": "6ffbb56d",
   "metadata": {},
   "outputs": [
    {
     "name": "stdout",
     "output_type": "stream",
     "text": [
      "Yoohoo! Decorators are cool!\n"
     ]
    }
   ],
   "source": [
    "print_message()"
   ]
  },
  {
   "cell_type": "code",
   "execution_count": 9,
   "id": "c11c32ed",
   "metadata": {},
   "outputs": [
    {
     "name": "stdout",
     "output_type": "stream",
     "text": [
      "Did you know? Decorators use closures\n"
     ]
    }
   ],
   "source": [
    "print_another_message()"
   ]
  },
  {
   "cell_type": "code",
   "execution_count": 10,
   "id": "70510a03",
   "metadata": {},
   "outputs": [
    {
     "name": "stdout",
     "output_type": "stream",
     "text": [
      "++++++++++++++++++++++++++++++++++++++++++++++++++\n",
      "Yoohoo! Decorators are cool!\n",
      "++++++++++++++++++++++++++++++++++++++++++++++++++\n"
     ]
    }
   ],
   "source": [
    "highlight_and_print_message = make_highlighted(print_message)\n",
    "\n",
    "highlight_and_print_message()"
   ]
  },
  {
   "cell_type": "code",
   "execution_count": 11,
   "id": "ffbd94c3",
   "metadata": {},
   "outputs": [
    {
     "name": "stdout",
     "output_type": "stream",
     "text": [
      "++++++++++++++++++++++++++++++++++++++++++++++++++\n",
      "Did you know? Decorators use closures\n",
      "++++++++++++++++++++++++++++++++++++++++++++++++++\n"
     ]
    }
   ],
   "source": [
    "highlight_and_print_another_message = make_highlighted(print_another_message)\n",
    "\n",
    "highlight_and_print_another_message()"
   ]
  },
  {
   "cell_type": "code",
   "execution_count": 12,
   "id": "6a035283",
   "metadata": {},
   "outputs": [],
   "source": [
    "@make_highlighted\n",
    "def print_a_third_message():\n",
    "    print(\"Now you'll see how decoratorsa are used\")"
   ]
  },
  {
   "cell_type": "code",
   "execution_count": 13,
   "id": "52ba6429",
   "metadata": {},
   "outputs": [
    {
     "name": "stdout",
     "output_type": "stream",
     "text": [
      "++++++++++++++++++++++++++++++++++++++++++++++++++\n",
      "Now you'll see how decoratorsa are used\n",
      "++++++++++++++++++++++++++++++++++++++++++++++++++\n"
     ]
    }
   ],
   "source": [
    "print_a_third_message()"
   ]
  },
  {
   "cell_type": "code",
   "execution_count": 14,
   "id": "f64513c5",
   "metadata": {},
   "outputs": [],
   "source": [
    "@make_highlighted\n",
    "def print_any_message():\n",
    "    print(\"This is an important result that needs to be highlighted!\")"
   ]
  },
  {
   "cell_type": "code",
   "execution_count": 15,
   "id": "3914d284",
   "metadata": {},
   "outputs": [
    {
     "name": "stdout",
     "output_type": "stream",
     "text": [
      "--------------------------------------------------\n",
      "This is an important result that needs to be highlighted!\n",
      "--------------------------------------------------\n"
     ]
    }
   ],
   "source": [
    "print_any_message()"
   ]
  },
  {
   "cell_type": "code",
   "execution_count": 16,
   "id": "69785618",
   "metadata": {},
   "outputs": [],
   "source": [
    "import math\n",
    "\n",
    "def area_circle_fn(radius):\n",
    "    \n",
    "    return math.pi * radius * radius"
   ]
  },
  {
   "cell_type": "code",
   "execution_count": 17,
   "id": "88902963",
   "metadata": {},
   "outputs": [],
   "source": [
    "def perimeter_circle_fn(radius):\n",
    "    \n",
    "    return 2 * math.pi * radius"
   ]
  },
  {
   "cell_type": "code",
   "execution_count": 18,
   "id": "997f615b",
   "metadata": {},
   "outputs": [],
   "source": [
    "def diameter_circle_fn(radius):\n",
    "    \n",
    "    return 2 * radius"
   ]
  },
  {
   "cell_type": "code",
   "execution_count": 19,
   "id": "d8a503f1",
   "metadata": {},
   "outputs": [
    {
     "data": {
      "text/plain": [
       "78.53981633974483"
      ]
     },
     "execution_count": 19,
     "metadata": {},
     "output_type": "execute_result"
    }
   ],
   "source": [
    "area_circle_fn(5)"
   ]
  },
  {
   "cell_type": "code",
   "execution_count": 20,
   "id": "dc6a6504",
   "metadata": {},
   "outputs": [
    {
     "data": {
      "text/plain": [
       "3.141592653589793"
      ]
     },
     "execution_count": 20,
     "metadata": {},
     "output_type": "execute_result"
    }
   ],
   "source": [
    "area_circle_fn(-1)"
   ]
  },
  {
   "cell_type": "code",
   "execution_count": 21,
   "id": "8538b1db",
   "metadata": {},
   "outputs": [],
   "source": [
    "def safe_calculate(func):\n",
    "    \n",
    "    def calculate(r):\n",
    "        if r <= 0:\n",
    "            raise ValueError(\"Radius cannot be negative or zero\")\n",
    "            \n",
    "        return func(r)\n",
    "    \n",
    "    return calculate"
   ]
  },
  {
   "cell_type": "code",
   "execution_count": 22,
   "id": "9ba409c0",
   "metadata": {},
   "outputs": [],
   "source": [
    "area_circle_safe = safe_calculate(area_circle_fn)"
   ]
  },
  {
   "cell_type": "code",
   "execution_count": 23,
   "id": "0051911d",
   "metadata": {},
   "outputs": [
    {
     "data": {
      "text/plain": [
       "78.53981633974483"
      ]
     },
     "execution_count": 23,
     "metadata": {},
     "output_type": "execute_result"
    }
   ],
   "source": [
    "area_circle_safe(5)"
   ]
  },
  {
   "cell_type": "code",
   "execution_count": null,
   "id": "d1378877",
   "metadata": {},
   "outputs": [],
   "source": [
    "# Will throw a customized error\n",
    "area_circle_safe(-1)"
   ]
  },
  {
   "cell_type": "code",
   "execution_count": 25,
   "id": "2b48f109",
   "metadata": {},
   "outputs": [
    {
     "data": {
      "text/plain": [
       "62.83185307179586"
      ]
     },
     "execution_count": 25,
     "metadata": {},
     "output_type": "execute_result"
    }
   ],
   "source": [
    "perimeter_circle_safe = safe_calculate(perimeter_circle_fn)\n",
    "\n",
    "perimeter_circle_safe(10)"
   ]
  },
  {
   "cell_type": "code",
   "execution_count": null,
   "id": "a154b79d",
   "metadata": {},
   "outputs": [],
   "source": [
    "# Will throw a customized error\n",
    "perimeter_circle_safe(-10)"
   ]
  },
  {
   "cell_type": "code",
   "execution_count": 27,
   "id": "bbd2c7fd",
   "metadata": {},
   "outputs": [],
   "source": [
    "@safe_calculate\n",
    "def area_circle_fn(radius):\n",
    "    return math.pi * radius * radius\n",
    "\n",
    "@safe_calculate\n",
    "def perimeter_circle_fn(radius):\n",
    "    return 2 * math.pi * radius"
   ]
  },
  {
   "cell_type": "code",
   "execution_count": 28,
   "id": "73f73037",
   "metadata": {},
   "outputs": [
    {
     "data": {
      "text/plain": [
       "18.84955592153876"
      ]
     },
     "execution_count": 28,
     "metadata": {},
     "output_type": "execute_result"
    }
   ],
   "source": [
    "perimeter_circle_fn(3)"
   ]
  },
  {
   "cell_type": "code",
   "execution_count": null,
   "id": "266a2159",
   "metadata": {},
   "outputs": [],
   "source": [
    "# Will throw a customized error\n",
    "perimeter_circle_fn(-3)"
   ]
  },
  {
   "cell_type": "code",
   "execution_count": 30,
   "id": "5726a093",
   "metadata": {},
   "outputs": [],
   "source": [
    "@safe_calculate\n",
    "def area_rectangle_fn(length, breadth):\n",
    "    return length * breadth"
   ]
  },
  {
   "cell_type": "code",
   "execution_count": null,
   "id": "fe7e31da",
   "metadata": {},
   "outputs": [],
   "source": [
    "# Will throw an error\n",
    "area_rectangle_fn(4, 5)"
   ]
  },
  {
   "cell_type": "code",
   "execution_count": 32,
   "id": "202fc82d",
   "metadata": {},
   "outputs": [],
   "source": [
    "def safe_calculate_all(func):\n",
    "    \n",
    "    def calculate(*args):\n",
    "        \n",
    "        for arg in args:\n",
    "            if arg <= 0:\n",
    "                raise ValueError(\"Radius cannot be negative or zero\")\n",
    "            \n",
    "        return func(*args)\n",
    "    \n",
    "    return calculate"
   ]
  },
  {
   "cell_type": "code",
   "execution_count": 33,
   "id": "d2030b2e",
   "metadata": {},
   "outputs": [],
   "source": [
    "@safe_calculate_all\n",
    "def area_rectangle_fn(length, breadth):\n",
    "    return length * breadth\n",
    "\n",
    "@safe_calculate_all\n",
    "def perimeter_rectangle_fn(length, breadth):\n",
    "    return 2 * (length + breadth)"
   ]
  },
  {
   "cell_type": "code",
   "execution_count": 34,
   "id": "812d4f31",
   "metadata": {},
   "outputs": [
    {
     "data": {
      "text/plain": [
       "20"
      ]
     },
     "execution_count": 34,
     "metadata": {},
     "output_type": "execute_result"
    }
   ],
   "source": [
    "area_rectangle_fn(5, 4)"
   ]
  },
  {
   "cell_type": "code",
   "execution_count": null,
   "id": "45694b44",
   "metadata": {},
   "outputs": [],
   "source": [
    "# Will throw a customized error\n",
    "area_rectangle_fn(5, -4)"
   ]
  },
  {
   "cell_type": "code",
   "execution_count": null,
   "id": "00aa070c",
   "metadata": {},
   "outputs": [],
   "source": [
    "# Will throw a customized error\n",
    "area_rectangle_fn(-5, 4)"
   ]
  },
  {
   "cell_type": "code",
   "execution_count": 37,
   "id": "5cbf3fb3",
   "metadata": {},
   "outputs": [
    {
     "data": {
      "text/plain": [
       "18"
      ]
     },
     "execution_count": 37,
     "metadata": {},
     "output_type": "execute_result"
    }
   ],
   "source": [
    "perimeter_rectangle_fn(5, 4)"
   ]
  },
  {
   "cell_type": "code",
   "execution_count": null,
   "id": "baba9401",
   "metadata": {},
   "outputs": [],
   "source": [
    "# Will throw a customized error\n",
    "perimeter_rectangle_fn(5, -4)"
   ]
  },
  {
   "cell_type": "code",
   "execution_count": null,
   "id": "3af4b837",
   "metadata": {},
   "outputs": [],
   "source": [
    "# Will throw a customized error\n",
    "perimeter_rectangle_fn(-5, 4)"
   ]
  },
  {
   "cell_type": "code",
   "execution_count": 40,
   "id": "38bfc115",
   "metadata": {},
   "outputs": [],
   "source": [
    "@safe_calculate_all\n",
    "def perimeter_circle_fn(radius):\n",
    "    return 2 * math.pi * radius"
   ]
  },
  {
   "cell_type": "code",
   "execution_count": 41,
   "id": "9228b887",
   "metadata": {},
   "outputs": [
    {
     "data": {
      "text/plain": [
       "25.132741228718345"
      ]
     },
     "execution_count": 41,
     "metadata": {},
     "output_type": "execute_result"
    }
   ],
   "source": [
    "perimeter_circle_fn(4)"
   ]
  },
  {
   "cell_type": "code",
   "execution_count": null,
   "id": "35053652",
   "metadata": {},
   "outputs": [],
   "source": [
    "# Will throw a customized error\n",
    "perimeter_circle_fn(-4)"
   ]
  },
  {
   "cell_type": "code",
   "execution_count": 43,
   "id": "37f90702",
   "metadata": {},
   "outputs": [],
   "source": [
    "def asterisk_highlight(func):\n",
    "    \n",
    "    def highlight():\n",
    "        print(\"*\" * 50)\n",
    "        \n",
    "        func()\n",
    "    \n",
    "        print(\"*\" * 50)\n",
    "        \n",
    "    return highlight"
   ]
  },
  {
   "cell_type": "code",
   "execution_count": 44,
   "id": "f57be4c6",
   "metadata": {},
   "outputs": [],
   "source": [
    "def plus_highlight(func):\n",
    "    \n",
    "    def highlight():\n",
    "        print(\"+\" * 50)\n",
    "        \n",
    "        func()\n",
    "    \n",
    "        print(\"+\" * 50)\n",
    "        \n",
    "    return highlight"
   ]
  },
  {
   "cell_type": "code",
   "execution_count": 45,
   "id": "2e67a608",
   "metadata": {},
   "outputs": [],
   "source": [
    "@asterisk_highlight\n",
    "def print_message_one():\n",
    "    print(\"Yoohoo! Decorators are cool!\")"
   ]
  },
  {
   "cell_type": "code",
   "execution_count": 46,
   "id": "6c6dd362",
   "metadata": {},
   "outputs": [
    {
     "name": "stdout",
     "output_type": "stream",
     "text": [
      "**************************************************\n",
      "Yoohoo! Decorators are cool!\n",
      "**************************************************\n"
     ]
    }
   ],
   "source": [
    "print_message_one()"
   ]
  },
  {
   "cell_type": "code",
   "execution_count": 47,
   "id": "ce7b08a0",
   "metadata": {},
   "outputs": [],
   "source": [
    "@plus_highlight\n",
    "@asterisk_highlight\n",
    "def print_message_one():\n",
    "    print(\"Yoohoo! Decorators are cool!\")"
   ]
  },
  {
   "cell_type": "code",
   "execution_count": 48,
   "id": "28a4e413",
   "metadata": {},
   "outputs": [
    {
     "name": "stdout",
     "output_type": "stream",
     "text": [
      "++++++++++++++++++++++++++++++++++++++++++++++++++\n",
      "**************************************************\n",
      "Yoohoo! Decorators are cool!\n",
      "**************************************************\n",
      "++++++++++++++++++++++++++++++++++++++++++++++++++\n"
     ]
    }
   ],
   "source": [
    "print_message_one()"
   ]
  },
  {
   "cell_type": "code",
   "execution_count": 49,
   "id": "fea0bdec",
   "metadata": {},
   "outputs": [],
   "source": [
    "@asterisk_highlight\n",
    "@plus_highlight\n",
    "def print_message_one():\n",
    "    print(\"Yoohoo! Decorators are cool!\")"
   ]
  },
  {
   "cell_type": "code",
   "execution_count": 50,
   "id": "abad2de0",
   "metadata": {},
   "outputs": [
    {
     "name": "stdout",
     "output_type": "stream",
     "text": [
      "**************************************************\n",
      "++++++++++++++++++++++++++++++++++++++++++++++++++\n",
      "Yoohoo! Decorators are cool!\n",
      "++++++++++++++++++++++++++++++++++++++++++++++++++\n",
      "**************************************************\n"
     ]
    }
   ],
   "source": [
    "print_message_one()"
   ]
  },
  {
   "cell_type": "code",
   "execution_count": null,
   "id": "4bc71bfc",
   "metadata": {},
   "outputs": [],
   "source": []
  }
 ],
 "metadata": {
  "kernelspec": {
   "display_name": "Python 3 (ipykernel)",
   "language": "python",
   "name": "python3"
  },
  "language_info": {
   "codemirror_mode": {
    "name": "ipython",
    "version": 3
   },
   "file_extension": ".py",
   "mimetype": "text/x-python",
   "name": "python",
   "nbconvert_exporter": "python",
   "pygments_lexer": "ipython3",
   "version": "3.11.4"
  }
 },
 "nbformat": 4,
 "nbformat_minor": 5
}
