{
 "cells": [
  {
   "cell_type": "code",
   "execution_count": 1,
   "id": "00111a84",
   "metadata": {},
   "outputs": [],
   "source": [
    "# Closures are nested functions defined within an outer function\n",
    "def nested_hello_fn():\n",
    "    \n",
    "    def hello():\n",
    "        print(\"Hello Cathy\")\n",
    "        \n",
    "    hello()"
   ]
  },
  {
   "cell_type": "code",
   "execution_count": 2,
   "id": "2d23aaab",
   "metadata": {},
   "outputs": [
    {
     "name": "stdout",
     "output_type": "stream",
     "text": [
      "Hello Cathy\n"
     ]
    }
   ],
   "source": [
    "nested_hello_fn()"
   ]
  },
  {
   "cell_type": "code",
   "execution_count": null,
   "id": "f52d69b3",
   "metadata": {},
   "outputs": [],
   "source": [
    "# Will throw an error\n",
    "hello()"
   ]
  },
  {
   "cell_type": "code",
   "execution_count": 4,
   "id": "0f6af33b",
   "metadata": {},
   "outputs": [],
   "source": [
    "def get_hello_fn():\n",
    "    \n",
    "    def hello():\n",
    "        print(\"Hello Cathy\")\n",
    "        \n",
    "    return hello"
   ]
  },
  {
   "cell_type": "code",
   "execution_count": 5,
   "id": "7867d91e",
   "metadata": {},
   "outputs": [
    {
     "data": {
      "text/plain": [
       "<function __main__.get_hello_fn.<locals>.hello()>"
      ]
     },
     "execution_count": 5,
     "metadata": {},
     "output_type": "execute_result"
    }
   ],
   "source": [
    "hello_fn = get_hello_fn()\n",
    "\n",
    "hello_fn"
   ]
  },
  {
   "cell_type": "code",
   "execution_count": 6,
   "id": "23dd81e1",
   "metadata": {},
   "outputs": [
    {
     "name": "stdout",
     "output_type": "stream",
     "text": [
      "Hello Cathy\n"
     ]
    }
   ],
   "source": [
    "hello_fn()"
   ]
  },
  {
   "cell_type": "code",
   "execution_count": 7,
   "id": "2504aa1a",
   "metadata": {},
   "outputs": [],
   "source": [
    "def greet_hello_by_name(name):\n",
    "    \n",
    "    def hello():\n",
    "        print(\"Hello!\", name)\n",
    "        \n",
    "    hello()\n",
    "    \n",
    "    return hello"
   ]
  },
  {
   "cell_type": "code",
   "execution_count": 8,
   "id": "ae59bbc6",
   "metadata": {},
   "outputs": [
    {
     "name": "stdout",
     "output_type": "stream",
     "text": [
      "Hello! Chris\n"
     ]
    }
   ],
   "source": [
    "greet_hello_fn = greet_hello_by_name(\"Chris\")"
   ]
  },
  {
   "cell_type": "code",
   "execution_count": 9,
   "id": "06bdc6a3",
   "metadata": {},
   "outputs": [
    {
     "data": {
      "text/plain": [
       "<function __main__.greet_hello_by_name.<locals>.hello()>"
      ]
     },
     "execution_count": 9,
     "metadata": {},
     "output_type": "execute_result"
    }
   ],
   "source": [
    "greet_hello_fn"
   ]
  },
  {
   "cell_type": "code",
   "execution_count": 10,
   "id": "dcf82ba7",
   "metadata": {},
   "outputs": [
    {
     "name": "stdout",
     "output_type": "stream",
     "text": [
      "Hello! Chris\n"
     ]
    }
   ],
   "source": [
    "greet_hello_fn()"
   ]
  },
  {
   "cell_type": "code",
   "execution_count": 11,
   "id": "0d37dc8f",
   "metadata": {},
   "outputs": [],
   "source": [
    "def greet_by_name(name):\n",
    "    \n",
    "    greeting_msg = \"Hi there!\"\n",
    "    \n",
    "    def greeting():\n",
    "        print(greeting_msg, name)\n",
    "        \n",
    "    return greeting"
   ]
  },
  {
   "cell_type": "code",
   "execution_count": 12,
   "id": "491662ad",
   "metadata": {},
   "outputs": [],
   "source": [
    "greet_fn = greet_by_name(\"Alex\")"
   ]
  },
  {
   "cell_type": "code",
   "execution_count": 13,
   "id": "c1178308",
   "metadata": {},
   "outputs": [
    {
     "name": "stdout",
     "output_type": "stream",
     "text": [
      "Hi there! Alex\n"
     ]
    }
   ],
   "source": [
    "greet_fn()"
   ]
  },
  {
   "cell_type": "code",
   "execution_count": 14,
   "id": "33ba1bfb",
   "metadata": {},
   "outputs": [],
   "source": [
    "del greet_by_name"
   ]
  },
  {
   "cell_type": "code",
   "execution_count": null,
   "id": "34d82d00",
   "metadata": {},
   "outputs": [],
   "source": [
    "# Will throw an error\n",
    "greet_by_name(\"Alex\")"
   ]
  },
  {
   "cell_type": "code",
   "execution_count": 16,
   "id": "fbade312",
   "metadata": {},
   "outputs": [
    {
     "name": "stdout",
     "output_type": "stream",
     "text": [
      "Hi there! Alex\n"
     ]
    }
   ],
   "source": [
    "greet_fn()"
   ]
  },
  {
   "cell_type": "code",
   "execution_count": 17,
   "id": "cd75c4c2",
   "metadata": {},
   "outputs": [],
   "source": [
    "import random\n",
    "\n",
    "def greet_with_personal_message(name, message):\n",
    "    \n",
    "    annotations = ['-', '*', '+', ':', '^']\n",
    "    annotate = random.choice(annotations)\n",
    "    \n",
    "    def greeting():\n",
    "        print(annotate * 50)\n",
    "        print(message, name)\n",
    "        print(annotate * 50)\n",
    "        \n",
    "    return greeting"
   ]
  },
  {
   "cell_type": "code",
   "execution_count": 18,
   "id": "09df48bf",
   "metadata": {},
   "outputs": [],
   "source": [
    "greet_greg_fn =  greet_with_personal_message(\"Greg\", \"Hello!\")"
   ]
  },
  {
   "cell_type": "code",
   "execution_count": 19,
   "id": "12c63461",
   "metadata": {},
   "outputs": [],
   "source": [
    "greet_claudia_fn =  greet_with_personal_message(\"Claudia\", \"Good morning!\")"
   ]
  },
  {
   "cell_type": "code",
   "execution_count": 20,
   "id": "59a0db6c",
   "metadata": {},
   "outputs": [],
   "source": [
    "greet_jon_fn =  greet_with_personal_message(\"Jon\", \"Hey!\")"
   ]
  },
  {
   "cell_type": "code",
   "execution_count": 21,
   "id": "0b18e42a",
   "metadata": {},
   "outputs": [
    {
     "name": "stdout",
     "output_type": "stream",
     "text": [
      "--------------------------------------------------\n",
      "Hello! Greg\n",
      "--------------------------------------------------\n"
     ]
    }
   ],
   "source": [
    "greet_greg_fn()"
   ]
  },
  {
   "cell_type": "code",
   "execution_count": 22,
   "id": "4d58f425",
   "metadata": {},
   "outputs": [
    {
     "name": "stdout",
     "output_type": "stream",
     "text": [
      "++++++++++++++++++++++++++++++++++++++++++++++++++\n",
      "Good morning! Claudia\n",
      "++++++++++++++++++++++++++++++++++++++++++++++++++\n"
     ]
    }
   ],
   "source": [
    "greet_claudia_fn()"
   ]
  },
  {
   "cell_type": "code",
   "execution_count": 23,
   "id": "672248e5",
   "metadata": {},
   "outputs": [
    {
     "name": "stdout",
     "output_type": "stream",
     "text": [
      "::::::::::::::::::::::::::::::::::::::::::::::::::\n",
      "Hey! Jon\n",
      "::::::::::::::::::::::::::::::::::::::::::::::::::\n"
     ]
    }
   ],
   "source": [
    "greet_jon_fn()"
   ]
  },
  {
   "cell_type": "code",
   "execution_count": 24,
   "id": "9acde6bc",
   "metadata": {},
   "outputs": [
    {
     "name": "stdout",
     "output_type": "stream",
     "text": [
      "--------------------------------------------------\n",
      "Hello! Greg\n",
      "--------------------------------------------------\n"
     ]
    }
   ],
   "source": [
    "greet_greg_fn()"
   ]
  },
  {
   "cell_type": "code",
   "execution_count": null,
   "id": "ba347d1d",
   "metadata": {},
   "outputs": [],
   "source": [
    "del greet_with_personal_message\n",
    "\n",
    "# Will throw an error\n",
    "greet_with_personal_message(\"Greg\", \"Hello!\")"
   ]
  },
  {
   "cell_type": "code",
   "execution_count": 26,
   "id": "99fb3bcd",
   "metadata": {},
   "outputs": [
    {
     "name": "stdout",
     "output_type": "stream",
     "text": [
      "--------------------------------------------------\n",
      "Hello! Greg\n",
      "--------------------------------------------------\n"
     ]
    }
   ],
   "source": [
    "greet_greg_fn()"
   ]
  },
  {
   "cell_type": "code",
   "execution_count": 27,
   "id": "5dffb688",
   "metadata": {},
   "outputs": [
    {
     "name": "stdout",
     "output_type": "stream",
     "text": [
      "++++++++++++++++++++++++++++++++++++++++++++++++++\n",
      "Good morning! Claudia\n",
      "++++++++++++++++++++++++++++++++++++++++++++++++++\n"
     ]
    }
   ],
   "source": [
    "greet_claudia_fn()"
   ]
  },
  {
   "cell_type": "code",
   "execution_count": 28,
   "id": "508b7eea",
   "metadata": {},
   "outputs": [],
   "source": [
    "def enroll_in_college(college_name):\n",
    "    \n",
    "    student_list = []\n",
    "    \n",
    "    def enroll_student(student_name):\n",
    "        \n",
    "        student_list.append(student_name)\n",
    "        print(\"Student\", student_name, \"has been enrolled in\", college_name)\n",
    "        print(\"Current students\", student_list, end=\"\\n\\n\")\n",
    "        \n",
    "    return enroll_student"
   ]
  },
  {
   "cell_type": "code",
   "execution_count": 29,
   "id": "ee1ed167",
   "metadata": {},
   "outputs": [],
   "source": [
    "enroll_in_yale_fn = enroll_in_college(\"Yale\")"
   ]
  },
  {
   "cell_type": "code",
   "execution_count": 30,
   "id": "37629cc7",
   "metadata": {},
   "outputs": [],
   "source": [
    "enroll_in_duke_fn = enroll_in_college(\"Duke\")"
   ]
  },
  {
   "cell_type": "code",
   "execution_count": 31,
   "id": "7c4757fd",
   "metadata": {},
   "outputs": [
    {
     "name": "stdout",
     "output_type": "stream",
     "text": [
      "Student Sam has been enrolled in Yale\n",
      "Current students ['Sam']\n",
      "\n"
     ]
    }
   ],
   "source": [
    "enroll_in_yale_fn(\"Sam\")"
   ]
  },
  {
   "cell_type": "code",
   "execution_count": 32,
   "id": "0539fe97",
   "metadata": {},
   "outputs": [
    {
     "name": "stdout",
     "output_type": "stream",
     "text": [
      "Student Jill has been enrolled in Duke\n",
      "Current students ['Jill']\n",
      "\n"
     ]
    }
   ],
   "source": [
    "enroll_in_duke_fn(\"Jill\")"
   ]
  },
  {
   "cell_type": "code",
   "execution_count": 33,
   "id": "bb093f5c",
   "metadata": {},
   "outputs": [
    {
     "name": "stdout",
     "output_type": "stream",
     "text": [
      "Student Donald has been enrolled in Yale\n",
      "Current students ['Sam', 'Donald']\n",
      "\n",
      "Student John has been enrolled in Yale\n",
      "Current students ['Sam', 'Donald', 'John']\n",
      "\n",
      "Student Trisha has been enrolled in Yale\n",
      "Current students ['Sam', 'Donald', 'John', 'Trisha']\n",
      "\n"
     ]
    }
   ],
   "source": [
    "enroll_in_yale_fn(\"Donald\")\n",
    "enroll_in_yale_fn(\"John\")\n",
    "enroll_in_yale_fn(\"Trisha\")"
   ]
  },
  {
   "cell_type": "code",
   "execution_count": 34,
   "id": "ccc71bf7",
   "metadata": {},
   "outputs": [
    {
     "name": "stdout",
     "output_type": "stream",
     "text": [
      "Student Olga has been enrolled in Duke\n",
      "Current students ['Jill', 'Olga']\n",
      "\n",
      "Student Steven has been enrolled in Duke\n",
      "Current students ['Jill', 'Olga', 'Steven']\n",
      "\n"
     ]
    }
   ],
   "source": [
    "enroll_in_duke_fn(\"Olga\")\n",
    "enroll_in_duke_fn(\"Steven\")"
   ]
  }
 ],
 "metadata": {
  "kernelspec": {
   "display_name": "Python 3 (ipykernel)",
   "language": "python",
   "name": "python3"
  },
  "language_info": {
   "codemirror_mode": {
    "name": "ipython",
    "version": 3
   },
   "file_extension": ".py",
   "mimetype": "text/x-python",
   "name": "python",
   "nbconvert_exporter": "python",
   "pygments_lexer": "ipython3",
   "version": "3.11.4"
  }
 },
 "nbformat": 4,
 "nbformat_minor": 5
}
