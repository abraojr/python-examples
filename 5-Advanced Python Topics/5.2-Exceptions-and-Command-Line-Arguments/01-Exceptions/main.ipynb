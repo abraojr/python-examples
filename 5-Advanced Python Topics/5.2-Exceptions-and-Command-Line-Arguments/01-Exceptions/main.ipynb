{
 "cells": [
  {
   "cell_type": "code",
   "execution_count": 1,
   "id": "92f1f4a1",
   "metadata": {},
   "outputs": [
    {
     "ename": "NameError",
     "evalue": "name 'variable' is not defined",
     "output_type": "error",
     "traceback": [
      "\u001b[1;31m---------------------------------------------------------------------------\u001b[0m",
      "\u001b[1;31mNameError\u001b[0m                                 Traceback (most recent call last)",
      "Cell \u001b[1;32mIn[1], line 1\u001b[0m\n\u001b[1;32m----> 1\u001b[0m \u001b[38;5;28mprint\u001b[39m(\u001b[43mvariable\u001b[49m)\n",
      "\u001b[1;31mNameError\u001b[0m: name 'variable' is not defined"
     ]
    }
   ],
   "source": [
    "print(variable)"
   ]
  },
  {
   "cell_type": "code",
   "execution_count": 2,
   "id": "ce24f507",
   "metadata": {},
   "outputs": [
    {
     "name": "stdout",
     "output_type": "stream",
     "text": [
      "Exception occurred(Name Error), because 'variable' was not defined\n"
     ]
    }
   ],
   "source": [
    "try:\n",
    "    print(variable)\n",
    "    \n",
    "except:\n",
    "    print(\"Exception occurred(Name Error), because 'variable' was not defined\")"
   ]
  },
  {
   "cell_type": "code",
   "execution_count": 3,
   "id": "75b56c62",
   "metadata": {},
   "outputs": [
    {
     "name": "stdout",
     "output_type": "stream",
     "text": [
      "Variable is not defined\n"
     ]
    }
   ],
   "source": [
    "try:\n",
    "    print(variable)\n",
    "    \n",
    "except NameError:\n",
    "    print(\"Variable is not defined\")\n",
    "    \n",
    "except:\n",
    "    print(\"An unknown error has occurred\")"
   ]
  },
  {
   "cell_type": "code",
   "execution_count": 4,
   "id": "e6e5d205",
   "metadata": {},
   "outputs": [
    {
     "ename": "FileNotFoundError",
     "evalue": "[Errno 2] No such file or directory: 'nonexistent_file'",
     "output_type": "error",
     "traceback": [
      "\u001b[1;31m---------------------------------------------------------------------------\u001b[0m",
      "\u001b[1;31mFileNotFoundError\u001b[0m                         Traceback (most recent call last)",
      "Cell \u001b[1;32mIn[4], line 1\u001b[0m\n\u001b[1;32m----> 1\u001b[0m f \u001b[38;5;241m=\u001b[39m \u001b[38;5;28;43mopen\u001b[39;49m\u001b[43m(\u001b[49m\u001b[38;5;124;43m\"\u001b[39;49m\u001b[38;5;124;43mnonexistent_file\u001b[39;49m\u001b[38;5;124;43m\"\u001b[39;49m\u001b[43m)\u001b[49m\n",
      "File \u001b[1;32m~\\AppData\\Roaming\\Python\\Python311\\site-packages\\IPython\\core\\interactiveshell.py:284\u001b[0m, in \u001b[0;36m_modified_open\u001b[1;34m(file, *args, **kwargs)\u001b[0m\n\u001b[0;32m    277\u001b[0m \u001b[38;5;28;01mif\u001b[39;00m file \u001b[38;5;129;01min\u001b[39;00m {\u001b[38;5;241m0\u001b[39m, \u001b[38;5;241m1\u001b[39m, \u001b[38;5;241m2\u001b[39m}:\n\u001b[0;32m    278\u001b[0m     \u001b[38;5;28;01mraise\u001b[39;00m \u001b[38;5;167;01mValueError\u001b[39;00m(\n\u001b[0;32m    279\u001b[0m         \u001b[38;5;124mf\u001b[39m\u001b[38;5;124m\"\u001b[39m\u001b[38;5;124mIPython won\u001b[39m\u001b[38;5;124m'\u001b[39m\u001b[38;5;124mt let you open fd=\u001b[39m\u001b[38;5;132;01m{\u001b[39;00mfile\u001b[38;5;132;01m}\u001b[39;00m\u001b[38;5;124m by default \u001b[39m\u001b[38;5;124m\"\u001b[39m\n\u001b[0;32m    280\u001b[0m         \u001b[38;5;124m\"\u001b[39m\u001b[38;5;124mas it is likely to crash IPython. If you know what you are doing, \u001b[39m\u001b[38;5;124m\"\u001b[39m\n\u001b[0;32m    281\u001b[0m         \u001b[38;5;124m\"\u001b[39m\u001b[38;5;124myou can use builtins\u001b[39m\u001b[38;5;124m'\u001b[39m\u001b[38;5;124m open.\u001b[39m\u001b[38;5;124m\"\u001b[39m\n\u001b[0;32m    282\u001b[0m     )\n\u001b[1;32m--> 284\u001b[0m \u001b[38;5;28;01mreturn\u001b[39;00m \u001b[43mio_open\u001b[49m\u001b[43m(\u001b[49m\u001b[43mfile\u001b[49m\u001b[43m,\u001b[49m\u001b[43m \u001b[49m\u001b[38;5;241;43m*\u001b[39;49m\u001b[43margs\u001b[49m\u001b[43m,\u001b[49m\u001b[43m \u001b[49m\u001b[38;5;241;43m*\u001b[39;49m\u001b[38;5;241;43m*\u001b[39;49m\u001b[43mkwargs\u001b[49m\u001b[43m)\u001b[49m\n",
      "\u001b[1;31mFileNotFoundError\u001b[0m: [Errno 2] No such file or directory: 'nonexistent_file'"
     ]
    }
   ],
   "source": [
    "f = open(\"nonexistent_file\")"
   ]
  },
  {
   "cell_type": "code",
   "execution_count": 5,
   "id": "35c76a85",
   "metadata": {},
   "outputs": [
    {
     "name": "stdout",
     "output_type": "stream",
     "text": [
      "No such file\n"
     ]
    }
   ],
   "source": [
    "try:\n",
    "    f = open(\"nonexistent_file\")\n",
    "    \n",
    "except FileNotFoundError:\n",
    "    print(\"No such file\")\n",
    "    \n",
    "except:\n",
    "    print(\"An unknown error has occurred\")"
   ]
  },
  {
   "cell_type": "code",
   "execution_count": 6,
   "id": "520ea743",
   "metadata": {},
   "outputs": [
    {
     "name": "stdout",
     "output_type": "stream",
     "text": [
      "Please enter a number: python\n"
     ]
    },
    {
     "ename": "ValueError",
     "evalue": "invalid literal for int() with base 10: 'python'",
     "output_type": "error",
     "traceback": [
      "\u001b[1;31m---------------------------------------------------------------------------\u001b[0m",
      "\u001b[1;31mValueError\u001b[0m                                Traceback (most recent call last)",
      "Cell \u001b[1;32mIn[6], line 1\u001b[0m\n\u001b[1;32m----> 1\u001b[0m input_var \u001b[38;5;241m=\u001b[39m \u001b[38;5;28;43mint\u001b[39;49m\u001b[43m(\u001b[49m\u001b[38;5;28;43minput\u001b[39;49m\u001b[43m(\u001b[49m\u001b[38;5;124;43m\"\u001b[39;49m\u001b[38;5;124;43mPlease enter a number: \u001b[39;49m\u001b[38;5;124;43m\"\u001b[39;49m\u001b[43m)\u001b[49m\u001b[43m)\u001b[49m\n",
      "\u001b[1;31mValueError\u001b[0m: invalid literal for int() with base 10: 'python'"
     ]
    }
   ],
   "source": [
    "input_var = int(input(\"Please enter a number: \"))"
   ]
  },
  {
   "cell_type": "code",
   "execution_count": 7,
   "id": "b0c77099",
   "metadata": {},
   "outputs": [
    {
     "name": "stdout",
     "output_type": "stream",
     "text": [
      "Please enter a number: python\n",
      "Oops! That was not a valid number. Try again...\n",
      "Please enter a number: cobra\n",
      "Oops! That was not a valid number. Try again...\n",
      "Please enter a number: 37\n"
     ]
    }
   ],
   "source": [
    "while True:\n",
    "    try:\n",
    "        input_var = int(input(\"Please enter a number: \"))\n",
    "        break\n",
    "        \n",
    "    except ValueError:\n",
    "        print(\"Oops! That was not a valid number. Try again...\")"
   ]
  },
  {
   "cell_type": "code",
   "execution_count": 8,
   "id": "bcf86124",
   "metadata": {},
   "outputs": [
    {
     "name": "stdout",
     "output_type": "stream",
     "text": [
      "Please enter a number: python\n",
      "Oops! That was not a valid number. Try again...\n",
      "Please enter a number: cobra\n",
      "Oops! That was not a valid number. Try again...\n",
      "Please enter a number: viper\n",
      "You really want to input a string! Fine we'll handle it\n"
     ]
    }
   ],
   "source": [
    "attempts = 0\n",
    "\n",
    "while True:\n",
    "    try:\n",
    "        input_var = input(\"Please enter a number: \")\n",
    "        input_var = int(input_var)\n",
    "        break\n",
    "        \n",
    "    except ValueError:\n",
    "        attempts += 1\n",
    "        \n",
    "        if attempts < 3:\n",
    "            print(\"Oops! That was not a valid number. Try again...\")\n",
    "        else:\n",
    "            print(\"You really want to input a string! Fine we'll handle it\")\n",
    "            input_var = str(input_var)\n",
    "            break"
   ]
  },
  {
   "cell_type": "code",
   "execution_count": 9,
   "id": "1f00b126",
   "metadata": {},
   "outputs": [
    {
     "name": "stdout",
     "output_type": "stream",
     "text": [
      "OS Error\n"
     ]
    }
   ],
   "source": [
    "try:\n",
    "    f = open(\"nonexistent_file\")\n",
    "    \n",
    "except OSError:\n",
    "    print(\"OS Error\")\n",
    "except FileNotFoundError:\n",
    "    print(\"File not found Error\")"
   ]
  },
  {
   "cell_type": "code",
   "execution_count": 10,
   "id": "c92fcc93",
   "metadata": {},
   "outputs": [
    {
     "name": "stdout",
     "output_type": "stream",
     "text": [
      "File not found Error\n"
     ]
    }
   ],
   "source": [
    "try:\n",
    "    f = open(\"nonexistent_file\")\n",
    "    \n",
    "except FileNotFoundError:\n",
    "    print(\"File not found Error\")\n",
    "except OSError:\n",
    "    print(\"OS Error\")"
   ]
  },
  {
   "cell_type": "code",
   "execution_count": 11,
   "id": "90e61af4",
   "metadata": {},
   "outputs": [
    {
     "ename": "NameError",
     "evalue": "name 'var' is not defined",
     "output_type": "error",
     "traceback": [
      "\u001b[1;31m---------------------------------------------------------------------------\u001b[0m",
      "\u001b[1;31mNameError\u001b[0m                                 Traceback (most recent call last)",
      "Cell \u001b[1;32mIn[11], line 1\u001b[0m\n\u001b[1;32m----> 1\u001b[0m \u001b[38;5;28mprint\u001b[39m(\u001b[43mvar\u001b[49m)\n",
      "\u001b[1;31mNameError\u001b[0m: name 'var' is not defined"
     ]
    }
   ],
   "source": [
    "print(var)"
   ]
  },
  {
   "cell_type": "code",
   "execution_count": 12,
   "id": "f1568dec",
   "metadata": {},
   "outputs": [
    {
     "name": "stdout",
     "output_type": "stream",
     "text": [
      "The variable has not been defined\n",
      "The 'try except block' ended\n"
     ]
    }
   ],
   "source": [
    "try:\n",
    "    print(var)\n",
    "    \n",
    "except NameError:\n",
    "    print(\"The variable has not been defined\")\n",
    "    \n",
    "finally:\n",
    "    print(\"The 'try except block' ended\")"
   ]
  },
  {
   "cell_type": "code",
   "execution_count": 13,
   "id": "4db7e6ca",
   "metadata": {},
   "outputs": [
    {
     "name": "stdout",
     "output_type": "stream",
     "text": [
      "xyz\n",
      "The 'try except block' ended\n"
     ]
    }
   ],
   "source": [
    "var = \"xyz\"\n",
    "\n",
    "try:\n",
    "    print(var)\n",
    "    \n",
    "except NameErrror:\n",
    "    print(\"The variable has not been defined\")\n",
    "    \n",
    "finally:\n",
    "    print(\"The 'try except block' ended\")"
   ]
  },
  {
   "cell_type": "code",
   "execution_count": 14,
   "id": "4cd26646",
   "metadata": {},
   "outputs": [
    {
     "name": "stdout",
     "output_type": "stream",
     "text": [
      "Done with processing the file\n"
     ]
    }
   ],
   "source": [
    "try:\n",
    "    file = open(\"testfile.txt\", \"w\")\n",
    "    \n",
    "finally:\n",
    "    print(\"Done with processing the file\")"
   ]
  },
  {
   "cell_type": "code",
   "execution_count": 15,
   "id": "57c2b7b1",
   "metadata": {},
   "outputs": [
    {
     "data": {
      "text/plain": [
       "False"
      ]
     },
     "execution_count": 15,
     "metadata": {},
     "output_type": "execute_result"
    }
   ],
   "source": [
    "file.closed"
   ]
  },
  {
   "cell_type": "code",
   "execution_count": 16,
   "id": "6f424ace",
   "metadata": {},
   "outputs": [
    {
     "name": "stdout",
     "output_type": "stream",
     "text": [
      "Done with processing the file\n"
     ]
    }
   ],
   "source": [
    "try:\n",
    "    file = open(\"testfile.txt\")\n",
    "    \n",
    "finally:\n",
    "    file.close()\n",
    "    print(\"Done with processing the file\")"
   ]
  },
  {
   "cell_type": "code",
   "execution_count": 17,
   "id": "02fb7da8",
   "metadata": {},
   "outputs": [
    {
     "data": {
      "text/plain": [
       "True"
      ]
     },
     "execution_count": 17,
     "metadata": {},
     "output_type": "execute_result"
    }
   ],
   "source": [
    "file.closed"
   ]
  },
  {
   "cell_type": "code",
   "execution_count": 18,
   "id": "6fc63414",
   "metadata": {},
   "outputs": [
    {
     "name": "stdout",
     "output_type": "stream",
     "text": [
      "Oops! Something went wrong\n"
     ]
    }
   ],
   "source": [
    "try:\n",
    "    file = open(\"testfile.txt\")\n",
    "    file.write(\"Writing to the open file\")\n",
    "    \n",
    "except:\n",
    "    print(\"Oops! Something went wrong\")\n",
    "    \n",
    "else:\n",
    "    print(\"Nothing went wrong\")"
   ]
  },
  {
   "cell_type": "code",
   "execution_count": 19,
   "id": "504bee23",
   "metadata": {},
   "outputs": [
    {
     "name": "stdout",
     "output_type": "stream",
     "text": [
      "One line written to the file\n",
      "Nothing went wrong\n"
     ]
    }
   ],
   "source": [
    "try:\n",
    "    file = open(\"testfile.txt\", \"w\")\n",
    "    file.write(\"Writing to the open file\")\n",
    "    print(\"One line written to the file\")\n",
    "    \n",
    "except:\n",
    "    print(\"Oops! Something went wrong\")\n",
    "    \n",
    "else:\n",
    "    print(\"Nothing went wrong\")"
   ]
  },
  {
   "cell_type": "code",
   "execution_count": 20,
   "id": "5e54ccdd",
   "metadata": {},
   "outputs": [
    {
     "ename": "TypeError",
     "evalue": "unsupported operand type(s) for +: 'int' and 'str'",
     "output_type": "error",
     "traceback": [
      "\u001b[1;31m---------------------------------------------------------------------------\u001b[0m",
      "\u001b[1;31mTypeError\u001b[0m                                 Traceback (most recent call last)",
      "Cell \u001b[1;32mIn[20], line 5\u001b[0m\n\u001b[0;32m      1\u001b[0m a \u001b[38;5;241m=\u001b[39m \u001b[38;5;28mint\u001b[39m(\u001b[38;5;241m5\u001b[39m)\n\u001b[0;32m      3\u001b[0m b \u001b[38;5;241m=\u001b[39m \u001b[38;5;28mstr\u001b[39m(\u001b[38;5;124m\"\u001b[39m\u001b[38;5;124mHello\u001b[39m\u001b[38;5;124m\"\u001b[39m)\n\u001b[1;32m----> 5\u001b[0m d \u001b[38;5;241m=\u001b[39m \u001b[43ma\u001b[49m\u001b[43m \u001b[49m\u001b[38;5;241;43m+\u001b[39;49m\u001b[43m \u001b[49m\u001b[43mb\u001b[49m \u001b[38;5;241m+\u001b[39m c\n\u001b[0;32m      7\u001b[0m d\n",
      "\u001b[1;31mTypeError\u001b[0m: unsupported operand type(s) for +: 'int' and 'str'"
     ]
    }
   ],
   "source": [
    "a = int(5)\n",
    "\n",
    "b = str(\"Hello\")\n",
    "\n",
    "d = a + b + c\n",
    "\n",
    "d"
   ]
  },
  {
   "cell_type": "code",
   "execution_count": 21,
   "id": "33e179fb",
   "metadata": {},
   "outputs": [
    {
     "name": "stdout",
     "output_type": "stream",
     "text": [
      "TypeError was thrown\n"
     ]
    }
   ],
   "source": [
    "try:\n",
    "    a = int(5)\n",
    "    b = str(\"Hello\")\n",
    "    d = a + b + c\n",
    "    \n",
    "except TypeError:\n",
    "    print(\"TypeError was thrown\")"
   ]
  },
  {
   "cell_type": "code",
   "execution_count": 22,
   "id": "11de6d50",
   "metadata": {},
   "outputs": [
    {
     "ename": "NameError",
     "evalue": "name 'c' is not defined",
     "output_type": "error",
     "traceback": [
      "\u001b[1;31m---------------------------------------------------------------------------\u001b[0m",
      "\u001b[1;31mNameError\u001b[0m                                 Traceback (most recent call last)",
      "Cell \u001b[1;32mIn[22], line 4\u001b[0m\n\u001b[0;32m      2\u001b[0m     a \u001b[38;5;241m=\u001b[39m \u001b[38;5;28mstr\u001b[39m(\u001b[38;5;241m5\u001b[39m)\n\u001b[0;32m      3\u001b[0m     b \u001b[38;5;241m=\u001b[39m \u001b[38;5;28mstr\u001b[39m(\u001b[38;5;124m\"\u001b[39m\u001b[38;5;124mHello\u001b[39m\u001b[38;5;124m\"\u001b[39m)\n\u001b[1;32m----> 4\u001b[0m     d \u001b[38;5;241m=\u001b[39m a \u001b[38;5;241m+\u001b[39m b \u001b[38;5;241m+\u001b[39m \u001b[43mc\u001b[49m\n\u001b[0;32m      6\u001b[0m \u001b[38;5;28;01mexcept\u001b[39;00m \u001b[38;5;167;01mTypeError\u001b[39;00m:\n\u001b[0;32m      7\u001b[0m     \u001b[38;5;28mprint\u001b[39m(\u001b[38;5;124m\"\u001b[39m\u001b[38;5;124mTypeError was thrown\u001b[39m\u001b[38;5;124m\"\u001b[39m)\n",
      "\u001b[1;31mNameError\u001b[0m: name 'c' is not defined"
     ]
    }
   ],
   "source": [
    "try:\n",
    "    a = str(5)\n",
    "    b = str(\"Hello\")\n",
    "    d = a + b + c\n",
    "    \n",
    "except TypeError:\n",
    "    print(\"TypeError was thrown\")"
   ]
  },
  {
   "cell_type": "code",
   "execution_count": 23,
   "id": "294244d1",
   "metadata": {},
   "outputs": [
    {
     "name": "stdout",
     "output_type": "stream",
     "text": [
      "NameError was thrown\n"
     ]
    }
   ],
   "source": [
    "try:\n",
    "    a = str(5)\n",
    "    b = str(\"Hello\")\n",
    "    d = a + b + c\n",
    "    \n",
    "except TypeError:\n",
    "    print(\"TypeError was thrown\")\n",
    "        \n",
    "except NameError:\n",
    "    print(\"NameError was thrown\")"
   ]
  },
  {
   "cell_type": "code",
   "execution_count": 24,
   "id": "a1c35db4",
   "metadata": {},
   "outputs": [
    {
     "ename": "ValueError",
     "evalue": "invalid literal for int() with base 10: ' World'",
     "output_type": "error",
     "traceback": [
      "\u001b[1;31m---------------------------------------------------------------------------\u001b[0m",
      "\u001b[1;31mValueError\u001b[0m                                Traceback (most recent call last)",
      "Cell \u001b[1;32mIn[24], line 4\u001b[0m\n\u001b[0;32m      2\u001b[0m     a \u001b[38;5;241m=\u001b[39m \u001b[38;5;28mstr\u001b[39m(\u001b[38;5;241m5\u001b[39m)\n\u001b[0;32m      3\u001b[0m     b \u001b[38;5;241m=\u001b[39m \u001b[38;5;28mstr\u001b[39m(\u001b[38;5;124m\"\u001b[39m\u001b[38;5;124mHello\u001b[39m\u001b[38;5;124m\"\u001b[39m)\n\u001b[1;32m----> 4\u001b[0m     c \u001b[38;5;241m=\u001b[39m \u001b[38;5;28;43mint\u001b[39;49m\u001b[43m(\u001b[49m\u001b[38;5;124;43m\"\u001b[39;49m\u001b[38;5;124;43m World\u001b[39;49m\u001b[38;5;124;43m\"\u001b[39;49m\u001b[43m)\u001b[49m\n\u001b[0;32m      5\u001b[0m     d \u001b[38;5;241m=\u001b[39m a \u001b[38;5;241m+\u001b[39m b \u001b[38;5;241m+\u001b[39m c\n\u001b[0;32m      7\u001b[0m \u001b[38;5;28;01mexcept\u001b[39;00m \u001b[38;5;167;01mTypeError\u001b[39;00m:\n",
      "\u001b[1;31mValueError\u001b[0m: invalid literal for int() with base 10: ' World'"
     ]
    }
   ],
   "source": [
    "try:\n",
    "    a = str(5)\n",
    "    b = str(\"Hello\")\n",
    "    c = int(\" World\")\n",
    "    d = a + b + c\n",
    "    \n",
    "except TypeError:\n",
    "    print(\"TypeError was thrown\")\n",
    "        \n",
    "except NameError:\n",
    "    print(\"NameError was thrown\")"
   ]
  },
  {
   "cell_type": "code",
   "execution_count": 25,
   "id": "bbec6922",
   "metadata": {},
   "outputs": [
    {
     "name": "stdout",
     "output_type": "stream",
     "text": [
      "ValueError was thrown\n"
     ]
    }
   ],
   "source": [
    "try:\n",
    "    a = str(5)\n",
    "    b = str(\"Hello\")\n",
    "    c = int(\" World\")\n",
    "    d = a + b + c\n",
    "    \n",
    "except TypeError:\n",
    "    print(\"TypeError was thrown\")\n",
    "        \n",
    "except NameError:\n",
    "    print(\"NameError was thrown\")\n",
    "\n",
    "except ValueError:\n",
    "    print(\"ValueError was thrown\")"
   ]
  },
  {
   "cell_type": "code",
   "execution_count": 26,
   "id": "1589914e",
   "metadata": {},
   "outputs": [
    {
     "name": "stdout",
     "output_type": "stream",
     "text": [
      "Enter a number:34\n"
     ]
    },
    {
     "ename": "Exception",
     "evalue": "The number should not exceed 5. The value of number is : 34",
     "output_type": "error",
     "traceback": [
      "\u001b[1;31m---------------------------------------------------------------------------\u001b[0m",
      "\u001b[1;31mException\u001b[0m                                 Traceback (most recent call last)",
      "Cell \u001b[1;32mIn[26], line 4\u001b[0m\n\u001b[0;32m      1\u001b[0m number \u001b[38;5;241m=\u001b[39m \u001b[38;5;28mint\u001b[39m(\u001b[38;5;28minput\u001b[39m(\u001b[38;5;124m\"\u001b[39m\u001b[38;5;124mEnter a number:\u001b[39m\u001b[38;5;124m\"\u001b[39m))\n\u001b[0;32m      3\u001b[0m \u001b[38;5;28;01mif\u001b[39;00m number \u001b[38;5;241m>\u001b[39m \u001b[38;5;241m5\u001b[39m:\n\u001b[1;32m----> 4\u001b[0m     \u001b[38;5;28;01mraise\u001b[39;00m \u001b[38;5;167;01mException\u001b[39;00m(\u001b[38;5;124m\"\u001b[39m\u001b[38;5;124mThe number should not exceed 5. The value of number is : \u001b[39m\u001b[38;5;132;01m{}\u001b[39;00m\u001b[38;5;124m\"\u001b[39m\u001b[38;5;241m.\u001b[39mformat(number))\n",
      "\u001b[1;31mException\u001b[0m: The number should not exceed 5. The value of number is : 34"
     ]
    }
   ],
   "source": [
    "number = int(input(\"Enter a number:\"))\n",
    "\n",
    "if number > 5:\n",
    "    raise Exception(\"The number should not exceed 5. The value of number is : {}\".format(number))"
   ]
  },
  {
   "cell_type": "code",
   "execution_count": 27,
   "id": "15c88215",
   "metadata": {},
   "outputs": [
    {
     "name": "stdout",
     "output_type": "stream",
     "text": [
      "Enter a number:34\n",
      "Caught this Error: Exception('The number should not exceed 5. The value of number is : 34')\n"
     ]
    }
   ],
   "source": [
    "number = int(input(\"Enter a number:\"))\n",
    "\n",
    "try:\n",
    "    if number > 5:\n",
    "        raise Exception(\"The number should not exceed 5. The value of number is : {}\".format(number))\n",
    "        \n",
    "except Exception as error:\n",
    "    print(\"Caught this Error: \" + repr(error))"
   ]
  }
 ],
 "metadata": {
  "kernelspec": {
   "display_name": "Python 3 (ipykernel)",
   "language": "python",
   "name": "python3"
  },
  "language_info": {
   "codemirror_mode": {
    "name": "ipython",
    "version": 3
   },
   "file_extension": ".py",
   "mimetype": "text/x-python",
   "name": "python",
   "nbconvert_exporter": "python",
   "pygments_lexer": "ipython3",
   "version": "3.11.4"
  }
 },
 "nbformat": 4,
 "nbformat_minor": 5
}
