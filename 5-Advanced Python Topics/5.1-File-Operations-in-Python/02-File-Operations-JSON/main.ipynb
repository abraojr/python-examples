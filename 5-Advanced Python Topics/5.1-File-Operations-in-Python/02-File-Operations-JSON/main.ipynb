{
 "cells": [
  {
   "cell_type": "code",
   "execution_count": 1,
   "id": "b6d3e1be",
   "metadata": {},
   "outputs": [],
   "source": [
    "import json"
   ]
  },
  {
   "cell_type": "code",
   "execution_count": 2,
   "id": "12214287",
   "metadata": {},
   "outputs": [],
   "source": [
    "car = \"\"\"{ \"model\" : \"Civic\", \n",
    "\"make\" : \"Honda\", \n",
    "\"variants\" : [\"Sedan\", \"Coupe\"]}\"\"\""
   ]
  },
  {
   "cell_type": "code",
   "execution_count": 3,
   "id": "fdf41f0c",
   "metadata": {},
   "outputs": [
    {
     "data": {
      "text/plain": [
       "'{ \"model\" : \"Civic\", \\n\"make\" : \"Honda\", \\n\"variants\" : [\"Sedan\", \"Coupe\"]}'"
      ]
     },
     "execution_count": 3,
     "metadata": {},
     "output_type": "execute_result"
    }
   ],
   "source": [
    "car"
   ]
  },
  {
   "cell_type": "code",
   "execution_count": 4,
   "id": "8555df8b",
   "metadata": {},
   "outputs": [],
   "source": [
    "car_dict = json.loads(car)"
   ]
  },
  {
   "cell_type": "code",
   "execution_count": 5,
   "id": "0ae1bfe8",
   "metadata": {},
   "outputs": [
    {
     "data": {
      "text/plain": [
       "str"
      ]
     },
     "execution_count": 5,
     "metadata": {},
     "output_type": "execute_result"
    }
   ],
   "source": [
    "type(car)"
   ]
  },
  {
   "cell_type": "code",
   "execution_count": 6,
   "id": "3f74a737",
   "metadata": {},
   "outputs": [
    {
     "data": {
      "text/plain": [
       "dict"
      ]
     },
     "execution_count": 6,
     "metadata": {},
     "output_type": "execute_result"
    }
   ],
   "source": [
    "type(car_dict)"
   ]
  },
  {
   "cell_type": "code",
   "execution_count": 7,
   "id": "7dde65c6",
   "metadata": {},
   "outputs": [
    {
     "data": {
      "text/plain": [
       "{'model': 'Civic', 'make': 'Honda', 'variants': ['Sedan', 'Coupe']}"
      ]
     },
     "execution_count": 7,
     "metadata": {},
     "output_type": "execute_result"
    }
   ],
   "source": [
    "car_dict"
   ]
  },
  {
   "cell_type": "code",
   "execution_count": 8,
   "id": "774e2f0f",
   "metadata": {},
   "outputs": [
    {
     "data": {
      "text/plain": [
       "['Sedan', 'Coupe']"
      ]
     },
     "execution_count": 8,
     "metadata": {},
     "output_type": "execute_result"
    }
   ],
   "source": [
    "car_dict[\"variants\"]"
   ]
  },
  {
   "cell_type": "code",
   "execution_count": 9,
   "id": "175423fd",
   "metadata": {},
   "outputs": [
    {
     "name": "stdout",
     "output_type": "stream",
     "text": [
      "{\n",
      "    \"Country\": \"USA\",\n",
      "    \"Currency\": \"United States Dollar\"\n",
      "}\n"
     ]
    }
   ],
   "source": [
    "!type ..\\data_file\\currency.json"
   ]
  },
  {
   "cell_type": "code",
   "execution_count": 10,
   "id": "c6939a23",
   "metadata": {},
   "outputs": [
    {
     "name": "stdout",
     "output_type": "stream",
     "text": [
      "{'Country': 'USA', 'Currency': 'United States Dollar'}\n"
     ]
    }
   ],
   "source": [
    "with open(\"..\\data_file\\currency.json\") as json_file:\n",
    "    data = json.load(json_file)\n",
    "    print(data)"
   ]
  },
  {
   "cell_type": "code",
   "execution_count": 11,
   "id": "433c159d",
   "metadata": {},
   "outputs": [],
   "source": [
    "currency = { \"Country\" : \"India\", \"Currency\" : \"Rupee\" }"
   ]
  },
  {
   "cell_type": "code",
   "execution_count": 12,
   "id": "f900f1ef",
   "metadata": {},
   "outputs": [],
   "source": [
    "json_var = json.dumps(currency)"
   ]
  },
  {
   "cell_type": "code",
   "execution_count": 13,
   "id": "1e3388bc",
   "metadata": {},
   "outputs": [
    {
     "name": "stdout",
     "output_type": "stream",
     "text": [
      "{\"Country\": \"India\", \"Currency\": \"Rupee\"}\n"
     ]
    }
   ],
   "source": [
    "print(json_var)"
   ]
  },
  {
   "cell_type": "code",
   "execution_count": 14,
   "id": "244cf6fa",
   "metadata": {},
   "outputs": [
    {
     "data": {
      "text/plain": [
       "str"
      ]
     },
     "execution_count": 14,
     "metadata": {},
     "output_type": "execute_result"
    }
   ],
   "source": [
    "type(json_var)"
   ]
  },
  {
   "cell_type": "code",
   "execution_count": 15,
   "id": "01b5d600",
   "metadata": {},
   "outputs": [],
   "source": [
    "with open(\"..\\data_file\\currency.json\", \"w\") as json_file:\n",
    "    json_file.write(json_var)"
   ]
  },
  {
   "cell_type": "code",
   "execution_count": 16,
   "id": "1e90b554",
   "metadata": {},
   "outputs": [
    {
     "name": "stdout",
     "output_type": "stream",
     "text": [
      "{\"Country\": \"India\", \"Currency\": \"Rupee\"}\n"
     ]
    }
   ],
   "source": [
    "!type ..\\data_file\\currency.json"
   ]
  },
  {
   "cell_type": "code",
   "execution_count": 17,
   "id": "c4f88ee9",
   "metadata": {},
   "outputs": [
    {
     "name": "stdout",
     "output_type": "stream",
     "text": [
      "{'Country': 'India', 'Currency': 'Rupee'}\n"
     ]
    }
   ],
   "source": [
    "written_data = json.load(open(\"..\\data_file\\currency.json\"))\n",
    "\n",
    "print(written_data)"
   ]
  },
  {
   "cell_type": "code",
   "execution_count": 18,
   "id": "ca104941",
   "metadata": {},
   "outputs": [],
   "source": [
    "dessert = {\"Name\" : \"Ice cream\",\n",
    "           \"Flavours\" : [\"Chocolate\", \"Pineapple\"],\n",
    "           \"Toppings\" : True,\n",
    "           \"WaffleCone\" : \"Yes\"\n",
    "}"
   ]
  },
  {
   "cell_type": "code",
   "execution_count": 19,
   "id": "11708169",
   "metadata": {},
   "outputs": [],
   "source": [
    "dessert_str = json.dumps(dessert)"
   ]
  },
  {
   "cell_type": "code",
   "execution_count": 20,
   "id": "1775b8de",
   "metadata": {},
   "outputs": [
    {
     "data": {
      "text/plain": [
       "'{\"Name\": \"Ice cream\", \"Flavours\": [\"Chocolate\", \"Pineapple\"], \"Toppings\": true, \"WaffleCone\": \"Yes\"}'"
      ]
     },
     "execution_count": 20,
     "metadata": {},
     "output_type": "execute_result"
    }
   ],
   "source": [
    "dessert_str"
   ]
  },
  {
   "cell_type": "code",
   "execution_count": 21,
   "id": "3523585d",
   "metadata": {},
   "outputs": [
    {
     "data": {
      "text/plain": [
       "str"
      ]
     },
     "execution_count": 21,
     "metadata": {},
     "output_type": "execute_result"
    }
   ],
   "source": [
    "type(dessert_str)"
   ]
  },
  {
   "cell_type": "code",
   "execution_count": 22,
   "id": "25915ade",
   "metadata": {},
   "outputs": [],
   "source": [
    "with open(\"..\\data_file\\eat.json\", \"w\") as json_file:\n",
    "    json.dump(dessert, json_file)"
   ]
  },
  {
   "cell_type": "code",
   "execution_count": 23,
   "id": "46ac99cf",
   "metadata": {},
   "outputs": [
    {
     "name": "stdout",
     "output_type": "stream",
     "text": [
      "{\"Name\": \"Ice cream\", \"Flavours\": [\"Chocolate\", \"Pineapple\"], \"Toppings\": true, \"WaffleCone\": \"Yes\"}\n"
     ]
    }
   ],
   "source": [
    "!type ..\\data_file\\eat.json"
   ]
  },
  {
   "cell_type": "code",
   "execution_count": 24,
   "id": "d02eff3d",
   "metadata": {},
   "outputs": [
    {
     "data": {
      "text/plain": [
       "{'Name': 'Ice cream',\n",
       " 'Flavours': ['Chocolate', 'Pineapple'],\n",
       " 'Toppings': True,\n",
       " 'WaffleCone': 'Yes'}"
      ]
     },
     "execution_count": 24,
     "metadata": {},
     "output_type": "execute_result"
    }
   ],
   "source": [
    "dessert"
   ]
  },
  {
   "cell_type": "code",
   "execution_count": 25,
   "id": "567da6a1",
   "metadata": {},
   "outputs": [
    {
     "data": {
      "text/plain": [
       "'{\\n  \"Name\": \"Ice cream\",\\n  \"Flavours\": [\\n    \"Chocolate\",\\n    \"Pineapple\"\\n  ],\\n  \"Toppings\": true,\\n  \"WaffleCone\": \"Yes\"\\n}'"
      ]
     },
     "execution_count": 25,
     "metadata": {},
     "output_type": "execute_result"
    }
   ],
   "source": [
    "json.dumps(dessert, indent= 2)"
   ]
  },
  {
   "cell_type": "code",
   "execution_count": 26,
   "id": "fce45724",
   "metadata": {},
   "outputs": [
    {
     "data": {
      "text/plain": [
       "'{\"Name\"=\"Ice cream\":\"Flavours\"=[\"Chocolate\":\"Pineapple\"]:\"Toppings\"=true:\"WaffleCone\"=\"Yes\"}'"
      ]
     },
     "execution_count": 26,
     "metadata": {},
     "output_type": "execute_result"
    }
   ],
   "source": [
    "json.dumps(dessert, separators=(\":\", \"=\"))"
   ]
  },
  {
   "cell_type": "code",
   "execution_count": 27,
   "id": "92b541ea",
   "metadata": {},
   "outputs": [
    {
     "data": {
      "text/plain": [
       "'{\"Name\"-\"Ice cream\"|\"Flavours\"-[\"Chocolate\"|\"Pineapple\"]|\"Toppings\"-true|\"WaffleCone\"-\"Yes\"}'"
      ]
     },
     "execution_count": 27,
     "metadata": {},
     "output_type": "execute_result"
    }
   ],
   "source": [
    "json.dumps(dessert, separators=(\"|\", \"-\"))"
   ]
  },
  {
   "cell_type": "code",
   "execution_count": 28,
   "id": "2f00bacf",
   "metadata": {},
   "outputs": [
    {
     "data": {
      "text/plain": [
       "'{\"Flavours\": [\"Chocolate\", \"Pineapple\"], \"Name\": \"Ice cream\", \"Toppings\": true, \"WaffleCone\": \"Yes\"}'"
      ]
     },
     "execution_count": 28,
     "metadata": {},
     "output_type": "execute_result"
    }
   ],
   "source": [
    "json.dumps(dessert, sort_keys=True)"
   ]
  },
  {
   "cell_type": "code",
   "execution_count": 29,
   "id": "8a97cbea",
   "metadata": {},
   "outputs": [
    {
     "data": {
      "text/plain": [
       "'{\"Name\": \"Ice cream\", \"Flavours\": [\"Chocolate\", \"Pineapple\"], \"Toppings\": true, \"WaffleCone\": \"Yes\"}'"
      ]
     },
     "execution_count": 29,
     "metadata": {},
     "output_type": "execute_result"
    }
   ],
   "source": [
    "json.dumps(dessert, sort_keys=False)"
   ]
  }
 ],
 "metadata": {
  "kernelspec": {
   "display_name": "Python 3 (ipykernel)",
   "language": "python",
   "name": "python3"
  },
  "language_info": {
   "codemirror_mode": {
    "name": "ipython",
    "version": 3
   },
   "file_extension": ".py",
   "mimetype": "text/x-python",
   "name": "python",
   "nbconvert_exporter": "python",
   "pygments_lexer": "ipython3",
   "version": "3.11.4"
  }
 },
 "nbformat": 4,
 "nbformat_minor": 5
}
