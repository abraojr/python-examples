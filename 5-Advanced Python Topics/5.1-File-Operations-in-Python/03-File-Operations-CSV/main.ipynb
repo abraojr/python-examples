{
 "cells": [
  {
   "cell_type": "code",
   "execution_count": 1,
   "id": "45326a6a",
   "metadata": {},
   "outputs": [],
   "source": [
    "import csv"
   ]
  },
  {
   "cell_type": "code",
   "execution_count": 2,
   "id": "98ec0d8d",
   "metadata": {},
   "outputs": [
    {
     "name": "stdout",
     "output_type": "stream",
     "text": [
      "Region,Country,Capital\n",
      "Asia,Kyrgyzstan,Bishek\n",
      "Central America,Honduras,Tegucigalpa\n",
      "Europe,Bulgaria,Sofia\n",
      "Sub-Saharan Africa,Cameroon,Yaounde\n"
     ]
    }
   ],
   "source": [
    "!type ..\\data_file\\record.csv"
   ]
  },
  {
   "cell_type": "code",
   "execution_count": 3,
   "id": "f350e74f",
   "metadata": {},
   "outputs": [
    {
     "name": "stdout",
     "output_type": "stream",
     "text": [
      "['Region', 'Country', 'Capital']\n",
      "['Asia', 'Kyrgyzstan', 'Bishek']\n",
      "['Central America', 'Honduras', 'Tegucigalpa']\n",
      "['Europe', 'Bulgaria', 'Sofia']\n",
      "['Sub-Saharan Africa', 'Cameroon', 'Yaounde']\n"
     ]
    }
   ],
   "source": [
    "file = open(\"..\\\\data_file\\\\record.csv\", \"r\")\n",
    "\n",
    "with file:\n",
    "    read = csv.reader(file)\n",
    "    \n",
    "    for row in read:\n",
    "        print(row)"
   ]
  },
  {
   "cell_type": "code",
   "execution_count": 4,
   "id": "16e97884",
   "metadata": {},
   "outputs": [
    {
     "name": "stdout",
     "output_type": "stream",
     "text": [
      "Region|Country|Capital\n",
      "Asia|Kyrgyzstan|Bishek\n",
      "Central America|Honduras|Tegucigalpa\n",
      "Europe|Bulgaria|Sofia\n",
      "Sub-Saharan Africa|Cameroon|Yaounde\n"
     ]
    }
   ],
   "source": [
    "!type ..\\data_file\\record_pipe.csv"
   ]
  },
  {
   "cell_type": "code",
   "execution_count": 5,
   "id": "71a25ada",
   "metadata": {},
   "outputs": [
    {
     "name": "stdout",
     "output_type": "stream",
     "text": [
      "['Region|Country|Capital']\n",
      "['Asia|Kyrgyzstan|Bishek']\n",
      "['Central America|Honduras|Tegucigalpa']\n",
      "['Europe|Bulgaria|Sofia']\n",
      "['Sub-Saharan Africa|Cameroon|Yaounde']\n"
     ]
    }
   ],
   "source": [
    "file = open(\"..\\\\data_file\\\\record_pipe.csv\", \"r\")\n",
    "\n",
    "with file:\n",
    "    read = csv.reader(file)\n",
    "    \n",
    "    for row in read:\n",
    "        print(row)"
   ]
  },
  {
   "cell_type": "code",
   "execution_count": 6,
   "id": "a53a62e9",
   "metadata": {},
   "outputs": [
    {
     "name": "stdout",
     "output_type": "stream",
     "text": [
      "['Region', 'Country', 'Capital']\n",
      "['Asia', 'Kyrgyzstan', 'Bishek']\n",
      "['Central America', 'Honduras', 'Tegucigalpa']\n",
      "['Europe', 'Bulgaria', 'Sofia']\n",
      "['Sub-Saharan Africa', 'Cameroon', 'Yaounde']\n"
     ]
    }
   ],
   "source": [
    "file = open(\"..\\\\data_file\\\\record_pipe.csv\", \"r\")\n",
    "\n",
    "with file:\n",
    "    read = csv.reader(file, delimiter=\"|\")\n",
    "    \n",
    "    for row in read:\n",
    "        print(row)"
   ]
  },
  {
   "cell_type": "code",
   "execution_count": 7,
   "id": "d63b4574",
   "metadata": {},
   "outputs": [
    {
     "name": "stdout",
     "output_type": "stream",
     "text": [
      "{'Region': 'Asia', 'Country': 'Kyrgyzstan', 'Capital': 'Bishek'}\n",
      "{'Region': 'Central America', 'Country': 'Honduras', 'Capital': 'Tegucigalpa'}\n",
      "{'Region': 'Europe', 'Country': 'Bulgaria', 'Capital': 'Sofia'}\n",
      "{'Region': 'Sub-Saharan Africa', 'Country': 'Cameroon', 'Capital': 'Yaounde'}\n"
     ]
    }
   ],
   "source": [
    "file = open(\"..\\\\data_file\\\\record.csv\", \"r\")\n",
    "\n",
    "with file:\n",
    "    reader = csv.DictReader(file)\n",
    "    \n",
    "    for row in reader:\n",
    "        print(dict(row))"
   ]
  },
  {
   "cell_type": "code",
   "execution_count": 8,
   "id": "22824834",
   "metadata": {},
   "outputs": [
    {
     "name": "stdout",
     "output_type": "stream",
     "text": [
      "{'Region': 'Asia', 'Country': 'Kyrgyzstan', 'Capital': 'Bishek'}\n",
      "{'Region': 'Central America', 'Country': 'Honduras', 'Capital': 'Tegucigalpa'}\n",
      "{'Region': 'Europe', 'Country': 'Bulgaria', 'Capital': 'Sofia'}\n",
      "{'Region': 'Sub-Saharan Africa', 'Country': 'Cameroon', 'Capital': 'Yaounde'}\n"
     ]
    }
   ],
   "source": [
    "file = open(\"..\\\\data_file\\\\record.csv\", \"r\")\n",
    "\n",
    "with file:\n",
    "    reader = csv.DictReader(file)\n",
    "    \n",
    "    for row in reader:\n",
    "        print(row)"
   ]
  },
  {
   "cell_type": "code",
   "execution_count": 9,
   "id": "5ef5761d",
   "metadata": {},
   "outputs": [],
   "source": [
    "names = [[\"FirstName\", \"LastName\"],\n",
    "         [\"Sofia\", \"Reyes\"],\n",
    "         [\"Jerome\", \"Jackson\"],\n",
    "         [\"Jia\", \"Zhong\"]]"
   ]
  },
  {
   "cell_type": "code",
   "execution_count": 10,
   "id": "7d3608a7",
   "metadata": {},
   "outputs": [],
   "source": [
    "file = open(\"..\\\\data_file\\\\names.csv\", \"w\")\n",
    "\n",
    "with file:\n",
    "    file_writer = csv.writer(file)\n",
    "    \n",
    "    for row in names:\n",
    "        file_writer.writerow(row)"
   ]
  },
  {
   "cell_type": "code",
   "execution_count": 11,
   "id": "d96b651f",
   "metadata": {},
   "outputs": [
    {
     "name": "stdout",
     "output_type": "stream",
     "text": [
      "FirstName,LastName\n",
      "\n",
      "Sofia,Reyes\n",
      "\n",
      "Jerome,Jackson\n",
      "\n",
      "Jia,Zhong\n",
      "\n"
     ]
    }
   ],
   "source": [
    "!type ..\\data_file\\names.csv"
   ]
  },
  {
   "cell_type": "code",
   "execution_count": 12,
   "id": "a8118484",
   "metadata": {},
   "outputs": [],
   "source": [
    "nums = [[10, 20, 30],\n",
    "        [40, 50, 60],\n",
    "        [70, 80, 90]]\n",
    "\n",
    "file = open(\"..\\\\data_file\\\\number.csv\", \"w\")\n",
    "\n",
    "with file:\n",
    "    write = csv.writer(file)\n",
    "    write.writerows(nums)"
   ]
  },
  {
   "cell_type": "code",
   "execution_count": 13,
   "id": "6d223661",
   "metadata": {},
   "outputs": [
    {
     "name": "stdout",
     "output_type": "stream",
     "text": [
      "10,20,30\n",
      "\n",
      "40,50,60\n",
      "\n",
      "70,80,90\n",
      "\n"
     ]
    }
   ],
   "source": [
    "!type ..\\data_file\\number.csv"
   ]
  },
  {
   "cell_type": "code",
   "execution_count": 14,
   "id": "3e3bd90f",
   "metadata": {},
   "outputs": [],
   "source": [
    "file = open(\"..\\\\data_file\\\\names.csv\", \"w\")\n",
    "\n",
    "with file:\n",
    "    \n",
    "    fnames = [\"FirstName\", \"LastName\"]\n",
    "    writer = csv.DictWriter(file, fieldnames=fnames)\n",
    "    \n",
    "    writer.writeheader()\n",
    "    writer.writerow({\"FirstName\" : \"Sofia\", \"LastName\" : \"Reyes\"})\n",
    "    writer.writerow({\"FirstName\" : \"Jerome\", \"LastName\" : \"Jackson\"})\n",
    "    writer.writerow({\"FirstName\" : \"Jia\", \"LastName\" : \"Zhong\"})"
   ]
  },
  {
   "cell_type": "code",
   "execution_count": 15,
   "id": "6549d3a0",
   "metadata": {},
   "outputs": [
    {
     "name": "stdout",
     "output_type": "stream",
     "text": [
      "FirstName,LastName\n",
      "\n",
      "Sofia,Reyes\n",
      "\n",
      "Jerome,Jackson\n",
      "\n",
      "Jia,Zhong\n",
      "\n"
     ]
    }
   ],
   "source": [
    "!type ..\\data_file\\names.csv"
   ]
  },
  {
   "cell_type": "code",
   "execution_count": 16,
   "id": "d611647b",
   "metadata": {},
   "outputs": [],
   "source": [
    "csv.register_dialect(\"plus\", delimiter = \"+\", lineterminator = \"\\n\\n\\r\")"
   ]
  },
  {
   "cell_type": "code",
   "execution_count": 17,
   "id": "dfb40678",
   "metadata": {},
   "outputs": [],
   "source": [
    "names = [[\"FirstName\", \"LastName\"],\n",
    "         [\"Sofia\", \"Reyes\"],\n",
    "         [\"Jerome\", \"Jackson\"],\n",
    "         [\"Jia\", \"Zhong\"]]"
   ]
  },
  {
   "cell_type": "code",
   "execution_count": 18,
   "id": "431954c6",
   "metadata": {},
   "outputs": [],
   "source": [
    "file = open(\"..\\\\data_file\\\\names_dialect.csv\", \"w\")\n",
    "\n",
    "with file:\n",
    "    file_writer = csv.writer(file, dialect = \"plus\")\n",
    "    \n",
    "    for row in names:\n",
    "        file_writer.writerow(row)"
   ]
  },
  {
   "cell_type": "code",
   "execution_count": 19,
   "id": "4cafb4ea",
   "metadata": {},
   "outputs": [
    {
     "name": "stdout",
     "output_type": "stream",
     "text": [
      "FirstName+LastName\n",
      "\n",
      "\n",
      "Sofia+Reyes\n",
      "\n",
      "\n",
      "Jerome+Jackson\n",
      "\n",
      "\n",
      "Jia+Zhong\n",
      "\n",
      "\n"
     ]
    }
   ],
   "source": [
    "!type ..\\data_file\\names_dialect.csv"
   ]
  }
 ],
 "metadata": {
  "kernelspec": {
   "display_name": "Python 3 (ipykernel)",
   "language": "python",
   "name": "python3"
  },
  "language_info": {
   "codemirror_mode": {
    "name": "ipython",
    "version": 3
   },
   "file_extension": ".py",
   "mimetype": "text/x-python",
   "name": "python",
   "nbconvert_exporter": "python",
   "pygments_lexer": "ipython3",
   "version": "3.11.4"
  }
 },
 "nbformat": 4,
 "nbformat_minor": 5
}
