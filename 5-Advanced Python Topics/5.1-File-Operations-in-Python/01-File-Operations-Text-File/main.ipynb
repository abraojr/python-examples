{
 "cells": [
  {
   "cell_type": "code",
   "execution_count": 1,
   "id": "416250e9",
   "metadata": {},
   "outputs": [
    {
     "name": "stdout",
     "output_type": "stream",
     "text": [
      "Hello everyone!\n",
      "Welcome to Skillsoft\n",
      "This is a tutorial for File Operations\n"
     ]
    }
   ],
   "source": [
    "!type ..\\data_file\\sample.txt"
   ]
  },
  {
   "cell_type": "code",
   "execution_count": 2,
   "id": "f3dce85e",
   "metadata": {},
   "outputs": [
    {
     "data": {
      "text/plain": [
       "<_io.TextIOWrapper name='../data_file/sample.txt' mode='r' encoding='cp1252'>"
      ]
     },
     "execution_count": 2,
     "metadata": {},
     "output_type": "execute_result"
    }
   ],
   "source": [
    "open(\"../data_file/sample.txt\")"
   ]
  },
  {
   "cell_type": "code",
   "execution_count": 3,
   "id": "9e6259f9",
   "metadata": {},
   "outputs": [],
   "source": [
    "file = open(\"../data_file/sample.txt\")"
   ]
  },
  {
   "cell_type": "code",
   "execution_count": 4,
   "id": "b2c30296",
   "metadata": {},
   "outputs": [
    {
     "data": {
      "text/plain": [
       "<_io.TextIOWrapper name='../data_file/sample.txt' mode='r' encoding='cp1252'>"
      ]
     },
     "execution_count": 4,
     "metadata": {},
     "output_type": "execute_result"
    }
   ],
   "source": [
    "file"
   ]
  },
  {
   "cell_type": "code",
   "execution_count": 5,
   "id": "333dcb10",
   "metadata": {},
   "outputs": [
    {
     "data": {
      "text/plain": [
       "'r'"
      ]
     },
     "execution_count": 5,
     "metadata": {},
     "output_type": "execute_result"
    }
   ],
   "source": [
    "file.mode"
   ]
  },
  {
   "cell_type": "code",
   "execution_count": 6,
   "id": "e557807f",
   "metadata": {},
   "outputs": [
    {
     "data": {
      "text/plain": [
       "'../data_file/sample.txt'"
      ]
     },
     "execution_count": 6,
     "metadata": {},
     "output_type": "execute_result"
    }
   ],
   "source": [
    "file.name"
   ]
  },
  {
   "cell_type": "code",
   "execution_count": 7,
   "id": "e7fd291e",
   "metadata": {},
   "outputs": [
    {
     "data": {
      "text/plain": [
       "False"
      ]
     },
     "execution_count": 7,
     "metadata": {},
     "output_type": "execute_result"
    }
   ],
   "source": [
    "file.closed"
   ]
  },
  {
   "cell_type": "code",
   "execution_count": 8,
   "id": "31dfd997",
   "metadata": {},
   "outputs": [],
   "source": [
    "file.close()"
   ]
  },
  {
   "cell_type": "code",
   "execution_count": 9,
   "id": "e7a0d4fc",
   "metadata": {},
   "outputs": [
    {
     "data": {
      "text/plain": [
       "True"
      ]
     },
     "execution_count": 9,
     "metadata": {},
     "output_type": "execute_result"
    }
   ],
   "source": [
    "file.closed"
   ]
  },
  {
   "cell_type": "code",
   "execution_count": 10,
   "id": "e1305e42",
   "metadata": {},
   "outputs": [],
   "source": [
    "file = open(\"../data_file/sample.txt\")"
   ]
  },
  {
   "cell_type": "code",
   "execution_count": 11,
   "id": "1f4cf64c",
   "metadata": {},
   "outputs": [
    {
     "data": {
      "text/plain": [
       "'Hello everyone!\\nWelcome to Skillsoft\\nThis is a tutorial for File Operations'"
      ]
     },
     "execution_count": 11,
     "metadata": {},
     "output_type": "execute_result"
    }
   ],
   "source": [
    "file.read()"
   ]
  },
  {
   "cell_type": "code",
   "execution_count": 12,
   "id": "eaec3614",
   "metadata": {},
   "outputs": [
    {
     "data": {
      "text/plain": [
       "0"
      ]
     },
     "execution_count": 12,
     "metadata": {},
     "output_type": "execute_result"
    }
   ],
   "source": [
    "file.seek(0)"
   ]
  },
  {
   "cell_type": "code",
   "execution_count": 13,
   "id": "936213f3",
   "metadata": {},
   "outputs": [
    {
     "data": {
      "text/plain": [
       "'Hello'"
      ]
     },
     "execution_count": 13,
     "metadata": {},
     "output_type": "execute_result"
    }
   ],
   "source": [
    "file.read(5)"
   ]
  },
  {
   "cell_type": "code",
   "execution_count": 14,
   "id": "f676ab8f",
   "metadata": {},
   "outputs": [
    {
     "data": {
      "text/plain": [
       "5"
      ]
     },
     "execution_count": 14,
     "metadata": {},
     "output_type": "execute_result"
    }
   ],
   "source": [
    "file.tell()"
   ]
  },
  {
   "cell_type": "code",
   "execution_count": 15,
   "id": "39914beb",
   "metadata": {},
   "outputs": [
    {
     "data": {
      "text/plain": [
       "' ever'"
      ]
     },
     "execution_count": 15,
     "metadata": {},
     "output_type": "execute_result"
    }
   ],
   "source": [
    "file.read(5)"
   ]
  },
  {
   "cell_type": "code",
   "execution_count": 16,
   "id": "e1691ea6",
   "metadata": {},
   "outputs": [
    {
     "data": {
      "text/plain": [
       "10"
      ]
     },
     "execution_count": 16,
     "metadata": {},
     "output_type": "execute_result"
    }
   ],
   "source": [
    "file.tell()"
   ]
  },
  {
   "cell_type": "code",
   "execution_count": 17,
   "id": "859879b5",
   "metadata": {},
   "outputs": [
    {
     "data": {
      "text/plain": [
       "'Hello'"
      ]
     },
     "execution_count": 17,
     "metadata": {},
     "output_type": "execute_result"
    }
   ],
   "source": [
    "file.seek(0)\n",
    "\n",
    "file.read(5)"
   ]
  },
  {
   "cell_type": "code",
   "execution_count": 18,
   "id": "7d8395b9",
   "metadata": {},
   "outputs": [
    {
     "data": {
      "text/plain": [
       "' everyone!\\n'"
      ]
     },
     "execution_count": 18,
     "metadata": {},
     "output_type": "execute_result"
    }
   ],
   "source": [
    "file.readline()"
   ]
  },
  {
   "cell_type": "code",
   "execution_count": 19,
   "id": "96b32fd0",
   "metadata": {},
   "outputs": [
    {
     "data": {
      "text/plain": [
       "'Welcome to Skillsoft\\n'"
      ]
     },
     "execution_count": 19,
     "metadata": {},
     "output_type": "execute_result"
    }
   ],
   "source": [
    "file.readline()"
   ]
  },
  {
   "cell_type": "code",
   "execution_count": 20,
   "id": "2c64eb34",
   "metadata": {},
   "outputs": [
    {
     "data": {
      "text/plain": [
       "'This is a tutorial for File Operations'"
      ]
     },
     "execution_count": 20,
     "metadata": {},
     "output_type": "execute_result"
    }
   ],
   "source": [
    "file.readline()"
   ]
  },
  {
   "cell_type": "code",
   "execution_count": 21,
   "id": "8a8996bb",
   "metadata": {},
   "outputs": [
    {
     "data": {
      "text/plain": [
       "''"
      ]
     },
     "execution_count": 21,
     "metadata": {},
     "output_type": "execute_result"
    }
   ],
   "source": [
    "file.readline()"
   ]
  },
  {
   "cell_type": "code",
   "execution_count": 22,
   "id": "455f7cae",
   "metadata": {},
   "outputs": [
    {
     "data": {
      "text/plain": [
       "0"
      ]
     },
     "execution_count": 22,
     "metadata": {},
     "output_type": "execute_result"
    }
   ],
   "source": [
    "file.seek(0)"
   ]
  },
  {
   "cell_type": "code",
   "execution_count": 23,
   "id": "deecd46e",
   "metadata": {},
   "outputs": [
    {
     "data": {
      "text/plain": [
       "['Hello everyone!\\n',\n",
       " 'Welcome to Skillsoft\\n',\n",
       " 'This is a tutorial for File Operations']"
      ]
     },
     "execution_count": 23,
     "metadata": {},
     "output_type": "execute_result"
    }
   ],
   "source": [
    "file.readlines()"
   ]
  },
  {
   "cell_type": "code",
   "execution_count": 24,
   "id": "ba5da142",
   "metadata": {},
   "outputs": [
    {
     "data": {
      "text/plain": [
       "False"
      ]
     },
     "execution_count": 24,
     "metadata": {},
     "output_type": "execute_result"
    }
   ],
   "source": [
    "file.closed"
   ]
  },
  {
   "cell_type": "code",
   "execution_count": 25,
   "id": "2b60c4c9",
   "metadata": {},
   "outputs": [],
   "source": [
    "file.close()"
   ]
  },
  {
   "cell_type": "code",
   "execution_count": 26,
   "id": "93017fe7",
   "metadata": {},
   "outputs": [
    {
     "data": {
      "text/plain": [
       "True"
      ]
     },
     "execution_count": 26,
     "metadata": {},
     "output_type": "execute_result"
    }
   ],
   "source": [
    "file.closed"
   ]
  },
  {
   "cell_type": "code",
   "execution_count": 27,
   "id": "32abb12e",
   "metadata": {},
   "outputs": [
    {
     "name": "stdout",
     "output_type": "stream",
     "text": [
      "['Hello everyone!\\n', 'Welcome to Skillsoft\\n', 'This is a tutorial for File Operations']\n"
     ]
    }
   ],
   "source": [
    "with open(\"../data_file/sample.txt\") as f:\n",
    "    \n",
    "    data = f.readlines()\n",
    "    \n",
    "print(data)"
   ]
  },
  {
   "cell_type": "code",
   "execution_count": 28,
   "id": "abfa83b3",
   "metadata": {},
   "outputs": [
    {
     "data": {
      "text/plain": [
       "True"
      ]
     },
     "execution_count": 28,
     "metadata": {},
     "output_type": "execute_result"
    }
   ],
   "source": [
    "f.closed"
   ]
  },
  {
   "cell_type": "code",
   "execution_count": 29,
   "id": "923da618",
   "metadata": {},
   "outputs": [
    {
     "name": "stdout",
     "output_type": "stream",
     "text": [
      "Hello everyone!\n",
      "\n",
      "Welcome to Skillsoft\n",
      "\n",
      "This is a tutorial for File Operations\n"
     ]
    }
   ],
   "source": [
    "with open(\"../data_file/sample.txt\") as f:\n",
    "    line = f.readline()\n",
    "    \n",
    "    while line:\n",
    "        print(line)\n",
    "        line = f.readline()"
   ]
  },
  {
   "cell_type": "code",
   "execution_count": 30,
   "id": "cc329d73",
   "metadata": {},
   "outputs": [],
   "source": [
    "file = open(\"../data_file/example.txt\", \"w\")\n",
    "\n",
    "file.write(\"Let's check the write operation\")\n",
    "\n",
    "file.close()"
   ]
  },
  {
   "cell_type": "code",
   "execution_count": 31,
   "id": "8509a66b",
   "metadata": {},
   "outputs": [
    {
     "name": "stdout",
     "output_type": "stream",
     "text": [
      "Let's check the write operation\n"
     ]
    }
   ],
   "source": [
    "!type ..\\data_file\\example.txt"
   ]
  },
  {
   "cell_type": "code",
   "execution_count": 32,
   "id": "1d1e4bfc",
   "metadata": {},
   "outputs": [],
   "source": [
    "file = open(\"../data_file/example.txt\", \"w\")\n",
    "\n",
    "file.write(\"Let's check the write operation\")\n",
    "\n",
    "file.seek(6)\n",
    "\n",
    "file.write(\" examine \")\n",
    "\n",
    "file.close()"
   ]
  },
  {
   "cell_type": "code",
   "execution_count": 33,
   "id": "d1aaeae6",
   "metadata": {},
   "outputs": [
    {
     "name": "stdout",
     "output_type": "stream",
     "text": [
      "Let's  examine  write operation\n"
     ]
    }
   ],
   "source": [
    "!type ..\\data_file\\example.txt"
   ]
  },
  {
   "cell_type": "code",
   "execution_count": 34,
   "id": "fbe176bf",
   "metadata": {},
   "outputs": [],
   "source": [
    "file = open(\"../data_file/example.txt\")"
   ]
  },
  {
   "cell_type": "code",
   "execution_count": 35,
   "id": "07b70c84",
   "metadata": {},
   "outputs": [
    {
     "name": "stdout",
     "output_type": "stream",
     "text": [
      "Let's  examine  write operation\n"
     ]
    }
   ],
   "source": [
    "for lines in file:\n",
    "    print(lines)"
   ]
  },
  {
   "cell_type": "code",
   "execution_count": 36,
   "id": "129969f0",
   "metadata": {},
   "outputs": [],
   "source": [
    "with open(\"../data_file/example.txt\", \"w\") as f:\n",
    "    \n",
    "    f.write(\"First line\\n\")\n",
    "    f.write(\"Second line\\n\")\n",
    "    f.write(\"Third line\\n\")"
   ]
  },
  {
   "cell_type": "code",
   "execution_count": 37,
   "id": "d7747d60",
   "metadata": {},
   "outputs": [],
   "source": [
    "f = open(\"../data_file/example.txt\", \"a\")"
   ]
  },
  {
   "cell_type": "code",
   "execution_count": 38,
   "id": "ef6d700c",
   "metadata": {},
   "outputs": [
    {
     "data": {
      "text/plain": [
       "37"
      ]
     },
     "execution_count": 38,
     "metadata": {},
     "output_type": "execute_result"
    }
   ],
   "source": [
    "f.tell()"
   ]
  },
  {
   "cell_type": "code",
   "execution_count": 39,
   "id": "e4b3092b",
   "metadata": {},
   "outputs": [],
   "source": [
    "f.writelines([\"Another line was appended\\n\", \n",
    "              \"What will it look like now?\\n\", \n",
    "              \"Lets check it out\\n\"])\n",
    "f.close()"
   ]
  },
  {
   "cell_type": "code",
   "execution_count": 40,
   "id": "10048077",
   "metadata": {},
   "outputs": [],
   "source": [
    "f = open(\"../data_file/example.txt\", \"r\")"
   ]
  },
  {
   "cell_type": "code",
   "execution_count": 41,
   "id": "18d6e96b",
   "metadata": {},
   "outputs": [
    {
     "data": {
      "text/plain": [
       "['First line\\n',\n",
       " 'Second line\\n',\n",
       " 'Third line\\n',\n",
       " 'Another line was appended\\n',\n",
       " 'What will it look like now?\\n',\n",
       " 'Lets check it out\\n']"
      ]
     },
     "execution_count": 41,
     "metadata": {},
     "output_type": "execute_result"
    }
   ],
   "source": [
    "f.readlines()"
   ]
  },
  {
   "cell_type": "code",
   "execution_count": 42,
   "id": "d9a26a5e",
   "metadata": {},
   "outputs": [
    {
     "data": {
      "text/plain": [
       "5"
      ]
     },
     "execution_count": 42,
     "metadata": {},
     "output_type": "execute_result"
    }
   ],
   "source": [
    "f.fileno()"
   ]
  },
  {
   "cell_type": "code",
   "execution_count": 43,
   "id": "20bf637b",
   "metadata": {},
   "outputs": [
    {
     "data": {
      "text/plain": [
       "False"
      ]
     },
     "execution_count": 43,
     "metadata": {},
     "output_type": "execute_result"
    }
   ],
   "source": [
    "f.isatty()"
   ]
  },
  {
   "cell_type": "code",
   "execution_count": 44,
   "id": "75671b07",
   "metadata": {},
   "outputs": [
    {
     "data": {
      "text/plain": [
       "True"
      ]
     },
     "execution_count": 44,
     "metadata": {},
     "output_type": "execute_result"
    }
   ],
   "source": [
    "f.readable()"
   ]
  },
  {
   "cell_type": "code",
   "execution_count": 45,
   "id": "d8ee23e2",
   "metadata": {},
   "outputs": [
    {
     "data": {
      "text/plain": [
       "False"
      ]
     },
     "execution_count": 45,
     "metadata": {},
     "output_type": "execute_result"
    }
   ],
   "source": [
    "f.writable()"
   ]
  },
  {
   "cell_type": "code",
   "execution_count": 46,
   "id": "26e4431e",
   "metadata": {},
   "outputs": [],
   "source": [
    "f.close()"
   ]
  },
  {
   "cell_type": "code",
   "execution_count": 47,
   "id": "2b6f603f",
   "metadata": {},
   "outputs": [],
   "source": [
    "f = open(\"../data_file/example.txt\", \"a\")"
   ]
  },
  {
   "cell_type": "code",
   "execution_count": 48,
   "id": "6201bf2b",
   "metadata": {},
   "outputs": [
    {
     "data": {
      "text/plain": [
       "112"
      ]
     },
     "execution_count": 48,
     "metadata": {},
     "output_type": "execute_result"
    }
   ],
   "source": [
    "f.tell()"
   ]
  },
  {
   "cell_type": "code",
   "execution_count": 49,
   "id": "0ff824b0",
   "metadata": {},
   "outputs": [
    {
     "data": {
      "text/plain": [
       "112"
      ]
     },
     "execution_count": 49,
     "metadata": {},
     "output_type": "execute_result"
    }
   ],
   "source": [
    "import os\n",
    "\n",
    "os.stat(\"../data_file/example.txt\").st_size"
   ]
  },
  {
   "cell_type": "code",
   "execution_count": 50,
   "id": "d19b7846",
   "metadata": {},
   "outputs": [
    {
     "data": {
      "text/plain": [
       "37"
      ]
     },
     "execution_count": 50,
     "metadata": {},
     "output_type": "execute_result"
    }
   ],
   "source": [
    "f.truncate(37)"
   ]
  },
  {
   "cell_type": "code",
   "execution_count": 51,
   "id": "1c55a9e8",
   "metadata": {},
   "outputs": [],
   "source": [
    "f.close()"
   ]
  },
  {
   "cell_type": "code",
   "execution_count": 52,
   "id": "9c56a0ac",
   "metadata": {},
   "outputs": [
    {
     "data": {
      "text/plain": [
       "'First line\\nSecond line\\nThird line\\n'"
      ]
     },
     "execution_count": 52,
     "metadata": {},
     "output_type": "execute_result"
    }
   ],
   "source": [
    "f = open(\"../data_file/example.txt\", \"r\")\n",
    "\n",
    "f.read()"
   ]
  },
  {
   "cell_type": "code",
   "execution_count": 53,
   "id": "40761255",
   "metadata": {},
   "outputs": [
    {
     "name": "stdout",
     "output_type": "stream",
     "text": [
      "First line\n",
      "Second line\n",
      "Third line\n"
     ]
    }
   ],
   "source": [
    "!type ..\\data_file\\example.txt"
   ]
  },
  {
   "cell_type": "code",
   "execution_count": 54,
   "id": "1e6455f8",
   "metadata": {},
   "outputs": [],
   "source": [
    "f = open(\"../data_file/example.txt\", \"r+\")\n",
    "f.writelines(\"We are doing an 'r+' operation\")\n",
    "f.close()"
   ]
  },
  {
   "cell_type": "code",
   "execution_count": 55,
   "id": "cce55677",
   "metadata": {},
   "outputs": [
    {
     "name": "stdout",
     "output_type": "stream",
     "text": [
      "We are doing an 'r+' operation line\n"
     ]
    }
   ],
   "source": [
    "!type ..\\data_file\\example.txt"
   ]
  },
  {
   "cell_type": "code",
   "execution_count": 56,
   "id": "48830508",
   "metadata": {},
   "outputs": [],
   "source": [
    "f = open(\"../data_file/example.txt\", \"r+\")\n",
    "f.writelines(\"In 'r+' mode, the cursor is initially at the start of the file\")\n",
    "f.close()"
   ]
  },
  {
   "cell_type": "code",
   "execution_count": 57,
   "id": "f254f2e8",
   "metadata": {},
   "outputs": [
    {
     "name": "stdout",
     "output_type": "stream",
     "text": [
      "In 'r+' mode, the cursor is initially at the start of the file\n"
     ]
    }
   ],
   "source": [
    "!type ..\\data_file\\example.txt"
   ]
  },
  {
   "cell_type": "code",
   "execution_count": 58,
   "id": "89b8b4c9",
   "metadata": {},
   "outputs": [],
   "source": [
    "with open(\"../data_file/example.txt\", \"a+\") as f:\n",
    "    f.writelines(\"\\nWhat does writing in 'a+' do?\")"
   ]
  }
 ],
 "metadata": {
  "kernelspec": {
   "display_name": "Python 3 (ipykernel)",
   "language": "python",
   "name": "python3"
  },
  "language_info": {
   "codemirror_mode": {
    "name": "ipython",
    "version": 3
   },
   "file_extension": ".py",
   "mimetype": "text/x-python",
   "name": "python",
   "nbconvert_exporter": "python",
   "pygments_lexer": "ipython3",
   "version": "3.11.4"
  }
 },
 "nbformat": 4,
 "nbformat_minor": 5
}
