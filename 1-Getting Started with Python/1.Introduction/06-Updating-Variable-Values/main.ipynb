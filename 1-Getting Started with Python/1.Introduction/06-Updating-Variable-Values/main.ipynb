{
 "cells": [
  {
   "cell_type": "code",
   "execution_count": 1,
   "id": "74f2c4f2",
   "metadata": {},
   "outputs": [],
   "source": [
    "n1 = 34\n",
    "\n",
    "n2 = 34.5\n",
    "\n",
    "n3 = 100"
   ]
  },
  {
   "cell_type": "code",
   "execution_count": 2,
   "id": "694a0990",
   "metadata": {},
   "outputs": [],
   "source": [
    "s1 = 'Hello'\n",
    "\n",
    "s2 = 'World'"
   ]
  },
  {
   "cell_type": "code",
   "execution_count": 3,
   "id": "00e8e1cd",
   "metadata": {},
   "outputs": [
    {
     "data": {
      "text/plain": [
       "168.5"
      ]
     },
     "execution_count": 3,
     "metadata": {},
     "output_type": "execute_result"
    }
   ],
   "source": [
    "total_n = n1 + n2 + n3\n",
    "\n",
    "total_n"
   ]
  },
  {
   "cell_type": "code",
   "execution_count": 4,
   "id": "1ceca410",
   "metadata": {},
   "outputs": [
    {
     "data": {
      "text/plain": [
       "35"
      ]
     },
     "execution_count": 4,
     "metadata": {},
     "output_type": "execute_result"
    }
   ],
   "source": [
    "n1 = n1 + 1\n",
    "\n",
    "n1"
   ]
  },
  {
   "cell_type": "code",
   "execution_count": 5,
   "id": "34d8a793",
   "metadata": {},
   "outputs": [
    {
     "data": {
      "text/plain": [
       "44.5"
      ]
     },
     "execution_count": 5,
     "metadata": {},
     "output_type": "execute_result"
    }
   ],
   "source": [
    "n2 = n2 + 10\n",
    "\n",
    "n2"
   ]
  },
  {
   "cell_type": "code",
   "execution_count": 6,
   "id": "9ff76aa3",
   "metadata": {},
   "outputs": [
    {
     "data": {
      "text/plain": [
       "50"
      ]
     },
     "execution_count": 6,
     "metadata": {},
     "output_type": "execute_result"
    }
   ],
   "source": [
    "n3 = n3 - 50\n",
    "\n",
    "n3"
   ]
  },
  {
   "cell_type": "code",
   "execution_count": 7,
   "id": "9a1a6481",
   "metadata": {},
   "outputs": [
    {
     "data": {
      "text/plain": [
       "2500"
      ]
     },
     "execution_count": 7,
     "metadata": {},
     "output_type": "execute_result"
    }
   ],
   "source": [
    "n3 = n3 * 50\n",
    "\n",
    "n3"
   ]
  },
  {
   "cell_type": "code",
   "execution_count": 8,
   "id": "060daddf",
   "metadata": {},
   "outputs": [
    {
     "data": {
      "text/plain": [
       "50.0"
      ]
     },
     "execution_count": 8,
     "metadata": {},
     "output_type": "execute_result"
    }
   ],
   "source": [
    "n3 = n3 / 50\n",
    "\n",
    "n3"
   ]
  },
  {
   "cell_type": "code",
   "execution_count": 9,
   "id": "04540fb5",
   "metadata": {},
   "outputs": [
    {
     "data": {
      "text/plain": [
       "71"
      ]
     },
     "execution_count": 9,
     "metadata": {},
     "output_type": "execute_result"
    }
   ],
   "source": [
    "# += means Addition + Assignment and so on\n",
    "n1 += n1 + 1\n",
    "\n",
    "n1"
   ]
  },
  {
   "cell_type": "code",
   "execution_count": 10,
   "id": "d7a51078",
   "metadata": {},
   "outputs": [
    {
     "data": {
      "text/plain": [
       "54.5"
      ]
     },
     "execution_count": 10,
     "metadata": {},
     "output_type": "execute_result"
    }
   ],
   "source": [
    "n2 += 10\n",
    "\n",
    "n2"
   ]
  },
  {
   "cell_type": "code",
   "execution_count": 11,
   "id": "299b4efb",
   "metadata": {},
   "outputs": [
    {
     "data": {
      "text/plain": [
       "2500.0"
      ]
     },
     "execution_count": 11,
     "metadata": {},
     "output_type": "execute_result"
    }
   ],
   "source": [
    "n3 *= 50\n",
    "\n",
    "n3"
   ]
  },
  {
   "cell_type": "code",
   "execution_count": 12,
   "id": "13e8ffde",
   "metadata": {},
   "outputs": [
    {
     "data": {
      "text/plain": [
       "50.0"
      ]
     },
     "execution_count": 12,
     "metadata": {},
     "output_type": "execute_result"
    }
   ],
   "source": [
    "n3 /= 50\n",
    "\n",
    "n3"
   ]
  },
  {
   "cell_type": "code",
   "execution_count": 13,
   "id": "535a437f",
   "metadata": {},
   "outputs": [
    {
     "data": {
      "text/plain": [
       "'HelloWorld'"
      ]
     },
     "execution_count": 13,
     "metadata": {},
     "output_type": "execute_result"
    }
   ],
   "source": [
    "concat_string = s1 + s2\n",
    "\n",
    "concat_string"
   ]
  },
  {
   "cell_type": "code",
   "execution_count": 14,
   "id": "11f8c776",
   "metadata": {},
   "outputs": [
    {
     "data": {
      "text/plain": [
       "'HelloYoohoo'"
      ]
     },
     "execution_count": 14,
     "metadata": {},
     "output_type": "execute_result"
    }
   ],
   "source": [
    "s1 = s1 + 'Yoohoo'\n",
    "\n",
    "s1"
   ]
  },
  {
   "cell_type": "code",
   "execution_count": 15,
   "id": "7f92743d",
   "metadata": {},
   "outputs": [
    {
     "data": {
      "text/plain": [
       "'WorldYipee'"
      ]
     },
     "execution_count": 15,
     "metadata": {},
     "output_type": "execute_result"
    }
   ],
   "source": [
    "s2 = s2 + \"Yipee\"\n",
    "\n",
    "s2"
   ]
  },
  {
   "cell_type": "code",
   "execution_count": 16,
   "id": "61e9174a",
   "metadata": {},
   "outputs": [
    {
     "data": {
      "text/plain": [
       "'HelloYoohoo'"
      ]
     },
     "execution_count": 16,
     "metadata": {},
     "output_type": "execute_result"
    }
   ],
   "source": [
    "new_s1 = s1\n",
    "\n",
    "new_s1"
   ]
  },
  {
   "cell_type": "code",
   "execution_count": 17,
   "id": "8e45727b",
   "metadata": {},
   "outputs": [
    {
     "data": {
      "text/plain": [
       "'Some other value'"
      ]
     },
     "execution_count": 17,
     "metadata": {},
     "output_type": "execute_result"
    }
   ],
   "source": [
    "s1 = 'Some other value'\n",
    "\n",
    "s1"
   ]
  },
  {
   "cell_type": "code",
   "execution_count": 18,
   "id": "ef46da18",
   "metadata": {},
   "outputs": [
    {
     "data": {
      "text/plain": [
       "'HelloYoohoo'"
      ]
     },
     "execution_count": 18,
     "metadata": {},
     "output_type": "execute_result"
    }
   ],
   "source": [
    "new_s1"
   ]
  },
  {
   "cell_type": "code",
   "execution_count": 19,
   "id": "6086e802",
   "metadata": {},
   "outputs": [
    {
     "data": {
      "text/plain": [
       "50.0"
      ]
     },
     "execution_count": 19,
     "metadata": {},
     "output_type": "execute_result"
    }
   ],
   "source": [
    "some_n = n3\n",
    "\n",
    "some_n"
   ]
  },
  {
   "cell_type": "code",
   "execution_count": 20,
   "id": "ca76642e",
   "metadata": {},
   "outputs": [
    {
     "data": {
      "text/plain": [
       "50000.0"
      ]
     },
     "execution_count": 20,
     "metadata": {},
     "output_type": "execute_result"
    }
   ],
   "source": [
    "n3 *= 1000\n",
    "\n",
    "n3"
   ]
  },
  {
   "cell_type": "code",
   "execution_count": 21,
   "id": "a892bcf9",
   "metadata": {},
   "outputs": [
    {
     "data": {
      "text/plain": [
       "50.0"
      ]
     },
     "execution_count": 21,
     "metadata": {},
     "output_type": "execute_result"
    }
   ],
   "source": [
    "some_n"
   ]
  }
 ],
 "metadata": {
  "kernelspec": {
   "display_name": "Python 3 (ipykernel)",
   "language": "python",
   "name": "python3"
  },
  "language_info": {
   "codemirror_mode": {
    "name": "ipython",
    "version": 3
   },
   "file_extension": ".py",
   "mimetype": "text/x-python",
   "name": "python",
   "nbconvert_exporter": "python",
   "pygments_lexer": "ipython3",
   "version": "3.11.4"
  }
 },
 "nbformat": 4,
 "nbformat_minor": 5
}
