{
 "cells": [
  {
   "cell_type": "code",
   "execution_count": 1,
   "id": "42022e59",
   "metadata": {},
   "outputs": [
    {
     "data": {
      "text/plain": [
       "{'c++', 'java', 'php', 'python'}"
      ]
     },
     "execution_count": 1,
     "metadata": {},
     "output_type": "execute_result"
    }
   ],
   "source": [
    "set_1 = {'c++', 'php', 'java', 'python'}\n",
    "\n",
    "set_1"
   ]
  },
  {
   "cell_type": "code",
   "execution_count": 2,
   "id": "ec71d5af",
   "metadata": {},
   "outputs": [
    {
     "name": "stdout",
     "output_type": "stream",
     "text": [
      "Original:  {'java', 'php', 'python', 'c++'}\n",
      "Modified:  {'java', 'php', 'python', 'c++'}\n"
     ]
    }
   ],
   "source": [
    "set_2 = set_1\n",
    "\n",
    "print(\"Original: \", set_1)\n",
    "print(\"Modified: \", set_2)"
   ]
  },
  {
   "cell_type": "code",
   "execution_count": 3,
   "id": "9e4799cc",
   "metadata": {},
   "outputs": [
    {
     "name": "stdout",
     "output_type": "stream",
     "text": [
      "Original:  {'c++', 'java', 'php', 'python', 'sql'}\n",
      "Modified:  {'c++', 'java', 'php', 'python', 'sql'}\n"
     ]
    }
   ],
   "source": [
    "set_2.add('sql')\n",
    "\n",
    "print(\"Original: \", set_1)\n",
    "print(\"Modified: \", set_2)"
   ]
  },
  {
   "cell_type": "code",
   "execution_count": 4,
   "id": "02ed1399",
   "metadata": {},
   "outputs": [
    {
     "data": {
      "text/plain": [
       "'c++'"
      ]
     },
     "execution_count": 4,
     "metadata": {},
     "output_type": "execute_result"
    }
   ],
   "source": [
    "set_2.pop()"
   ]
  },
  {
   "cell_type": "code",
   "execution_count": 5,
   "id": "494ebfb0",
   "metadata": {},
   "outputs": [
    {
     "name": "stdout",
     "output_type": "stream",
     "text": [
      "Original:  {'java', 'php', 'python', 'sql'}\n",
      "Modified:  {'java', 'php', 'python', 'sql'}\n"
     ]
    }
   ],
   "source": [
    "print(\"Original: \", set_1)\n",
    "print(\"Modified: \", set_2)"
   ]
  },
  {
   "cell_type": "code",
   "execution_count": null,
   "id": "614cd347",
   "metadata": {},
   "outputs": [],
   "source": [
    "set_2[2] # Will throw an error"
   ]
  },
  {
   "cell_type": "code",
   "execution_count": null,
   "id": "aab6b69a",
   "metadata": {},
   "outputs": [],
   "source": [
    "set_2[2] = 'ruby' # Will throw an error"
   ]
  },
  {
   "cell_type": "code",
   "execution_count": null,
   "id": "a6d04644",
   "metadata": {},
   "outputs": [],
   "source": [
    "set_1 = {'c++', 'php', ['java', 'python'], 'sql'} # Will throw an error\n",
    "\n",
    "set_1"
   ]
  },
  {
   "cell_type": "code",
   "execution_count": 9,
   "id": "2ff5b17e",
   "metadata": {},
   "outputs": [
    {
     "data": {
      "text/plain": [
       "{('java', 'python'), 'c++', 'php', 'sql'}"
      ]
     },
     "execution_count": 9,
     "metadata": {},
     "output_type": "execute_result"
    }
   ],
   "source": [
    "set_1 = {'c++', 'php', ('java', 'python'), 'sql'}\n",
    "\n",
    "set_1"
   ]
  },
  {
   "cell_type": "code",
   "execution_count": 10,
   "id": "90c0303d",
   "metadata": {},
   "outputs": [
    {
     "name": "stdout",
     "output_type": "stream",
     "text": [
      "Original:  {('java', 'python'), 'php', 'c++', 'sql'}\n",
      "Modified:  {('java', 'python'), 'php', 'c++', 'sql'}\n"
     ]
    }
   ],
   "source": [
    "set_2 = set_1\n",
    "\n",
    "print(\"Original: \", set_1)\n",
    "print(\"Modified: \", set_2)"
   ]
  },
  {
   "cell_type": "code",
   "execution_count": 11,
   "id": "012ad58a",
   "metadata": {},
   "outputs": [
    {
     "name": "stdout",
     "output_type": "stream",
     "text": [
      "Original:  {'Jacob', 'Ava', 'Daniel', 'Mia'}\n",
      "Modified:  {'Jacob', 'Ava', 'Daniel', 'Mia'}\n"
     ]
    }
   ],
   "source": [
    "import copy\n",
    "\n",
    "teachers_set = {\"Ava\", \"Mia\", \"Jacob\", \"Daniel\"}\n",
    "\n",
    "new_teachers_set = copy.copy(teachers_set)\n",
    "\n",
    "print(\"Original: \", teachers_set)\n",
    "print(\"Modified: \", new_teachers_set)"
   ]
  },
  {
   "cell_type": "code",
   "execution_count": 12,
   "id": "6dadfd3c",
   "metadata": {},
   "outputs": [
    {
     "name": "stdout",
     "output_type": "stream",
     "text": [
      "Original:  {'Jacob', 'Daniel', 'Mia', 'Emma', 'Ava'}\n",
      "Modified:  {'Jacob', 'Ava', 'Daniel', 'Mia'}\n"
     ]
    }
   ],
   "source": [
    "teachers_set.add(\"Emma\")\n",
    "\n",
    "print(\"Original: \", teachers_set)\n",
    "print(\"Modified: \", new_teachers_set)"
   ]
  },
  {
   "cell_type": "code",
   "execution_count": 13,
   "id": "63729254",
   "metadata": {},
   "outputs": [
    {
     "name": "stdout",
     "output_type": "stream",
     "text": [
      "Original:  {'Jacob', 'Daniel', 'Mia', 'Emma', 'Ava'}\n",
      "Modified:  {'Jacob', 'Daniel', 'Mia'}\n"
     ]
    }
   ],
   "source": [
    "new_teachers_set.remove(\"Ava\")\n",
    "\n",
    "print(\"Original: \", teachers_set)\n",
    "print(\"Modified: \", new_teachers_set)"
   ]
  },
  {
   "cell_type": "code",
   "execution_count": 14,
   "id": "cc3827c2",
   "metadata": {},
   "outputs": [
    {
     "name": "stdout",
     "output_type": "stream",
     "text": [
      "Original:  {'Jacob', 'Ava', 'Daniel', 'Mia'}\n",
      "Modified:  {'Jacob', 'Ava', 'Daniel', 'Mia'}\n"
     ]
    }
   ],
   "source": [
    "teachers_set = {\"Ava\", \"Mia\", \"Jacob\", \"Daniel\"}\n",
    "\n",
    "new_teachers_set = copy.deepcopy(teachers_set)\n",
    "\n",
    "print(\"Original: \", teachers_set)\n",
    "print(\"Modified: \", new_teachers_set)"
   ]
  },
  {
   "cell_type": "code",
   "execution_count": 15,
   "id": "aa8192ae",
   "metadata": {},
   "outputs": [
    {
     "name": "stdout",
     "output_type": "stream",
     "text": [
      "Original:  {'Jacob', 'Daniel', 'Mia', 'Emma', 'Ava'}\n",
      "Modified:  {'Jacob', 'Ava', 'Daniel', 'Mia'}\n"
     ]
    }
   ],
   "source": [
    "teachers_set.add(\"Emma\")\n",
    "\n",
    "print(\"Original: \", teachers_set)\n",
    "print(\"Modified: \", new_teachers_set)"
   ]
  },
  {
   "cell_type": "code",
   "execution_count": 16,
   "id": "c83dbf2f",
   "metadata": {},
   "outputs": [
    {
     "name": "stdout",
     "output_type": "stream",
     "text": [
      "Original:  {'Jacob', 'Daniel', 'Mia', 'Emma'}\n",
      "Modified:  {'Jacob', 'Ava', 'Daniel', 'Mia'}\n"
     ]
    }
   ],
   "source": [
    "teachers_set.remove(\"Ava\")\n",
    "\n",
    "print(\"Original: \", teachers_set)\n",
    "print(\"Modified: \", new_teachers_set)"
   ]
  }
 ],
 "metadata": {
  "kernelspec": {
   "display_name": "Python 3 (ipykernel)",
   "language": "python",
   "name": "python3"
  },
  "language_info": {
   "codemirror_mode": {
    "name": "ipython",
    "version": 3
   },
   "file_extension": ".py",
   "mimetype": "text/x-python",
   "name": "python",
   "nbconvert_exporter": "python",
   "pygments_lexer": "ipython3",
   "version": "3.11.4"
  }
 },
 "nbformat": 4,
 "nbformat_minor": 5
}
