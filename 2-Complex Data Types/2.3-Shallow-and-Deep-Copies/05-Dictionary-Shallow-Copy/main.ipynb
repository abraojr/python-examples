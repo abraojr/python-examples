{
 "cells": [
  {
   "cell_type": "code",
   "execution_count": 1,
   "id": "71d7f3a8",
   "metadata": {},
   "outputs": [
    {
     "data": {
      "text/plain": [
       "{'jan': 1, 'feb': 2, 'march': 3, 'april': 4}"
      ]
     },
     "execution_count": 1,
     "metadata": {},
     "output_type": "execute_result"
    }
   ],
   "source": [
    "months = {'jan' : 1, 'feb' : 2, 'march' : 3, 'april' : 4}\n",
    "\n",
    "months"
   ]
  },
  {
   "cell_type": "code",
   "execution_count": 2,
   "id": "7eeb3769",
   "metadata": {},
   "outputs": [
    {
     "name": "stdout",
     "output_type": "stream",
     "text": [
      "Original:  {'jan': 1, 'feb': 2, 'march': 3, 'april': 4}\n",
      "Modified:  {'jan': 1, 'feb': 2, 'march': 3, 'april': 4}\n"
     ]
    }
   ],
   "source": [
    "new_months = months\n",
    "\n",
    "print(\"Original: \", months)\n",
    "print(\"Modified: \", new_months)"
   ]
  },
  {
   "cell_type": "code",
   "execution_count": 3,
   "id": "56f70bca",
   "metadata": {},
   "outputs": [
    {
     "data": {
      "text/plain": [
       "2"
      ]
     },
     "execution_count": 3,
     "metadata": {},
     "output_type": "execute_result"
    }
   ],
   "source": [
    "new_months['feb']"
   ]
  },
  {
   "cell_type": "code",
   "execution_count": 4,
   "id": "9a2c7dac",
   "metadata": {},
   "outputs": [
    {
     "name": "stdout",
     "output_type": "stream",
     "text": [
      "Original:  {'jan': 1, 'feb': 'FEB', 'march': 3, 'april': 4}\n",
      "Modified:  {'jan': 1, 'feb': 'FEB', 'march': 3, 'april': 4}\n"
     ]
    }
   ],
   "source": [
    "# Both variables refer to the same dictionary in memory\n",
    "new_months['feb'] = 'FEB'\n",
    "\n",
    "print(\"Original: \", months)\n",
    "print(\"Modified: \", new_months)"
   ]
  },
  {
   "cell_type": "code",
   "execution_count": 5,
   "id": "0dd0bea5",
   "metadata": {},
   "outputs": [
    {
     "name": "stdout",
     "output_type": "stream",
     "text": [
      "Original:  {'Alisson': 2007, 'Bart': 2008, 'Cathy': 2009, 'Dan': 2010}\n",
      "Modified:  {'Alisson': 2007, 'Bart': 2008, 'Cathy': 2009, 'Dan': 2010}\n"
     ]
    }
   ],
   "source": [
    "import copy\n",
    "\n",
    "employees = {\"Alisson\" : 2007, \"Bart\" : 2008, \"Cathy\" : 2009, \"Dan\" : 2010}\n",
    "\n",
    "employees_copy = copy.copy(employees)\n",
    "\n",
    "print(\"Original: \", employees)\n",
    "print(\"Modified: \", employees_copy)"
   ]
  },
  {
   "cell_type": "code",
   "execution_count": 6,
   "id": "a4211330",
   "metadata": {},
   "outputs": [
    {
     "data": {
      "text/plain": [
       "2007"
      ]
     },
     "execution_count": 6,
     "metadata": {},
     "output_type": "execute_result"
    }
   ],
   "source": [
    "employees_copy[\"Alisson\"]"
   ]
  },
  {
   "cell_type": "code",
   "execution_count": 7,
   "id": "26131844",
   "metadata": {},
   "outputs": [
    {
     "name": "stdout",
     "output_type": "stream",
     "text": [
      "Original:  {'Alisson': 2007, 'Bart': 2008, 'Cathy': 2009, 'Dan': 2010}\n",
      "Modified:  {'Alisson': 2005, 'Bart': 2008, 'Cathy': 2009, 'Dan': 2010}\n"
     ]
    }
   ],
   "source": [
    "employees_copy[\"Alisson\"] = 2005\n",
    "\n",
    "print(\"Original: \", employees)\n",
    "print(\"Modified: \", employees_copy)"
   ]
  },
  {
   "cell_type": "code",
   "execution_count": 8,
   "id": "60b5a9df",
   "metadata": {},
   "outputs": [
    {
     "name": "stdout",
     "output_type": "stream",
     "text": [
      "Original:  {'one': 1, 'two': 2, 'three': 3, 'four': [1, 2, 3, 4.0]}\n",
      "Modified:  {'one': 1, 'two': 2, 'three': 3, 'four': [1, 2, 3, 4.0]}\n"
     ]
    }
   ],
   "source": [
    "orig_dict = {'one' : 1, 'two' : 2, 'three' : 3 , 'four' : [1, 2, 3, 4.0]}\n",
    "\n",
    "new_dict = copy.copy(orig_dict)\n",
    "\n",
    "print(\"Original: \", orig_dict)\n",
    "print(\"Modified: \", new_dict)"
   ]
  },
  {
   "cell_type": "code",
   "execution_count": 9,
   "id": "d6fbc08f",
   "metadata": {},
   "outputs": [
    {
     "data": {
      "text/plain": [
       "4.0"
      ]
     },
     "execution_count": 9,
     "metadata": {},
     "output_type": "execute_result"
    }
   ],
   "source": [
    "new_dict['four'][3]"
   ]
  },
  {
   "cell_type": "code",
   "execution_count": 10,
   "id": "7a14c659",
   "metadata": {},
   "outputs": [
    {
     "name": "stdout",
     "output_type": "stream",
     "text": [
      "Original:  {'one': 1, 'two': 2, 'three': 3, 'four': [1, 2, 3, 'FOUR']}\n",
      "Modified:  {'one': 1, 'two': 2, 'three': 3, 'four': [1, 2, 3, 'FOUR']}\n"
     ]
    }
   ],
   "source": [
    "# copy.copy(dict) produces a deep copy of the outer dictionary but a shallow copy of nested types\n",
    "\n",
    "new_dict['four'][3] = 'FOUR'\n",
    "\n",
    "print(\"Original: \", orig_dict)\n",
    "print(\"Modified: \", new_dict)"
   ]
  },
  {
   "cell_type": "code",
   "execution_count": 11,
   "id": "5f895450",
   "metadata": {},
   "outputs": [
    {
     "name": "stdout",
     "output_type": "stream",
     "text": [
      "Original:  {'one': 1, 'two': 2, 'three': 3, 'four': [1, 2, 3, 'FOUR', 5]}\n",
      "Modified:  {'one': 1, 'two': 2, 'three': 3, 'four': [1, 2, 3, 'FOUR', 5]}\n"
     ]
    }
   ],
   "source": [
    "new_dict['four'].append(5)\n",
    "\n",
    "print(\"Original: \", orig_dict)\n",
    "print(\"Modified: \", new_dict)"
   ]
  },
  {
   "cell_type": "code",
   "execution_count": 12,
   "id": "65ebf7d1",
   "metadata": {},
   "outputs": [
    {
     "name": "stdout",
     "output_type": "stream",
     "text": [
      "Original:  {'one': 1, 'two': 2, 'three': {'zero': 0, 'one': 1}, 'four': 4}\n",
      "Modified:  {'one': 1, 'two': 2, 'three': {'zero': 0, 'one': 1}, 'four': 4}\n"
     ]
    }
   ],
   "source": [
    "orig_dict = {'one' : 1, 'two' : 2, 'three' : {'zero' : 0, 'one' : 1} , 'four' : 4}\n",
    "\n",
    "new_dict = copy.copy(orig_dict)\n",
    "\n",
    "print(\"Original: \", orig_dict)\n",
    "print(\"Modified: \", new_dict)"
   ]
  },
  {
   "cell_type": "code",
   "execution_count": 13,
   "id": "fbe490ee",
   "metadata": {},
   "outputs": [
    {
     "data": {
      "text/plain": [
       "0"
      ]
     },
     "execution_count": 13,
     "metadata": {},
     "output_type": "execute_result"
    }
   ],
   "source": [
    "new_dict['three']['zero']"
   ]
  },
  {
   "cell_type": "code",
   "execution_count": 14,
   "id": "e15b050c",
   "metadata": {},
   "outputs": [
    {
     "name": "stdout",
     "output_type": "stream",
     "text": [
      "Original:  {'one': 1, 'two': 2, 'three': {'zero': 'ZERO', 'one': 1}, 'four': 4}\n",
      "Modified:  {'one': 1, 'two': 2, 'three': {'zero': 'ZERO', 'one': 1}, 'four': 4}\n"
     ]
    }
   ],
   "source": [
    "new_dict['three']['zero'] = 'ZERO'\n",
    "\n",
    "print(\"Original: \", orig_dict)\n",
    "print(\"Modified: \", new_dict)"
   ]
  },
  {
   "cell_type": "code",
   "execution_count": 15,
   "id": "d3d6a853",
   "metadata": {},
   "outputs": [
    {
     "name": "stdout",
     "output_type": "stream",
     "text": [
      "Original:  {'one': 1, 'two': 2, 'three': {0, 1, 2}, 'four': 4}\n",
      "Modified:  {'one': 1, 'two': 2, 'three': {0, 1, 2}, 'four': 4}\n"
     ]
    }
   ],
   "source": [
    "orig_dict = {'one' : 1, 'two' : 2, 'three' : {0, 1, 2} , 'four' : 4}\n",
    "\n",
    "new_dict = copy.copy(orig_dict)\n",
    "\n",
    "print(\"Original: \", orig_dict)\n",
    "print(\"Modified: \", new_dict)"
   ]
  },
  {
   "cell_type": "code",
   "execution_count": 16,
   "id": "88c5da89",
   "metadata": {},
   "outputs": [
    {
     "data": {
      "text/plain": [
       "{0, 1, 2}"
      ]
     },
     "execution_count": 16,
     "metadata": {},
     "output_type": "execute_result"
    }
   ],
   "source": [
    "new_dict['three']"
   ]
  },
  {
   "cell_type": "code",
   "execution_count": 17,
   "id": "ebd44ffb",
   "metadata": {},
   "outputs": [
    {
     "name": "stdout",
     "output_type": "stream",
     "text": [
      "Original:  {'one': 1, 'two': 2, 'three': {0, 1, 2, 3}, 'four': 4}\n",
      "Modified:  {'one': 1, 'two': 2, 'three': {0, 1, 2, 3}, 'four': 4}\n"
     ]
    }
   ],
   "source": [
    "new_dict['three'].add(3)\n",
    "\n",
    "print(\"Original: \", orig_dict)\n",
    "print(\"Modified: \", new_dict)"
   ]
  }
 ],
 "metadata": {
  "kernelspec": {
   "display_name": "Python 3 (ipykernel)",
   "language": "python",
   "name": "python3"
  },
  "language_info": {
   "codemirror_mode": {
    "name": "ipython",
    "version": 3
   },
   "file_extension": ".py",
   "mimetype": "text/x-python",
   "name": "python",
   "nbconvert_exporter": "python",
   "pygments_lexer": "ipython3",
   "version": "3.11.4"
  }
 },
 "nbformat": 4,
 "nbformat_minor": 5
}
