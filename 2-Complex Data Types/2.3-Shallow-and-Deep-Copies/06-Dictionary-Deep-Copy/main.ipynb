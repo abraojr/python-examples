{
 "cells": [
  {
   "cell_type": "code",
   "execution_count": 1,
   "id": "c8bb023a",
   "metadata": {},
   "outputs": [
    {
     "data": {
      "text/plain": [
       "{'jan': 1, 'feb': 2, 'march': 3, 'april': 4}"
      ]
     },
     "execution_count": 1,
     "metadata": {},
     "output_type": "execute_result"
    }
   ],
   "source": [
    "months = {'jan' : 1, 'feb' : 2, 'march' : 3, 'april' : 4}\n",
    "\n",
    "months"
   ]
  },
  {
   "cell_type": "code",
   "execution_count": 2,
   "id": "164abb7f",
   "metadata": {},
   "outputs": [
    {
     "name": "stdout",
     "output_type": "stream",
     "text": [
      "Original:  {'jan': 1, 'feb': 2, 'march': 3, 'april': 4}\n",
      "Modified:  {'jan': 1, 'feb': 2, 'march': 3, 'april': 4}\n"
     ]
    }
   ],
   "source": [
    "# For a simple dictionary this creates a deep copy of the dictionary\n",
    "new_months = months.copy()\n",
    "\n",
    "print(\"Original: \", months)\n",
    "print(\"Modified: \", new_months)"
   ]
  },
  {
   "cell_type": "code",
   "execution_count": 3,
   "id": "ea0d1111",
   "metadata": {},
   "outputs": [
    {
     "data": {
      "text/plain": [
       "2"
      ]
     },
     "execution_count": 3,
     "metadata": {},
     "output_type": "execute_result"
    }
   ],
   "source": [
    "new_months['feb']"
   ]
  },
  {
   "cell_type": "code",
   "execution_count": 4,
   "id": "b760138e",
   "metadata": {},
   "outputs": [
    {
     "name": "stdout",
     "output_type": "stream",
     "text": [
      "Original:  {'jan': 1, 'feb': 2, 'march': 3, 'april': 4}\n",
      "Modified:  {'jan': 1, 'feb': 'FEB', 'march': 3, 'april': 4}\n"
     ]
    }
   ],
   "source": [
    "new_months['feb'] = 'FEB'\n",
    "\n",
    "print(\"Original: \", months)\n",
    "print(\"Modified: \", new_months)"
   ]
  },
  {
   "cell_type": "code",
   "execution_count": 5,
   "id": "72f7abdd",
   "metadata": {},
   "outputs": [
    {
     "name": "stdout",
     "output_type": "stream",
     "text": [
      "Original:  {'Alisson': 2007, 'Bart': 2008, 'Cathy': 2009, 'Dan': 2010}\n",
      "Modified:  {'Alisson': 2007, 'Bart': 2008, 'Cathy': 2009, 'Dan': 2010}\n"
     ]
    }
   ],
   "source": [
    "import copy\n",
    "\n",
    "employees = {\"Alisson\" : 2007, \"Bart\" : 2008, \"Cathy\" : 2009, \"Dan\" : 2010}\n",
    "\n",
    "employees_copy = copy.deepcopy(employees)\n",
    "\n",
    "print(\"Original: \", employees)\n",
    "print(\"Modified: \", employees_copy)"
   ]
  },
  {
   "cell_type": "code",
   "execution_count": 6,
   "id": "1aae9ace",
   "metadata": {},
   "outputs": [
    {
     "data": {
      "text/plain": [
       "2007"
      ]
     },
     "execution_count": 6,
     "metadata": {},
     "output_type": "execute_result"
    }
   ],
   "source": [
    "employees['Alisson']"
   ]
  },
  {
   "cell_type": "code",
   "execution_count": 7,
   "id": "62587000",
   "metadata": {},
   "outputs": [
    {
     "name": "stdout",
     "output_type": "stream",
     "text": [
      "Original:  {'Alisson': 2011, 'Bart': 2008, 'Cathy': 2009, 'Dan': 2010}\n",
      "Modified:  {'Alisson': 2007, 'Bart': 2008, 'Cathy': 2009, 'Dan': 2010}\n"
     ]
    }
   ],
   "source": [
    "employees['Alisson'] = 2011\n",
    "\n",
    "print(\"Original: \", employees)\n",
    "print(\"Modified: \", employees_copy)"
   ]
  },
  {
   "cell_type": "code",
   "execution_count": 8,
   "id": "36f158ec",
   "metadata": {},
   "outputs": [
    {
     "name": "stdout",
     "output_type": "stream",
     "text": [
      "Original:  {'one': 1, 'two': 2, 'three': 3, 'four': [1, 2, 3, 4.0]}\n",
      "Modified:  {'one': 1, 'two': 2, 'three': 3, 'four': [1, 2, 3, 4.0]}\n"
     ]
    }
   ],
   "source": [
    "orig_dict = {'one' : 1, 'two' : 2, 'three' : 3 , 'four' : [1, 2, 3, 4.0]}\n",
    "\n",
    "new_dict = copy.deepcopy(orig_dict)\n",
    "\n",
    "print(\"Original: \", orig_dict)\n",
    "print(\"Modified: \", new_dict)"
   ]
  },
  {
   "cell_type": "code",
   "execution_count": 9,
   "id": "c65f00d0",
   "metadata": {},
   "outputs": [
    {
     "data": {
      "text/plain": [
       "4.0"
      ]
     },
     "execution_count": 9,
     "metadata": {},
     "output_type": "execute_result"
    }
   ],
   "source": [
    "new_dict['four'][3]"
   ]
  },
  {
   "cell_type": "code",
   "execution_count": 10,
   "id": "87b7945e",
   "metadata": {},
   "outputs": [
    {
     "name": "stdout",
     "output_type": "stream",
     "text": [
      "Original:  {'one': 1, 'two': 2, 'three': 3, 'four': [1, 2, 3, 4.0]}\n",
      "Modified:  {'one': 1, 'two': 2, 'three': 3, 'four': [1, 2, 3, 'FOUR']}\n"
     ]
    }
   ],
   "source": [
    "new_dict['four'][3] = 'FOUR'\n",
    "\n",
    "print(\"Original: \", orig_dict)\n",
    "print(\"Modified: \", new_dict)"
   ]
  },
  {
   "cell_type": "code",
   "execution_count": 11,
   "id": "e585337e",
   "metadata": {},
   "outputs": [
    {
     "name": "stdout",
     "output_type": "stream",
     "text": [
      "Original:  {'one': 1, 'two': 2, 'three': 3, 'four': [1, 2, 3, 4.0]}\n",
      "Modified:  {'one': 1, 'two': 2, 'three': 3, 'four': [1, 2, 3, 'FOUR', 5]}\n"
     ]
    }
   ],
   "source": [
    "new_dict['four'].append(5)\n",
    "\n",
    "print(\"Original: \", orig_dict)\n",
    "print(\"Modified: \", new_dict)"
   ]
  },
  {
   "cell_type": "code",
   "execution_count": 12,
   "id": "294c1ea8",
   "metadata": {},
   "outputs": [
    {
     "name": "stdout",
     "output_type": "stream",
     "text": [
      "Original:  {'one': 1, 'two': 2, 'three': {'zero': 0, 'one': 1}, 'four': 4}\n",
      "Modified:  {'one': 1, 'two': 2, 'three': {'zero': 0, 'one': 1}, 'four': 4}\n"
     ]
    }
   ],
   "source": [
    "orig_dict = {'one' : 1, 'two' : 2, 'three' : {'zero' : 0, 'one' : 1} , 'four' : 4}\n",
    "\n",
    "new_dict = copy.deepcopy(orig_dict)\n",
    "\n",
    "print(\"Original: \", orig_dict)\n",
    "print(\"Modified: \", new_dict)"
   ]
  },
  {
   "cell_type": "code",
   "execution_count": 13,
   "id": "aa17af81",
   "metadata": {},
   "outputs": [
    {
     "data": {
      "text/plain": [
       "0"
      ]
     },
     "execution_count": 13,
     "metadata": {},
     "output_type": "execute_result"
    }
   ],
   "source": [
    "new_dict['three']['zero']"
   ]
  },
  {
   "cell_type": "code",
   "execution_count": 14,
   "id": "8107e4eb",
   "metadata": {},
   "outputs": [
    {
     "name": "stdout",
     "output_type": "stream",
     "text": [
      "Original:  {'one': 1, 'two': 2, 'three': {'zero': 0, 'one': 1}, 'four': 4}\n",
      "Modified:  {'one': 1, 'two': 2, 'three': {'zero': 'ZERO', 'one': 1}, 'four': 4}\n"
     ]
    }
   ],
   "source": [
    "new_dict['three']['zero'] = 'ZERO'\n",
    "\n",
    "print(\"Original: \", orig_dict)\n",
    "print(\"Modified: \", new_dict)"
   ]
  },
  {
   "cell_type": "code",
   "execution_count": 15,
   "id": "d7900ce4",
   "metadata": {},
   "outputs": [
    {
     "name": "stdout",
     "output_type": "stream",
     "text": [
      "Original:  {'one': 1, 'two': 2, 'three': {0, 1, 2}, 'four': 4}\n",
      "Modified:  {'one': 1, 'two': 2, 'three': {0, 1, 2}, 'four': 4}\n"
     ]
    }
   ],
   "source": [
    "orig_dict = {'one' : 1, 'two' : 2, 'three' : {0, 1, 2} , 'four' : 4}\n",
    "\n",
    "new_dict = copy.deepcopy(orig_dict)\n",
    "\n",
    "print(\"Original: \", orig_dict)\n",
    "print(\"Modified: \", new_dict)"
   ]
  },
  {
   "cell_type": "code",
   "execution_count": 16,
   "id": "2b84f957",
   "metadata": {},
   "outputs": [
    {
     "data": {
      "text/plain": [
       "{0, 1, 2}"
      ]
     },
     "execution_count": 16,
     "metadata": {},
     "output_type": "execute_result"
    }
   ],
   "source": [
    "new_dict['three']"
   ]
  },
  {
   "cell_type": "code",
   "execution_count": 17,
   "id": "535a86bb",
   "metadata": {},
   "outputs": [
    {
     "name": "stdout",
     "output_type": "stream",
     "text": [
      "Original:  {'one': 1, 'two': 2, 'three': {0, 1, 2}, 'four': 4}\n",
      "Modified:  {'one': 1, 'two': 2, 'three': {0, 1, 2, 'THREE'}, 'four': 4}\n"
     ]
    }
   ],
   "source": [
    "new_dict['three'].add('THREE')\n",
    "\n",
    "print(\"Original: \", orig_dict)\n",
    "print(\"Modified: \", new_dict)"
   ]
  }
 ],
 "metadata": {
  "kernelspec": {
   "display_name": "Python 3 (ipykernel)",
   "language": "python",
   "name": "python3"
  },
  "language_info": {
   "codemirror_mode": {
    "name": "ipython",
    "version": 3
   },
   "file_extension": ".py",
   "mimetype": "text/x-python",
   "name": "python",
   "nbconvert_exporter": "python",
   "pygments_lexer": "ipython3",
   "version": "3.11.4"
  }
 },
 "nbformat": 4,
 "nbformat_minor": 5
}
