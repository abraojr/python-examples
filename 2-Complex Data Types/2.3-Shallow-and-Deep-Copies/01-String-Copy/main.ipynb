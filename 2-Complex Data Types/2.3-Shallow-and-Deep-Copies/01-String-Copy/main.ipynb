{
 "cells": [
  {
   "cell_type": "code",
   "execution_count": 1,
   "id": "3df56787",
   "metadata": {},
   "outputs": [
    {
     "data": {
      "text/plain": [
       "'Python'"
      ]
     },
     "execution_count": 1,
     "metadata": {},
     "output_type": "execute_result"
    }
   ],
   "source": [
    "old_str = \"Python\"\n",
    "\n",
    "old_str"
   ]
  },
  {
   "cell_type": "code",
   "execution_count": 2,
   "id": "91bcccc9",
   "metadata": {},
   "outputs": [
    {
     "name": "stdout",
     "output_type": "stream",
     "text": [
      "Python\n",
      "Python\n"
     ]
    }
   ],
   "source": [
    "new_str = old_str\n",
    "\n",
    "print(old_str)\n",
    "print(new_str)"
   ]
  },
  {
   "cell_type": "code",
   "execution_count": 3,
   "id": "699aa6f4",
   "metadata": {},
   "outputs": [
    {
     "data": {
      "text/plain": [
       "'t'"
      ]
     },
     "execution_count": 3,
     "metadata": {},
     "output_type": "execute_result"
    }
   ],
   "source": [
    "new_str[2]"
   ]
  },
  {
   "cell_type": "code",
   "execution_count": null,
   "id": "568fa705",
   "metadata": {},
   "outputs": [],
   "source": [
    "# Strings are immutable\n",
    "new_str[2] = 'T' # Will throw an error"
   ]
  },
  {
   "cell_type": "code",
   "execution_count": 5,
   "id": "60eca7f6",
   "metadata": {},
   "outputs": [
    {
     "name": "stdout",
     "output_type": "stream",
     "text": [
      "First string:  Will\n",
      "Second string:  Will\n"
     ]
    }
   ],
   "source": [
    "import copy\n",
    "\n",
    "first_str = \"Will\"\n",
    "\n",
    "first_str\n",
    "\n",
    "# second_str = first_str has the same effect as follows\n",
    "second_str = copy.copy(first_str)\n",
    "\n",
    "print(\"First string: \", first_str)\n",
    "print(\"Second string: \", second_str)"
   ]
  },
  {
   "cell_type": "code",
   "execution_count": 6,
   "id": "d4691870",
   "metadata": {},
   "outputs": [
    {
     "name": "stdout",
     "output_type": "stream",
     "text": [
      "First strings:  Will\n",
      "Second string:  Smith\n"
     ]
    }
   ],
   "source": [
    "second_str = \"Smith\"\n",
    "\n",
    "print(\"First strings: \", first_str)\n",
    "print(\"Second string: \", second_str)"
   ]
  },
  {
   "cell_type": "code",
   "execution_count": 7,
   "id": "a71d7d9f",
   "metadata": {},
   "outputs": [
    {
     "data": {
      "text/plain": [
       "'Johnny'"
      ]
     },
     "execution_count": 7,
     "metadata": {},
     "output_type": "execute_result"
    }
   ],
   "source": [
    "first_str = \"Johnny\"\n",
    "\n",
    "first_str"
   ]
  },
  {
   "cell_type": "code",
   "execution_count": 8,
   "id": "812346e5",
   "metadata": {},
   "outputs": [
    {
     "name": "stdout",
     "output_type": "stream",
     "text": [
      "First strings:  Johnny\n",
      "Second string:  Johnny\n"
     ]
    }
   ],
   "source": [
    "second_str = copy.deepcopy(first_str)\n",
    "\n",
    "print(\"First strings: \", first_str)\n",
    "print(\"Second string: \", second_str)"
   ]
  },
  {
   "cell_type": "code",
   "execution_count": 9,
   "id": "dd8f3400",
   "metadata": {},
   "outputs": [
    {
     "name": "stdout",
     "output_type": "stream",
     "text": [
      "First strings:  Johnny\n",
      "Second string:  Deep\n"
     ]
    }
   ],
   "source": [
    "second_str = \"Deep\"\n",
    "\n",
    "print(\"First strings: \", first_str)\n",
    "print(\"Second string: \", second_str)"
   ]
  }
 ],
 "metadata": {
  "kernelspec": {
   "display_name": "Python 3 (ipykernel)",
   "language": "python",
   "name": "python3"
  },
  "language_info": {
   "codemirror_mode": {
    "name": "ipython",
    "version": 3
   },
   "file_extension": ".py",
   "mimetype": "text/x-python",
   "name": "python",
   "nbconvert_exporter": "python",
   "pygments_lexer": "ipython3",
   "version": "3.11.4"
  }
 },
 "nbformat": 4,
 "nbformat_minor": 5
}
