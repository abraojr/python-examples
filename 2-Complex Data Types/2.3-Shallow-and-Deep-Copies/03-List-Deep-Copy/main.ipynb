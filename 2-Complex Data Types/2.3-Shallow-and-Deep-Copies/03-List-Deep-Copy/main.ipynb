{
 "cells": [
  {
   "cell_type": "code",
   "execution_count": 1,
   "id": "55306c9b",
   "metadata": {},
   "outputs": [
    {
     "data": {
      "text/plain": [
       "['Sara', 'David', 'Warner', 'Sandy']"
      ]
     },
     "execution_count": 1,
     "metadata": {},
     "output_type": "execute_result"
    }
   ],
   "source": [
    "names = [\"Sara\", \"David\", \"Warner\", \"Sandy\"]\n",
    "\n",
    "names"
   ]
  },
  {
   "cell_type": "code",
   "execution_count": 2,
   "id": "d3453335",
   "metadata": {},
   "outputs": [
    {
     "name": "stdout",
     "output_type": "stream",
     "text": [
      "Original:  ['Sara', 'David', 'Warner', 'Sandy']\n",
      "Modified:  ['Sara', 'David', 'Warner', 'Sandy']\n"
     ]
    }
   ],
   "source": [
    "new_names = names.copy()\n",
    "\n",
    "print(\"Original: \", names)\n",
    "print(\"Modified: \", new_names)"
   ]
  },
  {
   "cell_type": "code",
   "execution_count": 3,
   "id": "88228800",
   "metadata": {},
   "outputs": [
    {
     "data": {
      "text/plain": [
       "'David'"
      ]
     },
     "execution_count": 3,
     "metadata": {},
     "output_type": "execute_result"
    }
   ],
   "source": [
    "new_names[1]"
   ]
  },
  {
   "cell_type": "code",
   "execution_count": 4,
   "id": "4ea244b3",
   "metadata": {},
   "outputs": [
    {
     "name": "stdout",
     "output_type": "stream",
     "text": [
      "Original:  ['Sara', 'David', 'Warner', 'Sandy']\n",
      "Modified:  ['Sara', 'Ridley', 'Warner', 'Sandy']\n"
     ]
    }
   ],
   "source": [
    "# The list.copy() function creates a deep copy of a list\n",
    "\n",
    "new_names[1] = \"Ridley\"\n",
    "\n",
    "print(\"Original: \", names)\n",
    "print(\"Modified: \", new_names)"
   ]
  },
  {
   "cell_type": "code",
   "execution_count": 5,
   "id": "27fd1d4c",
   "metadata": {},
   "outputs": [
    {
     "name": "stdout",
     "output_type": "stream",
     "text": [
      "Original:  ['hackerearth', 'google', 'facebook']\n",
      "Modified:  ['hackerearth', 'google', 'facebook']\n"
     ]
    }
   ],
   "source": [
    "import copy\n",
    "\n",
    "companies = [\"hackerearth\", \"google\", \"facebook\"]\n",
    "\n",
    "new_companies = copy.deepcopy(companies)\n",
    "\n",
    "print(\"Original: \", companies)\n",
    "print(\"Modified: \", new_companies)"
   ]
  },
  {
   "cell_type": "code",
   "execution_count": 6,
   "id": "8bcf2c60",
   "metadata": {},
   "outputs": [
    {
     "data": {
      "text/plain": [
       "'google'"
      ]
     },
     "execution_count": 6,
     "metadata": {},
     "output_type": "execute_result"
    }
   ],
   "source": [
    "new_companies[1]"
   ]
  },
  {
   "cell_type": "code",
   "execution_count": 7,
   "id": "c8e375b3",
   "metadata": {},
   "outputs": [
    {
     "name": "stdout",
     "output_type": "stream",
     "text": [
      "Original:  ['hackerearth', 'google', 'facebook']\n",
      "Modified:  ['hackerearth', 'microsoft', 'facebook']\n"
     ]
    }
   ],
   "source": [
    "# copy.copy() and copy.deepcopy() produce deep copies of non-nested lists\n",
    "new_companies[1] = \"microsoft\"\n",
    "\n",
    "print(\"Original: \", companies)\n",
    "print(\"Modified: \", new_companies)"
   ]
  },
  {
   "cell_type": "code",
   "execution_count": 8,
   "id": "d23704ff",
   "metadata": {},
   "outputs": [
    {
     "name": "stdout",
     "output_type": "stream",
     "text": [
      "Old list:  [[1, 2, 3], [4, 5, 6], [7, 8, 9]]\n",
      "New list:  [[1, 2, 3], [4, 5, 6], [7, 8, 9]]\n"
     ]
    }
   ],
   "source": [
    "old_list = [[1, 2, 3], [4, 5, 6], [7, 8, 9]]\n",
    "\n",
    "new_list = copy.deepcopy(old_list)\n",
    "\n",
    "print(\"Old list: \", old_list)\n",
    "print(\"New list: \", new_list)"
   ]
  },
  {
   "cell_type": "code",
   "execution_count": 9,
   "id": "80dd5d81",
   "metadata": {},
   "outputs": [
    {
     "data": {
      "text/plain": [
       "6"
      ]
     },
     "execution_count": 9,
     "metadata": {},
     "output_type": "execute_result"
    }
   ],
   "source": [
    "old_list[1][2]"
   ]
  },
  {
   "cell_type": "code",
   "execution_count": 10,
   "id": "bd454574",
   "metadata": {},
   "outputs": [
    {
     "name": "stdout",
     "output_type": "stream",
     "text": [
      "Old list:  [[1, 2, 3], [4, 5, 'Six'], [7, 8, 9]]\n",
      "New list:  [[1, 2, 3], [4, 5, 6], [7, 8, 9]]\n"
     ]
    }
   ],
   "source": [
    "# copy.deepcopy(list) created a deep copy of all of the nested list as well\n",
    "old_list[1][2] = \"Six\"\n",
    "\n",
    "print(\"Old list: \", old_list)\n",
    "print(\"New list: \", new_list)"
   ]
  },
  {
   "cell_type": "code",
   "execution_count": 11,
   "id": "0d677c4c",
   "metadata": {},
   "outputs": [
    {
     "data": {
      "text/plain": [
       "['hackerearth', 'google', 'facebook']"
      ]
     },
     "execution_count": 11,
     "metadata": {},
     "output_type": "execute_result"
    }
   ],
   "source": [
    "companies"
   ]
  },
  {
   "cell_type": "code",
   "execution_count": 12,
   "id": "e9f3a186",
   "metadata": {},
   "outputs": [
    {
     "data": {
      "text/plain": [
       "['hackerearth', 'google', 'facebook']"
      ]
     },
     "execution_count": 12,
     "metadata": {},
     "output_type": "execute_result"
    }
   ],
   "source": [
    "# This will create a deep copy\n",
    "new_companies = companies[:]\n",
    "\n",
    "new_companies"
   ]
  },
  {
   "cell_type": "code",
   "execution_count": 13,
   "id": "1b283f8c",
   "metadata": {},
   "outputs": [
    {
     "name": "stdout",
     "output_type": "stream",
     "text": [
      "Original:  ['hackerearth', 'google', 'facebook']\n",
      "Modified:  ['skillsoft', 'google', 'facebook']\n"
     ]
    }
   ],
   "source": [
    "new_companies[0] = \"skillsoft\"\n",
    "\n",
    "print(\"Original: \", companies)\n",
    "print(\"Modified: \", new_companies)"
   ]
  }
 ],
 "metadata": {
  "kernelspec": {
   "display_name": "Python 3 (ipykernel)",
   "language": "python",
   "name": "python3"
  },
  "language_info": {
   "codemirror_mode": {
    "name": "ipython",
    "version": 3
   },
   "file_extension": ".py",
   "mimetype": "text/x-python",
   "name": "python",
   "nbconvert_exporter": "python",
   "pygments_lexer": "ipython3",
   "version": "3.11.4"
  }
 },
 "nbformat": 4,
 "nbformat_minor": 5
}
