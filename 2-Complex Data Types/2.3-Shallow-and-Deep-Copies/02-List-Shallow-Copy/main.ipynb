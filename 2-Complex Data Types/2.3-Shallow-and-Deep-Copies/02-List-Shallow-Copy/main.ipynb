{
 "cells": [
  {
   "cell_type": "code",
   "execution_count": 1,
   "id": "c4014d37",
   "metadata": {},
   "outputs": [
    {
     "data": {
      "text/plain": [
       "['Sara', 'David', 'Warner', 'Sandy']"
      ]
     },
     "execution_count": 1,
     "metadata": {},
     "output_type": "execute_result"
    }
   ],
   "source": [
    "names = [\"Sara\", \"David\", \"Warner\", \"Sandy\"]\n",
    "\n",
    "names"
   ]
  },
  {
   "cell_type": "code",
   "execution_count": 2,
   "id": "60fa2c54",
   "metadata": {},
   "outputs": [
    {
     "name": "stdout",
     "output_type": "stream",
     "text": [
      "Original:  ['Sara', 'David', 'Warner', 'Sandy']\n",
      "Copy:  ['Sara', 'David', 'Warner', 'Sandy']\n"
     ]
    }
   ],
   "source": [
    "new_names = names\n",
    "\n",
    "print(\"Original: \", names)\n",
    "print(\"Copy: \", new_names)"
   ]
  },
  {
   "cell_type": "code",
   "execution_count": 3,
   "id": "95a3248e",
   "metadata": {},
   "outputs": [
    {
     "data": {
      "text/plain": [
       "'David'"
      ]
     },
     "execution_count": 3,
     "metadata": {},
     "output_type": "execute_result"
    }
   ],
   "source": [
    "names[1]"
   ]
  },
  {
   "cell_type": "code",
   "execution_count": 4,
   "id": "faffe7c2",
   "metadata": {},
   "outputs": [
    {
     "name": "stdout",
     "output_type": "stream",
     "text": [
      "Original:  ['Sara', 'Ridley', 'Warner', 'Sandy']\n",
      "Copy:  ['Sara', 'Ridley', 'Warner', 'Sandy']\n"
     ]
    }
   ],
   "source": [
    "new_names[1] = \"Ridley\"\n",
    "\n",
    "print(\"Original: \", names)\n",
    "print(\"Copy: \", new_names)"
   ]
  },
  {
   "cell_type": "code",
   "execution_count": 5,
   "id": "4dcbd64c",
   "metadata": {},
   "outputs": [
    {
     "data": {
      "text/plain": [
       "['hackerearth', 'google', 'facebook']"
      ]
     },
     "execution_count": 5,
     "metadata": {},
     "output_type": "execute_result"
    }
   ],
   "source": [
    "companies = [\"hackerearth\", \"google\", \"facebook\"]\n",
    "\n",
    "companies"
   ]
  },
  {
   "cell_type": "code",
   "execution_count": 6,
   "id": "f839d95f",
   "metadata": {},
   "outputs": [
    {
     "name": "stdout",
     "output_type": "stream",
     "text": [
      "Original:  ['hackerearth', 'google', 'facebook']\n",
      "Modified:  ['hackerearth', 'google', 'facebook']\n"
     ]
    }
   ],
   "source": [
    "import copy\n",
    "\n",
    "# copy.copy(list) creates a deep copy of a list\n",
    "new_companies = copy.copy(companies)\n",
    "\n",
    "print(\"Original: \", companies)\n",
    "print(\"Modified: \", new_companies)"
   ]
  },
  {
   "cell_type": "code",
   "execution_count": 7,
   "id": "32ab316a",
   "metadata": {},
   "outputs": [
    {
     "data": {
      "text/plain": [
       "'google'"
      ]
     },
     "execution_count": 7,
     "metadata": {},
     "output_type": "execute_result"
    }
   ],
   "source": [
    "new_companies[1]"
   ]
  },
  {
   "cell_type": "code",
   "execution_count": 8,
   "id": "d4ef6b23",
   "metadata": {},
   "outputs": [
    {
     "name": "stdout",
     "output_type": "stream",
     "text": [
      "Original:  ['hackerearth', 'google', 'facebook']\n",
      "Modified:  ['hackerearth', 'microsoft', 'facebook']\n"
     ]
    }
   ],
   "source": [
    "new_companies[1] = \"microsoft\"\n",
    "\n",
    "print(\"Original: \", companies)\n",
    "print(\"Modified: \", new_companies)"
   ]
  },
  {
   "cell_type": "code",
   "execution_count": 9,
   "id": "58724e17",
   "metadata": {},
   "outputs": [
    {
     "data": {
      "text/plain": [
       "[[1, 2, 3], [4, 5, 6], [7, 8, 9]]"
      ]
     },
     "execution_count": 9,
     "metadata": {},
     "output_type": "execute_result"
    }
   ],
   "source": [
    "old_list = [[1, 2, 3], [4, 5, 6],  [7, 8, 9]]\n",
    "\n",
    "old_list"
   ]
  },
  {
   "cell_type": "code",
   "execution_count": 10,
   "id": "c1527d7a",
   "metadata": {},
   "outputs": [
    {
     "name": "stdout",
     "output_type": "stream",
     "text": [
      "Old list:  [[1, 2, 3], [4, 5, 6], [7, 8, 9]]\n",
      "New list:  [[1, 2, 3], [4, 5, 6], [7, 8, 9]]\n"
     ]
    }
   ],
   "source": [
    "new_list = copy.copy(old_list)\n",
    "\n",
    "print(\"Old list: \", old_list)\n",
    "print(\"New list: \", new_list)"
   ]
  },
  {
   "cell_type": "code",
   "execution_count": 11,
   "id": "f8d7bc59",
   "metadata": {},
   "outputs": [
    {
     "data": {
      "text/plain": [
       "5"
      ]
     },
     "execution_count": 11,
     "metadata": {},
     "output_type": "execute_result"
    }
   ],
   "source": [
    "old_list[1][1]"
   ]
  },
  {
   "cell_type": "code",
   "execution_count": 12,
   "id": "43830af8",
   "metadata": {},
   "outputs": [
    {
     "name": "stdout",
     "output_type": "stream",
     "text": [
      "Old list:  [[1, 2, 3], [4, 'Five', 6], [7, 8, 9]]\n",
      "New list:  [[1, 2, 3], [4, 'Five', 6], [7, 8, 9]]\n"
     ]
    }
   ],
   "source": [
    "# The copy function creates a deep copy of the outer list and a shallow copy\n",
    "# of the inner list\n",
    "old_list[1][1] = \"Five\"\n",
    "\n",
    "print(\"Old list: \", old_list)\n",
    "print(\"New list: \", new_list)"
   ]
  },
  {
   "cell_type": "code",
   "execution_count": 13,
   "id": "52db0115",
   "metadata": {},
   "outputs": [
    {
     "name": "stdout",
     "output_type": "stream",
     "text": [
      "Old list:  [[1, 2, 3], [4, 'Five', 6], [7, 8, 9, 'Ten']]\n",
      "New list:  [[1, 2, 3], [4, 'Five', 6], [7, 8, 9, 'Ten']]\n"
     ]
    }
   ],
   "source": [
    "new_list[2].append(\"Ten\")\n",
    "\n",
    "print(\"Old list: \", old_list)\n",
    "print(\"New list: \", new_list)"
   ]
  },
  {
   "cell_type": "code",
   "execution_count": 14,
   "id": "b96778fd",
   "metadata": {},
   "outputs": [
    {
     "name": "stdout",
     "output_type": "stream",
     "text": [
      "Old list:  [[1, 2, 3], [4, 'Five', 6], [7, 8, 9, 'Ten'], [10, 11, 12]]\n",
      "New list:  [[1, 2, 3], [4, 'Five', 6], [7, 8, 9, 'Ten']]\n"
     ]
    }
   ],
   "source": [
    "# Changes to the outer list will not be reflected in the copy\n",
    "old_list.append([10, 11, 12])\n",
    "\n",
    "print(\"Old list: \", old_list)\n",
    "print(\"New list: \", new_list)"
   ]
  }
 ],
 "metadata": {
  "kernelspec": {
   "display_name": "Python 3 (ipykernel)",
   "language": "python",
   "name": "python3"
  },
  "language_info": {
   "codemirror_mode": {
    "name": "ipython",
    "version": 3
   },
   "file_extension": ".py",
   "mimetype": "text/x-python",
   "name": "python",
   "nbconvert_exporter": "python",
   "pygments_lexer": "ipython3",
   "version": "3.11.4"
  }
 },
 "nbformat": 4,
 "nbformat_minor": 5
}
