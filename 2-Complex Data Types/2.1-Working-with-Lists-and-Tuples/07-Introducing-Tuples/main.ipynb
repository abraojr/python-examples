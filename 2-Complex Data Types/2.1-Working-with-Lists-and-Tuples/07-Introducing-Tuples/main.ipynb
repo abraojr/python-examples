{
 "cells": [
  {
   "cell_type": "code",
   "execution_count": 1,
   "id": "ae8d2ed0",
   "metadata": {},
   "outputs": [
    {
     "data": {
      "text/plain": [
       "()"
      ]
     },
     "execution_count": 1,
     "metadata": {},
     "output_type": "execute_result"
    }
   ],
   "source": [
    "# Tuples: An ordered collection of elements\n",
    "\n",
    "my_tuple = ()\n",
    "\n",
    "my_tuple"
   ]
  },
  {
   "cell_type": "code",
   "execution_count": 2,
   "id": "8f8e3215",
   "metadata": {},
   "outputs": [
    {
     "data": {
      "text/plain": [
       "tuple"
      ]
     },
     "execution_count": 2,
     "metadata": {},
     "output_type": "execute_result"
    }
   ],
   "source": [
    "type(my_tuple)"
   ]
  },
  {
   "cell_type": "code",
   "execution_count": 3,
   "id": "984159ac",
   "metadata": {},
   "outputs": [
    {
     "name": "stdout",
     "output_type": "stream",
     "text": [
      "<class 'tuple'>\n"
     ]
    }
   ],
   "source": [
    "print(type(my_tuple))"
   ]
  },
  {
   "cell_type": "code",
   "execution_count": 4,
   "id": "bbc13b65",
   "metadata": {},
   "outputs": [
    {
     "name": "stdout",
     "output_type": "stream",
     "text": [
      "(1, 2, 3)\n"
     ]
    }
   ],
   "source": [
    "int_tuple = (1, 2, 3)\n",
    "\n",
    "print(int_tuple)"
   ]
  },
  {
   "cell_type": "code",
   "execution_count": 5,
   "id": "52980a10",
   "metadata": {},
   "outputs": [
    {
     "name": "stdout",
     "output_type": "stream",
     "text": [
      "('Hello', 'Python')\n"
     ]
    }
   ],
   "source": [
    "str_tuple = (\"Hello\", \"Python\")\n",
    "\n",
    "print(str_tuple)"
   ]
  },
  {
   "cell_type": "code",
   "execution_count": 6,
   "id": "6c55ff75",
   "metadata": {},
   "outputs": [
    {
     "name": "stdout",
     "output_type": "stream",
     "text": [
      "(1, 2, 3) ('Hello', 'Python')\n"
     ]
    }
   ],
   "source": [
    "print(int_tuple, str_tuple)"
   ]
  },
  {
   "cell_type": "code",
   "execution_count": 7,
   "id": "d9e54410",
   "metadata": {},
   "outputs": [
    {
     "name": "stdout",
     "output_type": "stream",
     "text": [
      "(1, 2, 3, 'Hello', 'Python')\n"
     ]
    }
   ],
   "source": [
    "combined_tuple = int_tuple + str_tuple\n",
    "\n",
    "print(combined_tuple)"
   ]
  },
  {
   "cell_type": "code",
   "execution_count": 8,
   "id": "69653e6a",
   "metadata": {},
   "outputs": [
    {
     "name": "stdout",
     "output_type": "stream",
     "text": [
      "('Hello', 'Python', 'Hello', 'Python', 'Hello', 'Python')\n"
     ]
    }
   ],
   "source": [
    "print(str_tuple * 3)"
   ]
  },
  {
   "cell_type": "code",
   "execution_count": 9,
   "id": "4c899445",
   "metadata": {},
   "outputs": [
    {
     "name": "stdout",
     "output_type": "stream",
     "text": [
      "(1, 'Hello', 3.4)\n"
     ]
    }
   ],
   "source": [
    "mixed_tuple = (1, 'Hello', 3.4)\n",
    "\n",
    "print(mixed_tuple)"
   ]
  },
  {
   "cell_type": "code",
   "execution_count": 10,
   "id": "56d3b2a8",
   "metadata": {},
   "outputs": [
    {
     "name": "stdout",
     "output_type": "stream",
     "text": [
      "(1, 'Hello', 3.4)\n"
     ]
    }
   ],
   "source": [
    "my_tuple = 1, \"Hello\", 3.4\n",
    "\n",
    "print(my_tuple)"
   ]
  },
  {
   "cell_type": "code",
   "execution_count": 11,
   "id": "9afa6eca",
   "metadata": {},
   "outputs": [
    {
     "name": "stdout",
     "output_type": "stream",
     "text": [
      "1\n",
      "Hello\n",
      "3.4\n"
     ]
    }
   ],
   "source": [
    "a, b, c = my_tuple\n",
    "\n",
    "print(a)\n",
    "print(b)\n",
    "print(c)"
   ]
  },
  {
   "cell_type": "code",
   "execution_count": 12,
   "id": "c063278f",
   "metadata": {},
   "outputs": [
    {
     "name": "stdout",
     "output_type": "stream",
     "text": [
      "(1, 2, 3, (4, 5, 6))\n"
     ]
    }
   ],
   "source": [
    "nested_tuple = (1, 2, 3, (4, 5, 6))\n",
    "\n",
    "print(nested_tuple)"
   ]
  },
  {
   "cell_type": "code",
   "execution_count": 13,
   "id": "242c818f",
   "metadata": {},
   "outputs": [
    {
     "name": "stdout",
     "output_type": "stream",
     "text": [
      "('mouse', [8, 4, 6], (1, 2, 3))\n"
     ]
    }
   ],
   "source": [
    "mixed_tuple = (\"mouse\", [8, 4, 6], (1, 2, 3))\n",
    "\n",
    "print(mixed_tuple)"
   ]
  },
  {
   "cell_type": "code",
   "execution_count": 14,
   "id": "41c93e3c",
   "metadata": {},
   "outputs": [
    {
     "data": {
      "text/plain": [
       "('p', 'e', 'r', 'm', 'i', 't')"
      ]
     },
     "execution_count": 14,
     "metadata": {},
     "output_type": "execute_result"
    }
   ],
   "source": [
    "my_tuple = ('p', 'e', 'r', 'm', 'i', 't')\n",
    "\n",
    "my_tuple"
   ]
  },
  {
   "cell_type": "code",
   "execution_count": 15,
   "id": "b408e6bb",
   "metadata": {},
   "outputs": [
    {
     "name": "stdout",
     "output_type": "stream",
     "text": [
      "p\n"
     ]
    }
   ],
   "source": [
    "print(my_tuple[0])"
   ]
  },
  {
   "cell_type": "code",
   "execution_count": 16,
   "id": "bd068d36",
   "metadata": {},
   "outputs": [
    {
     "name": "stdout",
     "output_type": "stream",
     "text": [
      "t\n"
     ]
    }
   ],
   "source": [
    "print(my_tuple[5])"
   ]
  },
  {
   "cell_type": "code",
   "execution_count": 17,
   "id": "1164cebb",
   "metadata": {},
   "outputs": [
    {
     "name": "stdout",
     "output_type": "stream",
     "text": [
      "[8, 4, 6]\n"
     ]
    }
   ],
   "source": [
    "print(mixed_tuple[1])"
   ]
  },
  {
   "cell_type": "code",
   "execution_count": 18,
   "id": "7004b760",
   "metadata": {},
   "outputs": [
    {
     "name": "stdout",
     "output_type": "stream",
     "text": [
      "8\n"
     ]
    }
   ],
   "source": [
    "print(mixed_tuple[1][0])"
   ]
  },
  {
   "cell_type": "code",
   "execution_count": 19,
   "id": "7947b243",
   "metadata": {},
   "outputs": [
    {
     "name": "stdout",
     "output_type": "stream",
     "text": [
      "(1, 2, 3)\n"
     ]
    }
   ],
   "source": [
    "nested_tuple = mixed_tuple[2]\n",
    "\n",
    "print(nested_tuple)"
   ]
  },
  {
   "cell_type": "code",
   "execution_count": 20,
   "id": "4a6f15b3",
   "metadata": {},
   "outputs": [
    {
     "name": "stdout",
     "output_type": "stream",
     "text": [
      "3\n"
     ]
    }
   ],
   "source": [
    "print(mixed_tuple[2][2])"
   ]
  },
  {
   "cell_type": "code",
   "execution_count": 21,
   "id": "cf5da81a",
   "metadata": {},
   "outputs": [
    {
     "name": "stdout",
     "output_type": "stream",
     "text": [
      "('l', 'e', 'p', 'h', 'a', 'n', 't')\n"
     ]
    }
   ],
   "source": [
    "my_tuple = ('E', 'l', 'e', 'p', 'h', 'a', 'n', 't')\n",
    "\n",
    "\n",
    "print(my_tuple[1:])"
   ]
  },
  {
   "cell_type": "code",
   "execution_count": 22,
   "id": "b3c9d2e0",
   "metadata": {},
   "outputs": [
    {
     "name": "stdout",
     "output_type": "stream",
     "text": [
      "('e', 'p')\n"
     ]
    }
   ],
   "source": [
    "print(my_tuple[2:4])"
   ]
  },
  {
   "cell_type": "code",
   "execution_count": 23,
   "id": "848c164b",
   "metadata": {},
   "outputs": [
    {
     "name": "stdout",
     "output_type": "stream",
     "text": [
      "('E', 'e', 'h', 'n')\n"
     ]
    }
   ],
   "source": [
    "print(my_tuple[::2])"
   ]
  },
  {
   "cell_type": "code",
   "execution_count": 24,
   "id": "18a3e67b",
   "metadata": {},
   "outputs": [
    {
     "name": "stdout",
     "output_type": "stream",
     "text": [
      "t\n"
     ]
    }
   ],
   "source": [
    "print(my_tuple[-1])"
   ]
  },
  {
   "cell_type": "code",
   "execution_count": 25,
   "id": "58bebb83",
   "metadata": {},
   "outputs": [
    {
     "data": {
      "text/plain": [
       "('H', 'e', 'l', 'l', 'o')"
      ]
     },
     "execution_count": 25,
     "metadata": {},
     "output_type": "execute_result"
    }
   ],
   "source": [
    "my_tuple = ('H', 'e', 'l', 'l', 'o')\n",
    "\n",
    "my_tuple"
   ]
  },
  {
   "cell_type": "code",
   "execution_count": 26,
   "id": "8f44c30b",
   "metadata": {},
   "outputs": [
    {
     "name": "stdout",
     "output_type": "stream",
     "text": [
      "0\n"
     ]
    }
   ],
   "source": [
    "print(my_tuple.index('H'))"
   ]
  },
  {
   "cell_type": "code",
   "execution_count": 27,
   "id": "554f20b2",
   "metadata": {},
   "outputs": [
    {
     "name": "stdout",
     "output_type": "stream",
     "text": [
      "True\n"
     ]
    }
   ],
   "source": [
    "print('e' in my_tuple)"
   ]
  },
  {
   "cell_type": "code",
   "execution_count": 28,
   "id": "d77a9dc3",
   "metadata": {},
   "outputs": [
    {
     "name": "stdout",
     "output_type": "stream",
     "text": [
      "False\n"
     ]
    }
   ],
   "source": [
    "print('t' in my_tuple)"
   ]
  },
  {
   "cell_type": "code",
   "execution_count": 29,
   "id": "9578e711",
   "metadata": {},
   "outputs": [
    {
     "name": "stdout",
     "output_type": "stream",
     "text": [
      "False\n"
     ]
    }
   ],
   "source": [
    "print('e' not in my_tuple)"
   ]
  },
  {
   "cell_type": "code",
   "execution_count": 30,
   "id": "22b106d2",
   "metadata": {},
   "outputs": [
    {
     "data": {
      "text/plain": [
       "23"
      ]
     },
     "execution_count": 30,
     "metadata": {},
     "output_type": "execute_result"
    }
   ],
   "source": [
    "int_tuple = (1, 4, 9, 9)\n",
    "\n",
    "sum(int_tuple)"
   ]
  },
  {
   "cell_type": "code",
   "execution_count": 31,
   "id": "473d68ef",
   "metadata": {},
   "outputs": [
    {
     "data": {
      "text/plain": [
       "[1, 4, 9, 9]"
      ]
     },
     "execution_count": 31,
     "metadata": {},
     "output_type": "execute_result"
    }
   ],
   "source": [
    "int_tuple = (1, 4, 9, 9)\n",
    "\n",
    "list(int_tuple)"
   ]
  },
  {
   "cell_type": "code",
   "execution_count": 32,
   "id": "60802d64",
   "metadata": {},
   "outputs": [
    {
     "data": {
      "text/plain": [
       "{1, 4, 9}"
      ]
     },
     "execution_count": 32,
     "metadata": {},
     "output_type": "execute_result"
    }
   ],
   "source": [
    "int_tuple = (1, 4, 9, 9)\n",
    "\n",
    "set(int_tuple)"
   ]
  }
 ],
 "metadata": {
  "kernelspec": {
   "display_name": "Python 3 (ipykernel)",
   "language": "python",
   "name": "python3"
  },
  "language_info": {
   "codemirror_mode": {
    "name": "ipython",
    "version": 3
   },
   "file_extension": ".py",
   "mimetype": "text/x-python",
   "name": "python",
   "nbconvert_exporter": "python",
   "pygments_lexer": "ipython3",
   "version": "3.11.4"
  }
 },
 "nbformat": 4,
 "nbformat_minor": 5
}
