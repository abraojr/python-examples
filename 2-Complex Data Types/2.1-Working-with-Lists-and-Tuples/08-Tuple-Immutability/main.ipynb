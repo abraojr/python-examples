{
 "cells": [
  {
   "cell_type": "code",
   "execution_count": 1,
   "id": "62d2d0f8",
   "metadata": {},
   "outputs": [
    {
     "data": {
      "text/plain": [
       "(0, 1, 2, 3)"
      ]
     },
     "execution_count": 1,
     "metadata": {},
     "output_type": "execute_result"
    }
   ],
   "source": [
    "# Tuples are immutable: Once created cannot be changed\n",
    "\n",
    "immutable_tuple_1 = (0, 1, 2, 3)\n",
    "\n",
    "immutable_tuple_1"
   ]
  },
  {
   "cell_type": "code",
   "execution_count": null,
   "id": "356a12a1",
   "metadata": {},
   "outputs": [],
   "source": [
    "immutable_tuple_1[0] = 4 # Will throw an error\n",
    "\n",
    "print(immutable_tuple_1)"
   ]
  },
  {
   "cell_type": "code",
   "execution_count": 3,
   "id": "dbe34cd3",
   "metadata": {},
   "outputs": [
    {
     "data": {
      "text/plain": [
       "(4, 2, 3, (6, 5))"
      ]
     },
     "execution_count": 3,
     "metadata": {},
     "output_type": "execute_result"
    }
   ],
   "source": [
    "immutable_tuple_2 = (4, 2, 3, (6, 5))\n",
    "\n",
    "immutable_tuple_2"
   ]
  },
  {
   "cell_type": "code",
   "execution_count": 4,
   "id": "f5ee8aa7",
   "metadata": {},
   "outputs": [
    {
     "data": {
      "text/plain": [
       "4"
      ]
     },
     "execution_count": 4,
     "metadata": {},
     "output_type": "execute_result"
    }
   ],
   "source": [
    "immutable_tuple_2[0]"
   ]
  },
  {
   "cell_type": "code",
   "execution_count": null,
   "id": "3164420f",
   "metadata": {},
   "outputs": [],
   "source": [
    "immutable_tuple_2[0] = 9 # Will throw an error"
   ]
  },
  {
   "cell_type": "code",
   "execution_count": 6,
   "id": "5c4480a1",
   "metadata": {},
   "outputs": [
    {
     "data": {
      "text/plain": [
       "(4, 2, 3, [6, 5])"
      ]
     },
     "execution_count": 6,
     "metadata": {},
     "output_type": "execute_result"
    }
   ],
   "source": [
    "immutable_tuple_2 = (4, 2, 3, [6, 5])\n",
    "\n",
    "immutable_tuple_2"
   ]
  },
  {
   "cell_type": "code",
   "execution_count": 7,
   "id": "41fea50d",
   "metadata": {},
   "outputs": [
    {
     "data": {
      "text/plain": [
       "[6, 5]"
      ]
     },
     "execution_count": 7,
     "metadata": {},
     "output_type": "execute_result"
    }
   ],
   "source": [
    "immutable_tuple_2[3]"
   ]
  },
  {
   "cell_type": "code",
   "execution_count": 8,
   "id": "54945df0",
   "metadata": {},
   "outputs": [
    {
     "name": "stdout",
     "output_type": "stream",
     "text": [
      "(4, 2, 3, [6, 100])\n"
     ]
    }
   ],
   "source": [
    "immutable_tuple_2[3][1] = 100\n",
    "\n",
    "print(immutable_tuple_2)"
   ]
  },
  {
   "cell_type": "code",
   "execution_count": 9,
   "id": "c44c7b84",
   "metadata": {},
   "outputs": [
    {
     "data": {
      "text/plain": [
       "('p', 'y', 't', 'h', 'o', 'n')"
      ]
     },
     "execution_count": 9,
     "metadata": {},
     "output_type": "execute_result"
    }
   ],
   "source": [
    "my_tuple = ('p', 'y', 't', 'h', 'o', 'n')\n",
    "\n",
    "my_tuple"
   ]
  },
  {
   "cell_type": "code",
   "execution_count": null,
   "id": "ab6a1a5a",
   "metadata": {},
   "outputs": [],
   "source": [
    "del my_tuple[3] # Will throw an error"
   ]
  },
  {
   "cell_type": "code",
   "execution_count": 11,
   "id": "29bcaf25",
   "metadata": {},
   "outputs": [],
   "source": [
    "del my_tuple"
   ]
  },
  {
   "cell_type": "code",
   "execution_count": null,
   "id": "d4ee54c3",
   "metadata": {},
   "outputs": [],
   "source": [
    "print(my_tuple) # Will throw an error"
   ]
  },
  {
   "cell_type": "code",
   "execution_count": 13,
   "id": "098f52f8",
   "metadata": {},
   "outputs": [],
   "source": [
    "tuple_a = (1, 2, 3, 4, 5)\n",
    "\n",
    "tuple_b = ('a', 'b', 'c', 'd', 'e')"
   ]
  },
  {
   "cell_type": "code",
   "execution_count": 14,
   "id": "60cffcbb",
   "metadata": {},
   "outputs": [
    {
     "name": "stdout",
     "output_type": "stream",
     "text": [
      "<zip object at 0x0000021738AA9100>\n"
     ]
    }
   ],
   "source": [
    "zipped = zip(tuple_a, tuple_b)\n",
    "\n",
    "print(zipped)"
   ]
  },
  {
   "cell_type": "code",
   "execution_count": 15,
   "id": "7034647f",
   "metadata": {},
   "outputs": [
    {
     "name": "stdout",
     "output_type": "stream",
     "text": [
      "((1, 'a'), (2, 'b'), (3, 'c'), (4, 'd'), (5, 'e'))\n"
     ]
    }
   ],
   "source": [
    "result = tuple(zipped)\n",
    "\n",
    "print(result)"
   ]
  },
  {
   "cell_type": "code",
   "execution_count": 16,
   "id": "a1feb3eb",
   "metadata": {},
   "outputs": [],
   "source": [
    "tuple_x, tuple_y = zip(*result)"
   ]
  },
  {
   "cell_type": "code",
   "execution_count": 17,
   "id": "d2742650",
   "metadata": {},
   "outputs": [
    {
     "name": "stdout",
     "output_type": "stream",
     "text": [
      "tuple_x :  (1, 2, 3, 4, 5)\n",
      "tuple_y :  ('a', 'b', 'c', 'd', 'e')\n"
     ]
    }
   ],
   "source": [
    "print('tuple_x : ', tuple_x)\n",
    "\n",
    "print('tuple_y : ', tuple_y)"
   ]
  },
  {
   "cell_type": "code",
   "execution_count": 18,
   "id": "af27111a",
   "metadata": {},
   "outputs": [],
   "source": [
    "list_a = [6, 7, 8, 9, 10]\n",
    "\n",
    "list_b = ['a', 'e', 'i', 'o', 'u']"
   ]
  },
  {
   "cell_type": "code",
   "execution_count": 19,
   "id": "faec0f0d",
   "metadata": {},
   "outputs": [],
   "source": [
    "zipped_list = zip(list_a, list_b)"
   ]
  },
  {
   "cell_type": "code",
   "execution_count": 20,
   "id": "e1df470a",
   "metadata": {},
   "outputs": [
    {
     "name": "stdout",
     "output_type": "stream",
     "text": [
      "[(6, 'a'), (7, 'e'), (8, 'i'), (9, 'o'), (10, 'u')]\n"
     ]
    }
   ],
   "source": [
    "result = list(zipped_list)\n",
    "\n",
    "print(result)"
   ]
  },
  {
   "cell_type": "code",
   "execution_count": 21,
   "id": "4df84a7a",
   "metadata": {},
   "outputs": [
    {
     "name": "stdout",
     "output_type": "stream",
     "text": [
      "{'John': 'Manager', 'Charles': 'Supervisor', 'Mike': 'Engineer'}\n"
     ]
    }
   ],
   "source": [
    "a = (\"John\", \"Charles\", \"Mike\")\n",
    "\n",
    "b = (\"Manager\", \"Supervisor\", \"Engineer\")\n",
    "\n",
    "x = zip(a, b)\n",
    "\n",
    "print(dict(x))"
   ]
  },
  {
   "cell_type": "code",
   "execution_count": 22,
   "id": "3013cde1",
   "metadata": {},
   "outputs": [
    {
     "name": "stdout",
     "output_type": "stream",
     "text": [
      "<zip object at 0x0000021738B090C0>\n"
     ]
    }
   ],
   "source": [
    "numbers_list = [1, 2, 3]\n",
    "\n",
    "str_list = [\"one\", \"two\", \"three\"]\n",
    "\n",
    "numbers_tuple = (\"ONE\", \"TWO\", \"THREE\", \"FOUR\")\n",
    "\n",
    "result = zip(numbers_list, numbers_tuple)\n",
    "\n",
    "print(result)"
   ]
  },
  {
   "cell_type": "code",
   "execution_count": 23,
   "id": "f3ece20a",
   "metadata": {},
   "outputs": [
    {
     "name": "stdout",
     "output_type": "stream",
     "text": [
      "{(3, 'THREE'), (1, 'ONE'), (2, 'TWO')}\n"
     ]
    }
   ],
   "source": [
    "result_set = set(result)\n",
    "\n",
    "print(result_set)"
   ]
  },
  {
   "cell_type": "code",
   "execution_count": 24,
   "id": "9e4c12b3",
   "metadata": {},
   "outputs": [],
   "source": [
    "result = zip(numbers_list, str_list, numbers_tuple)"
   ]
  },
  {
   "cell_type": "code",
   "execution_count": 25,
   "id": "8420136d",
   "metadata": {},
   "outputs": [
    {
     "name": "stdout",
     "output_type": "stream",
     "text": [
      "{(3, 'three', 'THREE'), (2, 'two', 'TWO'), (1, 'one', 'ONE')}\n"
     ]
    }
   ],
   "source": [
    "result_set = set(result)\n",
    "\n",
    "print(result_set)"
   ]
  }
 ],
 "metadata": {
  "kernelspec": {
   "display_name": "Python 3 (ipykernel)",
   "language": "python",
   "name": "python3"
  },
  "language_info": {
   "codemirror_mode": {
    "name": "ipython",
    "version": 3
   },
   "file_extension": ".py",
   "mimetype": "text/x-python",
   "name": "python",
   "nbconvert_exporter": "python",
   "pygments_lexer": "ipython3",
   "version": "3.11.4"
  }
 },
 "nbformat": 4,
 "nbformat_minor": 5
}
