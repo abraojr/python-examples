{
 "cells": [
  {
   "cell_type": "code",
   "execution_count": 1,
   "id": "6ebc860f",
   "metadata": {},
   "outputs": [
    {
     "data": {
      "text/plain": [
       "['Toyota Corolla',\n",
       " 'Toyota Camry',\n",
       " 'Nissan ALtima',\n",
       " 'Kia Soul',\n",
       " 'Kia Optima',\n",
       " 'Honda Civic']"
      ]
     },
     "execution_count": 1,
     "metadata": {},
     "output_type": "execute_result"
    }
   ],
   "source": [
    "my_car_list = ['Toyota Corolla', 'Toyota Camry',\n",
    "               'Nissan ALtima', 'Kia Soul',\n",
    "               'Kia Optima', 'Honda Civic']\n",
    "\n",
    "my_car_list"
   ]
  },
  {
   "cell_type": "code",
   "execution_count": 2,
   "id": "49507e9e",
   "metadata": {},
   "outputs": [
    {
     "data": {
      "text/plain": [
       "6"
      ]
     },
     "execution_count": 2,
     "metadata": {},
     "output_type": "execute_result"
    }
   ],
   "source": [
    "len(my_car_list)"
   ]
  },
  {
   "cell_type": "code",
   "execution_count": 3,
   "id": "29a8ba30",
   "metadata": {},
   "outputs": [
    {
     "data": {
      "text/plain": [
       "['Toyota Corolla', 'Toyota Camry', 'Nissan ALtima', 'Kia Soul']"
      ]
     },
     "execution_count": 3,
     "metadata": {},
     "output_type": "execute_result"
    }
   ],
   "source": [
    "# List slicing: list_name[start_index:end_index]\n",
    "# start_index is inclusive, end_index is exclusive\n",
    "\n",
    "my_car_list[0:4]\n",
    "\n",
    "# List slicing creates a deep copy"
   ]
  },
  {
   "cell_type": "code",
   "execution_count": 4,
   "id": "a840ed1a",
   "metadata": {},
   "outputs": [
    {
     "data": {
      "text/plain": [
       "['Toyota Corolla', 'Toyota Camry']"
      ]
     },
     "execution_count": 4,
     "metadata": {},
     "output_type": "execute_result"
    }
   ],
   "source": [
    "my_car_list[0:2]"
   ]
  },
  {
   "cell_type": "code",
   "execution_count": 5,
   "id": "ce28b72e",
   "metadata": {},
   "outputs": [
    {
     "data": {
      "text/plain": [
       "['Toyota Corolla',\n",
       " 'Toyota Camry',\n",
       " 'Nissan ALtima',\n",
       " 'Kia Soul',\n",
       " 'Kia Optima',\n",
       " 'Honda Civic']"
      ]
     },
     "execution_count": 5,
     "metadata": {},
     "output_type": "execute_result"
    }
   ],
   "source": [
    "my_car_list[0:6]"
   ]
  },
  {
   "cell_type": "code",
   "execution_count": 6,
   "id": "de200143",
   "metadata": {},
   "outputs": [
    {
     "data": {
      "text/plain": [
       "['Toyota Corolla',\n",
       " 'Toyota Camry',\n",
       " 'Nissan ALtima',\n",
       " 'Kia Soul',\n",
       " 'Kia Optima',\n",
       " 'Honda Civic']"
      ]
     },
     "execution_count": 6,
     "metadata": {},
     "output_type": "execute_result"
    }
   ],
   "source": [
    "my_car_list[0:7]"
   ]
  },
  {
   "cell_type": "code",
   "execution_count": 7,
   "id": "61a12afc",
   "metadata": {},
   "outputs": [
    {
     "data": {
      "text/plain": [
       "[]"
      ]
     },
     "execution_count": 7,
     "metadata": {},
     "output_type": "execute_result"
    }
   ],
   "source": [
    "my_car_list[7:]"
   ]
  },
  {
   "cell_type": "code",
   "execution_count": 8,
   "id": "44c6375e",
   "metadata": {},
   "outputs": [
    {
     "data": {
      "text/plain": [
       "['Honda Civic']"
      ]
     },
     "execution_count": 8,
     "metadata": {},
     "output_type": "execute_result"
    }
   ],
   "source": [
    "my_car_list[5:6]"
   ]
  },
  {
   "cell_type": "code",
   "execution_count": 9,
   "id": "8ea5e978",
   "metadata": {},
   "outputs": [
    {
     "data": {
      "text/plain": [
       "['Kia Soul', 'Kia Optima', 'Honda Civic']"
      ]
     },
     "execution_count": 9,
     "metadata": {},
     "output_type": "execute_result"
    }
   ],
   "source": [
    "my_car_list[3:6]"
   ]
  },
  {
   "cell_type": "code",
   "execution_count": 10,
   "id": "38c5dfc1",
   "metadata": {},
   "outputs": [
    {
     "data": {
      "text/plain": [
       "['Toyota Corolla', 'Toyota Camry', 'Nissan ALtima']"
      ]
     },
     "execution_count": 10,
     "metadata": {},
     "output_type": "execute_result"
    }
   ],
   "source": [
    "my_car_list[:3]"
   ]
  },
  {
   "cell_type": "code",
   "execution_count": 11,
   "id": "396e3c5f",
   "metadata": {},
   "outputs": [
    {
     "data": {
      "text/plain": [
       "['Kia Soul', 'Kia Optima', 'Honda Civic']"
      ]
     },
     "execution_count": 11,
     "metadata": {},
     "output_type": "execute_result"
    }
   ],
   "source": [
    "my_car_list[3:]"
   ]
  },
  {
   "cell_type": "code",
   "execution_count": 12,
   "id": "9f04c32e",
   "metadata": {},
   "outputs": [
    {
     "data": {
      "text/plain": [
       "['Toyota Corolla', 'Toyota Camry']"
      ]
     },
     "execution_count": 12,
     "metadata": {},
     "output_type": "execute_result"
    }
   ],
   "source": [
    "my_car_list[0:-4]"
   ]
  },
  {
   "cell_type": "code",
   "execution_count": 13,
   "id": "85c3418b",
   "metadata": {},
   "outputs": [
    {
     "data": {
      "text/plain": [
       "['Nissan ALtima', 'Kia Soul', 'Kia Optima']"
      ]
     },
     "execution_count": 13,
     "metadata": {},
     "output_type": "execute_result"
    }
   ],
   "source": [
    "my_car_list[-4:-1]"
   ]
  },
  {
   "cell_type": "code",
   "execution_count": 14,
   "id": "68fc0888",
   "metadata": {},
   "outputs": [
    {
     "data": {
      "text/plain": [
       "[]"
      ]
     },
     "execution_count": 14,
     "metadata": {},
     "output_type": "execute_result"
    }
   ],
   "source": [
    "my_car_list[-2:-4]"
   ]
  },
  {
   "cell_type": "code",
   "execution_count": 15,
   "id": "4675d14a",
   "metadata": {},
   "outputs": [
    {
     "data": {
      "text/plain": [
       "['Toyota Corolla', 'Toyota Camry', 'Nissan ALtima', 'Kia Soul', 'Kia Optima']"
      ]
     },
     "execution_count": 15,
     "metadata": {},
     "output_type": "execute_result"
    }
   ],
   "source": [
    "# Using step size in slicing : list_name[start_index:end_index:step_size]\n",
    "# step_size is the number of elem to step over when accessing the list\n",
    "\n",
    "my_car_list[0:5:]"
   ]
  },
  {
   "cell_type": "code",
   "execution_count": 16,
   "id": "3354cee8",
   "metadata": {},
   "outputs": [
    {
     "data": {
      "text/plain": [
       "['Toyota Corolla', 'Nissan ALtima', 'Kia Optima']"
      ]
     },
     "execution_count": 16,
     "metadata": {},
     "output_type": "execute_result"
    }
   ],
   "source": [
    "my_car_list[::2]"
   ]
  },
  {
   "cell_type": "code",
   "execution_count": 17,
   "id": "be7387d2",
   "metadata": {},
   "outputs": [
    {
     "data": {
      "text/plain": [
       "['Toyota Corolla', 'Nissan ALtima', 'Kia Optima']"
      ]
     },
     "execution_count": 17,
     "metadata": {},
     "output_type": "execute_result"
    }
   ],
   "source": [
    "my_car_list[0:5:2]"
   ]
  },
  {
   "cell_type": "code",
   "execution_count": 18,
   "id": "dd2e8061",
   "metadata": {},
   "outputs": [
    {
     "data": {
      "text/plain": [
       "['Toyota Corolla', 'Kia Soul']"
      ]
     },
     "execution_count": 18,
     "metadata": {},
     "output_type": "execute_result"
    }
   ],
   "source": [
    "my_car_list[0:5:3]"
   ]
  },
  {
   "cell_type": "code",
   "execution_count": 19,
   "id": "0080288a",
   "metadata": {},
   "outputs": [
    {
     "data": {
      "text/plain": [
       "['Toyota Camry', 'Kia Soul']"
      ]
     },
     "execution_count": 19,
     "metadata": {},
     "output_type": "execute_result"
    }
   ],
   "source": [
    "my_car_list[1:4:2]"
   ]
  },
  {
   "cell_type": "code",
   "execution_count": 20,
   "id": "2c8b0b96",
   "metadata": {},
   "outputs": [
    {
     "data": {
      "text/plain": [
       "['Honda Civic',\n",
       " 'Kia Optima',\n",
       " 'Kia Soul',\n",
       " 'Nissan ALtima',\n",
       " 'Toyota Camry',\n",
       " 'Toyota Corolla']"
      ]
     },
     "execution_count": 20,
     "metadata": {},
     "output_type": "execute_result"
    }
   ],
   "source": [
    "my_car_list[::-1]"
   ]
  },
  {
   "cell_type": "code",
   "execution_count": 21,
   "id": "a51e594c",
   "metadata": {},
   "outputs": [
    {
     "data": {
      "text/plain": [
       "['Nissan ALtima', 'Toyota Camry']"
      ]
     },
     "execution_count": 21,
     "metadata": {},
     "output_type": "execute_result"
    }
   ],
   "source": [
    "my_car_list[2:0:-1]"
   ]
  },
  {
   "cell_type": "code",
   "execution_count": 22,
   "id": "77e57a75",
   "metadata": {},
   "outputs": [
    {
     "data": {
      "text/plain": [
       "['Kia Optima', 'Kia Soul', 'Nissan ALtima']"
      ]
     },
     "execution_count": 22,
     "metadata": {},
     "output_type": "execute_result"
    }
   ],
   "source": [
    "my_car_list[4:1:-1]"
   ]
  },
  {
   "cell_type": "code",
   "execution_count": 23,
   "id": "3da1daa8",
   "metadata": {},
   "outputs": [
    {
     "data": {
      "text/plain": [
       "['Nissan ALtima', 'Toyota Camry']"
      ]
     },
     "execution_count": 23,
     "metadata": {},
     "output_type": "execute_result"
    }
   ],
   "source": [
    "my_car_list[-4:0:-1]"
   ]
  },
  {
   "cell_type": "code",
   "execution_count": 24,
   "id": "8fe892d6",
   "metadata": {},
   "outputs": [
    {
     "data": {
      "text/plain": [
       "['Honda Civic', 'Kia Soul', 'Toyota Camry']"
      ]
     },
     "execution_count": 24,
     "metadata": {},
     "output_type": "execute_result"
    }
   ],
   "source": [
    "my_car_list[::-2]"
   ]
  },
  {
   "cell_type": "code",
   "execution_count": 25,
   "id": "e7f68fd4",
   "metadata": {},
   "outputs": [
    {
     "name": "stdout",
     "output_type": "stream",
     "text": [
      "['Toyota Corolla', 'Toyota Camry', 'Nissan ALtima', 'Kia Soul', 'Kia Optima', 'Honda Civic']\n"
     ]
    },
    {
     "data": {
      "text/plain": [
       "6"
      ]
     },
     "execution_count": 25,
     "metadata": {},
     "output_type": "execute_result"
    }
   ],
   "source": [
    "print(my_car_list)\n",
    "\n",
    "len(my_car_list)"
   ]
  },
  {
   "cell_type": "code",
   "execution_count": 26,
   "id": "a2b51096",
   "metadata": {},
   "outputs": [
    {
     "data": {
      "text/plain": [
       "['Toyota Corolla',\n",
       " 'Toyota Camry',\n",
       " 'Nissan ALtima',\n",
       " 'Kia Soul',\n",
       " 'Kia Optima',\n",
       " 'Honda Civic',\n",
       " 'Ford Focus',\n",
       " 'Dodge Charger']"
      ]
     },
     "execution_count": 26,
     "metadata": {},
     "output_type": "execute_result"
    }
   ],
   "source": [
    "my_car_list[6:-1] = ['Ford Focus', 'Dodge Charger']\n",
    "\n",
    "my_car_list"
   ]
  },
  {
   "cell_type": "code",
   "execution_count": 27,
   "id": "cf27485f",
   "metadata": {},
   "outputs": [
    {
     "data": {
      "text/plain": [
       "True"
      ]
     },
     "execution_count": 27,
     "metadata": {},
     "output_type": "execute_result"
    }
   ],
   "source": [
    "'Ford Focus' in my_car_list"
   ]
  },
  {
   "cell_type": "code",
   "execution_count": 28,
   "id": "6ee8527b",
   "metadata": {},
   "outputs": [
    {
     "data": {
      "text/plain": [
       "'Ford Focus'"
      ]
     },
     "execution_count": 28,
     "metadata": {},
     "output_type": "execute_result"
    }
   ],
   "source": [
    "my_car_list.pop(-2)"
   ]
  },
  {
   "cell_type": "code",
   "execution_count": 29,
   "id": "7dcd7eb4",
   "metadata": {},
   "outputs": [
    {
     "data": {
      "text/plain": [
       "False"
      ]
     },
     "execution_count": 29,
     "metadata": {},
     "output_type": "execute_result"
    }
   ],
   "source": [
    "'Ford Focus' in my_car_list"
   ]
  }
 ],
 "metadata": {
  "kernelspec": {
   "display_name": "Python 3 (ipykernel)",
   "language": "python",
   "name": "python3"
  },
  "language_info": {
   "codemirror_mode": {
    "name": "ipython",
    "version": 3
   },
   "file_extension": ".py",
   "mimetype": "text/x-python",
   "name": "python",
   "nbconvert_exporter": "python",
   "pygments_lexer": "ipython3",
   "version": "3.11.4"
  }
 },
 "nbformat": 4,
 "nbformat_minor": 5
}
