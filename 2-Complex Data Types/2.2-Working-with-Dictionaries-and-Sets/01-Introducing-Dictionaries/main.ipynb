{
 "cells": [
  {
   "cell_type": "code",
   "execution_count": 1,
   "id": "0012c793",
   "metadata": {},
   "outputs": [
    {
     "data": {
      "text/plain": [
       "{}"
      ]
     },
     "execution_count": 1,
     "metadata": {},
     "output_type": "execute_result"
    }
   ],
   "source": [
    "# Dictionaries: Mapping of key-value pair\n",
    "empty_dict = {}\n",
    "\n",
    "empty_dict"
   ]
  },
  {
   "cell_type": "code",
   "execution_count": 2,
   "id": "7b687c91",
   "metadata": {},
   "outputs": [
    {
     "data": {
      "text/plain": [
       "{'James': 'Ducati  Monster 1200',\n",
       " 'Jacob': 'Ducati Scrambler 1100',\n",
       " 'William': 'BMW S 1000 RR',\n",
       " 'Aiden': 'Harley Davidson'}"
      ]
     },
     "execution_count": 2,
     "metadata": {},
     "output_type": "execute_result"
    }
   ],
   "source": [
    "bike_owners = {\"James\" : \"Ducati  Monster 1200\",\n",
    "              \"Jacob\" : \"Ducati Scrambler 1100\",\n",
    "              \"William\" : \"BMW S 1000 RR\",\n",
    "              \"Aiden\" : \"Harley Davidson\"}\n",
    "\n",
    "bike_owners"
   ]
  },
  {
   "cell_type": "code",
   "execution_count": 3,
   "id": "766193e0",
   "metadata": {},
   "outputs": [
    {
     "data": {
      "text/plain": [
       "'Harley Davidson'"
      ]
     },
     "execution_count": 3,
     "metadata": {},
     "output_type": "execute_result"
    }
   ],
   "source": [
    "bike_owners[\"Aiden\"]"
   ]
  },
  {
   "cell_type": "code",
   "execution_count": null,
   "id": "3481ba78",
   "metadata": {},
   "outputs": [],
   "source": [
    "bike_owners[\"BMW S 1000 RR\"] # Will throw an error"
   ]
  },
  {
   "cell_type": "code",
   "execution_count": 5,
   "id": "d5fde4fe",
   "metadata": {},
   "outputs": [
    {
     "data": {
      "text/plain": [
       "{1: 45, 2: 55, 3: 65}"
      ]
     },
     "execution_count": 5,
     "metadata": {},
     "output_type": "execute_result"
    }
   ],
   "source": [
    "int_dict = {1 : 45, 2 : 55, 3 : 65}\n",
    "\n",
    "int_dict"
   ]
  },
  {
   "cell_type": "code",
   "execution_count": 6,
   "id": "46721a78",
   "metadata": {},
   "outputs": [
    {
     "data": {
      "text/plain": [
       "55"
      ]
     },
     "execution_count": 6,
     "metadata": {},
     "output_type": "execute_result"
    }
   ],
   "source": [
    "int_dict[2]"
   ]
  },
  {
   "cell_type": "code",
   "execution_count": 7,
   "id": "96265550",
   "metadata": {},
   "outputs": [
    {
     "data": {
      "text/plain": [
       "{1: 45, 2: 55, 3: 75}"
      ]
     },
     "execution_count": 7,
     "metadata": {},
     "output_type": "execute_result"
    }
   ],
   "source": [
    "# Dictionaries keys should be unique\n",
    "\n",
    "int_dict = {1 : 45, 2 : 55, 3 : 85, 3 : 75}\n",
    "\n",
    "int_dict"
   ]
  },
  {
   "cell_type": "code",
   "execution_count": 8,
   "id": "21208ab9",
   "metadata": {},
   "outputs": [
    {
     "data": {
      "text/plain": [
       "{'Henry': 1995, 'Samuel': 1999, 'Ingrid': 2005}"
      ]
     },
     "execution_count": 8,
     "metadata": {},
     "output_type": "execute_result"
    }
   ],
   "source": [
    "student_details = {\"Henry\" : 1995,\n",
    "                  \"Samuel\" : 1999,\n",
    "                  \"Ingrid\" : 2005}\n",
    "\n",
    "student_details"
   ]
  },
  {
   "cell_type": "code",
   "execution_count": 9,
   "id": "c2056c67",
   "metadata": {},
   "outputs": [
    {
     "data": {
      "text/plain": [
       "dict_keys(['Henry', 'Samuel', 'Ingrid'])"
      ]
     },
     "execution_count": 9,
     "metadata": {},
     "output_type": "execute_result"
    }
   ],
   "source": [
    "student_details.keys()"
   ]
  },
  {
   "cell_type": "code",
   "execution_count": 10,
   "id": "2002bc18",
   "metadata": {},
   "outputs": [
    {
     "data": {
      "text/plain": [
       "True"
      ]
     },
     "execution_count": 10,
     "metadata": {},
     "output_type": "execute_result"
    }
   ],
   "source": [
    "\"Samuel\" in student_details.keys()"
   ]
  },
  {
   "cell_type": "code",
   "execution_count": 11,
   "id": "54f5b669",
   "metadata": {},
   "outputs": [
    {
     "data": {
      "text/plain": [
       "False"
      ]
     },
     "execution_count": 11,
     "metadata": {},
     "output_type": "execute_result"
    }
   ],
   "source": [
    "\"Andrew\" in student_details.keys()"
   ]
  },
  {
   "cell_type": "code",
   "execution_count": 12,
   "id": "efe3f648",
   "metadata": {},
   "outputs": [
    {
     "data": {
      "text/plain": [
       "True"
      ]
     },
     "execution_count": 12,
     "metadata": {},
     "output_type": "execute_result"
    }
   ],
   "source": [
    "\"Henry\" in student_details.keys()"
   ]
  },
  {
   "cell_type": "code",
   "execution_count": 13,
   "id": "18be4e43",
   "metadata": {},
   "outputs": [
    {
     "data": {
      "text/plain": [
       "dict_values([1995, 1999, 2005])"
      ]
     },
     "execution_count": 13,
     "metadata": {},
     "output_type": "execute_result"
    }
   ],
   "source": [
    "student_details.values()"
   ]
  },
  {
   "cell_type": "code",
   "execution_count": 14,
   "id": "eafd5857",
   "metadata": {},
   "outputs": [
    {
     "data": {
      "text/plain": [
       "{False: 'Daniel', 'Aria': [1, 2, 3], 'Jacob': True}"
      ]
     },
     "execution_count": 14,
     "metadata": {},
     "output_type": "execute_result"
    }
   ],
   "source": [
    "mixed_dict = {False : \"Daniel\",\n",
    "             \"Aria\" : [1, 2, 3],\n",
    "             \"Jacob\" : True}\n",
    "mixed_dict"
   ]
  },
  {
   "cell_type": "code",
   "execution_count": 15,
   "id": "04087f52",
   "metadata": {},
   "outputs": [
    {
     "data": {
      "text/plain": [
       "[1, 2, 3]"
      ]
     },
     "execution_count": 15,
     "metadata": {},
     "output_type": "execute_result"
    }
   ],
   "source": [
    "mixed_dict[\"Aria\"]"
   ]
  },
  {
   "cell_type": "code",
   "execution_count": 16,
   "id": "5dfbb19c",
   "metadata": {},
   "outputs": [
    {
     "data": {
      "text/plain": [
       "'Daniel'"
      ]
     },
     "execution_count": 16,
     "metadata": {},
     "output_type": "execute_result"
    }
   ],
   "source": [
    "mixed_dict[False]"
   ]
  },
  {
   "cell_type": "code",
   "execution_count": 17,
   "id": "f47eaed8",
   "metadata": {},
   "outputs": [
    {
     "data": {
      "text/plain": [
       "{'bike_owner': 'James Smith',\n",
       " 'bike_model': 'Ducati Monster 1200',\n",
       " 'bike_price': 28140,\n",
       " 'engine_displacement': 1197}"
      ]
     },
     "execution_count": 17,
     "metadata": {},
     "output_type": "execute_result"
    }
   ],
   "source": [
    "bike_details = {\"bike_owner\" : \"James Smith\",\n",
    "               \"bike_model\" : \"Ducati Monster 1200\",\n",
    "               \"bike_price\" : 28140,\n",
    "               \"engine_displacement\" : 1197}\n",
    "bike_details"
   ]
  },
  {
   "cell_type": "code",
   "execution_count": 18,
   "id": "891bb912",
   "metadata": {},
   "outputs": [],
   "source": [
    "bike_details['num_cylinders'] = 2"
   ]
  },
  {
   "cell_type": "code",
   "execution_count": 19,
   "id": "324c56b7",
   "metadata": {},
   "outputs": [
    {
     "data": {
      "text/plain": [
       "{'bike_owner': 'James Smith',\n",
       " 'bike_model': 'Ducati Monster 1200',\n",
       " 'bike_price': 28140,\n",
       " 'engine_displacement': 1197,\n",
       " 'num_cylinders': 2}"
      ]
     },
     "execution_count": 19,
     "metadata": {},
     "output_type": "execute_result"
    }
   ],
   "source": [
    "bike_details"
   ]
  },
  {
   "cell_type": "code",
   "execution_count": 20,
   "id": "bbf1112f",
   "metadata": {},
   "outputs": [],
   "source": [
    "bike_details['bike_price'] = 29140"
   ]
  },
  {
   "cell_type": "code",
   "execution_count": 21,
   "id": "4d99c395",
   "metadata": {},
   "outputs": [
    {
     "data": {
      "text/plain": [
       "29140"
      ]
     },
     "execution_count": 21,
     "metadata": {},
     "output_type": "execute_result"
    }
   ],
   "source": [
    "bike_details['bike_price']"
   ]
  },
  {
   "cell_type": "code",
   "execution_count": 22,
   "id": "822ba724",
   "metadata": {},
   "outputs": [
    {
     "data": {
      "text/plain": [
       "29140"
      ]
     },
     "execution_count": 22,
     "metadata": {},
     "output_type": "execute_result"
    }
   ],
   "source": [
    "bike_details.get('bike_price')"
   ]
  },
  {
   "cell_type": "code",
   "execution_count": 23,
   "id": "930f39a5",
   "metadata": {},
   "outputs": [
    {
     "data": {
      "text/plain": [
       "{'bike_owner': 'James Smith',\n",
       " 'bike_model': 'Ducati Monster 1200',\n",
       " 'bike_price': 29140,\n",
       " 'engine_displacement': 1197,\n",
       " 'num_cylinders': 2}"
      ]
     },
     "execution_count": 23,
     "metadata": {},
     "output_type": "execute_result"
    }
   ],
   "source": [
    "bike_details"
   ]
  },
  {
   "cell_type": "code",
   "execution_count": 24,
   "id": "00abba5a",
   "metadata": {},
   "outputs": [],
   "source": [
    "del bike_details[\"engine_displacement\"]"
   ]
  },
  {
   "cell_type": "code",
   "execution_count": 25,
   "id": "04cee6c2",
   "metadata": {},
   "outputs": [
    {
     "data": {
      "text/plain": [
       "{'bike_owner': 'James Smith',\n",
       " 'bike_model': 'Ducati Monster 1200',\n",
       " 'bike_price': 29140,\n",
       " 'num_cylinders': 2}"
      ]
     },
     "execution_count": 25,
     "metadata": {},
     "output_type": "execute_result"
    }
   ],
   "source": [
    "bike_details"
   ]
  },
  {
   "cell_type": "code",
   "execution_count": 26,
   "id": "d24e6655",
   "metadata": {},
   "outputs": [
    {
     "data": {
      "text/plain": [
       "{}"
      ]
     },
     "execution_count": 26,
     "metadata": {},
     "output_type": "execute_result"
    }
   ],
   "source": [
    "fruit_qty = {}\n",
    "\n",
    "fruit_qty"
   ]
  },
  {
   "cell_type": "code",
   "execution_count": 27,
   "id": "f51493ac",
   "metadata": {},
   "outputs": [],
   "source": [
    "fruit_qty['Banana'] = 50\n",
    "\n",
    "fruit_qty['Apple'] = 78\n",
    "\n",
    "fruit_qty['Apricot'] = 40"
   ]
  },
  {
   "cell_type": "code",
   "execution_count": 28,
   "id": "a8a21ca8",
   "metadata": {},
   "outputs": [
    {
     "data": {
      "text/plain": [
       "{'Banana': 50, 'Apple': 78, 'Apricot': 40}"
      ]
     },
     "execution_count": 28,
     "metadata": {},
     "output_type": "execute_result"
    }
   ],
   "source": [
    "fruit_qty"
   ]
  },
  {
   "cell_type": "code",
   "execution_count": 29,
   "id": "7c8345fc",
   "metadata": {},
   "outputs": [
    {
     "data": {
      "text/plain": [
       "{'Banana': 50, 'Apple': 78, 'Apricot': 40, 'Orange': 70, 'Avocado': 30}"
      ]
     },
     "execution_count": 29,
     "metadata": {},
     "output_type": "execute_result"
    }
   ],
   "source": [
    "fruit_qty['Orange'] = 70\n",
    "\n",
    "fruit_qty['Avocado'] = 30\n",
    "\n",
    "fruit_qty"
   ]
  },
  {
   "cell_type": "code",
   "execution_count": 30,
   "id": "effbcc19",
   "metadata": {},
   "outputs": [
    {
     "data": {
      "text/plain": [
       "40"
      ]
     },
     "execution_count": 30,
     "metadata": {},
     "output_type": "execute_result"
    }
   ],
   "source": [
    "fruit_qty['Apricot']"
   ]
  },
  {
   "cell_type": "code",
   "execution_count": null,
   "id": "a274de3a",
   "metadata": {},
   "outputs": [],
   "source": [
    "fruit_qty['Watermelon'] # Will throw an error"
   ]
  },
  {
   "cell_type": "code",
   "execution_count": 32,
   "id": "5363564c",
   "metadata": {},
   "outputs": [
    {
     "data": {
      "text/plain": [
       "{'Banana': 50,\n",
       " 'Apple': 78,\n",
       " 'Apricot': 40,\n",
       " 'Orange': 70,\n",
       " 'Avocado': 30,\n",
       " 'Watermelon': 10}"
      ]
     },
     "execution_count": 32,
     "metadata": {},
     "output_type": "execute_result"
    }
   ],
   "source": [
    "fruit_qty['Watermelon'] = 10\n",
    "\n",
    "fruit_qty"
   ]
  },
  {
   "cell_type": "code",
   "execution_count": 33,
   "id": "025ffb4e",
   "metadata": {},
   "outputs": [
    {
     "data": {
      "text/plain": [
       "10"
      ]
     },
     "execution_count": 33,
     "metadata": {},
     "output_type": "execute_result"
    }
   ],
   "source": [
    "fruit_qty['Watermelon']"
   ]
  },
  {
   "cell_type": "code",
   "execution_count": 34,
   "id": "5a881ed8",
   "metadata": {},
   "outputs": [
    {
     "data": {
      "text/plain": [
       "{'Banana': [50, 60, 40, 55],\n",
       " 'Apple': [78, 86, 80, 60],\n",
       " 'Apricot': [40, 70, 30, 55],\n",
       " 'Orange': [70, 80, 60, 65],\n",
       " 'Avocado': [30, 50, 40, 45]}"
      ]
     },
     "execution_count": 34,
     "metadata": {},
     "output_type": "execute_result"
    }
   ],
   "source": [
    "fruit_qty_consumed = {'Banana' : [50, 60, 40, 55],\n",
    "                      'Apple' : [78, 86, 80, 60],\n",
    "                      'Apricot' : [40, 70, 30, 55],\n",
    "                      'Orange' : [70, 80, 60, 65],\n",
    "                      'Avocado' : [30, 50, 40, 45]}\n",
    "\n",
    "fruit_qty_consumed"
   ]
  },
  {
   "cell_type": "code",
   "execution_count": 35,
   "id": "90e59d17",
   "metadata": {},
   "outputs": [
    {
     "data": {
      "text/plain": [
       "[70, 80, 60, 65]"
      ]
     },
     "execution_count": 35,
     "metadata": {},
     "output_type": "execute_result"
    }
   ],
   "source": [
    "fruit_qty_consumed['Orange']"
   ]
  },
  {
   "cell_type": "code",
   "execution_count": 36,
   "id": "1a5e17d5",
   "metadata": {},
   "outputs": [
    {
     "data": {
      "text/plain": [
       "65"
      ]
     },
     "execution_count": 36,
     "metadata": {},
     "output_type": "execute_result"
    }
   ],
   "source": [
    "fruit_qty_consumed['Orange'][3]"
   ]
  },
  {
   "cell_type": "code",
   "execution_count": 37,
   "id": "5d6edfec",
   "metadata": {},
   "outputs": [
    {
     "data": {
      "text/plain": [
       "[30, 50, 40, 45]"
      ]
     },
     "execution_count": 37,
     "metadata": {},
     "output_type": "execute_result"
    }
   ],
   "source": [
    "fruit_qty_consumed['Avocado']"
   ]
  },
  {
   "cell_type": "code",
   "execution_count": 38,
   "id": "c28f4c92",
   "metadata": {},
   "outputs": [],
   "source": [
    "fruit_qty_consumed['Avocado'][3] = 50"
   ]
  },
  {
   "cell_type": "code",
   "execution_count": 39,
   "id": "d609d800",
   "metadata": {},
   "outputs": [
    {
     "data": {
      "text/plain": [
       "[30, 50, 40, 50]"
      ]
     },
     "execution_count": 39,
     "metadata": {},
     "output_type": "execute_result"
    }
   ],
   "source": [
    "fruit_qty_consumed['Avocado']"
   ]
  },
  {
   "cell_type": "code",
   "execution_count": 40,
   "id": "6e5bc2e0",
   "metadata": {},
   "outputs": [
    {
     "data": {
      "text/plain": [
       "{'Banana': {'Fri': 50, 'Sat': 80, 'Sun': 95},\n",
       " 'Apple': {'Fri': 90, 'Sat': 95, 'Sun': 110},\n",
       " 'Apricot': {'Fri': 70, 'Sat': 85, 'Sun': 95},\n",
       " 'Orange': {'Fri': 80, 'Sat': 90, 'Sun': 100},\n",
       " 'Avocado': {'Fri': 60, 'Sat': 70, 'Sun': 80}}"
      ]
     },
     "execution_count": 40,
     "metadata": {},
     "output_type": "execute_result"
    }
   ],
   "source": [
    "fruit_qty_consumed = {'Banana' : {'Fri' : 50, 'Sat' : 80, 'Sun' : 95},\n",
    "                      'Apple' : {'Fri' : 90, 'Sat' : 95, 'Sun' : 110},\n",
    "                      'Apricot' : {'Fri' : 70, 'Sat' : 85, 'Sun' : 95},\n",
    "                      'Orange' : {'Fri' : 80, 'Sat' : 90, 'Sun' : 100},\n",
    "                      'Avocado' : {'Fri' : 60, 'Sat' : 70, 'Sun' : 80}\n",
    "                     }\n",
    "\n",
    "fruit_qty_consumed"
   ]
  },
  {
   "cell_type": "code",
   "execution_count": 41,
   "id": "c1eeacb2",
   "metadata": {},
   "outputs": [
    {
     "data": {
      "text/plain": [
       "{'Fri': 80, 'Sat': 90, 'Sun': 100}"
      ]
     },
     "execution_count": 41,
     "metadata": {},
     "output_type": "execute_result"
    }
   ],
   "source": [
    "fruit_qty_consumed['Orange']"
   ]
  },
  {
   "cell_type": "code",
   "execution_count": 42,
   "id": "c95d50da",
   "metadata": {},
   "outputs": [
    {
     "data": {
      "text/plain": [
       "95"
      ]
     },
     "execution_count": 42,
     "metadata": {},
     "output_type": "execute_result"
    }
   ],
   "source": [
    "fruit_qty_consumed['Apricot']['Sun']"
   ]
  },
  {
   "cell_type": "code",
   "execution_count": null,
   "id": "ff287deb",
   "metadata": {},
   "outputs": [],
   "source": [
    "fruit_qty_consumed['Apricot']['Mon'] # Will throw an error"
   ]
  }
 ],
 "metadata": {
  "kernelspec": {
   "display_name": "Python 3 (ipykernel)",
   "language": "python",
   "name": "python3"
  },
  "language_info": {
   "codemirror_mode": {
    "name": "ipython",
    "version": 3
   },
   "file_extension": ".py",
   "mimetype": "text/x-python",
   "name": "python",
   "nbconvert_exporter": "python",
   "pygments_lexer": "ipython3",
   "version": "3.11.4"
  }
 },
 "nbformat": 4,
 "nbformat_minor": 5
}
