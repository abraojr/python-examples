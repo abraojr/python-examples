{
 "cells": [
  {
   "cell_type": "code",
   "execution_count": 1,
   "id": "c7b23141",
   "metadata": {},
   "outputs": [
    {
     "data": {
      "text/plain": [
       "[['Hennessey Venom GT', 1244],\n",
       " ['SSC Ultimate Aero', 1287],\n",
       " ['Zenvo ST1', 1100]]"
      ]
     },
     "execution_count": 1,
     "metadata": {},
     "output_type": "execute_result"
    }
   ],
   "source": [
    "car_matrix = [[\"Hennessey Venom GT\", 1244],\n",
    "             [\"SSC Ultimate Aero\", 1287],\n",
    "             [\"Zenvo ST1\", 1100]]\n",
    "car_matrix"
   ]
  },
  {
   "cell_type": "code",
   "execution_count": 2,
   "id": "522672f8",
   "metadata": {},
   "outputs": [
    {
     "data": {
      "text/plain": [
       "3"
      ]
     },
     "execution_count": 2,
     "metadata": {},
     "output_type": "execute_result"
    }
   ],
   "source": [
    "len(car_matrix)"
   ]
  },
  {
   "cell_type": "code",
   "execution_count": 3,
   "id": "29b99f85",
   "metadata": {},
   "outputs": [
    {
     "data": {
      "text/plain": [
       "2"
      ]
     },
     "execution_count": 3,
     "metadata": {},
     "output_type": "execute_result"
    }
   ],
   "source": [
    "len(car_matrix[1])"
   ]
  },
  {
   "cell_type": "code",
   "execution_count": 4,
   "id": "19441949",
   "metadata": {},
   "outputs": [
    {
     "data": {
      "text/plain": [
       "2"
      ]
     },
     "execution_count": 4,
     "metadata": {},
     "output_type": "execute_result"
    }
   ],
   "source": [
    "len(car_matrix[2])"
   ]
  },
  {
   "cell_type": "code",
   "execution_count": 5,
   "id": "ea81e39a",
   "metadata": {},
   "outputs": [
    {
     "data": {
      "text/plain": [
       "'SSC Ultimate Aero'"
      ]
     },
     "execution_count": 5,
     "metadata": {},
     "output_type": "execute_result"
    }
   ],
   "source": [
    "car_matrix[1][0]"
   ]
  },
  {
   "cell_type": "code",
   "execution_count": 6,
   "id": "43be965f",
   "metadata": {},
   "outputs": [
    {
     "data": {
      "text/plain": [
       "1287"
      ]
     },
     "execution_count": 6,
     "metadata": {},
     "output_type": "execute_result"
    }
   ],
   "source": [
    "car_matrix[1][1]"
   ]
  },
  {
   "cell_type": "code",
   "execution_count": 7,
   "id": "cb04ee76",
   "metadata": {},
   "outputs": [
    {
     "data": {
      "text/plain": [
       "'Zenvo ST1'"
      ]
     },
     "execution_count": 7,
     "metadata": {},
     "output_type": "execute_result"
    }
   ],
   "source": [
    "car_matrix[2][0]"
   ]
  },
  {
   "cell_type": "code",
   "execution_count": null,
   "id": "f093ccbc",
   "metadata": {},
   "outputs": [],
   "source": [
    "car_matrix[1][2] # Will throw an error"
   ]
  },
  {
   "cell_type": "code",
   "execution_count": 9,
   "id": "4ca0aedb",
   "metadata": {},
   "outputs": [
    {
     "data": {
      "text/plain": [
       "['Zenvo ST1', 1100]"
      ]
     },
     "execution_count": 9,
     "metadata": {},
     "output_type": "execute_result"
    }
   ],
   "source": [
    "car_matrix[2][0:2]"
   ]
  },
  {
   "cell_type": "code",
   "execution_count": 10,
   "id": "ee31452e",
   "metadata": {},
   "outputs": [
    {
     "data": {
      "text/plain": [
       "['SSC Ultimate Aero', 1287]"
      ]
     },
     "execution_count": 10,
     "metadata": {},
     "output_type": "execute_result"
    }
   ],
   "source": [
    "car_matrix[1][0:2]"
   ]
  },
  {
   "cell_type": "code",
   "execution_count": 11,
   "id": "f2ef0955",
   "metadata": {},
   "outputs": [
    {
     "data": {
      "text/plain": [
       "['Leo', 18, 'Aaron', 25, 'Easton', 34, 'Jordan', 30]"
      ]
     },
     "execution_count": 11,
     "metadata": {},
     "output_type": "execute_result"
    }
   ],
   "source": [
    "my_list = [\"Leo\", 18,\n",
    "          \"Aaron\", 25,\n",
    "          \"Easton\", 34,\n",
    "          \"Jordan\", 30]\n",
    "my_list"
   ]
  },
  {
   "cell_type": "code",
   "execution_count": 12,
   "id": "684f71f9",
   "metadata": {},
   "outputs": [
    {
     "data": {
      "text/plain": [
       "('Leo', 18, 'Aaron', 25, 'Easton', 34, 'Jordan', 30)"
      ]
     },
     "execution_count": 12,
     "metadata": {},
     "output_type": "execute_result"
    }
   ],
   "source": [
    "tuple(my_list)"
   ]
  },
  {
   "cell_type": "code",
   "execution_count": 13,
   "id": "d3582990",
   "metadata": {},
   "outputs": [
    {
     "data": {
      "text/plain": [
       "[['Leo', 18, 'Aaron', 25, 'Easton', 34, 'Jordan', 30]]"
      ]
     },
     "execution_count": 13,
     "metadata": {},
     "output_type": "execute_result"
    }
   ],
   "source": [
    "my_list1 = [[\"Leo\", 18,\n",
    "          \"Aaron\", 25,\n",
    "          \"Easton\", 34,\n",
    "          \"Jordan\", 30]]\n",
    "my_list1"
   ]
  },
  {
   "cell_type": "code",
   "execution_count": 14,
   "id": "7c1c8bb9",
   "metadata": {},
   "outputs": [
    {
     "data": {
      "text/plain": [
       "(['Leo', 18, 'Aaron', 25, 'Easton', 34, 'Jordan', 30],)"
      ]
     },
     "execution_count": 14,
     "metadata": {},
     "output_type": "execute_result"
    }
   ],
   "source": [
    "tuple(my_list1)"
   ]
  },
  {
   "cell_type": "code",
   "execution_count": 15,
   "id": "67f2a961",
   "metadata": {},
   "outputs": [
    {
     "data": {
      "text/plain": [
       "[[1, 'Caleb', 2, 'Leo'], [3, 'Easton', 4, 'Jordan']]"
      ]
     },
     "execution_count": 15,
     "metadata": {},
     "output_type": "execute_result"
    }
   ],
   "source": [
    "students_list = [[1, \"Caleb\", 2, \"Leo\"],\n",
    "                [3, \"Easton\", 4, \"Jordan\"]]\n",
    "\n",
    "students_list"
   ]
  },
  {
   "cell_type": "code",
   "execution_count": null,
   "id": "89f12fc8",
   "metadata": {},
   "outputs": [],
   "source": [
    "dict(students_list) # Will throw an error"
   ]
  },
  {
   "cell_type": "code",
   "execution_count": 17,
   "id": "a8415edb",
   "metadata": {},
   "outputs": [
    {
     "data": {
      "text/plain": [
       "[[1, 'Caleb'], [2, 'Leo'], [3, 'Easton'], [4, 'Jordan']]"
      ]
     },
     "execution_count": 17,
     "metadata": {},
     "output_type": "execute_result"
    }
   ],
   "source": [
    "students_list2 = [[1, \"Caleb\"], [2, \"Leo\"],\n",
    "                [3, \"Easton\"], [4, \"Jordan\"]]\n",
    "\n",
    "students_list2"
   ]
  },
  {
   "cell_type": "code",
   "execution_count": 18,
   "id": "313c5628",
   "metadata": {},
   "outputs": [
    {
     "data": {
      "text/plain": [
       "{1: 'Caleb', 2: 'Leo', 3: 'Easton', 4: 'Jordan'}"
      ]
     },
     "execution_count": 18,
     "metadata": {},
     "output_type": "execute_result"
    }
   ],
   "source": [
    "dict(students_list2)"
   ]
  },
  {
   "cell_type": "code",
   "execution_count": 19,
   "id": "996850d9",
   "metadata": {},
   "outputs": [],
   "source": [
    "students_list3 = [[1, \"Caleb\"],\n",
    "                  [2, \"Leo\"], \n",
    "                  [3, \"Easton\"],\n",
    "                  [4, \"Jordan\", \"Adam\"]]"
   ]
  },
  {
   "cell_type": "code",
   "execution_count": null,
   "id": "9006e615",
   "metadata": {},
   "outputs": [],
   "source": [
    "dict(students_list3) # Will throw an error"
   ]
  },
  {
   "cell_type": "code",
   "execution_count": 21,
   "id": "6f1ff33e",
   "metadata": {},
   "outputs": [
    {
     "data": {
      "text/plain": [
       "{1: 'Caleb', 2: 'Leo', 3: 'Easton', 4: ['Jordan', 'Adam']}"
      ]
     },
     "execution_count": 21,
     "metadata": {},
     "output_type": "execute_result"
    }
   ],
   "source": [
    "students_list4 = [[1, \"Caleb\"],\n",
    "                  [2, \"Leo\"], \n",
    "                  [3, \"Easton\"],\n",
    "                  [4, [\"Jordan\", \"Adam\"]]]\n",
    "\n",
    "dict(students_list4)"
   ]
  },
  {
   "cell_type": "code",
   "execution_count": 22,
   "id": "5bbb139c",
   "metadata": {},
   "outputs": [
    {
     "data": {
      "text/plain": [
       "[['Hennessey Venom GT', 1244],\n",
       " ['SSC Ultimate Aero', 1287],\n",
       " ['Zenvo ST1', 1100]]"
      ]
     },
     "execution_count": 22,
     "metadata": {},
     "output_type": "execute_result"
    }
   ],
   "source": [
    "car_matrix"
   ]
  },
  {
   "cell_type": "code",
   "execution_count": 23,
   "id": "4dcd1ed8",
   "metadata": {},
   "outputs": [
    {
     "data": {
      "text/plain": [
       "{'Hennessey Venom GT': 1244, 'SSC Ultimate Aero': 1287, 'Zenvo ST1': 1100}"
      ]
     },
     "execution_count": 23,
     "metadata": {},
     "output_type": "execute_result"
    }
   ],
   "source": [
    "car_matrix_dict = dict(car_matrix)\n",
    "\n",
    "car_matrix_dict"
   ]
  },
  {
   "cell_type": "code",
   "execution_count": 24,
   "id": "03e5af87",
   "metadata": {},
   "outputs": [
    {
     "data": {
      "text/plain": [
       "[['Hennessey Venom GT', 1244], ['SSC Ultimate Aero', 1287]]"
      ]
     },
     "execution_count": 24,
     "metadata": {},
     "output_type": "execute_result"
    }
   ],
   "source": [
    "car_matrix.pop()\n",
    "\n",
    "car_matrix"
   ]
  },
  {
   "cell_type": "code",
   "execution_count": 25,
   "id": "a500d712",
   "metadata": {},
   "outputs": [
    {
     "data": {
      "text/plain": [
       "[]"
      ]
     },
     "execution_count": 25,
     "metadata": {},
     "output_type": "execute_result"
    }
   ],
   "source": [
    "car_matrix.clear()\n",
    "\n",
    "car_matrix"
   ]
  },
  {
   "cell_type": "code",
   "execution_count": 26,
   "id": "340aaa8f",
   "metadata": {},
   "outputs": [
    {
     "data": {
      "text/plain": [
       "{'Hennessey Venom GT': 1244, 'SSC Ultimate Aero': 1287, 'Zenvo ST1': 1100}"
      ]
     },
     "execution_count": 26,
     "metadata": {},
     "output_type": "execute_result"
    }
   ],
   "source": [
    "car_matrix_dict"
   ]
  },
  {
   "cell_type": "code",
   "execution_count": 27,
   "id": "05e05d09",
   "metadata": {},
   "outputs": [
    {
     "data": {
      "text/plain": [
       "['Hennessey Venom GT', 'SSC Ultimate Aero', 'Zenvo ST1']"
      ]
     },
     "execution_count": 27,
     "metadata": {},
     "output_type": "execute_result"
    }
   ],
   "source": [
    "car_names = list(car_matrix_dict)\n",
    "\n",
    "car_names"
   ]
  },
  {
   "cell_type": "code",
   "execution_count": 28,
   "id": "021533f0",
   "metadata": {},
   "outputs": [
    {
     "data": {
      "text/plain": [
       "[1244, 1287, 1100]"
      ]
     },
     "execution_count": 28,
     "metadata": {},
     "output_type": "execute_result"
    }
   ],
   "source": [
    "car_hp = list(car_matrix_dict.values())\n",
    "\n",
    "car_hp"
   ]
  }
 ],
 "metadata": {
  "kernelspec": {
   "display_name": "Python 3 (ipykernel)",
   "language": "python",
   "name": "python3"
  },
  "language_info": {
   "codemirror_mode": {
    "name": "ipython",
    "version": 3
   },
   "file_extension": ".py",
   "mimetype": "text/x-python",
   "name": "python",
   "nbconvert_exporter": "python",
   "pygments_lexer": "ipython3",
   "version": "3.11.4"
  }
 },
 "nbformat": 4,
 "nbformat_minor": 5
}
