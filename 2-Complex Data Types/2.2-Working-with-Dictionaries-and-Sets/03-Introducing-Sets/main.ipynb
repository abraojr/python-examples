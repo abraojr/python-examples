{
 "cells": [
  {
   "cell_type": "code",
   "execution_count": 1,
   "id": "8313d767",
   "metadata": {},
   "outputs": [
    {
     "data": {
      "text/plain": [
       "{'Ava', 'Emma', 'Mia', 'Olivia'}"
      ]
     },
     "execution_count": 1,
     "metadata": {},
     "output_type": "execute_result"
    }
   ],
   "source": [
    "# Sets: Collection of unique element, contains no duplicates, no intrinsic order\n",
    "\n",
    "set_string = {\"Emma\", \"Olivia\", \"Ava\", \"Mia\"}\n",
    "\n",
    "set_string"
   ]
  },
  {
   "cell_type": "code",
   "execution_count": 2,
   "id": "c8cd2d2e",
   "metadata": {},
   "outputs": [
    {
     "name": "stdout",
     "output_type": "stream",
     "text": [
      "{'Mia', 'Olivia', 'Ava', 'Emma'}\n"
     ]
    }
   ],
   "source": [
    "print(set_string)"
   ]
  },
  {
   "cell_type": "code",
   "execution_count": 3,
   "id": "d0777cbd",
   "metadata": {},
   "outputs": [
    {
     "data": {
      "text/plain": [
       "set()"
      ]
     },
     "execution_count": 3,
     "metadata": {},
     "output_type": "execute_result"
    }
   ],
   "source": [
    "empty_set = set()\n",
    "\n",
    "empty_set"
   ]
  },
  {
   "cell_type": "code",
   "execution_count": 4,
   "id": "4997be8e",
   "metadata": {},
   "outputs": [
    {
     "name": "stdout",
     "output_type": "stream",
     "text": [
      "<class 'set'>\n"
     ]
    }
   ],
   "source": [
    "print(type(empty_set))"
   ]
  },
  {
   "cell_type": "code",
   "execution_count": 5,
   "id": "132f7d43",
   "metadata": {},
   "outputs": [
    {
     "data": {
      "text/plain": [
       "{1.5, 5, 'Emma', True}"
      ]
     },
     "execution_count": 5,
     "metadata": {},
     "output_type": "execute_result"
    }
   ],
   "source": [
    "mixed_set = {\"Emma\", 5, 1.5, True}\n",
    "\n",
    "mixed_set"
   ]
  },
  {
   "cell_type": "code",
   "execution_count": 6,
   "id": "535c306d",
   "metadata": {},
   "outputs": [
    {
     "data": {
      "text/plain": [
       "{(1, 2, 3), 1.5, 5, 'Emma', True}"
      ]
     },
     "execution_count": 6,
     "metadata": {},
     "output_type": "execute_result"
    }
   ],
   "source": [
    "mixed_set1 = {\"Emma\", 5, 1.5, True, (1, 2, 3)}\n",
    "\n",
    "mixed_set1"
   ]
  },
  {
   "cell_type": "code",
   "execution_count": null,
   "id": "d3e4fbf3",
   "metadata": {},
   "outputs": [],
   "source": [
    "set_list = {1, 2, 3, [4, 5, 6]} # Will throw an error"
   ]
  },
  {
   "cell_type": "code",
   "execution_count": null,
   "id": "d7a5d7a7",
   "metadata": {},
   "outputs": [],
   "source": [
    "set_dict = {1, 2, 3, {4 : \"Emma\"}} # Will throw an error"
   ]
  },
  {
   "cell_type": "code",
   "execution_count": 9,
   "id": "b5852f1e",
   "metadata": {},
   "outputs": [
    {
     "data": {
      "text/plain": [
       "{(4, 5, 6), 1, 2, 3}"
      ]
     },
     "execution_count": 9,
     "metadata": {},
     "output_type": "execute_result"
    }
   ],
   "source": [
    "set_tuple = {1, 2, 3, (4, 5, 6)}\n",
    "\n",
    "set_tuple"
   ]
  },
  {
   "cell_type": "code",
   "execution_count": 10,
   "id": "faf2ec5d",
   "metadata": {},
   "outputs": [
    {
     "data": {
      "text/plain": [
       "{'Ava', 'Emma', 'Mia', 'Olivia'}"
      ]
     },
     "execution_count": 10,
     "metadata": {},
     "output_type": "execute_result"
    }
   ],
   "source": [
    "student_set = {\"Emma\", \"Olivia\", \"Ava\", \"Mia\", \"Emma\", \"Ava\"}\n",
    "\n",
    "student_set"
   ]
  },
  {
   "cell_type": "code",
   "execution_count": 11,
   "id": "d31575a7",
   "metadata": {},
   "outputs": [
    {
     "data": {
      "text/plain": [
       "{1, 2, 3, 4, 5, 6}"
      ]
     },
     "execution_count": 11,
     "metadata": {},
     "output_type": "execute_result"
    }
   ],
   "source": [
    "set_int = {1, 3, 4, 5, 6, 2, 5, 3, 4}\n",
    "\n",
    "set_int"
   ]
  },
  {
   "cell_type": "code",
   "execution_count": 12,
   "id": "a0238eb0",
   "metadata": {},
   "outputs": [
    {
     "data": {
      "text/plain": [
       "{'Ava', 'Emma', 'Mia', 'Olivia'}"
      ]
     },
     "execution_count": 12,
     "metadata": {},
     "output_type": "execute_result"
    }
   ],
   "source": [
    "student_set"
   ]
  },
  {
   "cell_type": "code",
   "execution_count": null,
   "id": "0f9d7354",
   "metadata": {},
   "outputs": [],
   "source": [
    "student_set[1] # Will throw an error"
   ]
  },
  {
   "cell_type": "code",
   "execution_count": 14,
   "id": "de249046",
   "metadata": {},
   "outputs": [
    {
     "data": {
      "text/plain": [
       "{1, 10, 2, 3, 4, 6, 8, 'a'}"
      ]
     },
     "execution_count": 14,
     "metadata": {},
     "output_type": "execute_result"
    }
   ],
   "source": [
    "set_1 = {1, 3, 4, 8, 'a', 6, 2, 10, 3, 4}\n",
    "\n",
    "set_1"
   ]
  },
  {
   "cell_type": "code",
   "execution_count": 15,
   "id": "74223fba",
   "metadata": {},
   "outputs": [
    {
     "data": {
      "text/plain": [
       "{1, 10, 2, 3, 4, 6, 8, 9, 9.5, 'a'}"
      ]
     },
     "execution_count": 15,
     "metadata": {},
     "output_type": "execute_result"
    }
   ],
   "source": [
    "set_1.add(9)\n",
    "\n",
    "set_1.add(9.5)\n",
    "\n",
    "set_1"
   ]
  },
  {
   "cell_type": "code",
   "execution_count": 16,
   "id": "92e282d8",
   "metadata": {},
   "outputs": [
    {
     "data": {
      "text/plain": [
       "{'Ava', 'Avery', 'Daniel', 'Emma', 'Jacob', 'Mia', 'Olivia'}"
      ]
     },
     "execution_count": 16,
     "metadata": {},
     "output_type": "execute_result"
    }
   ],
   "source": [
    "teachers_set = {\"Emma\", \"Olivia\", \"Ava\", \"Mia\", \"Avery\", \"Jacob\", \"Daniel\"}\n",
    "\n",
    "teachers_set"
   ]
  },
  {
   "cell_type": "code",
   "execution_count": 17,
   "id": "2f84a1e9",
   "metadata": {},
   "outputs": [
    {
     "data": {
      "text/plain": [
       "7"
      ]
     },
     "execution_count": 17,
     "metadata": {},
     "output_type": "execute_result"
    }
   ],
   "source": [
    "len(teachers_set)"
   ]
  },
  {
   "cell_type": "code",
   "execution_count": 18,
   "id": "6b8f8172",
   "metadata": {},
   "outputs": [
    {
     "data": {
      "text/plain": [
       "'Olivia'"
      ]
     },
     "execution_count": 18,
     "metadata": {},
     "output_type": "execute_result"
    }
   ],
   "source": [
    "max(teachers_set)"
   ]
  },
  {
   "cell_type": "code",
   "execution_count": 19,
   "id": "17ebc5e2",
   "metadata": {},
   "outputs": [
    {
     "data": {
      "text/plain": [
       "'Olivia'"
      ]
     },
     "execution_count": 19,
     "metadata": {},
     "output_type": "execute_result"
    }
   ],
   "source": [
    "max(teachers_set)"
   ]
  },
  {
   "cell_type": "code",
   "execution_count": 20,
   "id": "aa578f20",
   "metadata": {},
   "outputs": [
    {
     "data": {
      "text/plain": [
       "{'Ava', 'Avery', 'Daniel', 'Jacob', 'Mia', 'Olivia'}"
      ]
     },
     "execution_count": 20,
     "metadata": {},
     "output_type": "execute_result"
    }
   ],
   "source": [
    "teachers_set.discard(\"Emma\")\n",
    "\n",
    "teachers_set"
   ]
  },
  {
   "cell_type": "code",
   "execution_count": 21,
   "id": "cdcc8ee4",
   "metadata": {},
   "outputs": [
    {
     "data": {
      "text/plain": [
       "{'Ava', 'Avery', 'Daniel', 'Jacob', 'Olivia'}"
      ]
     },
     "execution_count": 21,
     "metadata": {},
     "output_type": "execute_result"
    }
   ],
   "source": [
    "teachers_set.remove(\"Mia\")\n",
    "\n",
    "teachers_set"
   ]
  },
  {
   "cell_type": "code",
   "execution_count": 22,
   "id": "04db7f63",
   "metadata": {},
   "outputs": [],
   "source": [
    "teachers_set.discard(\"Mia\")"
   ]
  },
  {
   "cell_type": "code",
   "execution_count": null,
   "id": "5de15497",
   "metadata": {},
   "outputs": [],
   "source": [
    "teachers_set.remove(\"Mia\") # Will throw an error"
   ]
  },
  {
   "cell_type": "code",
   "execution_count": 24,
   "id": "6f136d04",
   "metadata": {},
   "outputs": [
    {
     "data": {
      "text/plain": [
       "set()"
      ]
     },
     "execution_count": 24,
     "metadata": {},
     "output_type": "execute_result"
    }
   ],
   "source": [
    "teachers_set.clear()\n",
    "\n",
    "teachers_set"
   ]
  }
 ],
 "metadata": {
  "kernelspec": {
   "display_name": "Python 3 (ipykernel)",
   "language": "python",
   "name": "python3"
  },
  "language_info": {
   "codemirror_mode": {
    "name": "ipython",
    "version": 3
   },
   "file_extension": ".py",
   "mimetype": "text/x-python",
   "name": "python",
   "nbconvert_exporter": "python",
   "pygments_lexer": "ipython3",
   "version": "3.11.4"
  }
 },
 "nbformat": 4,
 "nbformat_minor": 5
}
