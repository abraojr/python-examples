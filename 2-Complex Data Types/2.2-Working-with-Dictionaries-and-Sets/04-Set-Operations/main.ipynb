{
 "cells": [
  {
   "cell_type": "code",
   "execution_count": 1,
   "id": "808295e3",
   "metadata": {},
   "outputs": [],
   "source": [
    "number1 = {1, 2, 3, 4, 5}\n",
    "\n",
    "number2 = {4, 5, 6, 7, 8}\n",
    "\n",
    "number3 = {7, 8, 9, 10, 11}"
   ]
  },
  {
   "cell_type": "code",
   "execution_count": 2,
   "id": "dacca924",
   "metadata": {},
   "outputs": [
    {
     "data": {
      "text/plain": [
       "{1, 2, 3, 4, 5, 6, 7, 8}"
      ]
     },
     "execution_count": 2,
     "metadata": {},
     "output_type": "execute_result"
    }
   ],
   "source": [
    "number1.union(number2)"
   ]
  },
  {
   "cell_type": "code",
   "execution_count": 3,
   "id": "553db150",
   "metadata": {},
   "outputs": [
    {
     "data": {
      "text/plain": [
       "{1, 2, 3, 4, 5, 6, 7, 8, 9, 10, 11}"
      ]
     },
     "execution_count": 3,
     "metadata": {},
     "output_type": "execute_result"
    }
   ],
   "source": [
    "number_union = number1.union(number2, number3)\n",
    "\n",
    "number_union"
   ]
  },
  {
   "cell_type": "code",
   "execution_count": 4,
   "id": "653cfdf5",
   "metadata": {},
   "outputs": [],
   "source": [
    "student_set_1 = {\"Ava\", \"Emma\", \"James\"}\n",
    "\n",
    "student_set_2 = {\"James\", \"Mia\", \"Olivia\"}\n",
    "\n",
    "student_set_3 = {\"Olivia\", \"Sarah\", \"Sofia\"}"
   ]
  },
  {
   "cell_type": "code",
   "execution_count": 5,
   "id": "d455520a",
   "metadata": {},
   "outputs": [
    {
     "data": {
      "text/plain": [
       "{'Ava', 'Emma', 'James', 'Mia', 'Olivia', 'Sarah', 'Sofia'}"
      ]
     },
     "execution_count": 5,
     "metadata": {},
     "output_type": "execute_result"
    }
   ],
   "source": [
    "student_set_1.union(student_set_2, student_set_3)"
   ]
  },
  {
   "cell_type": "code",
   "execution_count": 6,
   "id": "e52fc4dd",
   "metadata": {},
   "outputs": [
    {
     "name": "stdout",
     "output_type": "stream",
     "text": [
      "{1, 2, 3, 4, 5}\n",
      "{4, 5, 6, 7, 8}\n",
      "{7, 8, 9, 10, 11}\n"
     ]
    }
   ],
   "source": [
    "print(number1)\n",
    "\n",
    "print(number2)\n",
    "\n",
    "print(number3)"
   ]
  },
  {
   "cell_type": "code",
   "execution_count": 7,
   "id": "3c012230",
   "metadata": {},
   "outputs": [
    {
     "data": {
      "text/plain": [
       "{4, 5}"
      ]
     },
     "execution_count": 7,
     "metadata": {},
     "output_type": "execute_result"
    }
   ],
   "source": [
    "number2.intersection(number1)"
   ]
  },
  {
   "cell_type": "code",
   "execution_count": 8,
   "id": "670a9e5b",
   "metadata": {},
   "outputs": [
    {
     "data": {
      "text/plain": [
       "{1, 2, 3}"
      ]
     },
     "execution_count": 8,
     "metadata": {},
     "output_type": "execute_result"
    }
   ],
   "source": [
    "number1.difference(number2)"
   ]
  },
  {
   "cell_type": "code",
   "execution_count": 9,
   "id": "f1d6cd93",
   "metadata": {},
   "outputs": [
    {
     "data": {
      "text/plain": [
       "{'Ava', 'Emma'}"
      ]
     },
     "execution_count": 9,
     "metadata": {},
     "output_type": "execute_result"
    }
   ],
   "source": [
    "diff_set = student_set_1.difference(student_set_2)\n",
    "\n",
    "diff_set"
   ]
  },
  {
   "cell_type": "code",
   "execution_count": 10,
   "id": "cf32b580",
   "metadata": {},
   "outputs": [
    {
     "name": "stdout",
     "output_type": "stream",
     "text": [
      "{1, 2, 3, 4, 5}\n",
      "{4, 5, 6, 7, 8}\n"
     ]
    }
   ],
   "source": [
    "print(number1)\n",
    "\n",
    "print(number2)"
   ]
  },
  {
   "cell_type": "code",
   "execution_count": 11,
   "id": "fbf79f27",
   "metadata": {},
   "outputs": [
    {
     "data": {
      "text/plain": [
       "{4, 5}"
      ]
     },
     "execution_count": 11,
     "metadata": {},
     "output_type": "execute_result"
    }
   ],
   "source": [
    "number1.intersection_update(number2)\n",
    "\n",
    "number1"
   ]
  },
  {
   "cell_type": "code",
   "execution_count": 12,
   "id": "88e411bd",
   "metadata": {},
   "outputs": [
    {
     "data": {
      "text/plain": [
       "{4, 5, 6, 7, 8}"
      ]
     },
     "execution_count": 12,
     "metadata": {},
     "output_type": "execute_result"
    }
   ],
   "source": [
    "number2"
   ]
  },
  {
   "cell_type": "code",
   "execution_count": 13,
   "id": "f3202b21",
   "metadata": {},
   "outputs": [
    {
     "data": {
      "text/plain": [
       "({'Ava', 'Emma', 'James'},\n",
       " {'James', 'Mia', 'Olivia'},\n",
       " {'Olivia', 'Sarah', 'Sofia'})"
      ]
     },
     "execution_count": 13,
     "metadata": {},
     "output_type": "execute_result"
    }
   ],
   "source": [
    "student_set_1, student_set_2, student_set_3"
   ]
  },
  {
   "cell_type": "code",
   "execution_count": 14,
   "id": "c8fdab39",
   "metadata": {},
   "outputs": [
    {
     "data": {
      "text/plain": [
       "{'James'}"
      ]
     },
     "execution_count": 14,
     "metadata": {},
     "output_type": "execute_result"
    }
   ],
   "source": [
    "student_set_1.intersection_update(student_set_2)\n",
    "\n",
    "student_set_1"
   ]
  },
  {
   "cell_type": "code",
   "execution_count": 15,
   "id": "b73571d5",
   "metadata": {},
   "outputs": [
    {
     "data": {
      "text/plain": [
       "{'James', 'Mia', 'Olivia'}"
      ]
     },
     "execution_count": 15,
     "metadata": {},
     "output_type": "execute_result"
    }
   ],
   "source": [
    "student_set_2"
   ]
  },
  {
   "cell_type": "code",
   "execution_count": 16,
   "id": "b5ad5131",
   "metadata": {},
   "outputs": [],
   "source": [
    "student_set_1 = {\"Ava\", \"Emma\", \"James\"}\n",
    "\n",
    "student_set_2 = {\"James\", \"Mia\", \"Olivia\"}\n",
    "\n",
    "student_set_3 = {\"Olivia\", \"Sarah\", \"Sofia\"}"
   ]
  },
  {
   "cell_type": "code",
   "execution_count": 17,
   "id": "5ae5f450",
   "metadata": {},
   "outputs": [
    {
     "data": {
      "text/plain": [
       "{'Ava', 'Emma'}"
      ]
     },
     "execution_count": 17,
     "metadata": {},
     "output_type": "execute_result"
    }
   ],
   "source": [
    "student_set_1.difference_update(student_set_2)\n",
    "\n",
    "student_set_1"
   ]
  },
  {
   "cell_type": "code",
   "execution_count": 18,
   "id": "27925cfc",
   "metadata": {},
   "outputs": [
    {
     "data": {
      "text/plain": [
       "True"
      ]
     },
     "execution_count": 18,
     "metadata": {},
     "output_type": "execute_result"
    }
   ],
   "source": [
    "{1, 2, 3}.isdisjoint({4, 5, 6})"
   ]
  },
  {
   "cell_type": "code",
   "execution_count": 19,
   "id": "e84f8836",
   "metadata": {},
   "outputs": [
    {
     "data": {
      "text/plain": [
       "False"
      ]
     },
     "execution_count": 19,
     "metadata": {},
     "output_type": "execute_result"
    }
   ],
   "source": [
    "{1, 2, 3}.isdisjoint({1, 5, 6})"
   ]
  },
  {
   "cell_type": "code",
   "execution_count": 20,
   "id": "bc198e30",
   "metadata": {},
   "outputs": [
    {
     "data": {
      "text/plain": [
       "False"
      ]
     },
     "execution_count": 20,
     "metadata": {},
     "output_type": "execute_result"
    }
   ],
   "source": [
    "number1.isdisjoint(number2)"
   ]
  },
  {
   "cell_type": "code",
   "execution_count": 21,
   "id": "fbcd0cf2",
   "metadata": {},
   "outputs": [
    {
     "data": {
      "text/plain": [
       "True"
      ]
     },
     "execution_count": 21,
     "metadata": {},
     "output_type": "execute_result"
    }
   ],
   "source": [
    "{10, 20}.issubset({10, 20, 30})"
   ]
  },
  {
   "cell_type": "code",
   "execution_count": 22,
   "id": "384c2e40",
   "metadata": {},
   "outputs": [
    {
     "data": {
      "text/plain": [
       "True"
      ]
     },
     "execution_count": 22,
     "metadata": {},
     "output_type": "execute_result"
    }
   ],
   "source": [
    "{10, 20, 30}.issuperset({10, 20})"
   ]
  }
 ],
 "metadata": {
  "kernelspec": {
   "display_name": "Python 3 (ipykernel)",
   "language": "python",
   "name": "python3"
  },
  "language_info": {
   "codemirror_mode": {
    "name": "ipython",
    "version": 3
   },
   "file_extension": ".py",
   "mimetype": "text/x-python",
   "name": "python",
   "nbconvert_exporter": "python",
   "pygments_lexer": "ipython3",
   "version": "3.11.4"
  }
 },
 "nbformat": 4,
 "nbformat_minor": 5
}
